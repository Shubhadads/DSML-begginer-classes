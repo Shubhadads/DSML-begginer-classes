{
  "nbformat": 4,
  "nbformat_minor": 0,
  "metadata": {
    "colab": {
      "provenance": []
    },
    "kernelspec": {
      "name": "python3",
      "display_name": "Python 3"
    },
    "language_info": {
      "name": "python"
    }
  },
  "cells": [
    {
      "cell_type": "code",
      "execution_count": 1,
      "metadata": {
        "id": "_IUTGGQXl7_U"
      },
      "outputs": [],
      "source": [
        "a = 5"
      ]
    },
    {
      "cell_type": "code",
      "source": [
        "isinstance(5, int)"
      ],
      "metadata": {
        "colab": {
          "base_uri": "https://localhost:8080/"
        },
        "id": "w_57ncwfzG79",
        "outputId": "0afdd089-fb56-4edc-ada8-f0992c98e1cb"
      },
      "execution_count": 2,
      "outputs": [
        {
          "output_type": "execute_result",
          "data": {
            "text/plain": [
              "True"
            ]
          },
          "metadata": {},
          "execution_count": 2
        }
      ]
    },
    {
      "cell_type": "code",
      "source": [
        "isinstance(5, float)"
      ],
      "metadata": {
        "colab": {
          "base_uri": "https://localhost:8080/"
        },
        "id": "DQwBc_9bzMPk",
        "outputId": "22737d6a-5179-4b6c-aac3-d1d47dccd6b6"
      },
      "execution_count": 3,
      "outputs": [
        {
          "output_type": "execute_result",
          "data": {
            "text/plain": [
              "False"
            ]
          },
          "metadata": {},
          "execution_count": 3
        }
      ]
    },
    {
      "cell_type": "code",
      "source": [
        "ls = [1, 2]\n",
        "isinstance(ls, list)"
      ],
      "metadata": {
        "colab": {
          "base_uri": "https://localhost:8080/"
        },
        "id": "PqyBMp_ezPUb",
        "outputId": "6d41046d-56b9-431b-9cd8-f4aa7a6157cf"
      },
      "execution_count": 5,
      "outputs": [
        {
          "output_type": "execute_result",
          "data": {
            "text/plain": [
              "True"
            ]
          },
          "metadata": {},
          "execution_count": 5
        }
      ]
    },
    {
      "cell_type": "code",
      "source": [
        "isinstance(5, object)"
      ],
      "metadata": {
        "colab": {
          "base_uri": "https://localhost:8080/"
        },
        "id": "o1QdcfXrzVRK",
        "outputId": "8d2269c4-abe0-4c11-bff1-72ba9d6d98a7"
      },
      "execution_count": 6,
      "outputs": [
        {
          "output_type": "execute_result",
          "data": {
            "text/plain": [
              "True"
            ]
          },
          "metadata": {},
          "execution_count": 6
        }
      ]
    },
    {
      "cell_type": "code",
      "source": [
        "isinstance(ls, object)"
      ],
      "metadata": {
        "colab": {
          "base_uri": "https://localhost:8080/"
        },
        "id": "FgiD5_IQzYp1",
        "outputId": "af83ccab-8f7a-4957-e942-cf3f0d87e4f9"
      },
      "execution_count": 7,
      "outputs": [
        {
          "output_type": "execute_result",
          "data": {
            "text/plain": [
              "True"
            ]
          },
          "metadata": {},
          "execution_count": 7
        }
      ]
    },
    {
      "cell_type": "code",
      "source": [
        "# Break - 10:15pm"
      ],
      "metadata": {
        "id": "38NooanlzsUi"
      },
      "execution_count": null,
      "outputs": []
    },
    {
      "cell_type": "code",
      "source": [
        "_ = \"what\"\n",
        "print(_)"
      ],
      "metadata": {
        "id": "027drfH24o5U"
      },
      "execution_count": null,
      "outputs": []
    },
    {
      "cell_type": "code",
      "source": [
        "3 + 4"
      ],
      "metadata": {
        "colab": {
          "base_uri": "https://localhost:8080/"
        },
        "id": "61IsY1sH4WQp",
        "outputId": "f5573689-78d2-4f27-94b2-600999ab9223"
      },
      "execution_count": 1,
      "outputs": [
        {
          "output_type": "execute_result",
          "data": {
            "text/plain": [
              "7"
            ]
          },
          "metadata": {},
          "execution_count": 1
        }
      ]
    },
    {
      "cell_type": "code",
      "source": [
        "print(_)"
      ],
      "metadata": {
        "colab": {
          "base_uri": "https://localhost:8080/"
        },
        "id": "rPLsYIwN4aRp",
        "outputId": "910ea6db-5566-4b50-b5db-d221c8ee1cd9"
      },
      "execution_count": 2,
      "outputs": [
        {
          "output_type": "stream",
          "name": "stdout",
          "text": [
            "7\n"
          ]
        }
      ]
    },
    {
      "cell_type": "code",
      "source": [
        "5 * 4 - 2"
      ],
      "metadata": {
        "colab": {
          "base_uri": "https://localhost:8080/"
        },
        "id": "tTJZhw054x_q",
        "outputId": "258c0231-4630-4802-f02b-5769e2825185"
      },
      "execution_count": 3,
      "outputs": [
        {
          "output_type": "execute_result",
          "data": {
            "text/plain": [
              "18"
            ]
          },
          "metadata": {},
          "execution_count": 3
        }
      ]
    },
    {
      "cell_type": "code",
      "source": [
        "print(_)"
      ],
      "metadata": {
        "colab": {
          "base_uri": "https://localhost:8080/"
        },
        "id": "xsZMoezP4z9q",
        "outputId": "865274d6-c2c6-4527-90f8-8f75cf1fe122"
      },
      "execution_count": 4,
      "outputs": [
        {
          "output_type": "stream",
          "name": "stdout",
          "text": [
            "18\n"
          ]
        }
      ]
    },
    {
      "cell_type": "code",
      "source": [
        "\"aarnav\" + \"jindal\""
      ],
      "metadata": {
        "colab": {
          "base_uri": "https://localhost:8080/",
          "height": 35
        },
        "id": "z1xhRoDp48CW",
        "outputId": "ff710736-7e22-4b5f-b862-e78382372871"
      },
      "execution_count": 5,
      "outputs": [
        {
          "output_type": "execute_result",
          "data": {
            "text/plain": [
              "'aarnavjindal'"
            ],
            "application/vnd.google.colaboratory.intrinsic+json": {
              "type": "string"
            }
          },
          "metadata": {},
          "execution_count": 5
        }
      ]
    },
    {
      "cell_type": "code",
      "source": [
        "print(_)"
      ],
      "metadata": {
        "colab": {
          "base_uri": "https://localhost:8080/"
        },
        "id": "-DLKeRZM4-jy",
        "outputId": "b7283ec4-e1d4-49f9-95ed-d5573e29fdbc"
      },
      "execution_count": 6,
      "outputs": [
        {
          "output_type": "stream",
          "name": "stdout",
          "text": [
            "aarnavjindal\n"
          ]
        }
      ]
    },
    {
      "cell_type": "code",
      "source": [
        "a = 5\n",
        "b = 5\n",
        "print(id(a), id(b))"
      ],
      "metadata": {
        "colab": {
          "base_uri": "https://localhost:8080/"
        },
        "id": "GQOYCxiB61w6",
        "outputId": "855b8363-5886-4cf2-8073-12886b28b2e5"
      },
      "execution_count": 7,
      "outputs": [
        {
          "output_type": "stream",
          "name": "stdout",
          "text": [
            "11122720 11122720\n"
          ]
        }
      ]
    },
    {
      "cell_type": "code",
      "source": [
        "a = 2000\n",
        "b = 2000\n",
        "print(id(a), id(b))"
      ],
      "metadata": {
        "colab": {
          "base_uri": "https://localhost:8080/"
        },
        "id": "L7e4zQDW65qp",
        "outputId": "ca5638b0-7ab9-4417-c92b-bd6fb4537fe4"
      },
      "execution_count": 8,
      "outputs": [
        {
          "output_type": "stream",
          "name": "stdout",
          "text": [
            "139983985167504 139983985167312\n"
          ]
        }
      ]
    },
    {
      "cell_type": "code",
      "source": [
        "# Control flow\n",
        "\n",
        "# If \n",
        "# If-Else\n",
        "# If-Elif-Else\n",
        "# Nested if-else"
      ],
      "metadata": {
        "id": "vERRfhqg7pl8"
      },
      "execution_count": null,
      "outputs": []
    },
    {
      "cell_type": "code",
      "source": [
        "age = 20\n",
        "if age >= 18 :\n",
        "  print(\"Eligible to vote\")"
      ],
      "metadata": {
        "id": "A8atv2Lw7_DV"
      },
      "execution_count": null,
      "outputs": []
    },
    {
      "cell_type": "code",
      "source": [
        "age = 20\n",
        "if age >= 18 :\n",
        "  print(\"Eligible to vote\")\n",
        "else :\n",
        "  print(\"Ineligible to vote\")"
      ],
      "metadata": {
        "id": "3MDspf7a7_ZL"
      },
      "execution_count": null,
      "outputs": []
    },
    {
      "cell_type": "code",
      "source": [
        "age = 18\n",
        "\n",
        "if age < 18 :\n",
        "  print(\"Ineligible to vote\")\n",
        "elif age == 18 :\n",
        "  print(\"Recently eligible to vote\")\n",
        "else :\n",
        "  print(\"Eligible to vote\")"
      ],
      "metadata": {
        "id": "BcGQwCc_8FXP"
      },
      "execution_count": null,
      "outputs": []
    },
    {
      "cell_type": "code",
      "source": [
        "age = 15\n",
        "\n",
        "if age < 18 :\n",
        "  if age < 16 :\n",
        "    print(\"Still time left to vote\")\n",
        "  else :\n",
        "    print(\"About to be elgible to vote\")\n",
        "else :\n",
        "  if age < 20 :\n",
        "    print(\"Recently eligible to vote\")\n",
        "  else :\n",
        "    print(\"Elgible to vote since some time\")"
      ],
      "metadata": {
        "id": "QtZ7yVIn8UAO"
      },
      "execution_count": null,
      "outputs": []
    },
    {
      "cell_type": "code",
      "source": [
        "a = 60 \n",
        "\n",
        "if a > 50: \n",
        "  print(\"FIRST\") \n",
        "  \n",
        "if a > 40: \n",
        "  print(\"SECOND\")"
      ],
      "metadata": {
        "colab": {
          "base_uri": "https://localhost:8080/"
        },
        "id": "TqulqXXq9OVY",
        "outputId": "e68fedcc-64e8-4fdf-980c-c02659c2be56"
      },
      "execution_count": 9,
      "outputs": [
        {
          "output_type": "stream",
          "name": "stdout",
          "text": [
            "FIRST\n",
            "SECOND\n"
          ]
        }
      ]
    },
    {
      "cell_type": "code",
      "source": [
        "num = 1\n",
        "while num <= 10 :\n",
        "  print(num, end = ' ')\n",
        "  num = num + 1"
      ],
      "metadata": {
        "colab": {
          "base_uri": "https://localhost:8080/"
        },
        "id": "3ME_dFkh9VOx",
        "outputId": "55e64903-dfee-47ec-a3d4-5b16579d9f5d"
      },
      "execution_count": 11,
      "outputs": [
        {
          "output_type": "stream",
          "name": "stdout",
          "text": [
            "1 2 3 4 5 6 7 8 9 10 "
          ]
        }
      ]
    },
    {
      "cell_type": "code",
      "source": [
        "for val in range(10) :\n",
        "  print(val, end=' ')"
      ],
      "metadata": {
        "colab": {
          "base_uri": "https://localhost:8080/"
        },
        "id": "J9lKUpHN9ij7",
        "outputId": "d99ad5fb-ca8e-45b5-a9ee-3da9497000d4"
      },
      "execution_count": 12,
      "outputs": [
        {
          "output_type": "stream",
          "name": "stdout",
          "text": [
            "0 1 2 3 4 5 6 7 8 9 "
          ]
        }
      ]
    },
    {
      "cell_type": "code",
      "source": [
        "# Function -> It is a group of statements to perform a task\n",
        "\n",
        "def add(a, b) :\n",
        "  return a+b\n",
        "\n",
        "print(add(3, 5))\n",
        "\n",
        "# 3, 5 -> Arguments\n",
        "# a, b -> Parameters"
      ],
      "metadata": {
        "colab": {
          "base_uri": "https://localhost:8080/"
        },
        "id": "8rnqQg6D9uAM",
        "outputId": "e4dfc726-f598-426a-a9d6-820f40956244"
      },
      "execution_count": 13,
      "outputs": [
        {
          "output_type": "stream",
          "name": "stdout",
          "text": [
            "8\n"
          ]
        }
      ]
    },
    {
      "cell_type": "code",
      "source": [
        "def solve(a, b) :\n",
        "  return a+b, a-b\n",
        "\n",
        "print(solve(3, 5))"
      ],
      "metadata": {
        "colab": {
          "base_uri": "https://localhost:8080/"
        },
        "id": "nuZk-75H-TAg",
        "outputId": "c1bd98e1-91a8-4795-af69-97c65f15c775"
      },
      "execution_count": 14,
      "outputs": [
        {
          "output_type": "stream",
          "name": "stdout",
          "text": [
            "(8, -2)\n"
          ]
        }
      ]
    }
  ]
}