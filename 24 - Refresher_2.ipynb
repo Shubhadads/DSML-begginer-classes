{
  "nbformat": 4,
  "nbformat_minor": 0,
  "metadata": {
    "colab": {
      "provenance": []
    },
    "kernelspec": {
      "name": "python3",
      "display_name": "Python 3"
    },
    "language_info": {
      "name": "python"
    }
  },
  "cells": [
    {
      "cell_type": "code",
      "execution_count": null,
      "metadata": {
        "id": "G5o8370o4ul-"
      },
      "outputs": [],
      "source": [
        "# for loop, while loop\n",
        "# nested loop\n",
        "# Iteration protocol\n",
        "\n",
        "# Lists\n",
        "# - Shallow v/s Deep copy\n",
        "# - Append v/s Extend"
      ]
    },
    {
      "cell_type": "code",
      "source": [
        "# Print first 10 positive integers\n",
        "# Print 1-10\n",
        "\n",
        "for i in range(1, 11) :\n",
        "  print(i, end=' ')"
      ],
      "metadata": {
        "colab": {
          "base_uri": "https://localhost:8080/"
        },
        "id": "RFZM_Xdn5X_0",
        "outputId": "2ba8bfde-4b63-48f6-df54-5e3c78df26ce"
      },
      "execution_count": 2,
      "outputs": [
        {
          "output_type": "stream",
          "name": "stdout",
          "text": [
            "1 2 3 4 5 6 7 8 9 10 "
          ]
        }
      ]
    },
    {
      "cell_type": "code",
      "source": [
        "# Print all characters of a string\n",
        "\n",
        "name = \"Aarnav\"\n",
        "\n",
        "for ch in name :\n",
        "  print(ch)"
      ],
      "metadata": {
        "colab": {
          "base_uri": "https://localhost:8080/"
        },
        "id": "bD5zjkDE5u3p",
        "outputId": "1d9e8de1-d9e5-4ef1-e380-cd3b018f8dc8"
      },
      "execution_count": 3,
      "outputs": [
        {
          "output_type": "stream",
          "name": "stdout",
          "text": [
            "A\n",
            "a\n",
            "r\n",
            "n\n",
            "a\n",
            "v\n"
          ]
        }
      ]
    },
    {
      "cell_type": "code",
      "source": [
        "# Take input N and print from N to 1\n",
        "\n",
        "n = int(input())\n",
        "while n >= 1 :\n",
        "  print(n, end=' ')\n",
        "  n = n - 1"
      ],
      "metadata": {
        "colab": {
          "base_uri": "https://localhost:8080/"
        },
        "id": "7ueb9oqz6LEY",
        "outputId": "e4242c5d-9572-4a8b-efbd-d7cdf022ed59"
      },
      "execution_count": 4,
      "outputs": [
        {
          "output_type": "stream",
          "name": "stdout",
          "text": [
            "10\n",
            "10 9 8 7 6 5 4 3 2 1 "
          ]
        }
      ]
    },
    {
      "cell_type": "code",
      "source": [
        "# Reverse a number\n",
        "\n",
        "n = int(input())\n",
        "\n",
        "reverse_n = 0\n",
        "\n",
        "while n > 0 :\n",
        "  d = n % 10\n",
        "  reverse_n = reverse_n * 10 + d\n",
        "  n = n // 10\n",
        "\n",
        "print(reverse_n)"
      ],
      "metadata": {
        "colab": {
          "base_uri": "https://localhost:8080/"
        },
        "id": "Bb5GXHHL6dQN",
        "outputId": "bc50d7f3-8d3a-4004-fc75-0db3d5de73b8"
      },
      "execution_count": 5,
      "outputs": [
        {
          "output_type": "stream",
          "name": "stdout",
          "text": [
            "1024\n",
            "4201\n"
          ]
        }
      ]
    },
    {
      "cell_type": "code",
      "source": [
        "n = input()\n",
        "reverse_n = int(n[::-1])\n",
        "print(reverse_n)"
      ],
      "metadata": {
        "colab": {
          "base_uri": "https://localhost:8080/"
        },
        "id": "Va4awfhD69gx",
        "outputId": "224e7e8c-0f87-4a70-e4e5-b99d7ea9472f"
      },
      "execution_count": 8,
      "outputs": [
        {
          "output_type": "stream",
          "name": "stdout",
          "text": [
            "100\n",
            "1\n"
          ]
        }
      ]
    },
    {
      "cell_type": "code",
      "source": [
        "# How to solve questions with T test-cases\n",
        "\n",
        "# Take input T, no of test-cases\n",
        "T = int(input())\n",
        "\n",
        "# Write the code which works for one test-cases\n",
        "# n = input()\n",
        "# reverse_n = int(n[::-1])\n",
        "# print(reverse_n)\n",
        "\n",
        "# Put a loop around the code which works for one test-cases\n",
        "# Make the loop run T times\n",
        "\n",
        "def solve():\n",
        "  n = input()\n",
        "  reverse_n = int(n[::-1])\n",
        "  print(reverse_n)\n",
        "\n",
        "t = 1\n",
        "# Run a loop T times\n",
        "while t <= T :\n",
        "  # Paste the code which works one time\n",
        "  solve()\n",
        "  # Increase the t value\n",
        "  t = t + 1"
      ],
      "metadata": {
        "colab": {
          "base_uri": "https://localhost:8080/"
        },
        "id": "YqpxZcGK7QNx",
        "outputId": "08227bc5-a116-457d-a001-77472748bec6"
      },
      "execution_count": 9,
      "outputs": [
        {
          "output_type": "stream",
          "name": "stdout",
          "text": [
            "3\n",
            "4201\n",
            "1024\n",
            "837\n",
            "738\n",
            "100\n",
            "1\n",
            "989\n",
            "989\n"
          ]
        }
      ]
    },
    {
      "cell_type": "code",
      "source": [
        "T = int(input())\n",
        "\n",
        "for t in range(T) :\n",
        "  solve()"
      ],
      "metadata": {
        "id": "sOsrJ8m081if"
      },
      "execution_count": null,
      "outputs": []
    },
    {
      "cell_type": "code",
      "source": [
        "i = 1\n",
        "while True:\n",
        "    if i % 3 == 0:\n",
        "        break\n",
        "    print(i, end=' ')\n",
        "    i += 1\n",
        "\n",
        "# while condition :\n",
        "#   pass\n",
        "print()\n",
        "\n",
        "\n",
        "i = 1\n",
        "while i <= 10 :\n",
        "  i = i + 1\n",
        "  if i % 2 == 1 :\n",
        "    continue\n",
        "  print(i, end=' ')\n"
      ],
      "metadata": {
        "colab": {
          "base_uri": "https://localhost:8080/"
        },
        "id": "rS-ZU5gU9jr2",
        "outputId": "851dc9f3-dfe1-4c3e-9826-72db030d4f65"
      },
      "execution_count": 13,
      "outputs": [
        {
          "output_type": "stream",
          "name": "stdout",
          "text": [
            "1 2 \n",
            "2 4 6 8 10 "
          ]
        }
      ]
    },
    {
      "cell_type": "code",
      "source": [
        "# Multi-line code\n",
        "\n",
        "x = 100 + 20 / 3\\\n",
        "- 19 % 10\n",
        "\n",
        "print(x)"
      ],
      "metadata": {
        "colab": {
          "base_uri": "https://localhost:8080/"
        },
        "id": "y0leCuGE-ao0",
        "outputId": "7008a1c4-4095-472d-98e8-5d57bce486d4"
      },
      "execution_count": 22,
      "outputs": [
        {
          "output_type": "stream",
          "name": "stdout",
          "text": [
            "97.66666666666667\n"
          ]
        }
      ]
    },
    {
      "cell_type": "code",
      "source": [
        "s = \"This is Aarnav Jindal. \"\\\n",
        "+ \"My age is 24 years. \"\\\n",
        "+ \"I love coding.\"\n",
        "\n",
        "print(s)"
      ],
      "metadata": {
        "colab": {
          "base_uri": "https://localhost:8080/"
        },
        "id": "aL5r2Hrv_mVl",
        "outputId": "a2902b78-143b-46cf-f4e2-1a179172936d"
      },
      "execution_count": 24,
      "outputs": [
        {
          "output_type": "stream",
          "name": "stdout",
          "text": [
            "This is Aarnav Jindal. My age is 24 years. I love coding.\n"
          ]
        }
      ]
    },
    {
      "cell_type": "code",
      "source": [
        "y = 100 \\\n",
        "+ 20 \\\n",
        "\n",
        "print(y)"
      ],
      "metadata": {
        "colab": {
          "base_uri": "https://localhost:8080/"
        },
        "id": "CqIwiwBPANv_",
        "outputId": "06f2677d-e113-4b34-8e4b-8627c8f48eb7"
      },
      "execution_count": 26,
      "outputs": [
        {
          "output_type": "stream",
          "name": "stdout",
          "text": [
            "120\n"
          ]
        }
      ]
    },
    {
      "cell_type": "code",
      "source": [
        "# Nested loops\n",
        "\n",
        "n = 5\n",
        "\n",
        "for i in range(n) :\n",
        "  for j in range(i+1) :\n",
        "    print('*', end=' ')\n",
        "  print()\n",
        "\n",
        "for i in range(n) :\n",
        "  print('*', end=' ')\n",
        "  print(' ' * (n-2), end='')\n",
        "  print('*')"
      ],
      "metadata": {
        "colab": {
          "base_uri": "https://localhost:8080/"
        },
        "id": "zG9n6g2fA6uZ",
        "outputId": "2cf79410-4343-4e29-9a42-999ba50de422"
      },
      "execution_count": 32,
      "outputs": [
        {
          "output_type": "stream",
          "name": "stdout",
          "text": [
            "* \n",
            "* * \n",
            "* * * \n",
            "* * * * \n",
            "* * * * * \n",
            "*    *\n",
            "*    *\n",
            "*    *\n",
            "*    *\n",
            "*    *\n"
          ]
        }
      ]
    },
    {
      "cell_type": "code",
      "source": [
        "# range\n",
        "\n",
        "print(list(range(5)))\n",
        "print(list(range(1, 5)))\n",
        "print(list(range(1, 7, 2)))\n",
        "\n",
        "print(list(range(5, -1))) # [start, end, jump=1]\n",
        "# >=5 and < -1 => []\n",
        "print(list(range(5, -1, -1)))"
      ],
      "metadata": {
        "colab": {
          "base_uri": "https://localhost:8080/"
        },
        "id": "9jzsi7s1Bsir",
        "outputId": "18273628-0fcc-43f6-8f99-33138d4e6ac4"
      },
      "execution_count": 40,
      "outputs": [
        {
          "output_type": "stream",
          "name": "stdout",
          "text": [
            "[0, 1, 2, 3, 4]\n",
            "[1, 2, 3, 4]\n",
            "[1, 3, 5]\n",
            "[]\n",
            "[5, 4, 3, 2, 1, 0]\n"
          ]
        }
      ]
    },
    {
      "cell_type": "code",
      "source": [
        "# List"
      ],
      "metadata": {
        "id": "0D-1IlmCDAGu"
      },
      "execution_count": null,
      "outputs": []
    },
    {
      "cell_type": "code",
      "source": [
        "ls = [1, 2, 6, 3]\n",
        "print(ls, type(ls))\n",
        "\n",
        "ls = list()\n",
        "print(ls, type(ls))\n",
        "# ls = list(iterable)"
      ],
      "metadata": {
        "colab": {
          "base_uri": "https://localhost:8080/"
        },
        "id": "G4H7zOFcDA7U",
        "outputId": "cc8125e5-1810-48bd-bed2-898940116546"
      },
      "execution_count": 42,
      "outputs": [
        {
          "output_type": "stream",
          "name": "stdout",
          "text": [
            "[1, 2, 6, 3] <class 'list'>\n",
            "[] <class 'list'>\n"
          ]
        }
      ]
    },
    {
      "cell_type": "code",
      "source": [
        "marks = [30, 43, 28, 50, 12]\n",
        "\n",
        "# Basic ops\n",
        "print(len(marks))\n",
        "print(marks[2])\n",
        "marks[2] += 5\n",
        "print(marks)\n",
        "\n",
        "# Adding element\n",
        "marks.append(38)\n",
        "print(marks)\n",
        "marks_2 = [19, 32]\n",
        "# Incorrect\n",
        "# marks.append(marks_2) \n",
        "# print(marks)\n",
        "# Correct\n",
        "# marks.extend(marks_2)\n",
        "# print(marks)\n",
        "# marks = marks + marks_2\n",
        "# print(marks)\n",
        "\n",
        "# Indexing\n",
        "print(marks[2])\n",
        "print(marks[-1])\n",
        "print(marks[-4])"
      ],
      "metadata": {
        "colab": {
          "base_uri": "https://localhost:8080/"
        },
        "id": "3yEeyyjdDRfR",
        "outputId": "592ed39e-2225-4086-fb5d-732809c83e9f"
      },
      "execution_count": 55,
      "outputs": [
        {
          "output_type": "stream",
          "name": "stdout",
          "text": [
            "5\n",
            "28\n",
            "[30, 43, 33, 50, 12]\n",
            "[30, 43, 33, 50, 12, 38]\n",
            "33\n",
            "38\n",
            "33\n"
          ]
        }
      ]
    },
    {
      "cell_type": "code",
      "source": [
        "# Removing element\n",
        "# val = marks.pop()\n",
        "# print(val, marks)\n",
        "# val = marks.pop(1)\n",
        "# print(val, marks)\n",
        "# del marks[1]\n",
        "# print(marks)"
      ],
      "metadata": {
        "id": "m-d43bVVENdT"
      },
      "execution_count": null,
      "outputs": []
    },
    {
      "cell_type": "code",
      "source": [
        "# Break - 10:10pm"
      ],
      "metadata": {
        "id": "GKZtl86JFSQ8"
      },
      "execution_count": null,
      "outputs": []
    },
    {
      "cell_type": "code",
      "source": [
        "# Slicing\n",
        "\n",
        "marks = [90, 95, 100, 30, 50, 21, 31, 41, 61]\n",
        "\n",
        "print(marks[:2])\n",
        "print(marks[1:3])\n",
        "print(marks[7:])\n",
        "print(marks[:])\n",
        "print(marks[3:7:2])\n",
        "print(marks[:4:2])\n",
        "print(marks[3::2])\n",
        "print(marks[::2])\n",
        "\n",
        "marks = [90, 95, 100, 30, 50, 21, 31, 41, 61]\n",
        "print(marks[2:0:-1])\n",
        "print(marks[3::-1])\n",
        "print(marks[:4:-2])\n",
        "print(marks[::-1])"
      ],
      "metadata": {
        "colab": {
          "base_uri": "https://localhost:8080/"
        },
        "id": "No8b-zbZIr18",
        "outputId": "129fa498-d832-4a45-b2f5-c32ceab8eda5"
      },
      "execution_count": 66,
      "outputs": [
        {
          "output_type": "stream",
          "name": "stdout",
          "text": [
            "[90, 95]\n",
            "[95, 100]\n",
            "[41, 61]\n",
            "[90, 95, 100, 30, 50, 21, 31, 41, 61]\n",
            "[30, 21]\n",
            "[90, 100]\n",
            "[30, 21, 41]\n",
            "[90, 100, 50, 31, 61]\n",
            "[100, 95]\n",
            "[30, 100, 95, 90]\n",
            "[61, 31]\n",
            "[61, 41, 31, 21, 50, 30, 100, 95, 90]\n"
          ]
        }
      ]
    },
    {
      "cell_type": "code",
      "source": [
        "# Enumerate\n",
        "\n",
        "marks = [10, 28, 43, 25, 33]\n",
        "\n",
        "# i = 1\n",
        "# for val in marks :\n",
        "#   print(f\"{i}th marks are {val}\")\n",
        "#   i = i + 1\n",
        "  # ith marks are val\n",
        "\n",
        "for i, val in enumerate(marks) :\n",
        "  print(f\"{i+1}th marks are {val}\")"
      ],
      "metadata": {
        "colab": {
          "base_uri": "https://localhost:8080/"
        },
        "id": "Im1iAtwiKsEv",
        "outputId": "0639dd11-5f31-45c3-a856-85700c9918eb"
      },
      "execution_count": 73,
      "outputs": [
        {
          "output_type": "stream",
          "name": "stdout",
          "text": [
            "1th marks are 10\n",
            "2th marks are 28\n",
            "3th marks are 43\n",
            "4th marks are 25\n",
            "5th marks are 33\n"
          ]
        }
      ]
    },
    {
      "cell_type": "code",
      "source": [
        "# Iteration protocol\n",
        "\n",
        "# Applicable for iterables\n",
        "# iter, next -> Functions on each iterable\n",
        "\n",
        "marks = [10, 28, 43, 25, 33]\n",
        "\n",
        "# Creates an iterator object and puts pointer on 1st value\n",
        "it = iter(marks)\n",
        "\n",
        "print(it, type(it))"
      ],
      "metadata": {
        "colab": {
          "base_uri": "https://localhost:8080/"
        },
        "id": "2IS8Uk7QMNNu",
        "outputId": "c18ba9ac-d2ba-49c5-f30a-eedfe8025ca0"
      },
      "execution_count": 84,
      "outputs": [
        {
          "output_type": "stream",
          "name": "stdout",
          "text": [
            "<list_iterator object at 0x7f39e644b390> <class 'list_iterator'>\n"
          ]
        }
      ]
    },
    {
      "cell_type": "code",
      "source": [
        "# Returns current value and moves pointer to next value\n",
        "print(next(it))"
      ],
      "metadata": {
        "colab": {
          "base_uri": "https://localhost:8080/"
        },
        "id": "5UJQTjlNM4ka",
        "outputId": "f46c7025-fba9-4454-dbf5-3ff329ec0dc7"
      },
      "execution_count": 82,
      "outputs": [
        {
          "output_type": "stream",
          "name": "stdout",
          "text": [
            "10\n"
          ]
        }
      ]
    },
    {
      "cell_type": "code",
      "source": [
        "# Shallow copy v/s Deep copy"
      ],
      "metadata": {
        "id": "J6z0qLZHPC2L"
      },
      "execution_count": 87,
      "outputs": []
    },
    {
      "cell_type": "code",
      "source": [
        "# Shallow copy / Aliasing\n",
        "# Different variable names for the same object\n",
        "\n",
        "a = [10, 20, 30]\n",
        "b = a\n",
        "\n",
        "print(id(a), id(b))\n",
        "\n",
        "b[1] = 40\n",
        "print(a, b)"
      ],
      "metadata": {
        "colab": {
          "base_uri": "https://localhost:8080/"
        },
        "id": "Xw8v1_7APe3t",
        "outputId": "df468a51-45f2-45b5-88b6-42bbf1892e5e"
      },
      "execution_count": 88,
      "outputs": [
        {
          "output_type": "stream",
          "name": "stdout",
          "text": [
            "139886652804944 139886652804944\n",
            "[10, 40, 30] [10, 40, 30]\n"
          ]
        }
      ]
    },
    {
      "cell_type": "code",
      "source": [
        "# Deep copy \n",
        "# A new object copy made from an object\n",
        "\n",
        "a = [10, 20, 30]\n",
        "b = a[:]\n",
        "\n",
        "print(id(a), id(b))\n",
        "\n",
        "b[1] = 40\n",
        "print(a, b)"
      ],
      "metadata": {
        "colab": {
          "base_uri": "https://localhost:8080/"
        },
        "id": "4Zmjn2LjPl5b",
        "outputId": "dc450a6a-3f9c-4ddb-a0f4-1ddaf00ae6a0"
      },
      "execution_count": 91,
      "outputs": [
        {
          "output_type": "stream",
          "name": "stdout",
          "text": [
            "139886652865744 139886653095280\n",
            "[10, 20, 30] [10, 40, 30]\n"
          ]
        }
      ]
    },
    {
      "cell_type": "code",
      "source": [
        "# Doubts"
      ],
      "metadata": {
        "id": "P4gKqyt2PyoF"
      },
      "execution_count": null,
      "outputs": []
    },
    {
      "cell_type": "code",
      "source": [
        "y = 100 \\\n",
        "# + 20 \\\n",
        "+ 20 \n",
        "x = 200\n",
        "# ????????\n",
        "print(y)"
      ],
      "metadata": {
        "colab": {
          "base_uri": "https://localhost:8080/"
        },
        "id": "T7hXAuCSTlku",
        "outputId": "4894a88a-286c-4f55-8d70-e8bd12e2bbca"
      },
      "execution_count": 92,
      "outputs": [
        {
          "output_type": "stream",
          "name": "stdout",
          "text": [
            "100\n"
          ]
        }
      ]
    },
    {
      "cell_type": "code",
      "source": [
        "def simple_int(time,pa,ir):\n",
        "  ans = 0\n",
        "  intrest = (int(time/365) * pa * ir) /100\n",
        "  ans = pa + intrest\n",
        "  return round(ans,2)"
      ],
      "metadata": {
        "id": "qMA-caXaUKNT"
      },
      "execution_count": null,
      "outputs": []
    },
    {
      "cell_type": "code",
      "source": [
        "marks = [1, 2, 4]\n",
        "\n",
        "for i, val in enumerate(marks) :\n",
        "  print(i, val)"
      ],
      "metadata": {
        "colab": {
          "base_uri": "https://localhost:8080/"
        },
        "id": "4_VBjxEUVLcV",
        "outputId": "ace2e391-d4a4-4df0-eacf-09654b29c4fd"
      },
      "execution_count": 103,
      "outputs": [
        {
          "output_type": "stream",
          "name": "stdout",
          "text": [
            "0 1\n",
            "1 2\n",
            "2 4\n"
          ]
        }
      ]
    },
    {
      "cell_type": "code",
      "source": [
        "if (a==b __1__ a==c) and b==c:\n",
        "  print(\"equilateral\")\n",
        "elif a==b __2__ b==c or c==a:\n",
        "  print(\"isosceles\")\n",
        "else:\n",
        "  print('scalene')\n",
        "\n",
        "3 4 5\n",
        "3 3 4\n",
        "3 3 3\n",
        "\n",
        "1 = or, 2 = or\n",
        "1 = and, 2 = or\n",
        "\n",
        "1 = and, 2 = and\n",
        "1 = or, 2 = and"
      ],
      "metadata": {
        "id": "jSfqbnZ5XQps"
      },
      "execution_count": null,
      "outputs": []
    }
  ]
}