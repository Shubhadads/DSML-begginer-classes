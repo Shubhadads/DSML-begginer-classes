{
  "nbformat": 4,
  "nbformat_minor": 0,
  "metadata": {
    "colab": {
      "provenance": []
    },
    "kernelspec": {
      "name": "python3",
      "display_name": "Python 3"
    },
    "language_info": {
      "name": "python"
    }
  },
  "cells": [
    {
      "cell_type": "markdown",
      "source": [
        "# Working with Files\n"
      ],
      "metadata": {
        "id": "xRq4_iBY8Sm1"
      }
    },
    {
      "cell_type": "markdown",
      "source": [
        "### File Access Modes\n",
        "\n",
        "Access modes govern the type of operations possible in the opened file. It refers to how the file will be used once its opened. These modes also define the location of the File Handle in the file. File handle is like a cursor, which defines from where the data has to be read or written in the file. There are 6 access modes in python."
      ],
      "metadata": {
        "id": "fpIRmMwY8W1q"
      }
    },
    {
      "cell_type": "markdown",
      "source": [
        "**Read Only (‘r’)** : Open text file for reading. The handle is positioned at the beginning of the file. If the file does not exists, raises I/O error. This is also the default mode in which file is opened.\n",
        "\n",
        "**Read and Write (‘r+’)** : Open the file for reading and writing. The handle is positioned at the beginning of the file. Raises I/O error if the file does not exists.\n",
        "\n",
        "**Write Only (‘w’)** : Open the file for writing. For existing file, the data is truncated and over-written. The handle is positioned at the beginning of the file. Creates the file if the file does not exists.\n",
        "\n",
        "**Write and Read (‘w+’)** : Open the file for reading and writing. For existing file, data is truncated and over-written. The handle is positioned at the beginning of the file.\n",
        "\n",
        "**Append Only (‘a’)** : Open the file for writing. The file is created if it does not exist. The handle is positioned at the end of the file. The data being written will be inserted at the end, after the existing data.\n",
        "\n",
        "**Append and Read (‘a+’)** : Open the file for reading and writing. The file is created if it does not exist. The handle is positioned at the end of the file. The data being written will be inserted at the end, after the existing data."
      ],
      "metadata": {
        "id": "Or3J5Jyj8b7-"
      }
    },
    {
      "cell_type": "code",
      "execution_count": null,
      "metadata": {
        "id": "iWHAAHQrocqB"
      },
      "outputs": [],
      "source": [
        "# initial file : 'abc'\n",
        "\n",
        "# 'w' : d\n",
        "# 'a' : abcd"
      ]
    },
    {
      "cell_type": "code",
      "source": [
        "# Opening a file\n",
        "\n",
        "file = open('sample.txt', 'r')"
      ],
      "metadata": {
        "colab": {
          "base_uri": "https://localhost:8080/",
          "height": 201
        },
        "id": "mPvRkhnh-IDk",
        "outputId": "0b82b500-96e8-4302-f263-f7c7e86c80cf"
      },
      "execution_count": 1,
      "outputs": [
        {
          "output_type": "error",
          "ename": "FileNotFoundError",
          "evalue": "ignored",
          "traceback": [
            "\u001b[0;31m---------------------------------------------------------------------------\u001b[0m",
            "\u001b[0;31mFileNotFoundError\u001b[0m                         Traceback (most recent call last)",
            "\u001b[0;32m<ipython-input-1-c2a85abbbc30>\u001b[0m in \u001b[0;36m<module>\u001b[0;34m\u001b[0m\n\u001b[1;32m      1\u001b[0m \u001b[0;31m# Opening a file\u001b[0m\u001b[0;34m\u001b[0m\u001b[0;34m\u001b[0m\u001b[0;34m\u001b[0m\u001b[0m\n\u001b[1;32m      2\u001b[0m \u001b[0;34m\u001b[0m\u001b[0m\n\u001b[0;32m----> 3\u001b[0;31m \u001b[0mfile\u001b[0m \u001b[0;34m=\u001b[0m \u001b[0mopen\u001b[0m\u001b[0;34m(\u001b[0m\u001b[0;34m'sample.txt'\u001b[0m\u001b[0;34m,\u001b[0m \u001b[0;34m'r'\u001b[0m\u001b[0;34m)\u001b[0m\u001b[0;34m\u001b[0m\u001b[0;34m\u001b[0m\u001b[0m\n\u001b[0m",
            "\u001b[0;31mFileNotFoundError\u001b[0m: [Errno 2] No such file or directory: 'sample.txt'"
          ]
        }
      ]
    },
    {
      "cell_type": "code",
      "source": [
        "# Closing a file\n",
        "\n",
        "file.close()"
      ],
      "metadata": {
        "id": "zvW-cTfg-xCx"
      },
      "execution_count": null,
      "outputs": []
    },
    {
      "cell_type": "code",
      "source": [
        "# Writing a file\n",
        "# * Write\n",
        "# * WriteLines"
      ],
      "metadata": {
        "id": "Z0LXVUo7_EAj"
      },
      "execution_count": null,
      "outputs": []
    },
    {
      "cell_type": "code",
      "source": [
        "file = open('sample.txt', 'w+')"
      ],
      "metadata": {
        "id": "kUo5L0lQ_PVS"
      },
      "execution_count": 45,
      "outputs": []
    },
    {
      "cell_type": "code",
      "source": [
        "file.write(\"Hello everyone. I am writing this text to the file!\")"
      ],
      "metadata": {
        "colab": {
          "base_uri": "https://localhost:8080/"
        },
        "id": "Vi4jRpi1_mtY",
        "outputId": "85412dbb-86ef-41ff-f7f8-548a103338d6"
      },
      "execution_count": 46,
      "outputs": [
        {
          "output_type": "execute_result",
          "data": {
            "text/plain": [
              "51"
            ]
          },
          "metadata": {},
          "execution_count": 46
        }
      ]
    },
    {
      "cell_type": "code",
      "source": [
        "file.close()"
      ],
      "metadata": {
        "id": "bX56-lJG_wwq"
      },
      "execution_count": 47,
      "outputs": []
    },
    {
      "cell_type": "code",
      "source": [
        "file = open(\"sample2.txt\", \"w+\")"
      ],
      "metadata": {
        "id": "Oe01BlhnAIXp"
      },
      "execution_count": 5,
      "outputs": []
    },
    {
      "cell_type": "code",
      "source": [
        "file.writelines([\"Line 1\\n\", \"Line 2\\n\", \"Line 3\\n\"])"
      ],
      "metadata": {
        "id": "XYwQhQk8AO8K"
      },
      "execution_count": 6,
      "outputs": []
    },
    {
      "cell_type": "code",
      "source": [
        "file.close()"
      ],
      "metadata": {
        "id": "xFtNNi0aAbTl"
      },
      "execution_count": 7,
      "outputs": []
    },
    {
      "cell_type": "code",
      "source": [
        "# Reading a file\n",
        "# * read\n",
        "# * readline\n",
        "# * readlines"
      ],
      "metadata": {
        "id": "ZLjeuqS8A75R"
      },
      "execution_count": null,
      "outputs": []
    },
    {
      "cell_type": "code",
      "source": [
        "file = open('sample.txt', 'r')"
      ],
      "metadata": {
        "id": "lLUCJe9ABF8A"
      },
      "execution_count": 8,
      "outputs": []
    },
    {
      "cell_type": "code",
      "source": [
        "print(file.read())"
      ],
      "metadata": {
        "colab": {
          "base_uri": "https://localhost:8080/"
        },
        "id": "Rf0_FzNdBLUz",
        "outputId": "153f1160-aed5-48c9-d270-f2b871dff39d"
      },
      "execution_count": 9,
      "outputs": [
        {
          "output_type": "stream",
          "name": "stdout",
          "text": [
            "Hello everyone. I am writing this text to the file!\n"
          ]
        }
      ]
    },
    {
      "cell_type": "code",
      "source": [
        "file.close()"
      ],
      "metadata": {
        "id": "dAMTtkREBUM_"
      },
      "execution_count": 10,
      "outputs": []
    },
    {
      "cell_type": "code",
      "source": [
        "file = open('sample2.txt', 'r+')"
      ],
      "metadata": {
        "id": "th9WHwLsBVg3"
      },
      "execution_count": 13,
      "outputs": []
    },
    {
      "cell_type": "code",
      "source": [
        "print(file.read())"
      ],
      "metadata": {
        "colab": {
          "base_uri": "https://localhost:8080/"
        },
        "id": "ZeWTFY0NBdpt",
        "outputId": "01897eb3-c26f-46b0-e2fb-02a10e3697a3"
      },
      "execution_count": 14,
      "outputs": [
        {
          "output_type": "stream",
          "name": "stdout",
          "text": [
            "Line 1\n",
            "Line 2\n",
            "Line 3\n",
            "\n"
          ]
        }
      ]
    },
    {
      "cell_type": "code",
      "source": [
        "file.close()"
      ],
      "metadata": {
        "id": "0Zuf4OBSB_zn"
      },
      "execution_count": 15,
      "outputs": []
    },
    {
      "cell_type": "code",
      "source": [
        "file = open('sample2.txt', 'r')"
      ],
      "metadata": {
        "id": "5HQia9MpCCLb"
      },
      "execution_count": 16,
      "outputs": []
    },
    {
      "cell_type": "code",
      "source": [
        "print(file.readlines())"
      ],
      "metadata": {
        "colab": {
          "base_uri": "https://localhost:8080/"
        },
        "id": "hRilUVRrCJAY",
        "outputId": "52015373-97c1-4271-cd9b-b2a092145c6e"
      },
      "execution_count": 17,
      "outputs": [
        {
          "output_type": "stream",
          "name": "stdout",
          "text": [
            "['Line 1\\n', 'Line 2\\n', 'Line 3\\n']\n"
          ]
        }
      ]
    },
    {
      "cell_type": "code",
      "source": [
        "for line in file.readlines() :\n",
        "  print(line)"
      ],
      "metadata": {
        "id": "onwlpGchDJB2"
      },
      "execution_count": null,
      "outputs": []
    },
    {
      "cell_type": "code",
      "source": [
        "file.close()"
      ],
      "metadata": {
        "id": "NZtMJE0bCcJt"
      },
      "execution_count": 18,
      "outputs": []
    },
    {
      "cell_type": "code",
      "source": [
        "file = open('sample2.txt', 'r')"
      ],
      "metadata": {
        "id": "1HxyI8QvCfVk"
      },
      "execution_count": 19,
      "outputs": []
    },
    {
      "cell_type": "code",
      "source": [
        "print(file.readline())"
      ],
      "metadata": {
        "colab": {
          "base_uri": "https://localhost:8080/"
        },
        "id": "b3Zj3ce5C0Nx",
        "outputId": "a2e547de-c01a-4adb-bcd6-307acec962a4"
      },
      "execution_count": 20,
      "outputs": [
        {
          "output_type": "stream",
          "name": "stdout",
          "text": [
            "Line 1\n",
            "\n"
          ]
        }
      ]
    },
    {
      "cell_type": "code",
      "source": [
        "print(file.readline())"
      ],
      "metadata": {
        "colab": {
          "base_uri": "https://localhost:8080/"
        },
        "id": "DjZA120AC30z",
        "outputId": "c397f737-5393-49b6-bd44-0d9f7cc602c0"
      },
      "execution_count": 21,
      "outputs": [
        {
          "output_type": "stream",
          "name": "stdout",
          "text": [
            "Line 2\n",
            "\n"
          ]
        }
      ]
    },
    {
      "cell_type": "code",
      "source": [
        "print(file.readline())"
      ],
      "metadata": {
        "colab": {
          "base_uri": "https://localhost:8080/"
        },
        "id": "0t8c8tKCC5P8",
        "outputId": "f2f41c62-a12e-40a3-b0fb-34a60c51e244"
      },
      "execution_count": 22,
      "outputs": [
        {
          "output_type": "stream",
          "name": "stdout",
          "text": [
            "Line 3\n",
            "\n"
          ]
        }
      ]
    },
    {
      "cell_type": "code",
      "source": [
        "file.close()"
      ],
      "metadata": {
        "id": "olcmHFC2DC5a"
      },
      "execution_count": 23,
      "outputs": []
    },
    {
      "cell_type": "code",
      "source": [
        "file = open('sample2.txt', 'r')"
      ],
      "metadata": {
        "id": "XSk2h38BDGvv"
      },
      "execution_count": 30,
      "outputs": []
    },
    {
      "cell_type": "code",
      "source": [
        "line = file.readline()\n",
        "\n",
        "while line :\n",
        "  print(line, end='')\n",
        "  line = file.readline()\n",
        "\n",
        "# Empty string ( '' ) : Falsify\n",
        "# Non-empty string : Truthify"
      ],
      "metadata": {
        "colab": {
          "base_uri": "https://localhost:8080/"
        },
        "id": "ogi3a4q4DTYp",
        "outputId": "b5c42b0b-8c29-4c50-f519-fc0a67da8531"
      },
      "execution_count": 31,
      "outputs": [
        {
          "output_type": "stream",
          "name": "stdout",
          "text": [
            "Line 1\n",
            "Line 2\n",
            "Line 3\n"
          ]
        }
      ]
    },
    {
      "cell_type": "code",
      "source": [
        "file.close()"
      ],
      "metadata": {
        "id": "ma3ncDa9E0zB"
      },
      "execution_count": 33,
      "outputs": []
    },
    {
      "cell_type": "code",
      "source": [
        "file = open(\"long_sample.txt\", \"w+\")"
      ],
      "metadata": {
        "id": "hM8Mb5lLE6PL"
      },
      "execution_count": 34,
      "outputs": []
    },
    {
      "cell_type": "code",
      "source": [
        "file.write(\"Contrary to popular belief, Lorem Ipsum is not simply random text. It has roots in a piece of classical Latin literature from 45 BC, making it over 2000 years old. Richard McClintock, a Latin professor at Hampden-Sydney College in Virginia, looked up one of the more obscure Latin words, consectetur, from a Lorem Ipsum passage, and going through the cites of the word in classical literature, discovered the undoubtable source. Lorem Ipsum comes from sections 1.10.32 and 1.10.33 of \\\"de Finibus Bonorum et Malorum\\\" (The Extremes of Good and Evil) by Cicero, written in 45 BC. This book is a treatise on the theory of ethics, very popular during the Renaissance. The first line of Lorem Ipsum, \\\"Lorem ipsum dolor sit amet..\\\", comes from a line in section 1.10.32.\")"
      ],
      "metadata": {
        "colab": {
          "base_uri": "https://localhost:8080/"
        },
        "id": "MFNHDKG-E-8P",
        "outputId": "3e5ea7d4-cc99-4f5e-f35b-2cc3ce029287"
      },
      "execution_count": 35,
      "outputs": [
        {
          "output_type": "execute_result",
          "data": {
            "text/plain": [
              "763"
            ]
          },
          "metadata": {},
          "execution_count": 35
        }
      ]
    },
    {
      "cell_type": "code",
      "source": [
        "file.close()"
      ],
      "metadata": {
        "id": "nHHOFv2NFF0a"
      },
      "execution_count": 36,
      "outputs": []
    },
    {
      "cell_type": "code",
      "source": [
        "file = open(\"long_sample.txt\", \"r+\")"
      ],
      "metadata": {
        "id": "nC4efvzWFHSL"
      },
      "execution_count": 37,
      "outputs": []
    },
    {
      "cell_type": "code",
      "source": [
        "print(file.readline())"
      ],
      "metadata": {
        "colab": {
          "base_uri": "https://localhost:8080/"
        },
        "id": "NLEHBpN8FJiV",
        "outputId": "4b9a6390-2c9f-401c-ec40-e081b1b5f801"
      },
      "execution_count": 38,
      "outputs": [
        {
          "output_type": "stream",
          "name": "stdout",
          "text": [
            "Contrary to popular belief, Lorem Ipsum is not simply random text. It has roots in a piece of classical Latin literature from 45 BC, making it over 2000 years old. Richard McClintock, a Latin professor at Hampden-Sydney College in Virginia, looked up one of the more obscure Latin words, consectetur, from a Lorem Ipsum passage, and going through the cites of the word in classical literature, discovered the undoubtable source. Lorem Ipsum comes from sections 1.10.32 and 1.10.33 of \"de Finibus Bonorum et Malorum\" (The Extremes of Good and Evil) by Cicero, written in 45 BC. This book is a treatise on the theory of ethics, very popular during the Renaissance. The first line of Lorem Ipsum, \"Lorem ipsum dolor sit amet..\", comes from a line in section 1.10.32.\n"
          ]
        }
      ]
    },
    {
      "cell_type": "code",
      "source": [
        "file.close()"
      ],
      "metadata": {
        "id": "WAq0_qtfFTRd"
      },
      "execution_count": 39,
      "outputs": []
    },
    {
      "cell_type": "code",
      "source": [
        "file = open(\"long_sample.txt\", \"r+\")"
      ],
      "metadata": {
        "id": "3tWujS3FFVdg"
      },
      "execution_count": 40,
      "outputs": []
    },
    {
      "cell_type": "code",
      "source": [
        "while True :\n",
        "\n",
        "  line = file.read(20)\n",
        "  \n",
        "  if line == '' :\n",
        "    break\n",
        "  \n",
        "  print(line)\n",
        "\n",
        "file.close()"
      ],
      "metadata": {
        "colab": {
          "base_uri": "https://localhost:8080/"
        },
        "id": "F8POBHUvFXAz",
        "outputId": "36c059e0-ae94-4c16-cdbf-ddd1cee77a85"
      },
      "execution_count": 41,
      "outputs": [
        {
          "output_type": "stream",
          "name": "stdout",
          "text": [
            "Contrary to popular \n",
            "belief, Lorem Ipsum \n",
            "is not simply random\n",
            " text. It has roots \n",
            "in a piece of classi\n",
            "cal Latin literature\n",
            " from 45 BC, making \n",
            "it over 2000 years o\n",
            "ld. Richard McClinto\n",
            "ck, a Latin professo\n",
            "r at Hampden-Sydney \n",
            "College in Virginia,\n",
            " looked up one of th\n",
            "e more obscure Latin\n",
            " words, consectetur,\n",
            " from a Lorem Ipsum \n",
            "passage, and going t\n",
            "hrough the cites of \n",
            "the word in classica\n",
            "l literature, discov\n",
            "ered the undoubtable\n",
            " source. Lorem Ipsum\n",
            " comes from sections\n",
            " 1.10.32 and 1.10.33\n",
            " of \"de Finibus Bono\n",
            "rum et Malorum\" (The\n",
            " Extremes of Good an\n",
            "d Evil) by Cicero, w\n",
            "ritten in 45 BC. Thi\n",
            "s book is a treatise\n",
            " on the theory of et\n",
            "hics, very popular d\n",
            "uring the Renaissanc\n",
            "e. The first line of\n",
            " Lorem Ipsum, \"Lorem\n",
            " ipsum dolor sit ame\n",
            "t..\", comes from a l\n",
            "ine in section 1.10.\n",
            "32.\n"
          ]
        }
      ]
    },
    {
      "cell_type": "code",
      "source": [
        "# Break : 10pm"
      ],
      "metadata": {
        "id": "oBiJoH2JFwK3"
      },
      "execution_count": null,
      "outputs": []
    },
    {
      "cell_type": "code",
      "source": [
        "file = open('sample.txt', 'r')\n",
        "print(1, file.read())\n",
        "print(2, file.read())\n",
        "file.close()"
      ],
      "metadata": {
        "colab": {
          "base_uri": "https://localhost:8080/"
        },
        "id": "NHnS-b_6NBaq",
        "outputId": "74de6b0f-44ff-4c04-97a8-a780ae126090"
      },
      "execution_count": 43,
      "outputs": [
        {
          "output_type": "stream",
          "name": "stdout",
          "text": [
            "1 Hello everyone. I am writing this text to the file!\n",
            "2 \n"
          ]
        }
      ]
    },
    {
      "cell_type": "code",
      "source": [
        "file = open('sample.txt', 'w')\n",
        "file.write('YOLO')\n",
        "file.close()\n",
        "\n",
        "file = open('sample.txt', 'r')\n",
        "print(file.read())\n",
        "file.close()"
      ],
      "metadata": {
        "colab": {
          "base_uri": "https://localhost:8080/"
        },
        "id": "tw1SyrwxN0xo",
        "outputId": "696617bc-a65f-42be-f694-54cf0cee73dc"
      },
      "execution_count": 49,
      "outputs": [
        {
          "output_type": "stream",
          "name": "stdout",
          "text": [
            "Hello everyone\n",
            "YOLO\n"
          ]
        }
      ]
    },
    {
      "cell_type": "code",
      "source": [
        "file = open('sample.txt', 'r+')\n",
        "print(file.read())\n",
        "file.write('YOLO')\n",
        "file.close()\n",
        "\n",
        "file = open('sample.txt', 'r')\n",
        "print(file.read())\n",
        "file.close()"
      ],
      "metadata": {
        "colab": {
          "base_uri": "https://localhost:8080/"
        },
        "id": "VdaF-032Od-i",
        "outputId": "e57ac87f-f135-4d83-e9c5-1db7cf31ba66"
      },
      "execution_count": 51,
      "outputs": [
        {
          "output_type": "stream",
          "name": "stdout",
          "text": [
            "YOLO\n",
            "YOLOYOLO\n"
          ]
        }
      ]
    },
    {
      "cell_type": "code",
      "source": [
        "# Moving the cursor\n",
        "# * seek(n) : takes the file cursor to the nth byte from the beginning."
      ],
      "metadata": {
        "id": "zSVEG3uKPF06"
      },
      "execution_count": null,
      "outputs": []
    },
    {
      "cell_type": "code",
      "source": [
        "file = open(\"sample.txt\", \"r+\")\n",
        "print(file.read())"
      ],
      "metadata": {
        "colab": {
          "base_uri": "https://localhost:8080/"
        },
        "id": "GXT92JIoPSC9",
        "outputId": "6959f4a5-bdc2-4b60-f288-9b09c00f5a0b"
      },
      "execution_count": 52,
      "outputs": [
        {
          "output_type": "stream",
          "name": "stdout",
          "text": [
            "YOLOYOLO\n"
          ]
        }
      ]
    },
    {
      "cell_type": "code",
      "source": [
        "file.seek(3)\n",
        "print(file.read())\n",
        "file.close()"
      ],
      "metadata": {
        "colab": {
          "base_uri": "https://localhost:8080/"
        },
        "id": "AnJUqbdnPWJP",
        "outputId": "983a711e-1419-4c36-fc21-01ee2e9cd5c5"
      },
      "execution_count": 54,
      "outputs": [
        {
          "output_type": "stream",
          "name": "stdout",
          "text": [
            "OYOLO\n"
          ]
        }
      ]
    },
    {
      "cell_type": "code",
      "source": [
        "# Smarter way of opening files...\n",
        "# With the \"with\" statement, you get better syntax and exceptions handling.\n",
        "\n",
        "# \"The with statement simplifies exception handling by encapsulating common \n",
        "# preparation and cleanup tasks.\"\n",
        "\n",
        "# In addition, it will automatically close the file. The with statement provides \n",
        "# a way for ensuring that a clean-up is always used."
      ],
      "metadata": {
        "id": "7XnlqqetP2zx"
      },
      "execution_count": null,
      "outputs": []
    },
    {
      "cell_type": "code",
      "source": [
        "with open(\"sample2.txt\", \"r+\") as temp_file:\n",
        "    print(temp_file.read(5))\n",
        "    temp_file.seek(0)\n",
        "    print(temp_file.read())"
      ],
      "metadata": {
        "colab": {
          "base_uri": "https://localhost:8080/"
        },
        "id": "-FejAGVMQBkU",
        "outputId": "4b3ad92f-7cf6-4000-951b-70a2cc4a18bd"
      },
      "execution_count": 57,
      "outputs": [
        {
          "output_type": "stream",
          "name": "stdout",
          "text": [
            "Line \n",
            "Line 1\n",
            "Line 2\n",
            "Line 3\n",
            "\n"
          ]
        }
      ]
    },
    {
      "cell_type": "code",
      "source": [
        "print(temp_file.read())"
      ],
      "metadata": {
        "colab": {
          "base_uri": "https://localhost:8080/",
          "height": 166
        },
        "id": "T3CGpVzlQQai",
        "outputId": "5f410334-e966-4a8d-9acc-7c009a132fe7"
      },
      "execution_count": 58,
      "outputs": [
        {
          "output_type": "error",
          "ename": "ValueError",
          "evalue": "ignored",
          "traceback": [
            "\u001b[0;31m---------------------------------------------------------------------------\u001b[0m",
            "\u001b[0;31mValueError\u001b[0m                                Traceback (most recent call last)",
            "\u001b[0;32m<ipython-input-58-1450fd1b097e>\u001b[0m in \u001b[0;36m<module>\u001b[0;34m\u001b[0m\n\u001b[0;32m----> 1\u001b[0;31m \u001b[0mprint\u001b[0m\u001b[0;34m(\u001b[0m\u001b[0mtemp_file\u001b[0m\u001b[0;34m.\u001b[0m\u001b[0mread\u001b[0m\u001b[0;34m(\u001b[0m\u001b[0;34m)\u001b[0m\u001b[0;34m)\u001b[0m\u001b[0;34m\u001b[0m\u001b[0;34m\u001b[0m\u001b[0m\n\u001b[0m",
            "\u001b[0;31mValueError\u001b[0m: I/O operation on closed file."
          ]
        }
      ]
    },
    {
      "cell_type": "code",
      "source": [
        "with open(\"sample2.txt\", \"w+\") as temp_file:\n",
        "  temp_file.write('YOLO')"
      ],
      "metadata": {
        "id": "pHWfuFJ9QnLD"
      },
      "execution_count": 59,
      "outputs": []
    },
    {
      "cell_type": "code",
      "source": [
        "def second_lowest(students, scores):\n",
        "  student_data = list(map(list, zip(students,scores)))\n",
        "  a = sorted(student_data,key=lambda x:x[1],reverse=True)\n",
        "  second_low_score = float(a[1][1])\n",
        "  second_names = a[1][0] \n",
        "  return student_data,second_low_score,second_names\n",
        "\n",
        "\n",
        "students = ['Roy', 'Bose', 'Kar', 'Dutta', 'Ghosh']\n",
        "marks = [1, 3, 2, 1, 1]\n",
        "second_lowest(students, marks)"
      ],
      "metadata": {
        "colab": {
          "base_uri": "https://localhost:8080/"
        },
        "id": "1_NprpQUSgEE",
        "outputId": "57232fe1-97de-4a5f-92fb-7940e55355cf"
      },
      "execution_count": 62,
      "outputs": [
        {
          "output_type": "execute_result",
          "data": {
            "text/plain": [
              "([['Roy', 1], ['Bose', 3], ['Kar', 2], ['Dutta', 1], ['Ghosh', 1]], 2.0, 'Kar')"
            ]
          },
          "metadata": {},
          "execution_count": 62
        }
      ]
    }
  ]
}