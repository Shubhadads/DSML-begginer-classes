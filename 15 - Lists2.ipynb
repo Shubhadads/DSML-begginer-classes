{
  "cells": [
    {
      "cell_type": "markdown",
      "id": "f9f77c52",
      "metadata": {
        "id": "f9f77c52"
      },
      "source": [
        "# Lists 2\n",
        "![](https://scaler.com/topics/images/arraylist-in-java.webp)"
      ]
    },
    {
      "cell_type": "code",
      "source": [
        "l = [1, 5, 0.2, -3.45, \"Hello\", None, [\"YO\", 93]]\n",
        "print(l, type(l))"
      ],
      "metadata": {
        "colab": {
          "base_uri": "https://localhost:8080/"
        },
        "id": "QxIECd5VsGw2",
        "outputId": "d5c39e32-0bb9-4160-ad71-d52e73061b46"
      },
      "id": "QxIECd5VsGw2",
      "execution_count": 3,
      "outputs": [
        {
          "output_type": "stream",
          "name": "stdout",
          "text": [
            "[1, 5, 0.2, -3.45, 'Hello', None, ['YO', 93]] <class 'list'>\n"
          ]
        }
      ]
    },
    {
      "cell_type": "code",
      "source": [
        "print(l[2])\n",
        "print(l[-3])\n",
        "print(len(l))\n",
        "print(l[-1][0])"
      ],
      "metadata": {
        "colab": {
          "base_uri": "https://localhost:8080/"
        },
        "id": "A9VUdoPgsYjG",
        "outputId": "286e522a-10f8-4805-9442-9245305ce232"
      },
      "id": "A9VUdoPgsYjG",
      "execution_count": 6,
      "outputs": [
        {
          "output_type": "stream",
          "name": "stdout",
          "text": [
            "0.2\n",
            "Hello\n",
            "7\n",
            "YO\n"
          ]
        }
      ]
    },
    {
      "cell_type": "markdown",
      "id": "adff428d",
      "metadata": {
        "id": "adff428d"
      },
      "source": [
        "# Removing data\n",
        "- remove - Removes the first occurence\n",
        "- pop - Pops the value at the given index. If no index is given, it pops the last element.\n",
        "- del - keyword which allows us to delete the specified value\n",
        "![](https://scaler.com/topics/images/How-to-remove-element-from-list-Python.webp)"
      ]
    },
    {
      "cell_type": "code",
      "execution_count": 7,
      "id": "cb9f5359",
      "metadata": {
        "id": "cb9f5359"
      },
      "outputs": [],
      "source": [
        "l = [5, 9, 0, 4, 3, 6, 8]"
      ]
    },
    {
      "cell_type": "code",
      "source": [
        "l.remove(4)\n",
        "print(l)"
      ],
      "metadata": {
        "colab": {
          "base_uri": "https://localhost:8080/"
        },
        "id": "9k8CoYdhtHp9",
        "outputId": "07834095-d0e8-42c5-a467-84f0a4325df2"
      },
      "id": "9k8CoYdhtHp9",
      "execution_count": 8,
      "outputs": [
        {
          "output_type": "stream",
          "name": "stdout",
          "text": [
            "[5, 9, 0, 3, 6, 8]\n"
          ]
        }
      ]
    },
    {
      "cell_type": "code",
      "source": [
        "l.remove(8)\n",
        "print(l)"
      ],
      "metadata": {
        "colab": {
          "base_uri": "https://localhost:8080/"
        },
        "id": "k94U_t5vtPj-",
        "outputId": "e93c54a5-9bd6-4747-8e26-5eb1890431d0"
      },
      "id": "k94U_t5vtPj-",
      "execution_count": 9,
      "outputs": [
        {
          "output_type": "stream",
          "name": "stdout",
          "text": [
            "[5, 9, 0, 3, 6]\n"
          ]
        }
      ]
    },
    {
      "cell_type": "code",
      "source": [
        "l = [5, 6, 4, 4, 4, 7, 1]"
      ],
      "metadata": {
        "id": "vHWsn6fbtVAq"
      },
      "id": "vHWsn6fbtVAq",
      "execution_count": 10,
      "outputs": []
    },
    {
      "cell_type": "code",
      "source": [
        "l.remove(4)\n",
        "print(l)"
      ],
      "metadata": {
        "colab": {
          "base_uri": "https://localhost:8080/"
        },
        "id": "EvaCxh9btXI4",
        "outputId": "757129bf-d00b-4ba0-dd3a-389bee9dfe8e"
      },
      "id": "EvaCxh9btXI4",
      "execution_count": 11,
      "outputs": [
        {
          "output_type": "stream",
          "name": "stdout",
          "text": [
            "[5, 6, 4, 4, 7, 1]\n"
          ]
        }
      ]
    },
    {
      "cell_type": "code",
      "source": [
        "l.remove(100)"
      ],
      "metadata": {
        "colab": {
          "base_uri": "https://localhost:8080/",
          "height": 166
        },
        "id": "mgrw2Upttj6k",
        "outputId": "d96be0fc-a3a0-4d9e-a968-5f3c0d8807d8"
      },
      "id": "mgrw2Upttj6k",
      "execution_count": 12,
      "outputs": [
        {
          "output_type": "error",
          "ename": "ValueError",
          "evalue": "ignored",
          "traceback": [
            "\u001b[0;31m---------------------------------------------------------------------------\u001b[0m",
            "\u001b[0;31mValueError\u001b[0m                                Traceback (most recent call last)",
            "\u001b[0;32m<ipython-input-12-97ac9c8b213c>\u001b[0m in \u001b[0;36m<module>\u001b[0;34m\u001b[0m\n\u001b[0;32m----> 1\u001b[0;31m \u001b[0ml\u001b[0m\u001b[0;34m.\u001b[0m\u001b[0mremove\u001b[0m\u001b[0;34m(\u001b[0m\u001b[0;36m100\u001b[0m\u001b[0;34m)\u001b[0m\u001b[0;34m\u001b[0m\u001b[0;34m\u001b[0m\u001b[0m\n\u001b[0m",
            "\u001b[0;31mValueError\u001b[0m: list.remove(x): x not in list"
          ]
        }
      ]
    },
    {
      "cell_type": "markdown",
      "id": "73f85235",
      "metadata": {
        "id": "73f85235"
      },
      "source": [
        "#### Quiz 1\n",
        "```py\n",
        "l = [1, 2, 3, 3, 5, 6, 7, 5]\n",
        "l.remove(5)\n",
        "print(l)\n",
        "```"
      ]
    },
    {
      "cell_type": "code",
      "execution_count": 13,
      "id": "666c3fc5",
      "metadata": {
        "colab": {
          "base_uri": "https://localhost:8080/"
        },
        "id": "666c3fc5",
        "outputId": "15110500-0152-407b-d313-a471fcea029a"
      },
      "outputs": [
        {
          "output_type": "stream",
          "name": "stdout",
          "text": [
            "[1, 2, 3, 3, 6, 7, 5]\n"
          ]
        }
      ],
      "source": [
        "l = [1, 2, 3, 3, 5, 6, 7, 5]\n",
        "l.remove(5)\n",
        "print(l)"
      ]
    },
    {
      "cell_type": "code",
      "source": [
        "l = [7, 9, 2, 4, 1]\n",
        "l.pop(3)\n",
        "print(l)"
      ],
      "metadata": {
        "colab": {
          "base_uri": "https://localhost:8080/"
        },
        "id": "1U_cVLjiuW8O",
        "outputId": "e983138c-f98c-4bab-833a-06ac2d332be0"
      },
      "id": "1U_cVLjiuW8O",
      "execution_count": 14,
      "outputs": [
        {
          "output_type": "stream",
          "name": "stdout",
          "text": [
            "[7, 9, 2, 1]\n"
          ]
        }
      ]
    },
    {
      "cell_type": "code",
      "source": [
        "l.pop(0)\n",
        "print(l)"
      ],
      "metadata": {
        "colab": {
          "base_uri": "https://localhost:8080/"
        },
        "id": "6VM97Y1FupBZ",
        "outputId": "5254bfa2-78a6-4096-cb24-e2c824aee0cf"
      },
      "id": "6VM97Y1FupBZ",
      "execution_count": 15,
      "outputs": [
        {
          "output_type": "stream",
          "name": "stdout",
          "text": [
            "[9, 2, 1]\n"
          ]
        }
      ]
    },
    {
      "cell_type": "code",
      "source": [
        "l.pop() # By default, it pops the last value\n",
        "print(l)"
      ],
      "metadata": {
        "colab": {
          "base_uri": "https://localhost:8080/"
        },
        "id": "SOaqaIGRuxF1",
        "outputId": "557ee9a1-9b75-4d6f-cab2-29487cc3d364"
      },
      "id": "SOaqaIGRuxF1",
      "execution_count": 16,
      "outputs": [
        {
          "output_type": "stream",
          "name": "stdout",
          "text": [
            "[9, 2]\n"
          ]
        }
      ]
    },
    {
      "cell_type": "code",
      "source": [
        "l = [7, 9, 2, 4, 1]\n",
        "del l[1]\n",
        "print(l)"
      ],
      "metadata": {
        "colab": {
          "base_uri": "https://localhost:8080/"
        },
        "id": "N2IOaESFu8Er",
        "outputId": "652de3c6-c1d7-4f66-92ec-638d400ed031"
      },
      "id": "N2IOaESFu8Er",
      "execution_count": 17,
      "outputs": [
        {
          "output_type": "stream",
          "name": "stdout",
          "text": [
            "[7, 2, 4, 1]\n"
          ]
        }
      ]
    },
    {
      "cell_type": "code",
      "source": [
        "del l[]"
      ],
      "metadata": {
        "colab": {
          "base_uri": "https://localhost:8080/",
          "height": 131
        },
        "id": "ayJPsNOlvWYA",
        "outputId": "a72d7021-bcef-481b-da3f-3d14bdde4cda"
      },
      "id": "ayJPsNOlvWYA",
      "execution_count": 18,
      "outputs": [
        {
          "output_type": "error",
          "ename": "SyntaxError",
          "evalue": "ignored",
          "traceback": [
            "\u001b[0;36m  File \u001b[0;32m\"<ipython-input-18-386f09ab8956>\"\u001b[0;36m, line \u001b[0;32m1\u001b[0m\n\u001b[0;31m    del l[]\u001b[0m\n\u001b[0m          ^\u001b[0m\n\u001b[0;31mSyntaxError\u001b[0m\u001b[0;31m:\u001b[0m invalid syntax\n"
          ]
        }
      ]
    },
    {
      "cell_type": "code",
      "source": [
        "l = [7, 9, 20, 4, 1]\n",
        "l.remove(20) # [7, 9, 4, 1]\n",
        "l.pop(0) # [9, 4, 1]\n",
        "l.pop() # [9, 4]\n",
        "del l[0] # [4]\n",
        "print(l)"
      ],
      "metadata": {
        "colab": {
          "base_uri": "https://localhost:8080/"
        },
        "id": "FB7zfMMOvk_8",
        "outputId": "f5c2ae54-a5e2-457c-d9ed-de390768bf88"
      },
      "id": "FB7zfMMOvk_8",
      "execution_count": 22,
      "outputs": [
        {
          "output_type": "stream",
          "name": "stdout",
          "text": [
            "[4]\n"
          ]
        }
      ]
    },
    {
      "cell_type": "markdown",
      "id": "b993b692",
      "metadata": {
        "id": "b993b692"
      },
      "source": [
        "#### Quiz 2\n",
        "```py\n",
        "l = [1, 2, 3, 3, 5, 6, 7, 5]\n",
        "l.pop(5)\n",
        "print(l)\n",
        "```"
      ]
    },
    {
      "cell_type": "code",
      "execution_count": 23,
      "id": "c075320c",
      "metadata": {
        "colab": {
          "base_uri": "https://localhost:8080/"
        },
        "id": "c075320c",
        "outputId": "1da67c0e-c477-44e2-80ec-fc1ece751e80"
      },
      "outputs": [
        {
          "output_type": "stream",
          "name": "stdout",
          "text": [
            "[1, 2, 3, 3, 5, 7, 5]\n"
          ]
        }
      ],
      "source": [
        "l = [1, 2, 3, 3, 5, 6, 7, 5]\n",
        "l.pop(5)\n",
        "print(l)"
      ]
    },
    {
      "cell_type": "code",
      "source": [
        "l = [1, 2, 3, 3, 5, 6, 7, 5]\n",
        "del l\n",
        "print(l)"
      ],
      "metadata": {
        "colab": {
          "base_uri": "https://localhost:8080/",
          "height": 201
        },
        "id": "E203SUfwwxQc",
        "outputId": "707e9ab4-7c90-48af-e213-3b9ffed68f17"
      },
      "id": "E203SUfwwxQc",
      "execution_count": 24,
      "outputs": [
        {
          "output_type": "error",
          "ename": "NameError",
          "evalue": "ignored",
          "traceback": [
            "\u001b[0;31m---------------------------------------------------------------------------\u001b[0m",
            "\u001b[0;31mNameError\u001b[0m                                 Traceback (most recent call last)",
            "\u001b[0;32m<ipython-input-24-81f2c3bed08d>\u001b[0m in \u001b[0;36m<module>\u001b[0;34m\u001b[0m\n\u001b[1;32m      1\u001b[0m \u001b[0ml\u001b[0m \u001b[0;34m=\u001b[0m \u001b[0;34m[\u001b[0m\u001b[0;36m1\u001b[0m\u001b[0;34m,\u001b[0m \u001b[0;36m2\u001b[0m\u001b[0;34m,\u001b[0m \u001b[0;36m3\u001b[0m\u001b[0;34m,\u001b[0m \u001b[0;36m3\u001b[0m\u001b[0;34m,\u001b[0m \u001b[0;36m5\u001b[0m\u001b[0;34m,\u001b[0m \u001b[0;36m6\u001b[0m\u001b[0;34m,\u001b[0m \u001b[0;36m7\u001b[0m\u001b[0;34m,\u001b[0m \u001b[0;36m5\u001b[0m\u001b[0;34m]\u001b[0m\u001b[0;34m\u001b[0m\u001b[0;34m\u001b[0m\u001b[0m\n\u001b[1;32m      2\u001b[0m \u001b[0;32mdel\u001b[0m \u001b[0ml\u001b[0m\u001b[0;34m\u001b[0m\u001b[0;34m\u001b[0m\u001b[0m\n\u001b[0;32m----> 3\u001b[0;31m \u001b[0mprint\u001b[0m\u001b[0;34m(\u001b[0m\u001b[0ml\u001b[0m\u001b[0;34m)\u001b[0m\u001b[0;34m\u001b[0m\u001b[0;34m\u001b[0m\u001b[0m\n\u001b[0m",
            "\u001b[0;31mNameError\u001b[0m: name 'l' is not defined"
          ]
        }
      ]
    },
    {
      "cell_type": "code",
      "source": [
        "l = [1, 2, 3, 3, 5, 6, 7, 5]\n",
        "l.clear()\n",
        "print(l)"
      ],
      "metadata": {
        "colab": {
          "base_uri": "https://localhost:8080/"
        },
        "id": "FAdELDI0w93v",
        "outputId": "691f7fa9-4dee-488a-f82e-78d09b612c5f"
      },
      "id": "FAdELDI0w93v",
      "execution_count": 25,
      "outputs": [
        {
          "output_type": "stream",
          "name": "stdout",
          "text": [
            "[]\n"
          ]
        }
      ]
    },
    {
      "cell_type": "markdown",
      "id": "b3a5033b",
      "metadata": {
        "id": "b3a5033b"
      },
      "source": [
        "# List Input\n",
        "![](https://scaler.com/topics/images/raw-input-in-python.webp)"
      ]
    },
    {
      "cell_type": "code",
      "execution_count": 32,
      "id": "ce8892e5",
      "metadata": {
        "id": "ce8892e5"
      },
      "outputs": [],
      "source": [
        "s = \"hello how are you 123\"\n",
        "# words = [\"hello\", \"how\", \"are\", \"you\"]"
      ]
    },
    {
      "cell_type": "code",
      "source": [
        "# Split is an inbuilt function defined on all strings.\n",
        "# It splits the string and gives you a list\n",
        "# By default, it splits at space\n",
        "\n",
        "l = s.split()\n",
        "print(l, type(l))"
      ],
      "metadata": {
        "colab": {
          "base_uri": "https://localhost:8080/"
        },
        "id": "vGZ1M99xxgnM",
        "outputId": "44bbd125-14ea-4259-c817-a0ce3f8256b8"
      },
      "id": "vGZ1M99xxgnM",
      "execution_count": 33,
      "outputs": [
        {
          "output_type": "stream",
          "name": "stdout",
          "text": [
            "['hello', 'how', 'are', 'you', '123'] <class 'list'>\n"
          ]
        }
      ]
    },
    {
      "cell_type": "code",
      "source": [
        "print(l[2])\n",
        "print(l[-1])"
      ],
      "metadata": {
        "colab": {
          "base_uri": "https://localhost:8080/"
        },
        "id": "O74Qsqhrx0z4",
        "outputId": "00e78bda-0708-429f-f420-6394bdded621"
      },
      "id": "O74Qsqhrx0z4",
      "execution_count": 30,
      "outputs": [
        {
          "output_type": "stream",
          "name": "stdout",
          "text": [
            "are\n",
            "you\n"
          ]
        }
      ]
    },
    {
      "cell_type": "code",
      "source": [
        "s = \"hello,how,,are,you\"\n",
        "l = s.split(',,')\n",
        "print(l)"
      ],
      "metadata": {
        "colab": {
          "base_uri": "https://localhost:8080/"
        },
        "id": "bTK_aQDDyafd",
        "outputId": "959db98d-45a5-4036-afe7-01eeedf0ffd2"
      },
      "id": "bTK_aQDDyafd",
      "execution_count": 35,
      "outputs": [
        {
          "output_type": "stream",
          "name": "stdout",
          "text": [
            "['hello,how', 'are,you']\n"
          ]
        }
      ]
    },
    {
      "cell_type": "code",
      "source": [
        "Input\n",
        "\n",
        "5 # No of elements in the list\n",
        "10 8 2 9 6 # Elements of the list"
      ],
      "metadata": {
        "id": "fHOzTw5jy7Bw"
      },
      "id": "fHOzTw5jy7Bw",
      "execution_count": null,
      "outputs": []
    },
    {
      "cell_type": "code",
      "source": [
        "n = int(input())"
      ],
      "metadata": {
        "colab": {
          "base_uri": "https://localhost:8080/"
        },
        "id": "SxTbKohhzGTY",
        "outputId": "6c149fd6-9f03-4cd8-e71a-48dc367e607e"
      },
      "id": "SxTbKohhzGTY",
      "execution_count": 36,
      "outputs": [
        {
          "name": "stdout",
          "output_type": "stream",
          "text": [
            "5\n"
          ]
        }
      ]
    },
    {
      "cell_type": "code",
      "source": [
        "l = []\n",
        "for i in range(n) :\n",
        "  x = int(input())\n",
        "  l.append(x)\n",
        "\n",
        "print(l)"
      ],
      "metadata": {
        "colab": {
          "base_uri": "https://localhost:8080/",
          "height": 253
        },
        "id": "Kf8tITLBzK42",
        "outputId": "c6ea7683-c12f-4864-b044-e1efacdd6d13"
      },
      "id": "Kf8tITLBzK42",
      "execution_count": 49,
      "outputs": [
        {
          "name": "stdout",
          "output_type": "stream",
          "text": [
            "10 8 2 9 6\n"
          ]
        },
        {
          "output_type": "error",
          "ename": "ValueError",
          "evalue": "ignored",
          "traceback": [
            "\u001b[0;31m---------------------------------------------------------------------------\u001b[0m",
            "\u001b[0;31mValueError\u001b[0m                                Traceback (most recent call last)",
            "\u001b[0;32m<ipython-input-49-268119f6fc77>\u001b[0m in \u001b[0;36m<module>\u001b[0;34m\u001b[0m\n\u001b[1;32m      1\u001b[0m \u001b[0ml\u001b[0m \u001b[0;34m=\u001b[0m \u001b[0;34m[\u001b[0m\u001b[0;34m]\u001b[0m\u001b[0;34m\u001b[0m\u001b[0;34m\u001b[0m\u001b[0m\n\u001b[1;32m      2\u001b[0m \u001b[0;32mfor\u001b[0m \u001b[0mi\u001b[0m \u001b[0;32min\u001b[0m \u001b[0mrange\u001b[0m\u001b[0;34m(\u001b[0m\u001b[0mn\u001b[0m\u001b[0;34m)\u001b[0m \u001b[0;34m:\u001b[0m\u001b[0;34m\u001b[0m\u001b[0;34m\u001b[0m\u001b[0m\n\u001b[0;32m----> 3\u001b[0;31m   \u001b[0mx\u001b[0m \u001b[0;34m=\u001b[0m \u001b[0mint\u001b[0m\u001b[0;34m(\u001b[0m\u001b[0minput\u001b[0m\u001b[0;34m(\u001b[0m\u001b[0;34m)\u001b[0m\u001b[0;34m)\u001b[0m\u001b[0;34m\u001b[0m\u001b[0;34m\u001b[0m\u001b[0m\n\u001b[0m\u001b[1;32m      4\u001b[0m   \u001b[0ml\u001b[0m\u001b[0;34m.\u001b[0m\u001b[0mappend\u001b[0m\u001b[0;34m(\u001b[0m\u001b[0mx\u001b[0m\u001b[0;34m)\u001b[0m\u001b[0;34m\u001b[0m\u001b[0;34m\u001b[0m\u001b[0m\n\u001b[1;32m      5\u001b[0m \u001b[0;34m\u001b[0m\u001b[0m\n",
            "\u001b[0;31mValueError\u001b[0m: invalid literal for int() with base 10: '10 8 2 9 6'"
          ]
        }
      ]
    },
    {
      "cell_type": "code",
      "source": [
        "s = input()\n",
        "print(s, type(s))"
      ],
      "metadata": {
        "colab": {
          "base_uri": "https://localhost:8080/"
        },
        "id": "gPBHEQ_z0DxP",
        "outputId": "54b5480d-16b4-439a-f387-2be31e6bc257"
      },
      "id": "gPBHEQ_z0DxP",
      "execution_count": 39,
      "outputs": [
        {
          "output_type": "stream",
          "name": "stdout",
          "text": [
            "10 8 2 9 6\n",
            "10 8 2 9 6 <class 'str'>\n"
          ]
        }
      ]
    },
    {
      "cell_type": "code",
      "source": [
        "l = s.split()\n",
        "print(l)"
      ],
      "metadata": {
        "colab": {
          "base_uri": "https://localhost:8080/"
        },
        "id": "eg1R2sj40OTx",
        "outputId": "c9a5760d-629f-468d-82b2-dc973c11198d"
      },
      "id": "eg1R2sj40OTx",
      "execution_count": 40,
      "outputs": [
        {
          "output_type": "stream",
          "name": "stdout",
          "text": [
            "['10', '8', '2', '9', '6']\n"
          ]
        }
      ]
    },
    {
      "cell_type": "code",
      "source": [
        "print( int(l[0]) )"
      ],
      "metadata": {
        "colab": {
          "base_uri": "https://localhost:8080/"
        },
        "id": "4qbjqrI-0fXa",
        "outputId": "918f23b9-64b4-4aca-b16b-fa2e688a8db6"
      },
      "id": "4qbjqrI-0fXa",
      "execution_count": 41,
      "outputs": [
        {
          "output_type": "stream",
          "name": "stdout",
          "text": [
            "10\n"
          ]
        }
      ]
    },
    {
      "cell_type": "code",
      "source": [
        "for i in range(n) :\n",
        "  l[i] = int(l[i])\n",
        "\n",
        "print(l)"
      ],
      "metadata": {
        "colab": {
          "base_uri": "https://localhost:8080/"
        },
        "id": "J804_mk40rTu",
        "outputId": "371a164a-f4ed-4e9b-dcb9-b574ebe3733b"
      },
      "id": "J804_mk40rTu",
      "execution_count": 42,
      "outputs": [
        {
          "output_type": "stream",
          "name": "stdout",
          "text": [
            "[10, 8, 2, 9, 6]\n"
          ]
        }
      ]
    },
    {
      "cell_type": "markdown",
      "id": "827870e7",
      "metadata": {
        "id": "827870e7"
      },
      "source": [
        "### Complete code"
      ]
    },
    {
      "cell_type": "code",
      "execution_count": null,
      "id": "2b0e303e",
      "metadata": {
        "id": "2b0e303e"
      },
      "outputs": [],
      "source": [
        "# Input\n",
        "\n",
        "# 5 -> No of elements in the list\n",
        "# 10 8 2 9 6 -> Elements of the list\n",
        "\n",
        "n = int(input())\n",
        "\n",
        "s = input() # '10 8 2 9 6'\n",
        "l = s.split() # l = ['10', '8', '2', '9', '6']\n",
        "\n",
        "for i in range(n): # for each value in list\n",
        "    l[i] = int(l[i]) # typecase it to integer\n",
        "    \n",
        "print(l)"
      ]
    },
    {
      "cell_type": "code",
      "source": [
        "# will cover in future, don't use it right now\n",
        "l = list(map(int, input().split()))\n",
        "print(l)"
      ],
      "metadata": {
        "colab": {
          "base_uri": "https://localhost:8080/"
        },
        "id": "vM1xzuZ01sSK",
        "outputId": "cf3e0e2d-c037-4843-dbb6-2d4aff53d2bd"
      },
      "id": "vM1xzuZ01sSK",
      "execution_count": 44,
      "outputs": [
        {
          "output_type": "stream",
          "name": "stdout",
          "text": [
            "10 8 2 9 6\n",
            "[10, 8, 2, 9, 6]\n"
          ]
        }
      ]
    },
    {
      "cell_type": "markdown",
      "id": "cfda2987",
      "metadata": {
        "id": "cfda2987"
      },
      "source": [
        "#### Input all in one line\n",
        "First number is N. Then the list elements."
      ]
    },
    {
      "cell_type": "code",
      "execution_count": 47,
      "id": "52257554",
      "metadata": {
        "colab": {
          "base_uri": "https://localhost:8080/"
        },
        "id": "52257554",
        "outputId": "4df75aaf-18c5-4bc0-e602-f8c510043949"
      },
      "outputs": [
        {
          "output_type": "stream",
          "name": "stdout",
          "text": [
            "3 9 2 4\n",
            "[9, 2, 4]\n"
          ]
        }
      ],
      "source": [
        "# 3 9 2 4\n",
        "\n",
        "# First element is length of list, not important\n",
        "# Remaining are elements of the list\n",
        "\n",
        "s = input()\n",
        "l = s.split()\n",
        "l.pop(0)\n",
        "\n",
        "for i in range(len(l)): # for each value in list\n",
        "    l[i] = int(l[i]) # typecase it to integer\n",
        "\n",
        "print(l)"
      ]
    },
    {
      "cell_type": "markdown",
      "source": [
        "Break till 10pm"
      ],
      "metadata": {
        "id": "Ghz9w9u72_PU"
      },
      "id": "Ghz9w9u72_PU"
    },
    {
      "cell_type": "markdown",
      "id": "31037dfb",
      "metadata": {
        "id": "31037dfb"
      },
      "source": [
        "# Searching in Lists\n",
        "- in\n",
        "- index()\n",
        "- count()\n",
        "\n",
        "![](https://scaler.com/topics/images/index-function-in-python.webp)"
      ]
    },
    {
      "cell_type": "code",
      "execution_count": 50,
      "id": "4be9efb3",
      "metadata": {
        "id": "4be9efb3"
      },
      "outputs": [],
      "source": [
        "arr = [10, 20, 30, 30, 30, 40, 50, 20]"
      ]
    },
    {
      "cell_type": "code",
      "execution_count": null,
      "id": "fd3a4a48",
      "metadata": {
        "id": "fd3a4a48"
      },
      "outputs": [],
      "source": [
        "# Check if a certain value is present in your list\n",
        "if 30 in arr :\n",
        "  print(\"30 is in list\")\n",
        "else :\n",
        "  print(\"30 is not in list\")"
      ]
    },
    {
      "cell_type": "code",
      "source": [
        "# Check if a certain value is present in your list\n",
        "if 300 in arr :\n",
        "  print(\"300 is in list\")\n",
        "else :\n",
        "  print(\"300 is not in list\")"
      ],
      "metadata": {
        "colab": {
          "base_uri": "https://localhost:8080/"
        },
        "id": "ofxpqzDU5wmU",
        "outputId": "395534ac-9e81-4d23-c99b-1d6776534778"
      },
      "id": "ofxpqzDU5wmU",
      "execution_count": 51,
      "outputs": [
        {
          "output_type": "stream",
          "name": "stdout",
          "text": [
            "300 is not in list\n"
          ]
        }
      ]
    },
    {
      "cell_type": "code",
      "source": [
        "arr = [10, 20, 30, 30, 30, 40, 50, 20]"
      ],
      "metadata": {
        "id": "C5-INVqs56f9"
      },
      "id": "C5-INVqs56f9",
      "execution_count": 52,
      "outputs": []
    },
    {
      "cell_type": "code",
      "source": [
        "idx = arr.index(40)\n",
        "print(idx)"
      ],
      "metadata": {
        "colab": {
          "base_uri": "https://localhost:8080/"
        },
        "id": "G00jhqL657NN",
        "outputId": "2517b6b2-8f90-4d02-ed15-385a12dc7bf6"
      },
      "id": "G00jhqL657NN",
      "execution_count": 53,
      "outputs": [
        {
          "output_type": "stream",
          "name": "stdout",
          "text": [
            "5\n"
          ]
        }
      ]
    },
    {
      "cell_type": "code",
      "source": [
        "idx = arr.index(30) # only returns index of first occurence\n",
        "print(idx)"
      ],
      "metadata": {
        "colab": {
          "base_uri": "https://localhost:8080/"
        },
        "id": "RDDZUGws57PC",
        "outputId": "5de2e087-ce66-429e-f44b-379682b68e50"
      },
      "id": "RDDZUGws57PC",
      "execution_count": 54,
      "outputs": [
        {
          "output_type": "stream",
          "name": "stdout",
          "text": [
            "2\n"
          ]
        }
      ]
    },
    {
      "cell_type": "code",
      "source": [
        "idx = arr.index(60)\n",
        "print(idx)"
      ],
      "metadata": {
        "colab": {
          "base_uri": "https://localhost:8080/",
          "height": 183
        },
        "id": "uhpZZ7f46W2v",
        "outputId": "13e2d52a-6629-4a89-dddf-37e179609147"
      },
      "id": "uhpZZ7f46W2v",
      "execution_count": 55,
      "outputs": [
        {
          "output_type": "error",
          "ename": "ValueError",
          "evalue": "ignored",
          "traceback": [
            "\u001b[0;31m---------------------------------------------------------------------------\u001b[0m",
            "\u001b[0;31mValueError\u001b[0m                                Traceback (most recent call last)",
            "\u001b[0;32m<ipython-input-55-c9b77cfc2423>\u001b[0m in \u001b[0;36m<module>\u001b[0;34m\u001b[0m\n\u001b[0;32m----> 1\u001b[0;31m \u001b[0midx\u001b[0m \u001b[0;34m=\u001b[0m \u001b[0marr\u001b[0m\u001b[0;34m.\u001b[0m\u001b[0mindex\u001b[0m\u001b[0;34m(\u001b[0m\u001b[0;36m60\u001b[0m\u001b[0;34m)\u001b[0m\u001b[0;34m\u001b[0m\u001b[0;34m\u001b[0m\u001b[0m\n\u001b[0m\u001b[1;32m      2\u001b[0m \u001b[0mprint\u001b[0m\u001b[0;34m(\u001b[0m\u001b[0midx\u001b[0m\u001b[0;34m)\u001b[0m\u001b[0;34m\u001b[0m\u001b[0;34m\u001b[0m\u001b[0m\n",
            "\u001b[0;31mValueError\u001b[0m: 60 is not in list"
          ]
        }
      ]
    },
    {
      "cell_type": "markdown",
      "id": "9ab55843",
      "metadata": {
        "id": "9ab55843"
      },
      "source": [
        "#### How to get the index of the second or the third occurences ? \n",
        "- Find answer on your own. \\\n",
        "Hint - The answer is present in bonus reading material for today."
      ]
    },
    {
      "cell_type": "code",
      "execution_count": 58,
      "id": "f3f86088",
      "metadata": {
        "colab": {
          "base_uri": "https://localhost:8080/"
        },
        "id": "f3f86088",
        "outputId": "827c9ba6-de93-48b8-aac8-fe2e52eb5069"
      },
      "outputs": [
        {
          "output_type": "stream",
          "name": "stdout",
          "text": [
            "3\n",
            "0\n"
          ]
        }
      ],
      "source": [
        "arr = [10, 20, 30, 30, 30, 40, 50, 20]\n",
        "\n",
        "cnt = arr.count(30)\n",
        "print(cnt)\n",
        "\n",
        "cnt = arr.count(200)\n",
        "print(cnt)"
      ]
    },
    {
      "cell_type": "markdown",
      "id": "4e4a2718",
      "metadata": {
        "id": "4e4a2718"
      },
      "source": [
        "# Linear Search\n",
        "![](https://scaler.com/topics/images/Linear-Search-Algorithm.webp)"
      ]
    },
    {
      "cell_type": "code",
      "execution_count": 64,
      "id": "a7a09968",
      "metadata": {
        "colab": {
          "base_uri": "https://localhost:8080/"
        },
        "id": "a7a09968",
        "outputId": "1ea93f01-3034-4164-fe08-2b5febb7a71f"
      },
      "outputs": [
        {
          "output_type": "stream",
          "name": "stdout",
          "text": [
            "3\n",
            "Not found\n"
          ]
        }
      ],
      "source": [
        "# Wrong answer\n",
        "\n",
        "arr = [6, 9, 2, 5, 3, 0, 1]\n",
        "\n",
        "x = 5\n",
        "\n",
        "for i in range(len(arr)) :\n",
        "  if arr[i] == x :\n",
        "    print(i)\n",
        "\n",
        "print(\"Not found\")"
      ]
    },
    {
      "cell_type": "code",
      "source": [
        "# Wrong answer\n",
        "\n",
        "arr = [6, 9, 2, 5, 3, 0, 1]\n",
        "\n",
        "x = 5\n",
        "\n",
        "for i in range(len(arr)) :\n",
        "  if arr[i] == x :\n",
        "    print(i)\n",
        "  else :\n",
        "    print(\"Not found\")"
      ],
      "metadata": {
        "colab": {
          "base_uri": "https://localhost:8080/"
        },
        "id": "iSlAsbXe8xVx",
        "outputId": "4f1e3f8f-e564-465e-f3b7-4fd254e32ce5"
      },
      "id": "iSlAsbXe8xVx",
      "execution_count": 65,
      "outputs": [
        {
          "output_type": "stream",
          "name": "stdout",
          "text": [
            "Not found\n",
            "Not found\n",
            "Not found\n",
            "3\n",
            "Not found\n",
            "Not found\n",
            "Not found\n"
          ]
        }
      ]
    },
    {
      "cell_type": "code",
      "source": [
        "# Use a flag variable\n",
        "\n",
        "arr = [6, 9, 2, 5, 3, 0, 1]\n",
        "\n",
        "x = 10\n",
        "found = False\n",
        "\n",
        "for i in range(len(arr)) :\n",
        "  if arr[i] == x :\n",
        "    print(i)\n",
        "    found = True\n",
        "    break\n",
        "\n",
        "if found == False :\n",
        "  print(\"Not found\")"
      ],
      "metadata": {
        "colab": {
          "base_uri": "https://localhost:8080/"
        },
        "id": "PT009mh89DiD",
        "outputId": "34645443-e03c-464a-8f81-ffe09f1bc488"
      },
      "id": "PT009mh89DiD",
      "execution_count": 68,
      "outputs": [
        {
          "output_type": "stream",
          "name": "stdout",
          "text": [
            "3\n"
          ]
        }
      ]
    },
    {
      "cell_type": "code",
      "source": [
        "# Given list and X, save index of first occurence of x in list\n",
        "\n",
        "arr = [6, 9, 2, 5, 3, 0, 1]\n",
        "\n",
        "x = 5\n",
        "idx = -1\n",
        "\n",
        "for i in range(len(arr)) :\n",
        "  if arr[i] == x :\n",
        "    idx = i\n",
        "    break\n",
        "\n",
        "if idx == -1 :\n",
        "  print(\"Not in list\")\n",
        "else :\n",
        "  print(idx)"
      ],
      "metadata": {
        "colab": {
          "base_uri": "https://localhost:8080/"
        },
        "id": "vtcT6MCS-Ugo",
        "outputId": "c373d337-187a-4fff-98e9-b6899cd1ba08"
      },
      "id": "vtcT6MCS-Ugo",
      "execution_count": 72,
      "outputs": [
        {
          "output_type": "stream",
          "name": "stdout",
          "text": [
            "Not in list\n"
          ]
        }
      ]
    },
    {
      "cell_type": "code",
      "source": [
        "# Given list and X, print count of x in list\n",
        "\n",
        "arr = [6, 9, 2, 5, 3, 0, 1]\n",
        "\n",
        "x = 5\n",
        "cnt = 0\n",
        "\n",
        "for i in range(len(arr)) :\n",
        "  if arr[i] == x :\n",
        "    cnt = cnt + 1\n",
        "\n",
        "print(cnt)"
      ],
      "metadata": {
        "colab": {
          "base_uri": "https://localhost:8080/"
        },
        "id": "rb-REXURAzyM",
        "outputId": "d28e66e6-12c5-4167-8f17-e530b7367aaf"
      },
      "id": "rb-REXURAzyM",
      "execution_count": 73,
      "outputs": [
        {
          "output_type": "stream",
          "name": "stdout",
          "text": [
            "1\n"
          ]
        }
      ]
    },
    {
      "cell_type": "markdown",
      "id": "34e4e18a",
      "metadata": {
        "id": "34e4e18a"
      },
      "source": [
        "# Bonus Reading Material\n",
        "- Delete Element From List Python - https://www.scaler.com/topics/delete-element-from-list-python/\n",
        "- Python List Remove() - https://www.scaler.com/topics/python-list-remove/\n",
        "- List Methods in Python - https://www.scaler.com/topics/list-methods-in-python/\n",
        "- Linear Search - https://www.scaler.com/topics/data-structures/linear-search-algorithm/\n",
        "- Python List Index Method - https://www.scaler.com/topics/python-list-index-method/\n",
        "- index() in Python - https://www.scaler.com/topics/index-in-python/\n",
        "- How to Find Index of Element in List Python? - https://www.scaler.com/topics/find-index-of-element-in-list-python/"
      ]
    },
    {
      "cell_type": "code",
      "execution_count": null,
      "id": "27267d44",
      "metadata": {
        "id": "27267d44"
      },
      "outputs": [],
      "source": []
    }
  ],
  "metadata": {
    "kernelspec": {
      "display_name": "Python 3 (ipykernel)",
      "language": "python",
      "name": "python3"
    },
    "language_info": {
      "codemirror_mode": {
        "name": "ipython",
        "version": 3
      },
      "file_extension": ".py",
      "mimetype": "text/x-python",
      "name": "python",
      "nbconvert_exporter": "python",
      "pygments_lexer": "ipython3",
      "version": "3.9.12"
    },
    "colab": {
      "provenance": []
    }
  },
  "nbformat": 4,
  "nbformat_minor": 5
}