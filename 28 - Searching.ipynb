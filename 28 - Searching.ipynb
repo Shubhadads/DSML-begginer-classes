{
  "nbformat": 4,
  "nbformat_minor": 0,
  "metadata": {
    "colab": {
      "provenance": []
    },
    "kernelspec": {
      "name": "python3",
      "display_name": "Python 3"
    },
    "language_info": {
      "name": "python"
    }
  },
  "cells": [
    {
      "cell_type": "code",
      "execution_count": 6,
      "metadata": {
        "id": "qv1T5W-1HoWy"
      },
      "outputs": [],
      "source": [
        "# Binary Search\n",
        "\n",
        "def binary_search(ls, k) :\n",
        "  s = 0\n",
        "  e = len(ls)-1\n",
        "\n",
        "  while s <= e :\n",
        "    m = ( s + e ) // 2\n",
        "    print(s, e, m, ls[m])\n",
        "    if ls[m] == k :\n",
        "      return m\n",
        "    elif ls[m] > k :\n",
        "      e = m - 1\n",
        "    else :\n",
        "      s = m + 1\n",
        "  \n",
        "  return -1"
      ]
    },
    {
      "cell_type": "code",
      "source": [
        "ls = [1, 3, 7, 10, 12, 15, 18, 20, 22, 25]"
      ],
      "metadata": {
        "colab": {
          "base_uri": "https://localhost:8080/"
        },
        "id": "U5RqasTwIsFw",
        "outputId": "87da7b18-d6f9-4308-c084-04564efb35ba"
      },
      "execution_count": 7,
      "outputs": [
        {
          "output_type": "stream",
          "name": "stdout",
          "text": [
            "0 9 4 12\n",
            "0 3 1 3\n",
            "2 3 2 7\n",
            "2\n",
            "--------------------\n",
            "0 9 4 12\n",
            "5 9 7 20\n",
            "7\n",
            "--------------------\n",
            "0 9 4 12\n",
            "5 9 7 20\n",
            "5 6 5 15\n",
            "-1\n"
          ]
        }
      ]
    },
    {
      "cell_type": "code",
      "source": [
        "print(binary_search(ls, 7))\n",
        "print('-' * 20)\n",
        "print(binary_search(ls, 20))\n",
        "print('-' * 20)\n",
        "print(binary_search(ls, 14))"
      ],
      "metadata": {
        "id": "KKVBH7CsJSyj"
      },
      "execution_count": null,
      "outputs": []
    },
    {
      "cell_type": "code",
      "source": [
        "def bubbleSort(arr,k):\n",
        "  res=0\n",
        "  #YOUR CODE GOES HERE\n",
        "  for i in range(len(arr)-1):\n",
        "    \n",
        "    for j in range(0, len(arr)-i-1):\n",
        "      if arr[j] > arr[j+1]:\n",
        "        arr[j], arr[j+1] = arr[j+1], arr[j]\n",
        "    res += 1\n",
        "    \n",
        "    if res == k:\n",
        "      break\n",
        "  \n",
        "  return arr[1]+arr[-1]"
      ],
      "metadata": {
        "id": "ZDKs62W0Tiww"
      },
      "execution_count": null,
      "outputs": []
    }
  ]
}