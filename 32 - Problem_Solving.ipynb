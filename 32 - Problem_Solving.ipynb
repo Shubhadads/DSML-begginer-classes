{
  "nbformat": 4,
  "nbformat_minor": 0,
  "metadata": {
    "colab": {
      "provenance": []
    },
    "kernelspec": {
      "name": "python3",
      "display_name": "Python 3"
    },
    "language_info": {
      "name": "python"
    }
  },
  "cells": [
    {
      "cell_type": "code",
      "execution_count": null,
      "metadata": {
        "id": "V55Ft0n4xlug"
      },
      "outputs": [],
      "source": [
        "# TC - 1 \n",
        "for i in range(n) :\n",
        "  print(i, end=' ')\n",
        "\n",
        "# TC - O(n)"
      ]
    },
    {
      "cell_type": "code",
      "source": [
        "# TC - 2\n",
        "for i in range(a, b) :\n",
        "  print(i, end=' ')\n",
        "\n",
        "# TC - O(b-a)\n",
        "# B = 1000, A = 100, B-A = 900"
      ],
      "metadata": {
        "id": "Cg2bvpXZyntc"
      },
      "execution_count": null,
      "outputs": []
    },
    {
      "cell_type": "code",
      "source": [
        "# TC - 3\n",
        "\n",
        "sum = 0 \n",
        "for i in range(n) :\n",
        "  sum = sum + i\n",
        "print(sum)\n",
        "\n",
        "# TC - O(n)"
      ],
      "metadata": {
        "id": "UUXniJn2y-_C"
      },
      "execution_count": null,
      "outputs": []
    },
    {
      "cell_type": "code",
      "source": [
        "# TC - 4\n",
        "\n",
        "for i in range(n) :\n",
        "  print(i, end=' ')\n",
        "for i in range(m) :\n",
        "  print(i, end=' ')\n",
        "\n",
        "# TC - O(n+m)"
      ],
      "metadata": {
        "id": "DJzTCLSUzNRX"
      },
      "execution_count": null,
      "outputs": []
    },
    {
      "cell_type": "code",
      "source": [
        "# TC - 4\n",
        "\n",
        "i = 1\n",
        "while i * i <= n :\n",
        "  print(i)\n",
        "  i = i + 1\n",
        "\n",
        "# TC - O(square_root(n))\n",
        "\n",
        "n = 20\n",
        "i = 1, print(1)\n",
        "i = 2, print(2)\n",
        "i = 3, print(3)\n",
        "i = 4, print(4)\n",
        "i = 5, Loop stops\n",
        "\n",
        "i^2 <= N\n",
        "Take sq root on both side\n",
        "i <= square_root(N)"
      ],
      "metadata": {
        "id": "X5-SmGfYzZ-r"
      },
      "execution_count": null,
      "outputs": []
    },
    {
      "cell_type": "code",
      "source": [
        "# TC - 5\n",
        "\n",
        "i = n\n",
        "while i >= 1 :\n",
        "  print(i)\n",
        "  i = i // 2\n",
        "\n",
        "# TC - O(log2(n))\n",
        "\n",
        "n = 20\n",
        "i = 20, print(20)\n",
        "i = 10, print(10)\n",
        "i = 5, print(5)\n",
        "i = 2, print(2)\n",
        "i = 1, print(1)\n",
        "i = 0, Loop stops\n",
        "\n",
        "Series -> N/1 N/2 N/4 N/8 .... 1\n",
        "\n",
        "Generic term -> N/2^k\n",
        "\n",
        "Loop runs K times such that N/2^k = 1\n",
        "k = log2(N)"
      ],
      "metadata": {
        "id": "_Q8FwcHh0Y6i"
      },
      "execution_count": null,
      "outputs": []
    },
    {
      "cell_type": "code",
      "source": [
        "# TC - 6\n",
        "\n",
        "for i in range(0, n, 2) :\n",
        "  print(i, end=' ')\n",
        "\n",
        "# TC - O(n)\n",
        "\n",
        "n = 10\n",
        "i = 0, 2, 4, 6, 8\n",
        "Code will run N/2 times"
      ],
      "metadata": {
        "id": "omQWqcAh1eaL"
      },
      "execution_count": null,
      "outputs": []
    },
    {
      "cell_type": "code",
      "source": [
        "# TC - 7\n",
        "\n",
        "for i in range(n) :\n",
        "  for j in range(m) :\n",
        "    print(i, end=' ')\n",
        "\n",
        "# TC - O(n*m)"
      ],
      "metadata": {
        "id": "5y7bJzGt174C"
      },
      "execution_count": null,
      "outputs": []
    },
    {
      "cell_type": "code",
      "source": [
        "# TC - 8\n",
        "\n",
        "for i in range(n) :\n",
        "  for j in range(i+1) :\n",
        "    print(i, end=' ')\n",
        "\n",
        "# TC - O(n*2)\n",
        "\n",
        "i = 0, j = [0, 0] -> 1\n",
        "i = 1, j = [0, 1] -> 2\n",
        "i = 2, j = [0, 2] -> 3\n",
        ".\n",
        ".\n",
        "i = n-1, j = [0, n-1] -> n\n",
        "sum = 1 + 2 + 3 ..... + n-1 + n\n",
        "sum = (n*(n+1))/2 -> n^2 / 2 + n / 2"
      ],
      "metadata": {
        "id": "qRwND6Uw2MWN"
      },
      "execution_count": null,
      "outputs": []
    },
    {
      "cell_type": "code",
      "source": [
        "# TC - 9\n",
        "\n",
        "for i in range(n) :\n",
        "  j = 1\n",
        "  while j <= n :\n",
        "    print(i, j, end=' ')\n",
        "    j = j * 2\n",
        "\n",
        "# TC - O(nlogn)\n",
        "\n",
        "Series for j -> 1 2 4 .. 2^X\n",
        "2^X <= N\n",
        "X <= log2N\n",
        "\n",
        "i = 0, j -> log2n\n",
        "i = 1, j -> log2n\n",
        "..\n",
        "i = n-1, j -> log2n\n",
        "total run time is nlog2n"
      ],
      "metadata": {
        "id": "rzCIa-fy4Oi3"
      },
      "execution_count": null,
      "outputs": []
    },
    {
      "cell_type": "code",
      "source": [
        "# TC - 10\n",
        "\n",
        "for i in range(2**n) :\n",
        "  print(i)\n",
        "\n",
        "# TC - O(2^n)"
      ],
      "metadata": {
        "id": "jft35df35lw6"
      },
      "execution_count": null,
      "outputs": []
    },
    {
      "cell_type": "code",
      "source": [
        "# TC - 11\n",
        "\n",
        "for i in range(n) :\n",
        "  for j in range(2**i)\n",
        "    print(i, j, end=' ')\n",
        "\n",
        "# TC - O(2^n)\n",
        "\n",
        "i = 0, j = [0, 0] -> 1\n",
        "i = 1, j = [0, 1] -> 2\n",
        "i = 2, j = [0, 3] -> 4\n",
        "....\n",
        "i = n-1, j = [0, 2^(n-1) -1] -> 2^(n-1)\n",
        "\n",
        "Sum = 1 + 2 + 4 .... + 2^(n-1)\n",
        "Sum = (2^n - 1 ) / 1 = 2 ^ n"
      ],
      "metadata": {
        "id": "A87pYwU-67OH"
      },
      "execution_count": null,
      "outputs": []
    },
    {
      "cell_type": "code",
      "source": [
        "# TC - 12\n",
        "\n",
        "i = n\n",
        "while i >= 1 :\n",
        "  for j in range(i) :\n",
        "    print(j, i)\n",
        "  i = i / 2\n",
        "\n",
        "# TC - O(n)\n",
        "\n",
        "i = n, j = [0, n-1] -> n\n",
        "i = n/2, j = [0, n/2-1] -> n/2\n",
        "i = n/4, j = [0, n/4-1] -> n/4\n",
        "...\n",
        "i = 1, j = [0, 0] -> 1\n",
        "\n",
        "How many values will i take ? log2n+1\n",
        "\n",
        "Sum = 1 + 2 + ... + n/4 + n/2 + n\n",
        "\n",
        "Sum of GP = a*(r^n-1)/(r-1)\n",
        "a = first value\n",
        "r = common factor\n",
        "n = number of items\n",
        "\n",
        "Sum = 1*(2^(log2n+1) - 1)/(2-1)\n",
        "\n",
        "Sum = 2 ^ ( log2(n) + log2(2) ) - 1\n",
        "\n",
        "Sum = 2 ^ log2(2*n) - 1\n",
        "\n",
        "Sum = 2 * n - 1\n",
        "\n",
        "Prop1 => log2(y) + log2(z) = log2(y*z)\n",
        "Prop2 => log2(2) = 1\n",
        "Prop3 => 2 ^ log2(y) -> y"
      ],
      "metadata": {
        "id": "_fKiUG2Q7uSk"
      },
      "execution_count": null,
      "outputs": []
    },
    {
      "cell_type": "code",
      "source": [
        "# Break - 10:10pm"
      ],
      "metadata": {
        "id": "6oR4rsji-VPY"
      },
      "execution_count": null,
      "outputs": []
    },
    {
      "cell_type": "code",
      "source": [
        "# Time Complexity of Sorting Algorithms\n",
        "# Algorithm   Worst   Best    Avg\n",
        "# Bubble      n^2     n^2     n^2\n",
        "# Optimised   n^2     n       n^2\n",
        "# Bubble\n",
        "# Insertion   n^2     n       n^2\n",
        "# Selection   n^2     n^2     n^2\n",
        "# Merge       nlogn   nlogn   nlogn"
      ],
      "metadata": {
        "id": "LOF32vzUBXDN"
      },
      "execution_count": null,
      "outputs": []
    },
    {
      "cell_type": "code",
      "source": [
        "# Recursion"
      ],
      "metadata": {
        "id": "cd-ldn-6Cvy2"
      },
      "execution_count": null,
      "outputs": []
    },
    {
      "cell_type": "code",
      "source": [
        "# Fibonacci\n",
        "# Series items are 0 1 1 2 3 5 8 ...\n",
        "# f(0) = 0\n",
        "# f(1) = 1\n",
        "# f(n) = f(n-1) + f(n-2), n>=2\n",
        "\n",
        "# Print the Nth fibonacci number\n",
        "def fibonacci(n) :\n",
        "  if n == 0 :\n",
        "    return 0\n",
        "\n",
        "  if n == 1 :\n",
        "    return 1\n",
        "\n",
        "  return fibonacci(n-1) + fibonacci(n-2)\n",
        "\n",
        "print(fibonacci(4))\n",
        "print(fibonacci(6))\n",
        "\n",
        "# Time Complexity\n",
        "f(n) = f(n-1) + f(n-2)\n",
        "Assume : f(n-1) ~ f(n-2)\n",
        "\n",
        "f(n) = 2*f(n-1)\n",
        "f(n-1) = 2*f(n-2)\n",
        "f(n) = 4*f(n-2)\n",
        "\n",
        "f(n) = (2^k)f(n-k)\n",
        "f(0) = C\n",
        "n-k = 0\n",
        "n = k\n",
        "\n",
        "f(n) = (2^n)*f(0)\n",
        "f(n) = (2^n)*C"
      ],
      "metadata": {
        "colab": {
          "base_uri": "https://localhost:8080/"
        },
        "id": "qqssYdDIC7oJ",
        "outputId": "d8051e01-fcfb-478b-fd99-95a6ec341af6"
      },
      "execution_count": 3,
      "outputs": [
        {
          "output_type": "stream",
          "name": "stdout",
          "text": [
            "3\n",
            "8\n"
          ]
        }
      ]
    },
    {
      "cell_type": "code",
      "source": [
        "# Merge two sorted lists recursively\n",
        "\n",
        "# ls1 = [2, 5, 8]\n",
        "# ls2 = [0, 4, 10]\n",
        "\n",
        "# merged_list = [0, 2, 4, 5, 8, 10]\n",
        "\n",
        "# Base case\n",
        "# When any 1 list is empty, return the other list\n",
        "# ls1 = []\n",
        "# ls2 = [2, 4]\n",
        "\n",
        "# Recursive case\n",
        "# ls1 = [2, 5, 8]\n",
        "# ls2 = [0, 4, 10]\n",
        "# 1. Pick the smallest element from both the lists\n",
        "# Smallest = 0\n",
        "# 2. Remove it from the correspoding list\n",
        "# ls1 = [2, 5, 8]\n",
        "# ls2 = [4, 10]\n",
        "# 3. Send the remaining lists to merge again\n",
        "# 4. Add the smallest element to the front of returned result\n",
        "# Add 0 to [2, 4, 5, 8, 10]\n",
        "# 5. Return the ans\n",
        "# [0, 2, 4, 5, 8, 10]\n",
        "\n",
        "\n",
        "def merge_lists(ls1, ls2) :\n",
        "  \n",
        "  # Base case\n",
        "  if len(ls1) == 0 :\n",
        "    return ls2\n",
        "\n",
        "  if len(ls2) == 0 :\n",
        "    return ls1\n",
        "  \n",
        "  # Recursive case\n",
        "  smallest = None\n",
        "  if ls1[0] < ls2[0] :\n",
        "    smallest = ls1[0]\n",
        "    ls1.pop(0)\n",
        "  else :\n",
        "    smallest = ls2[0]\n",
        "    ls2.pop(0)\n",
        "  \n",
        "  ans = merge_lists(ls1, ls2)\n",
        "  ans.insert(0, smallest)\n",
        "  return ans\n",
        "\n",
        "print(merge_lists([2, 5, 8], [0, 4, 10]))"
      ],
      "metadata": {
        "colab": {
          "base_uri": "https://localhost:8080/"
        },
        "id": "oL-Wbrw4FX4J",
        "outputId": "696b35e0-af5a-484a-a304-0ed86a41a07d"
      },
      "execution_count": 5,
      "outputs": [
        {
          "output_type": "stream",
          "name": "stdout",
          "text": [
            "[0, 2, 4, 5, 8, 10]\n"
          ]
        }
      ]
    },
    {
      "cell_type": "code",
      "source": [
        "# Print all subsequences of a list\n",
        "# Subsequence - Any smaller part of the list with preserved order of elements\n",
        "\n",
        "ls = [1, 2, 3, 4]\n",
        "# []\n",
        "# [1] [2] [3] [4]\n",
        "# [1, 2] [1, 3] [1, 4] [2, 3] [2, 4] [3, 4]\n",
        "# [1, 2, 3] [1, 2, 4] [1, 3, 4] [2, 3, 4]\n",
        "# [1, 2, 3, 4]\n",
        "\n",
        "# ls -> input list\n",
        "# i -> index of current element\n",
        "# current -> current subsequence\n",
        "\n",
        "def subseq(ls, i, current) :\n",
        "\n",
        "  # Base case\n",
        "  if i == len(ls) :\n",
        "    print(current)\n",
        "    return \n",
        "\n",
        "  # Recursive case\n",
        "  # Exclude current element at index i\n",
        "  subseq(ls, i+1, current)\n",
        "  # Include current element at index i\n",
        "  subseq(ls, i+1, current + [ls[i]])\n",
        "\n",
        "subseq(ls, 0, [])\n",
        "\n",
        "# Time Complexity\n",
        "# f(n) = f(n-1) + f(n-1)\n",
        "# TC(n) = 2*TC(n-1) + K\n",
        "# TC(n-1) = 2*TC(n-2) + K\n",
        "# TC(n) = 4*TC(n-2) + 3K\n",
        "# Case : TC(0) = O(1)\n",
        "# Generic expression - 2^c*TC(n-c) + (2^c-1)*k\n",
        "# TC(n) = 2^n*TC(0) + (2^n-1)*k\n",
        "# TC(n) = 2^n*O(1) + (2^n-1)*k\n",
        "# TC(n) = O(2^n)"
      ],
      "metadata": {
        "colab": {
          "base_uri": "https://localhost:8080/"
        },
        "id": "LmRUu5I_JCbL",
        "outputId": "eac5141a-ac69-4ad0-8499-a6cacd9e8a18"
      },
      "execution_count": 11,
      "outputs": [
        {
          "output_type": "stream",
          "name": "stdout",
          "text": [
            "[]\n",
            "[4]\n",
            "[3]\n",
            "[3, 4]\n",
            "[2]\n",
            "[2, 4]\n",
            "[2, 3]\n",
            "[2, 3, 4]\n",
            "[1]\n",
            "[1, 4]\n",
            "[1, 3]\n",
            "[1, 3, 4]\n",
            "[1, 2]\n",
            "[1, 2, 4]\n",
            "[1, 2, 3]\n",
            "[1, 2, 3, 4]\n"
          ]
        }
      ]
    },
    {
      "cell_type": "code",
      "source": [
        "[1, 2, 3] 0 [] -> E\n",
        "[1, 2, 3] 1 [] -> E\n",
        "[1, 2, 3] 2 [] -> E\n",
        "[1, 2, 3] 3 print([])\n",
        "[1, 2, 3] 2 [3] -> I\n",
        "[1, 2, 3] 3 print([3])\n",
        "[1, 2, 3] 1 [2] -> I\n",
        "[1, 2, 3] 2 [2] -> E\n",
        "[1, 2, 3] 3 print([2])\n",
        "[1, 2, 3] 2 [2, 3] -> I\n",
        "[1, 2, 3] 3 print([2, 3])"
      ],
      "metadata": {
        "id": "h8E2VwygP_SY"
      },
      "execution_count": null,
      "outputs": []
    }
  ]
}