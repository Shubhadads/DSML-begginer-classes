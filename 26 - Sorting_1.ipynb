{
  "nbformat": 4,
  "nbformat_minor": 0,
  "metadata": {
    "colab": {
      "provenance": []
    },
    "kernelspec": {
      "name": "python3",
      "display_name": "Python 3"
    },
    "language_info": {
      "name": "python"
    }
  },
  "cells": [
    {
      "cell_type": "code",
      "execution_count": null,
      "metadata": {
        "colab": {
          "base_uri": "https://localhost:8080/"
        },
        "id": "mnwOu7yUQOlC",
        "outputId": "c2cc2b45-206c-446c-9d27-3d6b76f91bd0"
      },
      "outputs": [
        {
          "output_type": "stream",
          "name": "stdout",
          "text": [
            "[1, 1, -3, 5, 0]\n",
            "Index of min element is 2\n",
            "Swapping 1 -3\n",
            "\n",
            "[-3, 1, 1, 5, 0]\n",
            "Index of min element is 4\n",
            "Swapping 1 0\n",
            "\n",
            "[-3, 0, 1, 5, 1]\n",
            "Index of min element is 2\n",
            "Swapping 1 1\n",
            "\n",
            "[-3, 0, 1, 5, 1]\n",
            "Index of min element is 4\n",
            "Swapping 5 1\n",
            "\n",
            "[-3, 0, 1, 1, 5]\n"
          ]
        }
      ],
      "source": [
        "ls = [1, 1, -3, 5, 0]\n",
        "\n",
        "n = len(ls)\n",
        "\n",
        "for i in range(n-1) :\n",
        "  print(ls)\n",
        "  # Index of assumed minimum element in list starting from index i\n",
        "  mn = i\n",
        "  # Find index of smallest elements in list starting from index i\n",
        "  for j in range(i+1, n) :\n",
        "    if ls[j] < ls[mn] :\n",
        "      mn = j\n",
        "  print(\"Index of min element is\", mn)\n",
        "  print(\"Swapping\", ls[i], ls[mn])\n",
        "  print()\n",
        "  ls[i], ls[mn] = ls[mn], ls[i]\n",
        "\n",
        "print(ls)"
      ]
    },
    {
      "cell_type": "code",
      "source": [
        "A=[1, 3, 4, 2, 5, 6, 8]\n",
        "l=len(A)\n",
        "for i in range(l):\n",
        "  x = min(A[i:])\n",
        "  y = A[i:].index(x) + i\n",
        "  # print(i,x,y)\n",
        "  A[i],A[y]=A[y],A[i]\n",
        "  # print(A)\n",
        "\n",
        "# [1, 2, 4, 5, 6, 8, 3, 3]"
      ],
      "metadata": {
        "colab": {
          "base_uri": "https://localhost:8080/"
        },
        "id": "-TTU9ilNpkam",
        "outputId": "f74b5599-d0f6-4f10-ae7e-c5b666c21805"
      },
      "execution_count": null,
      "outputs": [
        {
          "output_type": "stream",
          "name": "stdout",
          "text": [
            "0 1 0\n",
            "[1, 3, 4, 2, 5, 6, 8]\n",
            "1 2 3\n",
            "[1, 2, 4, 3, 5, 6, 8]\n",
            "2 3 3\n",
            "[1, 2, 3, 4, 5, 6, 8]\n",
            "3 4 3\n",
            "[1, 2, 3, 4, 5, 6, 8]\n",
            "4 5 4\n",
            "[1, 2, 3, 4, 5, 6, 8]\n",
            "5 6 5\n",
            "[1, 2, 3, 4, 5, 6, 8]\n",
            "6 8 6\n",
            "[1, 2, 3, 4, 5, 6, 8]\n"
          ]
        }
      ]
    }
  ]
}