{
  "nbformat": 4,
  "nbformat_minor": 0,
  "metadata": {
    "colab": {
      "provenance": [],
      "authorship_tag": "ABX9TyNgHoJ+zysKsOXsbn6wenCW",
      "include_colab_link": true
    },
    "kernelspec": {
      "name": "python3",
      "display_name": "Python 3"
    },
    "language_info": {
      "name": "python"
    }
  },
  "cells": [
    {
      "cell_type": "markdown",
      "metadata": {
        "id": "view-in-github",
        "colab_type": "text"
      },
      "source": [
        "<a href=\"https://colab.research.google.com/github/Shubhadads/DSML-begginer-classes/blob/main/FP_Map%2CLambda%2CFilter%2CReduce%2Czip_assignment.ipynb\" target=\"_parent\"><img src=\"https://colab.research.google.com/assets/colab-badge.svg\" alt=\"Open In Colab\"/></a>"
      ]
    },
    {
      "cell_type": "code",
      "source": [
        "#Q1\n",
        "#Fill in the blank space to get palindromic strings present in the list using the lambda function:\n",
        "#arr = [\"php\", \"w3r\", \"python\", \"aaa\", \"java\"]\n",
        "#result  = _________"
      ],
      "metadata": {
        "id": "CNYIjO2Q7HVI"
      },
      "execution_count": null,
      "outputs": []
    },
    {
      "cell_type": "code",
      "execution_count": null,
      "metadata": {
        "colab": {
          "base_uri": "https://localhost:8080/"
        },
        "id": "CWrny5Zk6fB_",
        "outputId": "49e8b16c-9b18-458c-e876-dc19d98fea84"
      },
      "outputs": [
        {
          "output_type": "execute_result",
          "data": {
            "text/plain": [
              "['php', 'aaa']"
            ]
          },
          "metadata": {},
          "execution_count": 3
        }
      ],
      "source": [
        "arr = [\"php\", \"w3r\", \"python\", \"aaa\", \"java\"]\n",
        "list( filter( lambda x: (x ==\"\".join( reversed(x))), arr))"
      ]
    },
    {
      "cell_type": "code",
      "source": [
        "'''\n",
        "Q2. salaries and job\n",
        "\n",
        "character backgroundcharacter\n",
        "Stuck somewhere?\n",
        "Ask for help from a TA and get it resolved.\n",
        "Get help from TA.\n",
        "Fill in the _______ to get the required output (mentioned in the Code snippet).\n",
        "\n",
        "column_names = ['name', 'salary', 'job']\n",
        "db_rows = [('Alice', 180000, 'data scientist'),\n",
        "           ('Bob', 99000, 'data engineer'),\n",
        "           ('Frank', 87000, 'data analyst')]\n",
        "\n",
        "db = [dict(zip(__________)) for row in db_rows]\n",
        "print(db)\n",
        "\n",
        "Required Output: [{'name': 'Alice', 'salary': 180000, 'job': 'data scientist'}, \n",
        "{'name': 'Bob', 'salary': 99000, 'job': 'data engineer'}, \n",
        "{'name': 'Frank', 'salary': 87000, 'job': 'data analyst'}]\n",
        "'''"
      ],
      "metadata": {
        "colab": {
          "base_uri": "https://localhost:8080/",
          "height": 105
        },
        "id": "hSg4RpDM7j6B",
        "outputId": "33c3b55d-8550-4d3d-af24-52e6d0393efe"
      },
      "execution_count": null,
      "outputs": [
        {
          "output_type": "execute_result",
          "data": {
            "text/plain": [
              "\"\\nQ2. salaries and job\\n\\ncharacter backgroundcharacter\\nStuck somewhere?\\nAsk for help from a TA and get it resolved.\\nGet help from TA.\\nFill in the _______ to get the required output (mentioned in the Code snippet).\\n\\ncolumn_names = ['name', 'salary', 'job']\\ndb_rows = [('Alice', 180000, 'data scientist'),\\n           ('Bob', 99000, 'data engineer'),\\n           ('Frank', 87000, 'data analyst')]\\n\\ndb = [dict(zip(__________)) for row in db_rows]\\nprint(db)\\n\\nRequired Output: [{'name': 'Alice', 'salary': 180000, 'job': 'data scientist'}, \\n{'name': 'Bob', 'salary': 99000, 'job': 'data engineer'}, \\n{'name': 'Frank', 'salary': 87000, 'job': 'data analyst'}]\\n\""
            ],
            "application/vnd.google.colaboratory.intrinsic+json": {
              "type": "string"
            }
          },
          "metadata": {},
          "execution_count": 12
        }
      ]
    },
    {
      "cell_type": "code",
      "source": [
        "# write a function to return maximum element"
      ],
      "metadata": {
        "id": "DLVX1Ali9Hpi"
      },
      "execution_count": null,
      "outputs": []
    },
    {
      "cell_type": "code",
      "source": [
        "from functools import reduce\n",
        "\n",
        "def mx(x,y):\n",
        "  if x<y:\n",
        "    x=y\n",
        "  return x\n",
        "\n",
        "a=[1,2,3,4,4]\n",
        "q=reduce(mx,a)\n",
        "print(q)"
      ],
      "metadata": {
        "colab": {
          "base_uri": "https://localhost:8080/"
        },
        "id": "lpN7xSoA9Dun",
        "outputId": "2568e04f-fbb2-469b-cecc-b3d783838320"
      },
      "execution_count": null,
      "outputs": [
        {
          "output_type": "stream",
          "name": "stdout",
          "text": [
            "4\n"
          ]
        }
      ]
    },
    {
      "cell_type": "code",
      "source": [
        "q=reduce(lambda x,y: x if x>y else y,a)\n",
        "print(q)"
      ],
      "metadata": {
        "colab": {
          "base_uri": "https://localhost:8080/"
        },
        "id": "l3__kgX6_v5S",
        "outputId": "5f590f71-162e-49a6-ef70-9d46f13343c5"
      },
      "execution_count": null,
      "outputs": [
        {
          "output_type": "stream",
          "name": "stdout",
          "text": [
            "4\n"
          ]
        }
      ]
    },
    {
      "cell_type": "code",
      "source": [],
      "metadata": {
        "id": "0_YXwgW0_5oH"
      },
      "execution_count": null,
      "outputs": []
    },
    {
      "cell_type": "markdown",
      "source": [
        "Q3. words of length\n",
        "Solved\n",
        "character backgroundcharacter\n",
        "Stuck somewhere?\n",
        "Ask for help from a TA and get it resolved.\n",
        "Get help from TA.\n",
        "Problem Description\n",
        "Write a Python function that takes a string and a length value as input arguments and returns the words from the string whose length is equal to the provided input length value.\n",
        "\n",
        "\n",
        "Input Format\n",
        "The string\n",
        "Value of the length of word\n",
        "\n",
        "\n",
        "Output Format\n",
        "A list of strings containing the words having length equal to the value provided in input.\n",
        "\n",
        "\n",
        "Example Input\n",
        "\"The world has changed and none of us can go back all we can do is our best and sometimes the best that we can do is to start over\n",
        "5\n",
        "\n",
        "\n",
        "Example Output\n",
        "[‘world’, ‘start’]\n",
        "\n",
        "\n",
        "Example Explanation\n",
        "The string has only two words with length of 5 which are \"world\" and \"start\".\n"
      ],
      "metadata": {
        "id": "_L-Kj3U9Ggn7"
      }
    },
    {
      "cell_type": "code",
      "source": [
        "def LengthSequence(string, length):\n",
        "    '''string => a string\n",
        "       length => an integer representing required length of words which are be returned'''\n",
        "    result= [i for i in string.split() if len(i)==length]\n",
        "    # YOUR CODE GOES HERE\n",
        "    \n",
        "\n",
        "    return result"
      ],
      "metadata": {
        "id": "qn6EmTtmGjC7"
      },
      "execution_count": null,
      "outputs": []
    },
    {
      "cell_type": "code",
      "source": [
        "LengthSequence(\"The world has changed and none of us can go back all we can do is our best and sometimes the best that we can do is to start over\",5)"
      ],
      "metadata": {
        "colab": {
          "base_uri": "https://localhost:8080/"
        },
        "id": "NtbKCtMMGvgD",
        "outputId": "f02d53d1-2422-4de6-a8a2-f15b46dba1a3"
      },
      "execution_count": null,
      "outputs": [
        {
          "output_type": "execute_result",
          "data": {
            "text/plain": [
              "['world', 'start']"
            ]
          },
          "metadata": {},
          "execution_count": 2
        }
      ]
    },
    {
      "cell_type": "code",
      "source": [],
      "metadata": {
        "id": "oSYYn1HYG6jB"
      },
      "execution_count": null,
      "outputs": []
    },
    {
      "cell_type": "markdown",
      "source": [
        "Q4. 2nd lowest\n",
        "Solved\n",
        "character backgroundcharacter\n",
        "Stuck somewhere?\n",
        "Ask for help from a TA and get it resolved.\n",
        "Get help from TA.\n",
        "Problem Description\n",
        "Complete the Python function second_lowest() to find the second-lowest grade of students from the given names and grades of each student using lists and lambda function. For the input, the number of students, names, and the grades of each student were given.\n",
        "\n",
        "\n",
        "Input Format\n",
        "An integer N representing the number of students\n",
        "# Input of student name and grades for each N student\n",
        "Name of Student\n",
        "Grade of Student\n",
        "\n",
        "\n",
        "Output Format\n",
        "A 2D list containing list of names and grades of students.\n",
        "The 2nd lowest Grade\n",
        "The name of student having 2nd lowest grade\n",
        "\n",
        "\n",
        "Example Input\n",
        "5 #Number of students\n",
        "S ROY \n",
        "1 \n",
        "B BOSE\n",
        "3\n",
        "N KAR\n",
        "2\n",
        "C DUTTA\n",
        "1\n",
        "G GHOSH\n",
        "1\n",
        "\n",
        "\n",
        "Example Output\n",
        "[['S ROY', 1.0], ['B BOSE', 3.0], ['N KAR', 2.0], ['C DUTTA', 1.0], ['G GHOSH', 1.0]]\n",
        "2.0\n",
        "N KAR\n",
        "\n",
        "\n",
        "Example Explanation\n",
        "Initially, the input data is printed in the form of 2d-list. Post that, the second-lowest grade is printed, and after that, we print the name(s) of the student who has that grade.\n"
      ],
      "metadata": {
        "id": "df2_0GHwHCYP"
      }
    },
    {
      "cell_type": "code",
      "source": [
        "def second_lowest(students, scores):\n",
        "    '''\n",
        "    input:\n",
        "    students -> a list of students\n",
        "    scores -> list of the scores, with each score being that of the ith student\n",
        "    \n",
        "    output:\n",
        "    student_data -> 2d list of data, with each inner list having name of student as 1st and score of 2nd as second element respectively\n",
        "    second_low_score -> the second lowest score\n",
        "    second_names -> list of students with score same as second lowest score, in the same order as in the students list\n",
        "    '''\n",
        "    \n",
        "    student_data, second_low_score, second_names = None, None, []\n",
        "    \n",
        "    # Your code starts here\n",
        "    student_data=list(map(lambda x,y: [x,y],students,scores))\n",
        "    \n",
        "\n",
        "    second_low_score=sorted(set(scores))[1]\n",
        "    \n",
        "    for i in student_data:\n",
        "        if i[1]==second_low_score:\n",
        "            second_names.append(i[0])\n",
        "            \n",
        "    \n",
        "    # Your code ends here\n",
        "    return student_data, second_low_score, second_names"
      ],
      "metadata": {
        "id": "9VksaEMDHDZ_"
      },
      "execution_count": null,
      "outputs": []
    },
    {
      "cell_type": "code",
      "source": [
        "second_lowest([\"S ROY\",\"B BOSE\", \"N KAR\", \"C DUTTA\",\"G GHOSH 1\"],[1,3,2,1,1])"
      ],
      "metadata": {
        "colab": {
          "base_uri": "https://localhost:8080/"
        },
        "id": "8FC0n6wdHIaO",
        "outputId": "e459f545-a8e6-4748-e785-956c6e428f67"
      },
      "execution_count": null,
      "outputs": [
        {
          "output_type": "execute_result",
          "data": {
            "text/plain": [
              "([['S ROY', 1], ['B BOSE', 3], ['N KAR', 2], ['C DUTTA', 1], ['G GHOSH 1', 1]],\n",
              " 2,\n",
              " ['N KAR'])"
            ]
          },
          "metadata": {},
          "execution_count": 4
        }
      ]
    },
    {
      "cell_type": "code",
      "source": [],
      "metadata": {
        "id": "r8rPDO8pHieO"
      },
      "execution_count": null,
      "outputs": []
    },
    {
      "cell_type": "markdown",
      "source": [
        "Problem Description\n",
        "You are given a nested list of strings of varying lengths. For each list, sort the string on the basis of the number of times the character ‘a’ appears in the string such that the string having the most number of ‘a’ comes first in the lists. Complete the python function and return the sorted list.\n",
        "\n",
        "Note: If 2 strings has the same number of 'a', keep them in the same order as entered in the list.\n",
        "\n",
        "\n",
        "Input Format\n",
        "Number of lists\n",
        "// For each list\n",
        "Space separated strings\n",
        "\n",
        "\n",
        "Output Format\n",
        "Sorted list of strings based on number of ‘a’\n",
        "\n",
        "\n",
        "Example Input\n",
        "3\n",
        "mango banana guava\n",
        "rose sandalwood\n",
        "bccc aaa baac c\n",
        "\n",
        "\n",
        "Example Output\n",
        "[['banana', 'guava', 'mango'], ['sandalwood', 'rose'], ['aaa', 'baac', 'bccc', 'c']]\n",
        "\n"
      ],
      "metadata": {
        "id": "IgRi1ApXHm8_"
      }
    },
    {
      "cell_type": "code",
      "source": [
        "def sort_strings(str_list):\n",
        "     #str_list-> nested list of strings\n",
        "     st=[]\n",
        "     # return the sorted list of strings on the basis of number of times ‘a’ occurs\n",
        "     for i in range(len(str_list)):\n",
        "      stl=sorted(str_list[i],key=lambda x:list(x).count(\"a\"),reverse=True)\n",
        "      st.append(stl)\n",
        "      # code starts here\n",
        "      \n",
        "     res = st\n",
        "     #code ends here\n",
        "     return res\n"
      ],
      "metadata": {
        "id": "1dfuybqFHnyd"
      },
      "execution_count": null,
      "outputs": []
    },
    {
      "cell_type": "code",
      "source": [
        "sort_strings=[[\"mango\" ,\"banana\", \"guava\"] ,[\"rose\", \"sandalwood\"] ,[\"bccc\", \"aaa\" ,\"baac\", \"c\"]]"
      ],
      "metadata": {
        "id": "9wI3YpvfHp-6"
      },
      "execution_count": null,
      "outputs": []
    },
    {
      "cell_type": "code",
      "source": [],
      "metadata": {
        "id": "0VDxJf_hJvNB"
      },
      "execution_count": null,
      "outputs": []
    },
    {
      "cell_type": "markdown",
      "source": [
        "Q6. Sort Strings\n",
        "Solved\n",
        "character backgroundcharacter\n",
        "Stuck somewhere?\n",
        "Ask for help from a TA and get it resolved.\n",
        "Get help from TA.\n",
        "Problem Description\n",
        "Given a list of strings of varying lengths, complete the python function to sort the list of strings based on their lengths and return the sorted list.\n",
        "\n",
        "Note: In case 2 strings have the same length, they are sorted in ascending order of their lexicographic index.\n",
        "\n",
        "\n",
        "Input Format\n",
        "List of Strings\n",
        "\n",
        "\n",
        "Output Format\n",
        "Sorted list of strings based on length\n",
        "\n",
        "\n",
        "Example Input\n",
        "cccc b dd aaa\n",
        "\n",
        "\n",
        "Example Output\n",
        "['b', 'dd', 'aaa', 'cccc']\n",
        "\n"
      ],
      "metadata": {
        "id": "8a8ur1JdKvGw"
      }
    },
    {
      "cell_type": "code",
      "source": [
        "def sort_strings(str_list):\n",
        "\t#str_list-> list of strings\n",
        "\t\n",
        "\t# return the sorted list of strings on the basis of criteria mentioned\n",
        "     stl=sorted(sorted(str_list),key=lambda x:len(x))\n",
        "\n",
        "\t\n",
        "\t# code starts here\n",
        "     res = stl\n",
        "\t#code ends here\n",
        "\t\n",
        "     return res\n",
        "\n"
      ],
      "metadata": {
        "id": "pn-vGSgJKv1G"
      },
      "execution_count": null,
      "outputs": []
    },
    {
      "cell_type": "code",
      "source": [
        "sort_strings([\"cccc\", \"b\", \"dd\", \"aaa\"])"
      ],
      "metadata": {
        "colab": {
          "base_uri": "https://localhost:8080/"
        },
        "id": "-faVBeu_Kx3y",
        "outputId": "b0b259a2-638a-48e1-d31c-647c6c57974f"
      },
      "execution_count": null,
      "outputs": [
        {
          "output_type": "execute_result",
          "data": {
            "text/plain": [
              "['b', 'dd', 'aaa', 'cccc']"
            ]
          },
          "metadata": {},
          "execution_count": 32
        }
      ]
    },
    {
      "cell_type": "code",
      "source": [],
      "metadata": {
        "id": "pCTlzjo7LO9k"
      },
      "execution_count": null,
      "outputs": []
    }
  ]
}