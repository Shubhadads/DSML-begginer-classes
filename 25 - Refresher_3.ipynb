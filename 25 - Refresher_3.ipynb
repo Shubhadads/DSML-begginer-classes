{
  "nbformat": 4,
  "nbformat_minor": 0,
  "metadata": {
    "colab": {
      "provenance": []
    },
    "kernelspec": {
      "name": "python3",
      "display_name": "Python 3"
    },
    "language_info": {
      "name": "python"
    }
  },
  "cells": [
    {
      "cell_type": "code",
      "execution_count": null,
      "metadata": {
        "id": "icE7807LMhtm"
      },
      "outputs": [],
      "source": [
        "# List comprehension\n",
        "# Pass-by reference\n",
        "# Tuple\n",
        "# Dictionary\n",
        "# Set"
      ]
    },
    {
      "cell_type": "code",
      "source": [
        "# List Comprehension"
      ],
      "metadata": {
        "id": "ff0XKpgYNQHv"
      },
      "execution_count": null,
      "outputs": []
    },
    {
      "cell_type": "code",
      "source": [
        "# Given a string name, create a list of all the characters of name\n",
        "\n",
        "name = \"Aarnav\"\n",
        "# Output = ['A', 'a', 'r', 'n', 'a', 'v']\n",
        "\n",
        "print(list(name))"
      ],
      "metadata": {
        "colab": {
          "base_uri": "https://localhost:8080/"
        },
        "id": "fEVcq2HzNTfX",
        "outputId": "56c9459d-d6d8-446f-8f6e-65885b1d11f5"
      },
      "execution_count": 1,
      "outputs": [
        {
          "output_type": "stream",
          "name": "stdout",
          "text": [
            "['A', 'a', 'r', 'n', 'a', 'v']\n"
          ]
        }
      ]
    },
    {
      "cell_type": "code",
      "source": [
        "ls = []\n",
        "\n",
        "for ch in name :\n",
        "  ls.append(ch)\n",
        "\n",
        "print(ls)"
      ],
      "metadata": {
        "colab": {
          "base_uri": "https://localhost:8080/"
        },
        "id": "QAqTMMA1Np0x",
        "outputId": "588bd0b2-69a6-45f2-f535-3a8f4fd3d8cd"
      },
      "execution_count": 2,
      "outputs": [
        {
          "output_type": "stream",
          "name": "stdout",
          "text": [
            "['A', 'a', 'r', 'n', 'a', 'v']\n"
          ]
        }
      ]
    },
    {
      "cell_type": "code",
      "source": [
        "ls = [ ch for ch in name ]\n",
        "print(ls)"
      ],
      "metadata": {
        "colab": {
          "base_uri": "https://localhost:8080/"
        },
        "id": "N7iiCMmHN7P7",
        "outputId": "9af5a098-6e3c-4fe8-f6d8-6ec805c77d89"
      },
      "execution_count": 3,
      "outputs": [
        {
          "output_type": "stream",
          "name": "stdout",
          "text": [
            "['A', 'a', 'r', 'n', 'a', 'v']\n"
          ]
        }
      ]
    },
    {
      "cell_type": "code",
      "source": [
        "ls = [num for num in range(5)]\n",
        "print(ls)"
      ],
      "metadata": {
        "colab": {
          "base_uri": "https://localhost:8080/"
        },
        "id": "SQhiM7UgOpX1",
        "outputId": "219d4a96-d2ef-4afa-d3e6-6df794058ed5"
      },
      "execution_count": 4,
      "outputs": [
        {
          "output_type": "stream",
          "name": "stdout",
          "text": [
            "[0, 1, 2, 3, 4]\n"
          ]
        }
      ]
    },
    {
      "cell_type": "code",
      "source": [
        "ls = [num for num in range(1, 15, 2)]\n",
        "print(ls)"
      ],
      "metadata": {
        "colab": {
          "base_uri": "https://localhost:8080/"
        },
        "id": "wgubXnt0OyAP",
        "outputId": "011f320b-972c-4b35-d356-e4e2082260b5"
      },
      "execution_count": 5,
      "outputs": [
        {
          "output_type": "stream",
          "name": "stdout",
          "text": [
            "[1, 3, 5, 7, 9, 11, 13]\n"
          ]
        }
      ]
    },
    {
      "cell_type": "code",
      "source": [
        "# [ expression for item in iterable ]"
      ],
      "metadata": {
        "id": "7uL2I-u3PBWV"
      },
      "execution_count": null,
      "outputs": []
    },
    {
      "cell_type": "code",
      "source": [
        "ls = [num**2 for num in range(1, 10, 2)]\n",
        "print(ls)"
      ],
      "metadata": {
        "colab": {
          "base_uri": "https://localhost:8080/"
        },
        "id": "-1iI3OrAPMBb",
        "outputId": "633fc0ee-143c-4bb2-a572-00710aaa92a2"
      },
      "execution_count": 6,
      "outputs": [
        {
          "output_type": "stream",
          "name": "stdout",
          "text": [
            "[1, 9, 25, 49, 81]\n"
          ]
        }
      ]
    },
    {
      "cell_type": "code",
      "source": [
        "# [ expression for item in iterable condition ]"
      ],
      "metadata": {
        "id": "oetWMRXdPYYU"
      },
      "execution_count": null,
      "outputs": []
    },
    {
      "cell_type": "code",
      "source": [
        "ls = [ num**2 for num in range(10) if num%2==0 ]\n",
        "print(ls)"
      ],
      "metadata": {
        "colab": {
          "base_uri": "https://localhost:8080/"
        },
        "id": "1jBf60DcPaJ2",
        "outputId": "e24bcb6b-f8b4-4ed9-91ea-cb32f564532e"
      },
      "execution_count": 7,
      "outputs": [
        {
          "output_type": "stream",
          "name": "stdout",
          "text": [
            "[0, 4, 16, 36, 64]\n"
          ]
        }
      ]
    },
    {
      "cell_type": "code",
      "source": [
        "ls = [ num for num in range(100) if num%3==0 and num%5==0 ]\n",
        "print(ls)"
      ],
      "metadata": {
        "colab": {
          "base_uri": "https://localhost:8080/"
        },
        "id": "Q08uOpQjPnuX",
        "outputId": "625d41a1-f3dc-40ee-b4c1-a58ee086c6d7"
      },
      "execution_count": 8,
      "outputs": [
        {
          "output_type": "stream",
          "name": "stdout",
          "text": [
            "[0, 15, 30, 45, 60, 75, 90]\n"
          ]
        }
      ]
    },
    {
      "cell_type": "code",
      "source": [
        "ls = [ 'even' if num%2==0 else 'odd' for num in range(10) ]\n",
        "print(ls)"
      ],
      "metadata": {
        "colab": {
          "base_uri": "https://localhost:8080/"
        },
        "id": "wJUgzd97P1MW",
        "outputId": "401d5369-d581-4198-bf09-6112bb3df15f"
      },
      "execution_count": 9,
      "outputs": [
        {
          "output_type": "stream",
          "name": "stdout",
          "text": [
            "['even', 'odd', 'even', 'odd', 'even', 'odd', 'even', 'odd', 'even', 'odd']\n"
          ]
        }
      ]
    },
    {
      "cell_type": "code",
      "source": [
        "ls = [ 'neg' if num < 0 else 'non-neg' for num in range(-5, 5)]\n",
        "print(ls)"
      ],
      "metadata": {
        "colab": {
          "base_uri": "https://localhost:8080/"
        },
        "id": "nhiHHBRMRsMZ",
        "outputId": "ac52e2f0-5724-43ac-8881-2d6d12cc710f"
      },
      "execution_count": 14,
      "outputs": [
        {
          "output_type": "stream",
          "name": "stdout",
          "text": [
            "['neg', 'neg', 'neg', 'neg', 'neg', 'non-neg', 'non-neg', 'non-neg', 'non-neg', 'non-neg']\n"
          ]
        }
      ]
    },
    {
      "cell_type": "code",
      "source": [
        "ls = [ [i, i*2] for i in range(5) ]\n",
        "print(ls)"
      ],
      "metadata": {
        "colab": {
          "base_uri": "https://localhost:8080/"
        },
        "id": "AKvv_AJ8R5t-",
        "outputId": "d578c8b8-7f53-48e5-91fa-6fed25d6da05"
      },
      "execution_count": 16,
      "outputs": [
        {
          "output_type": "stream",
          "name": "stdout",
          "text": [
            "[[0, 0], [1, 2], [2, 4], [3, 6], [4, 8]]\n"
          ]
        }
      ]
    },
    {
      "cell_type": "code",
      "source": [
        "# Quiz 1\n",
        "\n",
        "lst = [i*2 for i in range(4)]\n",
        "print(lst)"
      ],
      "metadata": {
        "colab": {
          "base_uri": "https://localhost:8080/"
        },
        "id": "asMOSnHaQp5D",
        "outputId": "49eba3ad-847f-435a-bfed-5da5059c5265"
      },
      "execution_count": 12,
      "outputs": [
        {
          "output_type": "stream",
          "name": "stdout",
          "text": [
            "[0, 2, 4, 6]\n"
          ]
        }
      ]
    },
    {
      "cell_type": "code",
      "source": [
        "# Pass-by reference / Pass-by value\n",
        "\n",
        "# Pass-by reference [ Mutables ] [ Shallow copy is sent ]\n",
        "# Passing a variable to function where the \n",
        "# variables although different reference the same object\n",
        "\n",
        "# Pass-by value [ Immutables ] [ Deep copy is sent ]\n",
        "# Passing a variable to function where the \n",
        "# variables are different are refer to different objects"
      ],
      "metadata": {
        "id": "BvzM8uLwSHAv"
      },
      "execution_count": null,
      "outputs": []
    },
    {
      "cell_type": "code",
      "source": [
        "def access(lst, num):\n",
        "  lst.append(num)\n",
        "  num -=4\n",
        "  return num\n",
        "\n",
        "lst = [1,2,3]\n",
        "num = 4\n",
        "print(access(lst, num))\n",
        "print(lst, num)"
      ],
      "metadata": {
        "colab": {
          "base_uri": "https://localhost:8080/"
        },
        "id": "HtTKNX47SPyx",
        "outputId": "34421936-64c7-4f7a-f0ab-8fcb8bcb8115"
      },
      "execution_count": 17,
      "outputs": [
        {
          "output_type": "stream",
          "name": "stdout",
          "text": [
            "0\n",
            "[1, 2, 3, 4] 4\n"
          ]
        }
      ]
    },
    {
      "cell_type": "code",
      "source": [
        "# Break - 10:10pm"
      ],
      "metadata": {
        "id": "2_Uooj7uXyKr"
      },
      "execution_count": null,
      "outputs": []
    },
    {
      "cell_type": "code",
      "source": [
        "# Array v/s List\n",
        "\n",
        "# Array -> Collection of homogeneous items\n",
        "arr = [1, 2, 3]\n",
        "\n",
        "# List -> Collection of heterogeneous items\n",
        "ls = [1, '2', None]"
      ],
      "metadata": {
        "id": "cyCXyCFUbRjo"
      },
      "execution_count": null,
      "outputs": []
    },
    {
      "cell_type": "code",
      "source": [
        "# Global variable"
      ],
      "metadata": {
        "id": "w_SryBflbzsp"
      },
      "execution_count": 22,
      "outputs": []
    },
    {
      "cell_type": "code",
      "source": [
        "x = 10\n",
        "\n",
        "def fun() :\n",
        "  x = 20\n",
        "  print(x)\n",
        "\n",
        "print(x)\n",
        "fun()\n",
        "print(x)"
      ],
      "metadata": {
        "colab": {
          "base_uri": "https://localhost:8080/"
        },
        "id": "VvkgNlkmcXko",
        "outputId": "8640528d-a120-4ca7-f5ac-c67f96353d6f"
      },
      "execution_count": 23,
      "outputs": [
        {
          "output_type": "stream",
          "name": "stdout",
          "text": [
            "10\n",
            "20\n",
            "10\n"
          ]
        }
      ]
    },
    {
      "cell_type": "code",
      "source": [
        "x = 10\n",
        "\n",
        "def fun() :\n",
        "  global x\n",
        "  x = 20\n",
        "  print(x)\n",
        "\n",
        "print(x)\n",
        "fun()\n",
        "print(x)"
      ],
      "metadata": {
        "colab": {
          "base_uri": "https://localhost:8080/"
        },
        "id": "GPh21nFocWPu",
        "outputId": "c39341f6-08d1-48b7-c193-30017e30738e"
      },
      "execution_count": 24,
      "outputs": [
        {
          "output_type": "stream",
          "name": "stdout",
          "text": [
            "10\n",
            "20\n",
            "20\n"
          ]
        }
      ]
    },
    {
      "cell_type": "code",
      "source": [
        "x = 10\n",
        "\n",
        "def fun() :\n",
        "  print(x)\n",
        "\n",
        "print(x)\n",
        "fun()\n",
        "print(x)"
      ],
      "metadata": {
        "colab": {
          "base_uri": "https://localhost:8080/"
        },
        "id": "BkcdDmL6clvG",
        "outputId": "15806cfe-e2d4-4159-fd01-a7644784103e"
      },
      "execution_count": 25,
      "outputs": [
        {
          "output_type": "stream",
          "name": "stdout",
          "text": [
            "10\n",
            "10\n",
            "10\n"
          ]
        }
      ]
    },
    {
      "cell_type": "code",
      "source": [
        "# Tuples\n",
        "# Immutable collection of objects\n",
        "# You can not add, delete, modify\n",
        "\n",
        "t = (1, 2, 3)\n",
        "print(type(t), t)\n",
        "print(t[1])"
      ],
      "metadata": {
        "colab": {
          "base_uri": "https://localhost:8080/"
        },
        "id": "vqpt9eDMcysf",
        "outputId": "af81549a-f8b5-474b-b7c3-592fc6796162"
      },
      "execution_count": 27,
      "outputs": [
        {
          "output_type": "stream",
          "name": "stdout",
          "text": [
            "<class 'tuple'> (1, 2, 3)\n",
            "2\n"
          ]
        }
      ]
    },
    {
      "cell_type": "code",
      "source": [
        "t = t * 2\n",
        "print(t)"
      ],
      "metadata": {
        "colab": {
          "base_uri": "https://localhost:8080/"
        },
        "id": "0T69Quk5dAYT",
        "outputId": "285daf83-265d-460b-a822-a785cd853d16"
      },
      "execution_count": 28,
      "outputs": [
        {
          "output_type": "stream",
          "name": "stdout",
          "text": [
            "(1, 2, 3, 1, 2, 3)\n"
          ]
        }
      ]
    },
    {
      "cell_type": "code",
      "source": [
        "print(t.count(3))\n",
        "print(t.index(2))"
      ],
      "metadata": {
        "colab": {
          "base_uri": "https://localhost:8080/"
        },
        "id": "grI2Cvu3dX42",
        "outputId": "b3d6065b-b7f0-4792-feef-0551d5d48e83"
      },
      "execution_count": 30,
      "outputs": [
        {
          "output_type": "stream",
          "name": "stdout",
          "text": [
            "2\n",
            "1\n"
          ]
        }
      ]
    },
    {
      "cell_type": "code",
      "source": [
        "t = (\"Satish\") * 3\n",
        "print(type(t), t) "
      ],
      "metadata": {
        "colab": {
          "base_uri": "https://localhost:8080/"
        },
        "id": "CmxLPgNreBBi",
        "outputId": "30322216-ef7b-419d-e531-53d7830ad932"
      },
      "execution_count": 35,
      "outputs": [
        {
          "output_type": "stream",
          "name": "stdout",
          "text": [
            "<class 'str'> SatishSatishSatish\n"
          ]
        }
      ]
    },
    {
      "cell_type": "code",
      "source": [
        "t = (\"Satish\", ) * 3\n",
        "print(type(t), t) "
      ],
      "metadata": {
        "colab": {
          "base_uri": "https://localhost:8080/"
        },
        "id": "BJSAJlwFeOcJ",
        "outputId": "325930ee-2c5a-4adc-d36e-1fdc8db7a515"
      },
      "execution_count": 33,
      "outputs": [
        {
          "output_type": "stream",
          "name": "stdout",
          "text": [
            "<class 'tuple'> ('Satish', 'Satish', 'Satish')\n"
          ]
        }
      ]
    },
    {
      "cell_type": "code",
      "source": [
        "# Packing and Unpacking\n",
        "\n",
        "t = 1, 2, 3\n",
        "print(type(t), t)"
      ],
      "metadata": {
        "colab": {
          "base_uri": "https://localhost:8080/"
        },
        "id": "YRgUyuk8e3iP",
        "outputId": "2ac3b352-7f4f-4507-8faa-8acb0ed414a9"
      },
      "execution_count": 36,
      "outputs": [
        {
          "output_type": "stream",
          "name": "stdout",
          "text": [
            "<class 'tuple'> (1, 2, 3)\n"
          ]
        }
      ]
    },
    {
      "cell_type": "code",
      "source": [
        "a, b, c = t\n",
        "print(a)\n",
        "print(b)\n",
        "print(c)"
      ],
      "metadata": {
        "colab": {
          "base_uri": "https://localhost:8080/"
        },
        "id": "OW4wXos3fDvi",
        "outputId": "59cd5ba9-d10d-4de6-d107-3ae16c53216e"
      },
      "execution_count": 37,
      "outputs": [
        {
          "output_type": "stream",
          "name": "stdout",
          "text": [
            "1\n",
            "2\n",
            "3\n"
          ]
        }
      ]
    },
    {
      "cell_type": "code",
      "source": [
        "a, b = 3, 5\n",
        "print(a, b)\n",
        "\n",
        "a, b = b, a # (5, 3)\n",
        "print(a, b)"
      ],
      "metadata": {
        "colab": {
          "base_uri": "https://localhost:8080/"
        },
        "id": "RovqSaHkfMil",
        "outputId": "9179ccdf-0776-4354-e63f-c092b66b9178"
      },
      "execution_count": 39,
      "outputs": [
        {
          "output_type": "stream",
          "name": "stdout",
          "text": [
            "3 5\n",
            "5 3\n"
          ]
        }
      ]
    },
    {
      "cell_type": "code",
      "source": [
        "# Dictionary -> Unordered collection of Key, Value pairs\n",
        "# Keys are unique\n",
        "# Values can be duplicates\n",
        "\n",
        "d = {}\n",
        "print(d, type(d))"
      ],
      "metadata": {
        "colab": {
          "base_uri": "https://localhost:8080/"
        },
        "id": "-wf9IOWgfMpW",
        "outputId": "0ffef5ca-7941-4b97-ee4d-b16fb0cde12a"
      },
      "execution_count": 40,
      "outputs": [
        {
          "output_type": "stream",
          "name": "stdout",
          "text": [
            "{} <class 'dict'>\n"
          ]
        }
      ]
    },
    {
      "cell_type": "code",
      "source": [
        "ipl = {'csk': 'Dhoni', 'MI': 'Rohit', 'KKR': 'Iyer'}\n",
        "\n",
        "print(ipl['csk'])\n",
        "ipl['MI'] = 'Mukesh'\n",
        "print(ipl['MI'])\n",
        "# print(ipl['mi']) # -> error\n",
        "\n",
        "ipl['RCB'] = 'Virat'\n",
        "print(ipl)"
      ],
      "metadata": {
        "colab": {
          "base_uri": "https://localhost:8080/"
        },
        "id": "Ilq6RjH7fnXH",
        "outputId": "58dd7ed6-ae52-4357-b23c-e2f3a50a8c80"
      },
      "execution_count": 46,
      "outputs": [
        {
          "output_type": "stream",
          "name": "stdout",
          "text": [
            "Dhoni\n",
            "Mukesh\n",
            "{'csk': 'Dhoni', 'MI': 'Mukesh', 'KKR': 'Iyer', 'RCB': 'Virat'}\n"
          ]
        }
      ]
    },
    {
      "cell_type": "code",
      "source": [
        "ipl.update({\n",
        "    'dc': 'Aarnav',\n",
        "    'MI': 'Rohit'\n",
        "})\n",
        "\n",
        "print(ipl)"
      ],
      "metadata": {
        "colab": {
          "base_uri": "https://localhost:8080/"
        },
        "id": "XK6pn0RHf93k",
        "outputId": "252c44a2-1950-4845-d57f-5ef2b749adfb"
      },
      "execution_count": 45,
      "outputs": [
        {
          "output_type": "stream",
          "name": "stdout",
          "text": [
            "{'csk': 'Dhoni', 'MI': 'Rohit', 'KKR': 'Iyer', 'dc': 'Aarnav'}\n"
          ]
        }
      ]
    },
    {
      "cell_type": "code",
      "source": [
        "print(ipl.keys())\n",
        "print(ipl.values())\n",
        "print(ipl.items())"
      ],
      "metadata": {
        "colab": {
          "base_uri": "https://localhost:8080/"
        },
        "id": "i8z8zjXQgb1-",
        "outputId": "f45f8110-b959-4eb9-fcba-7a729c292b6d"
      },
      "execution_count": 47,
      "outputs": [
        {
          "output_type": "stream",
          "name": "stdout",
          "text": [
            "dict_keys(['csk', 'MI', 'KKR', 'RCB'])\n",
            "dict_values(['Dhoni', 'Mukesh', 'Iyer', 'Virat'])\n",
            "dict_items([('csk', 'Dhoni'), ('MI', 'Mukesh'), ('KKR', 'Iyer'), ('RCB', 'Virat')])\n"
          ]
        }
      ]
    },
    {
      "cell_type": "code",
      "source": [
        "for k in ipl.keys() :\n",
        "  print(k, ipl[k])\n",
        "\n",
        "for k, v in ipl.items():\n",
        "  print(k, v)"
      ],
      "metadata": {
        "colab": {
          "base_uri": "https://localhost:8080/"
        },
        "id": "Iqd1L6t1gnKg",
        "outputId": "325fe89d-a89b-4bbc-e176-a806182da08f"
      },
      "execution_count": 49,
      "outputs": [
        {
          "output_type": "stream",
          "name": "stdout",
          "text": [
            "csk Dhoni\n",
            "MI Mukesh\n",
            "KKR Iyer\n",
            "RCB Virat\n",
            "csk Dhoni\n",
            "MI Mukesh\n",
            "KKR Iyer\n",
            "RCB Virat\n"
          ]
        }
      ]
    },
    {
      "cell_type": "code",
      "source": [
        "d = {\n",
        "  'a' : 5,\n",
        "  'b' : 5,\n",
        "  'c' : 10\n",
        "}\n",
        "\n",
        "print(d)\n",
        "\n",
        "ls = []\n",
        "\n",
        "for k, v in d.items():\n",
        "  if v == 5 :\n",
        "    ls.append(k)\n",
        "\n",
        "print(ls)"
      ],
      "metadata": {
        "colab": {
          "base_uri": "https://localhost:8080/"
        },
        "id": "J_sgJNnVg2xv",
        "outputId": "e99b1a24-23f2-46d7-d340-0eda3de66e82"
      },
      "execution_count": 51,
      "outputs": [
        {
          "output_type": "stream",
          "name": "stdout",
          "text": [
            "{'a': 5, 'b': 5, 'c': 10}\n",
            "['a', 'b']\n"
          ]
        }
      ]
    },
    {
      "cell_type": "code",
      "source": [
        "# Set\n",
        "# Unordered collection of unique items"
      ],
      "metadata": {
        "id": "0DVi0tS0hUcC"
      },
      "execution_count": null,
      "outputs": []
    },
    {
      "cell_type": "code",
      "source": [
        "s = { 1 }\n",
        "print(type(s))"
      ],
      "metadata": {
        "colab": {
          "base_uri": "https://localhost:8080/"
        },
        "id": "B2thTFpnhsOw",
        "outputId": "8c517188-4e5a-4939-c6cb-e6ac88b003c9"
      },
      "execution_count": 53,
      "outputs": [
        {
          "output_type": "stream",
          "name": "stdout",
          "text": [
            "<class 'set'>\n"
          ]
        }
      ]
    },
    {
      "cell_type": "code",
      "source": [
        "s = set()\n",
        "print(type(s))"
      ],
      "metadata": {
        "colab": {
          "base_uri": "https://localhost:8080/"
        },
        "id": "LacknLM2iRoo",
        "outputId": "648e83c1-7486-406a-8595-1bffea825e95"
      },
      "execution_count": 56,
      "outputs": [
        {
          "output_type": "stream",
          "name": "stdout",
          "text": [
            "<class 'set'>\n"
          ]
        }
      ]
    },
    {
      "cell_type": "code",
      "source": [
        "s = {1, 1, 1, 3, 3, 3, 2, 2, 2}\n",
        "print(s)"
      ],
      "metadata": {
        "colab": {
          "base_uri": "https://localhost:8080/"
        },
        "id": "kdZSCL1yiDHJ",
        "outputId": "36e51a67-c92e-447f-bfee-f5d95f36d06b"
      },
      "execution_count": 58,
      "outputs": [
        {
          "output_type": "stream",
          "name": "stdout",
          "text": [
            "{1, 2, 3}\n"
          ]
        }
      ]
    },
    {
      "cell_type": "code",
      "source": [
        "# s[0] -> Because there is no order in a set"
      ],
      "metadata": {
        "colab": {
          "base_uri": "https://localhost:8080/",
          "height": 166
        },
        "id": "c94Am7n2iwzw",
        "outputId": "281348e7-14bf-454f-c8cf-b1716d0e504f"
      },
      "execution_count": 60,
      "outputs": [
        {
          "output_type": "error",
          "ename": "TypeError",
          "evalue": "ignored",
          "traceback": [
            "\u001b[0;31m---------------------------------------------------------------------------\u001b[0m",
            "\u001b[0;31mTypeError\u001b[0m                                 Traceback (most recent call last)",
            "\u001b[0;32m<ipython-input-60-c9c96910e542>\u001b[0m in \u001b[0;36m<module>\u001b[0;34m\u001b[0m\n\u001b[0;32m----> 1\u001b[0;31m \u001b[0ms\u001b[0m\u001b[0;34m[\u001b[0m\u001b[0;36m0\u001b[0m\u001b[0;34m]\u001b[0m\u001b[0;34m\u001b[0m\u001b[0;34m\u001b[0m\u001b[0m\n\u001b[0m",
            "\u001b[0;31mTypeError\u001b[0m: 'set' object is not subscriptable"
          ]
        }
      ]
    },
    {
      "cell_type": "code",
      "source": [
        "for val in s :\n",
        "  print(val)"
      ],
      "metadata": {
        "colab": {
          "base_uri": "https://localhost:8080/"
        },
        "id": "yboqwsmBipbq",
        "outputId": "268da942-a3c2-460e-aeed-d224ee42bf3b"
      },
      "execution_count": 59,
      "outputs": [
        {
          "output_type": "stream",
          "name": "stdout",
          "text": [
            "1\n",
            "2\n",
            "3\n"
          ]
        }
      ]
    },
    {
      "cell_type": "code",
      "source": [
        "2 in s"
      ],
      "metadata": {
        "colab": {
          "base_uri": "https://localhost:8080/"
        },
        "id": "mkrP4g5NiwID",
        "outputId": "cfce91f1-1e18-4927-a5aa-39c3e7ce3a7b"
      },
      "execution_count": 61,
      "outputs": [
        {
          "output_type": "execute_result",
          "data": {
            "text/plain": [
              "True"
            ]
          },
          "metadata": {},
          "execution_count": 61
        }
      ]
    },
    {
      "cell_type": "code",
      "source": [
        "5 in s"
      ],
      "metadata": {
        "colab": {
          "base_uri": "https://localhost:8080/"
        },
        "id": "Z8tW_rkii4WX",
        "outputId": "44ee8300-0932-43d1-a12d-3b6b85b60735"
      },
      "execution_count": 62,
      "outputs": [
        {
          "output_type": "execute_result",
          "data": {
            "text/plain": [
              "False"
            ]
          },
          "metadata": {},
          "execution_count": 62
        }
      ]
    },
    {
      "cell_type": "code",
      "source": [
        "print(s)"
      ],
      "metadata": {
        "colab": {
          "base_uri": "https://localhost:8080/"
        },
        "id": "LHExV4bei9_C",
        "outputId": "ff1d0869-8754-4bfc-a922-f2d6ab9d8cc7"
      },
      "execution_count": 63,
      "outputs": [
        {
          "output_type": "stream",
          "name": "stdout",
          "text": [
            "{1, 2, 3}\n"
          ]
        }
      ]
    },
    {
      "cell_type": "code",
      "source": [
        "s.remove(2)\n",
        "print(s)"
      ],
      "metadata": {
        "colab": {
          "base_uri": "https://localhost:8080/"
        },
        "id": "d-2dM8Hri8fu",
        "outputId": "3b23f641-24f3-49e2-bb2f-b27088f28712"
      },
      "execution_count": 64,
      "outputs": [
        {
          "output_type": "stream",
          "name": "stdout",
          "text": [
            "{1, 3}\n"
          ]
        }
      ]
    },
    {
      "cell_type": "code",
      "source": [
        "s.add(2)\n",
        "print(s)"
      ],
      "metadata": {
        "colab": {
          "base_uri": "https://localhost:8080/"
        },
        "id": "f5VTPaOjjDFW",
        "outputId": "dcec82bb-1846-4065-c2ca-8e4884bd8360"
      },
      "execution_count": 66,
      "outputs": [
        {
          "output_type": "stream",
          "name": "stdout",
          "text": [
            "{1, 2, 3}\n"
          ]
        }
      ]
    },
    {
      "cell_type": "code",
      "source": [
        "s1 = {1, 2, 3}\n",
        "s2 = {3, 4, 5}\n",
        "\n",
        "print(s1.union(s2)) # |\n",
        "print(s1.intersection(s2)) # &\n",
        "print(s1.difference(s2)) # -\n",
        "print(s2.difference(s1)) # -\n",
        "print(s1.symmetric_difference(s2)) # ^"
      ],
      "metadata": {
        "colab": {
          "base_uri": "https://localhost:8080/"
        },
        "id": "AzwKtYqDjGm8",
        "outputId": "deae2011-f918-471d-9ca5-1df448c965f5"
      },
      "execution_count": 70,
      "outputs": [
        {
          "output_type": "stream",
          "name": "stdout",
          "text": [
            "{1, 2, 3, 4, 5}\n",
            "{3}\n",
            "{1, 2}\n",
            "{4, 5}\n",
            "{1, 2, 4, 5}\n"
          ]
        }
      ]
    },
    {
      "cell_type": "code",
      "source": [
        "# Doubts"
      ],
      "metadata": {
        "id": "Nt4awgJ0deAM"
      },
      "execution_count": null,
      "outputs": []
    },
    {
      "cell_type": "code",
      "source": [
        "matrix = [[1,2],[2,3],[3,4]] \n",
        "\n",
        "transpose = [matrix[j][i] for j in range(len(matrix))] \n",
        "for i in range(len(matrix(a[0])))]"
      ],
      "metadata": {
        "colab": {
          "base_uri": "https://localhost:8080/",
          "height": 235
        },
        "id": "blNyBYQgkXCH",
        "outputId": "5bec1d7b-d785-4fd6-9055-cfd981c30f14"
      },
      "execution_count": 73,
      "outputs": [
        {
          "output_type": "error",
          "ename": "TypeError",
          "evalue": "ignored",
          "traceback": [
            "\u001b[0;31m---------------------------------------------------------------------------\u001b[0m",
            "\u001b[0;31mTypeError\u001b[0m                                 Traceback (most recent call last)",
            "\u001b[0;32m<ipython-input-73-66030271af56>\u001b[0m in \u001b[0;36m<module>\u001b[0;34m\u001b[0m\n\u001b[1;32m      1\u001b[0m \u001b[0mmatrix\u001b[0m \u001b[0;34m=\u001b[0m \u001b[0;34m[\u001b[0m\u001b[0;34m[\u001b[0m\u001b[0;36m1\u001b[0m\u001b[0;34m,\u001b[0m\u001b[0;36m2\u001b[0m\u001b[0;34m]\u001b[0m\u001b[0;34m,\u001b[0m\u001b[0;34m[\u001b[0m\u001b[0;36m2\u001b[0m\u001b[0;34m,\u001b[0m\u001b[0;36m3\u001b[0m\u001b[0;34m]\u001b[0m\u001b[0;34m,\u001b[0m\u001b[0;34m[\u001b[0m\u001b[0;36m3\u001b[0m\u001b[0;34m,\u001b[0m\u001b[0;36m4\u001b[0m\u001b[0;34m]\u001b[0m\u001b[0;34m]\u001b[0m\u001b[0;34m\u001b[0m\u001b[0;34m\u001b[0m\u001b[0m\n\u001b[1;32m      2\u001b[0m \u001b[0;34m\u001b[0m\u001b[0m\n\u001b[0;32m----> 3\u001b[0;31m \u001b[0mtranspose\u001b[0m \u001b[0;34m=\u001b[0m \u001b[0;34m[\u001b[0m\u001b[0;34m(\u001b[0m\u001b[0mmatrix\u001b[0m\u001b[0;34m[\u001b[0m\u001b[0mj\u001b[0m\u001b[0;34m]\u001b[0m\u001b[0;34m[\u001b[0m\u001b[0mi\u001b[0m\u001b[0;34m]\u001b[0m \u001b[0;32mfor\u001b[0m \u001b[0mj\u001b[0m \u001b[0;32min\u001b[0m \u001b[0mrange\u001b[0m\u001b[0;34m(\u001b[0m\u001b[0mlen\u001b[0m\u001b[0;34m(\u001b[0m\u001b[0mmatrix\u001b[0m\u001b[0;34m)\u001b[0m\u001b[0;34m)\u001b[0m\u001b[0;34m)\u001b[0m \u001b[0;32mfor\u001b[0m \u001b[0mi\u001b[0m \u001b[0;32min\u001b[0m \u001b[0mrange\u001b[0m\u001b[0;34m(\u001b[0m\u001b[0mlen\u001b[0m\u001b[0;34m(\u001b[0m\u001b[0mmatrix\u001b[0m\u001b[0;34m(\u001b[0m\u001b[0ma\u001b[0m\u001b[0;34m[\u001b[0m\u001b[0;36m0\u001b[0m\u001b[0;34m]\u001b[0m\u001b[0;34m)\u001b[0m\u001b[0;34m)\u001b[0m\u001b[0;34m)\u001b[0m\u001b[0;34m]\u001b[0m\u001b[0;34m\u001b[0m\u001b[0;34m\u001b[0m\u001b[0m\n\u001b[0m\u001b[1;32m      4\u001b[0m \u001b[0;34m\u001b[0m\u001b[0m\n\u001b[1;32m      5\u001b[0m \u001b[0mprint\u001b[0m\u001b[0;34m(\u001b[0m\u001b[0mtranspose\u001b[0m\u001b[0;34m)\u001b[0m\u001b[0;34m\u001b[0m\u001b[0;34m\u001b[0m\u001b[0m\n",
            "\u001b[0;31mTypeError\u001b[0m: 'int' object is not subscriptable"
          ]
        }
      ]
    },
    {
      "cell_type": "code",
      "source": [
        "import math\n",
        "\n",
        "a = 64\n",
        "lg2 = math.log2(a)\n",
        "if lg2 == round(lg2) :\n",
        "  print(\"Yes\")\n",
        "else :\n",
        "  print(\"No\")\n",
        "\n",
        "2^0 <= 1 <= N <= 10^18 <= 2^64"
      ],
      "metadata": {
        "colab": {
          "base_uri": "https://localhost:8080/"
        },
        "id": "q-dIAjarmLK8",
        "outputId": "0f4801ff-438c-49a4-8c78-4f706f4b665f"
      },
      "execution_count": 78,
      "outputs": [
        {
          "output_type": "stream",
          "name": "stdout",
          "text": [
            "Yes\n"
          ]
        }
      ]
    },
    {
      "cell_type": "code",
      "source": [
        "a = 5000\n",
        "b = a * 1\n",
        "\n",
        "print(id(a), id(b))"
      ],
      "metadata": {
        "colab": {
          "base_uri": "https://localhost:8080/"
        },
        "id": "ENG6prLrnVrP",
        "outputId": "2f53f99f-6be3-461a-cffd-30695f7a2d2e"
      },
      "execution_count": 85,
      "outputs": [
        {
          "output_type": "stream",
          "name": "stdout",
          "text": [
            "139728712118736 139728712118736\n"
          ]
        }
      ]
    },
    {
      "cell_type": "code",
      "source": [
        "ls = [1, 2, 3, 1, 4, 4, 3, 2]\n",
        "\n",
        "ans = []\n",
        "\n",
        "for val in ls :\n",
        "  if val not in ans :\n",
        "    ans.append(val)\n",
        "\n",
        "print(ans)"
      ],
      "metadata": {
        "colab": {
          "base_uri": "https://localhost:8080/"
        },
        "id": "deYaqYntoCP7",
        "outputId": "83537ed3-5007-4539-a8c3-f452c4fd9bc7"
      },
      "execution_count": 87,
      "outputs": [
        {
          "output_type": "stream",
          "name": "stdout",
          "text": [
            "[1, 2, 3, 4]\n"
          ]
        }
      ]
    },
    {
      "cell_type": "code",
      "source": [
        "ls = [1, 2, 3, 1, 4, 4, 3, 2]\n",
        "\n",
        "sum = 0\n",
        "\n",
        "for i in range(len(ls)) :\n",
        "  if sum == ls[i] :\n",
        "    return i\n",
        "  sum = sum + ls[i]"
      ],
      "metadata": {
        "id": "1eZnmstmozPM"
      },
      "execution_count": null,
      "outputs": []
    },
    {
      "cell_type": "code",
      "source": [
        "ls = [[1, 2], [1, -3]]\n",
        "\n",
        "print(min(ls))"
      ],
      "metadata": {
        "colab": {
          "base_uri": "https://localhost:8080/"
        },
        "id": "6Gg1gB9OpGMw",
        "outputId": "2b819a65-aa2d-48dd-b6b1-f8319abb5a28"
      },
      "execution_count": 91,
      "outputs": [
        {
          "output_type": "stream",
          "name": "stdout",
          "text": [
            "[1, -3]\n"
          ]
        }
      ]
    },
    {
      "cell_type": "code",
      "source": [
        "matrix = [[1,2],[2,3],[3,4]]\n",
        "transpose = [ [matrix[j][i] for j in range(len(matrix))] for i in range(len(matrix[0]))]\n",
        "print(transpose)\n",
        "\n",
        "[\n",
        "[(0, 0), (1, 0), (2, 0)] -> i = column 0\n",
        "[(0, 1), (1, 1), (2, 1)] -> i = column 1\n",
        "]"
      ],
      "metadata": {
        "colab": {
          "base_uri": "https://localhost:8080/"
        },
        "id": "exQ1x9t2pvRz",
        "outputId": "842a7a11-b716-4a7b-9e93-fcd79c599d59"
      },
      "execution_count": 92,
      "outputs": [
        {
          "output_type": "stream",
          "name": "stdout",
          "text": [
            "[[1, 2, 3], [2, 3, 4]]\n"
          ]
        }
      ]
    }
  ]
}