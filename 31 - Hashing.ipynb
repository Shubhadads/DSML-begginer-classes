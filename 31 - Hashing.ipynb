{
  "nbformat": 4,
  "nbformat_minor": 0,
  "metadata": {
    "colab": {
      "provenance": []
    },
    "kernelspec": {
      "name": "python3",
      "display_name": "Python 3"
    },
    "language_info": {
      "name": "python"
    }
  },
  "cells": [
    {
      "cell_type": "code",
      "execution_count": 7,
      "metadata": {
        "colab": {
          "base_uri": "https://localhost:8080/"
        },
        "id": "u46EkYEEUqDE",
        "outputId": "15fc0e00-0beb-4580-cba7-47dfffe022de"
      },
      "outputs": [
        {
          "output_type": "stream",
          "name": "stdout",
          "text": [
            "False\n",
            "False\n",
            "False\n",
            "True\n"
          ]
        }
      ],
      "source": [
        "# Scenario - You are given values from 1 to 1000 in a list\n",
        "# Size of list is N\n",
        "# You will get Q queries, each containing a value X\n",
        "# You have to tell whether the value X is present in the list or not\n",
        "\n",
        "# ls = [1, 5, 3, 8, 4]\n",
        "# X = 3 -> T\n",
        "# X = 10 -> F\n",
        "\n",
        "# 10^8 ops -> 10s\n",
        "# 10^7 ops -> 1s\n",
        "\n",
        "# Approach 1\n",
        "# Linear search\n",
        "# For each query search entire list\n",
        "# If X is present return true, else return false\n",
        "# TC -> O(N*Q)\n",
        "# N = 100, Q = 100, TC -> 10^4 -> 1ms\n",
        "# N = 10^4, Q = 10^4, TC -> 10^8 -> 10s\n",
        "# N = 10^6, Q = 10^6, TC -> 10^12 -> 100000s\n",
        "\n",
        "# Approach 2\n",
        "# Sorting + Binary search\n",
        "# TC -> O(N*logN) + O(Q*logN) -> O( (Q+N)logN )\n",
        "# N = 10^6, Q = 10^6, TC -> (2*10^6)*20 -> 4*10^7 -> 4s\n",
        "\n",
        "# Approach 3\n",
        "# Take a list of size 1001 with default values as False\n",
        "# Iterate over the list\n",
        "# If you see value X in the list\n",
        "# Set ls[X] = True\n",
        "# For each query, check if ls[X] is True\n",
        "# TC -> Iterate over list + Answering queries\n",
        "# N = 10^6, Q = 10^6\n",
        "# TC -> O(N) + O(Q) -> O(Q+N) -> 2*10^6 -> 0.2s\n",
        "\n",
        "# exist = [False] * (5+1) # -> 1, 5\n",
        "# [False, False, False, False, False, False] \n",
        "# ls = 1, 3\n",
        "# exist[1] = True\n",
        "# [False, True, False, False, False, False] \n",
        "# exist[3] = True\n",
        "# [False, True, False, True, False, False] \n",
        "# query = 2, 3\n",
        "# exist[2] = True ? -> No\n",
        "# exist[3] = True ? -> Yes\n",
        "\n",
        "def valueExists1(ls, queries) :\n",
        "  exist = [False] * 1001\n",
        "  # If value at index X is True, it means X is present in the list\n",
        "  # If value at index X is False, it means X is not present in the list\n",
        "\n",
        "  for x in ls :\n",
        "    exist[x] = True\n",
        "  # print(exist[:10])\n",
        "\n",
        "  for x in queries :\n",
        "    if exist[x] == True :\n",
        "      print(\"True\")\n",
        "    else :\n",
        "      print(\"False\")\n",
        "\n",
        "# valueExists1([1, 5, 3, 8, 4], [2, 9, 10, 8])\n",
        "\n",
        "# Scenario - Assume values are from 1 to 10^10\n",
        "# Can't use above approach, list will become too big\n",
        "# It will take too much memory 10^10 * Boolean -> 10^10 * 1 Byte -> 10GB\n",
        "\n",
        "# Approach 4\n",
        "# Use a Set\n",
        "# TC -> Putting values in set + Searching values in set\n",
        "# TC -> O(N) + O(Q) -> 2*10^6 -> 0.2s\n",
        "# This will take O(N) memory which is 10MB\n",
        "# Approach is best since it takes least time and space to do the job\n",
        "def valueExists2(ls, queries) :\n",
        "  st = set()\n",
        "\n",
        "  for x in ls :\n",
        "    st.add(x)\n",
        "\n",
        "  for x in queries :\n",
        "    if x in st :\n",
        "      print(\"True\")\n",
        "    else :\n",
        "      print(\"False\")\n",
        "\n",
        "valueExists2([1, 5, 3, 8, 4], [2, 9, 10, 8])"
      ]
    }
  ]
}