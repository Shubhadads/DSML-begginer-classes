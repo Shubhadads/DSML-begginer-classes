{
  "nbformat": 4,
  "nbformat_minor": 0,
  "metadata": {
    "colab": {
      "provenance": []
    },
    "kernelspec": {
      "name": "python3",
      "display_name": "Python 3"
    },
    "language_info": {
      "name": "python"
    }
  },
  "cells": [
    {
      "cell_type": "code",
      "execution_count": null,
      "metadata": {
        "id": "KAqAnIp1AlcD"
      },
      "outputs": [],
      "source": [
        "# Dunders - Magic methods"
      ]
    },
    {
      "cell_type": "code",
      "source": [
        "class Car:\n",
        "    def __init__(self, name, milaege):\n",
        "        self.name = name\n",
        "        self.milaege = milaege\n",
        "\n",
        "    def __str__(self):\n",
        "      return f\"name -> {self.name}, mileage -> {self.milaege}\"\n",
        "\n",
        "    def __add__(self, other):\n",
        "        return self.name + other.name\n",
        "\n",
        "    def __gt__(self, other):\n",
        "        return True if self.milaege > other.milaege else False"
      ],
      "metadata": {
        "id": "rhsAuml1J1jP"
      },
      "execution_count": null,
      "outputs": []
    },
    {
      "cell_type": "code",
      "source": [
        "c1 = Car(\"Maruti\", 100)\n",
        "c2 = Car(\"Alto\", 200)"
      ],
      "metadata": {
        "id": "9I2-a_2AJ6bf"
      },
      "execution_count": null,
      "outputs": []
    },
    {
      "cell_type": "code",
      "source": [
        "print(c1)"
      ],
      "metadata": {
        "colab": {
          "base_uri": "https://localhost:8080/"
        },
        "id": "XMT6d-9tKEP1",
        "outputId": "f22393ed-ad95-4d4f-d8a5-9d6d4eb05926"
      },
      "execution_count": null,
      "outputs": [
        {
          "output_type": "stream",
          "name": "stdout",
          "text": [
            "name -> Maruti, mileage -> 100\n"
          ]
        }
      ]
    },
    {
      "cell_type": "code",
      "source": [
        "print(23 + 25)"
      ],
      "metadata": {
        "colab": {
          "base_uri": "https://localhost:8080/"
        },
        "id": "mkoJY-btK2VD",
        "outputId": "a0705966-2a65-48ca-cbd2-5cc36de072c7"
      },
      "execution_count": null,
      "outputs": [
        {
          "output_type": "stream",
          "name": "stdout",
          "text": [
            "48\n"
          ]
        }
      ]
    },
    {
      "cell_type": "code",
      "source": [
        "print(\"Aarnav\" + \"Jindal\")"
      ],
      "metadata": {
        "colab": {
          "base_uri": "https://localhost:8080/"
        },
        "id": "1pT_jfalK8pu",
        "outputId": "24dea378-b5c3-479e-94b2-f0611850d7a6"
      },
      "execution_count": null,
      "outputs": [
        {
          "output_type": "stream",
          "name": "stdout",
          "text": [
            "AarnavJindal\n"
          ]
        }
      ]
    },
    {
      "cell_type": "code",
      "source": [
        "print(c1 + c2)\n",
        "\n",
        "# c1.__add(c2)__\n",
        "# Car.__add(c1, c2)__"
      ],
      "metadata": {
        "colab": {
          "base_uri": "https://localhost:8080/"
        },
        "id": "rxOmGS-UK_aR",
        "outputId": "efdf95f7-f85d-4755-d8cb-3843519497d5"
      },
      "execution_count": null,
      "outputs": [
        {
          "output_type": "stream",
          "name": "stdout",
          "text": [
            "MarutiAlto\n"
          ]
        }
      ]
    },
    {
      "cell_type": "code",
      "source": [
        "print( c1 > c2 )"
      ],
      "metadata": {
        "colab": {
          "base_uri": "https://localhost:8080/"
        },
        "id": "znrKFS3oOfnh",
        "outputId": "44565a54-a28b-4422-d661-d7d998498113"
      },
      "execution_count": null,
      "outputs": [
        {
          "output_type": "stream",
          "name": "stdout",
          "text": [
            "False\n"
          ]
        }
      ]
    },
    {
      "cell_type": "code",
      "source": [
        "dir(c1)"
      ],
      "metadata": {
        "colab": {
          "base_uri": "https://localhost:8080/"
        },
        "id": "gswvJNgWO0--",
        "outputId": "1deddce5-12cf-4846-b1be-a81af0e4d89e"
      },
      "execution_count": null,
      "outputs": [
        {
          "output_type": "execute_result",
          "data": {
            "text/plain": [
              "['__add__',\n",
              " '__class__',\n",
              " '__delattr__',\n",
              " '__dict__',\n",
              " '__dir__',\n",
              " '__doc__',\n",
              " '__eq__',\n",
              " '__format__',\n",
              " '__ge__',\n",
              " '__getattribute__',\n",
              " '__gt__',\n",
              " '__hash__',\n",
              " '__init__',\n",
              " '__init_subclass__',\n",
              " '__le__',\n",
              " '__lt__',\n",
              " '__module__',\n",
              " '__ne__',\n",
              " '__new__',\n",
              " '__reduce__',\n",
              " '__reduce_ex__',\n",
              " '__repr__',\n",
              " '__setattr__',\n",
              " '__sizeof__',\n",
              " '__str__',\n",
              " '__subclasshook__',\n",
              " '__weakref__',\n",
              " 'milaege',\n",
              " 'name']"
            ]
          },
          "metadata": {},
          "execution_count": 35
        }
      ]
    },
    {
      "cell_type": "markdown",
      "source": [
        "### Private Variables"
      ],
      "metadata": {
        "id": "eXjwsZYfPi00"
      }
    },
    {
      "cell_type": "code",
      "source": [
        "class BankAccount:\n",
        "    def __init__(self, opening_balance):\n",
        "        self.balance = opening_balance\n",
        "        \n",
        "    def withdraw(self, amount):\n",
        "        if amount >= amount :\n",
        "          self.balance -= amount\n",
        "        \n",
        "    def deposit(self, amount):\n",
        "        self.balance += amount"
      ],
      "metadata": {
        "id": "NWnoFZITPd95"
      },
      "execution_count": 36,
      "outputs": []
    },
    {
      "cell_type": "code",
      "source": [
        "ba = BankAccount(200)"
      ],
      "metadata": {
        "id": "TC0Cr14CPq9b"
      },
      "execution_count": 37,
      "outputs": []
    },
    {
      "cell_type": "code",
      "source": [
        "ba.deposit(100)\n",
        "print(ba.balance)\n",
        "\n",
        "ba.withdraw(50)\n",
        "print(ba.balance)"
      ],
      "metadata": {
        "colab": {
          "base_uri": "https://localhost:8080/"
        },
        "id": "oFzEIxDiPvpt",
        "outputId": "d0431b59-0269-49bd-8d7b-27c7635b417f"
      },
      "execution_count": 38,
      "outputs": [
        {
          "output_type": "stream",
          "name": "stdout",
          "text": [
            "300\n",
            "250\n"
          ]
        }
      ]
    },
    {
      "cell_type": "code",
      "source": [
        "ba.balance = 391470139470113904\n",
        "print(ba.balance)"
      ],
      "metadata": {
        "colab": {
          "base_uri": "https://localhost:8080/"
        },
        "id": "pXtVDsgZP7YN",
        "outputId": "830bac1b-6bd3-4b44-be43-b29cf7c2a673"
      },
      "execution_count": 39,
      "outputs": [
        {
          "output_type": "stream",
          "name": "stdout",
          "text": [
            "391470139470113904\n"
          ]
        }
      ]
    },
    {
      "cell_type": "code",
      "source": [
        "# Public variable - Attribute accessible via object\n",
        "# Private variable - Attribute accessible only within class functions"
      ],
      "metadata": {
        "id": "NbwHVh_xQZN3"
      },
      "execution_count": null,
      "outputs": []
    },
    {
      "cell_type": "code",
      "source": [
        "class BankAccount:\n",
        "    def __init__(self, opening_balance):\n",
        "        self.__balance = opening_balance\n",
        "\n",
        "    def withdraw(self, amount):\n",
        "        self.__balance -= amount\n",
        "        \n",
        "    def deposit(self, amount):\n",
        "        self.__balance += amount\n",
        "\n",
        "    def get_balance(self) :\n",
        "      return self.__balance\n",
        "\n",
        "# _ClassName__PrivateVariable\n",
        "# _BankAccount__balance"
      ],
      "metadata": {
        "id": "FcRyBzmlQo8I"
      },
      "execution_count": 43,
      "outputs": []
    },
    {
      "cell_type": "code",
      "source": [
        "ba = BankAccount(200)"
      ],
      "metadata": {
        "id": "BML3swL0Qzen"
      },
      "execution_count": 44,
      "outputs": []
    },
    {
      "cell_type": "code",
      "source": [
        "print(ba.__balance)"
      ],
      "metadata": {
        "colab": {
          "base_uri": "https://localhost:8080/",
          "height": 166
        },
        "id": "0k7KNM7cQ41k",
        "outputId": "0764309d-2e7d-48b5-8521-9bec7fcbcbae"
      },
      "execution_count": 42,
      "outputs": [
        {
          "output_type": "error",
          "ename": "AttributeError",
          "evalue": "ignored",
          "traceback": [
            "\u001b[0;31m---------------------------------------------------------------------------\u001b[0m",
            "\u001b[0;31mAttributeError\u001b[0m                            Traceback (most recent call last)",
            "\u001b[0;32m<ipython-input-42-6035d3723cbb>\u001b[0m in \u001b[0;36m<module>\u001b[0;34m\u001b[0m\n\u001b[0;32m----> 1\u001b[0;31m \u001b[0mprint\u001b[0m\u001b[0;34m(\u001b[0m\u001b[0mba\u001b[0m\u001b[0;34m.\u001b[0m\u001b[0m__balance\u001b[0m\u001b[0;34m)\u001b[0m\u001b[0;34m\u001b[0m\u001b[0;34m\u001b[0m\u001b[0m\n\u001b[0m",
            "\u001b[0;31mAttributeError\u001b[0m: 'BankAccount' object has no attribute '__balance'"
          ]
        }
      ]
    },
    {
      "cell_type": "code",
      "source": [
        "print(ba.get_balance())"
      ],
      "metadata": {
        "colab": {
          "base_uri": "https://localhost:8080/"
        },
        "id": "cuJVMBbqRL0c",
        "outputId": "e0374321-b2b0-45c6-c6f4-34177778c644"
      },
      "execution_count": 45,
      "outputs": [
        {
          "output_type": "stream",
          "name": "stdout",
          "text": [
            "200\n"
          ]
        }
      ]
    },
    {
      "cell_type": "markdown",
      "source": [
        "### Weakness of Python"
      ],
      "metadata": {
        "id": "WK5WPw3oR5oI"
      }
    },
    {
      "cell_type": "code",
      "source": [
        "ba.__balance = 500\n",
        "print(ba.__balance)"
      ],
      "metadata": {
        "colab": {
          "base_uri": "https://localhost:8080/"
        },
        "id": "OtrWQEU3R7bw",
        "outputId": "e8cca520-b29e-48ce-e6c9-0d9921a1d5d7"
      },
      "execution_count": 46,
      "outputs": [
        {
          "output_type": "stream",
          "name": "stdout",
          "text": [
            "500\n"
          ]
        }
      ]
    },
    {
      "cell_type": "code",
      "source": [
        "dir(ba)"
      ],
      "metadata": {
        "colab": {
          "base_uri": "https://localhost:8080/"
        },
        "id": "fvc-X4XASLT5",
        "outputId": "0d6d9312-f8c4-427b-8d09-07f82c6fd1a5"
      },
      "execution_count": 47,
      "outputs": [
        {
          "output_type": "execute_result",
          "data": {
            "text/plain": [
              "['_BankAccount__balance',\n",
              " '__balance',\n",
              " '__class__',\n",
              " '__delattr__',\n",
              " '__dict__',\n",
              " '__dir__',\n",
              " '__doc__',\n",
              " '__eq__',\n",
              " '__format__',\n",
              " '__ge__',\n",
              " '__getattribute__',\n",
              " '__gt__',\n",
              " '__hash__',\n",
              " '__init__',\n",
              " '__init_subclass__',\n",
              " '__le__',\n",
              " '__lt__',\n",
              " '__module__',\n",
              " '__ne__',\n",
              " '__new__',\n",
              " '__reduce__',\n",
              " '__reduce_ex__',\n",
              " '__repr__',\n",
              " '__setattr__',\n",
              " '__sizeof__',\n",
              " '__str__',\n",
              " '__subclasshook__',\n",
              " '__weakref__',\n",
              " 'deposit',\n",
              " 'get_balance',\n",
              " 'withdraw']"
            ]
          },
          "metadata": {},
          "execution_count": 47
        }
      ]
    },
    {
      "cell_type": "code",
      "source": [
        "print(ba.get_balance())\n",
        "ba._BankAccount__balance = 300\n",
        "print(ba.get_balance())"
      ],
      "metadata": {
        "colab": {
          "base_uri": "https://localhost:8080/"
        },
        "id": "C5SGA9gtSq4g",
        "outputId": "3b20785a-3679-4028-c4ad-76832ef5b50b"
      },
      "execution_count": 48,
      "outputs": [
        {
          "output_type": "stream",
          "name": "stdout",
          "text": [
            "200\n",
            "300\n"
          ]
        }
      ]
    },
    {
      "cell_type": "code",
      "source": [
        "# Break - 10:05pm"
      ],
      "metadata": {
        "id": "Ilgrold3ToyQ"
      },
      "execution_count": null,
      "outputs": []
    },
    {
      "cell_type": "markdown",
      "source": [
        "### Inheritance"
      ],
      "metadata": {
        "id": "6B_tpjGeYTji"
      }
    },
    {
      "cell_type": "code",
      "source": [
        "class SchoolMember:\n",
        "    def __init__(self, name):\n",
        "        self.name = name\n",
        "\n",
        "class Student(SchoolMember):\n",
        "    def __init__(self, name, grade):\n",
        "          self.grade = grade\n",
        "          # SchoolMember.__init__(self, name)\n",
        "          super().__init__(name)\n",
        "\n",
        "class Staff(SchoolMember):\n",
        "    def __init__(self, name, salary):\n",
        "          self.salary = salary\n",
        "          super().__init__(name)\n",
        "\n",
        "class Teacher(Staff):\n",
        "    def __init__(self, name, salary, subject):\n",
        "          self.subject = subject\n",
        "          super().__init__(name, salary)\n",
        "\n",
        "class Service(Staff):\n",
        "    def __init__(self, name, salary, equipment):\n",
        "          self.equipment = equipment\n",
        "          super().__init__(name, salary)"
      ],
      "metadata": {
        "id": "dUnBTb-nYTME"
      },
      "execution_count": 52,
      "outputs": []
    },
    {
      "cell_type": "code",
      "source": [
        "t1 = Teacher(\"Aarnav\", 10, \"DSML\")\n",
        "print(t1.name, t1.salary, t1.subject)"
      ],
      "metadata": {
        "colab": {
          "base_uri": "https://localhost:8080/"
        },
        "id": "uG7yWYlRZRoh",
        "outputId": "b1dc13c9-8f14-49c9-fe3e-30143dbb7860"
      },
      "execution_count": 54,
      "outputs": [
        {
          "output_type": "stream",
          "name": "stdout",
          "text": [
            "Aarnav 10 DSML\n"
          ]
        }
      ]
    },
    {
      "cell_type": "markdown",
      "source": [
        "### Multiple Inheritance"
      ],
      "metadata": {
        "id": "rHhx9E0wcepQ"
      }
    },
    {
      "cell_type": "code",
      "source": [
        "class A :\n",
        "  def __init__(self, a) :\n",
        "    self.a = a\n",
        "\n",
        "class B :\n",
        "  def __init__(self, b) :\n",
        "    self.b = b\n",
        "\n",
        "class C(A,B):\n",
        "  def __init__(self, a, b, c) :\n",
        "    self.c = c\n",
        "    # super().__init__(a) # Super() is replaced by first parent\n",
        "    # How to initialise multiple parents using super() ?\n",
        "    A.__init__(a)\n",
        "    B.__init__(b)"
      ],
      "metadata": {
        "id": "do5sjbfWa083"
      },
      "execution_count": null,
      "outputs": []
    },
    {
      "cell_type": "markdown",
      "source": [
        "### Diamond Inheritance"
      ],
      "metadata": {
        "id": "gXZqt9j_e9c8"
      }
    },
    {
      "cell_type": "code",
      "source": [
        "class A:\n",
        "    x = 5\n",
        "\n",
        "class B(A):\n",
        "    pass\n",
        "\n",
        "class C(A):\n",
        "    x = 10\n",
        "    \n",
        "class D(B, C):\n",
        "    pass"
      ],
      "metadata": {
        "id": "PE1cEYDrchia"
      },
      "execution_count": 67,
      "outputs": []
    },
    {
      "cell_type": "code",
      "source": [
        "d = D()"
      ],
      "metadata": {
        "id": "GF5PGJ28fm3Q"
      },
      "execution_count": 68,
      "outputs": []
    },
    {
      "cell_type": "code",
      "source": [
        "print(d.x)"
      ],
      "metadata": {
        "colab": {
          "base_uri": "https://localhost:8080/"
        },
        "id": "MrPOEhqffq2r",
        "outputId": "14182c9f-2d5f-4b0e-e31e-fa0824e2e6f2"
      },
      "execution_count": 65,
      "outputs": [
        {
          "output_type": "stream",
          "name": "stdout",
          "text": [
            "10\n"
          ]
        }
      ]
    },
    {
      "cell_type": "code",
      "source": [
        "# Method Resolution Order\n",
        "\n",
        "D.__mro__"
      ],
      "metadata": {
        "colab": {
          "base_uri": "https://localhost:8080/"
        },
        "id": "ORXV3P5VgOuj",
        "outputId": "ee1afc62-b0b3-491e-c429-cd404f3e4451"
      },
      "execution_count": 69,
      "outputs": [
        {
          "output_type": "execute_result",
          "data": {
            "text/plain": [
              "(__main__.D, __main__.C, __main__.B, __main__.A, object)"
            ]
          },
          "metadata": {},
          "execution_count": 69
        }
      ]
    },
    {
      "cell_type": "code",
      "source": [],
      "metadata": {
        "id": "Uy26OrvRirZN"
      },
      "execution_count": null,
      "outputs": []
    },
    {
      "cell_type": "code",
      "source": [
        "print(x)"
      ],
      "metadata": {
        "id": "KwvPDSe7iri0"
      },
      "execution_count": null,
      "outputs": []
    }
  ]
}