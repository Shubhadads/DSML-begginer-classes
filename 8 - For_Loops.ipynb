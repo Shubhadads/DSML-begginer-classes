{
  "nbformat": 4,
  "nbformat_minor": 0,
  "metadata": {
    "colab": {
      "provenance": []
    },
    "kernelspec": {
      "name": "python3",
      "display_name": "Python 3"
    },
    "language_info": {
      "name": "python"
    }
  },
  "cells": [
    {
      "cell_type": "code",
      "execution_count": 2,
      "metadata": {
        "colab": {
          "base_uri": "https://localhost:8080/"
        },
        "id": "uBy7dK6uU7_l",
        "outputId": "ce32d96a-4cc7-4ba7-b724-c8a636338f64"
      },
      "outputs": [
        {
          "output_type": "stream",
          "name": "stdout",
          "text": [
            "range(0, 11)\n",
            "[0, 1, 2, 3, 4, 5, 6, 7, 8, 9, 10]\n"
          ]
        }
      ],
      "source": [
        "# Quiz 1 : Print range(11)\n",
        "\n",
        "print(range(11))\n",
        "print(list(range(11)))"
      ]
    },
    {
      "cell_type": "code",
      "source": [
        "# Quiz 2 : Print range(7, 8)\n",
        "\n",
        "# 7 -> start\n",
        "# 8 -> end\n",
        "# range(7, 8) => [7, 8) => [7]\n",
        "print(list(range(7, 8)))"
      ],
      "metadata": {
        "colab": {
          "base_uri": "https://localhost:8080/"
        },
        "id": "eabxsEVDV3Ze",
        "outputId": "01973989-efcb-41d0-d28c-9cb48d8e6e7a"
      },
      "execution_count": 3,
      "outputs": [
        {
          "output_type": "stream",
          "name": "stdout",
          "text": [
            "[7]\n"
          ]
        }
      ]
    },
    {
      "cell_type": "code",
      "source": [
        "# Quiz 3 : Print range(8, 8)\n",
        "\n",
        "# 8 -> start\n",
        "# 8 -> end\n",
        "# range(8, 8) => [8, 8) => []\n",
        "print(list(range(8, 8)))"
      ],
      "metadata": {
        "colab": {
          "base_uri": "https://localhost:8080/"
        },
        "id": "E1HMuY3zWpYv",
        "outputId": "9c4efe04-9b06-41a3-fe9a-a3aafe79c24d"
      },
      "execution_count": 4,
      "outputs": [
        {
          "output_type": "stream",
          "name": "stdout",
          "text": [
            "[]\n"
          ]
        }
      ]
    },
    {
      "cell_type": "code",
      "source": [
        "# Quiz 7 : Print range(5, 1)\n",
        "\n",
        "# 5 -> start\n",
        "# 1 -> end\n",
        "# range(5, 1) => [5, 1) => []\n",
        "\n",
        "print(list(range(5, 1)))\n",
        "\n",
        "# start = 5\n",
        "# end = 1\n",
        "# inc = -1\n",
        "# inc = 1"
      ],
      "metadata": {
        "colab": {
          "base_uri": "https://localhost:8080/"
        },
        "id": "gVcF2v-_bkfN",
        "outputId": "ef44bdb7-46c6-4a16-d9f9-3144840aab19"
      },
      "execution_count": 6,
      "outputs": [
        {
          "output_type": "stream",
          "name": "stdout",
          "text": [
            "[]\n"
          ]
        }
      ]
    },
    {
      "cell_type": "code",
      "source": [
        "# For loops\n",
        "\n",
        "# range(10) -> 0 to 9\n",
        "\n",
        "for i in range(10) :\n",
        "  print(i)"
      ],
      "metadata": {
        "colab": {
          "base_uri": "https://localhost:8080/"
        },
        "id": "7vLBu6MSh-cc",
        "outputId": "dc644e9a-66aa-4d15-cd53-557eb226ca10"
      },
      "execution_count": 12,
      "outputs": [
        {
          "output_type": "stream",
          "name": "stdout",
          "text": [
            "0\n",
            "1\n",
            "2\n",
            "3\n",
            "4\n",
            "5\n",
            "6\n",
            "7\n",
            "8\n",
            "9\n"
          ]
        }
      ]
    },
    {
      "cell_type": "code",
      "source": [
        "# for items in a collection :\n",
        "#   do something\n",
        "\n",
        "for i in range(10) :\n",
        "  print(i, end = ' ')"
      ],
      "metadata": {
        "colab": {
          "base_uri": "https://localhost:8080/"
        },
        "id": "wkjQDCQYikTb",
        "outputId": "d6b68083-2f46-464a-b252-09a660569b45"
      },
      "execution_count": 13,
      "outputs": [
        {
          "output_type": "stream",
          "name": "stdout",
          "text": [
            "0 1 2 3 4 5 6 7 8 9 "
          ]
        }
      ]
    },
    {
      "cell_type": "code",
      "source": [
        "# n = 5\n",
        "# range(1, n) -> range(1, 5) -> 1 to 4\n",
        "\n",
        "n = int(input())\n",
        "\n",
        "for i in range(1, n) :\n",
        "  print(i)"
      ],
      "metadata": {
        "colab": {
          "base_uri": "https://localhost:8080/"
        },
        "id": "ELUliA5njYE9",
        "outputId": "36f8a68a-81b8-4324-a059-2967c32ad28d"
      },
      "execution_count": 14,
      "outputs": [
        {
          "output_type": "stream",
          "name": "stdout",
          "text": [
            "5\n",
            "1\n",
            "2\n",
            "3\n",
            "4\n"
          ]
        }
      ]
    },
    {
      "cell_type": "code",
      "source": [
        "# n = 5\n",
        "# range(1, n+1) -> range(1, 6) -> 1 to 5\n",
        "\n",
        "n = int(input())\n",
        "\n",
        "for i in range(1, n+1) :\n",
        "  print(i)"
      ],
      "metadata": {
        "colab": {
          "base_uri": "https://localhost:8080/"
        },
        "id": "P_hYkOUcjrF7",
        "outputId": "a674a263-7a55-4046-8dd4-b42897e378fc"
      },
      "execution_count": 15,
      "outputs": [
        {
          "output_type": "stream",
          "name": "stdout",
          "text": [
            "5\n",
            "1\n",
            "2\n",
            "3\n",
            "4\n",
            "5\n"
          ]
        }
      ]
    },
    {
      "cell_type": "code",
      "source": [
        "# start : -1\n",
        "# end : 10\n",
        "# step : 2\n",
        "# range(-1, 10, 2) => -1, 1, 3, 5, 7, 9\n",
        "\n",
        "for i in range(-1, 10, 2) :\n",
        "  print(i, end=' ')"
      ],
      "metadata": {
        "colab": {
          "base_uri": "https://localhost:8080/"
        },
        "id": "fG-M_HfakNg2",
        "outputId": "d2a9dbd6-c45e-466e-d3b7-68b0e2f8cdf5"
      },
      "execution_count": 17,
      "outputs": [
        {
          "output_type": "stream",
          "name": "stdout",
          "text": [
            "-1 1 3 5 7 9 "
          ]
        }
      ]
    },
    {
      "cell_type": "code",
      "source": [
        "# Write code to print squares of numbers from 1 to N\n",
        "# Take N as input from user\n",
        "\n",
        "# Example\n",
        "# N = 4\n",
        "# Output : 1, 4, 9, 16\n",
        "\n",
        "# range(1, 5) -> [1, 2, 3, 4]\n",
        "\n",
        "n = int(input())\n",
        "\n",
        "for i in range(1, n+1) :\n",
        "  print(i**2, end=' ')"
      ],
      "metadata": {
        "colab": {
          "base_uri": "https://localhost:8080/"
        },
        "id": "ujDZzgJTkvXC",
        "outputId": "7b6c0ef9-a73a-4568-8fdb-f0e843a21402"
      },
      "execution_count": 20,
      "outputs": [
        {
          "output_type": "stream",
          "name": "stdout",
          "text": [
            "6\n",
            "1 4 9 16 25 36 "
          ]
        }
      ]
    },
    {
      "cell_type": "code",
      "source": [
        "# Write code to print all multiples of 4 till N\n",
        "\n",
        "# Example : N = 50\n",
        "# Output : 4 8 12 16 20 24 28 32 36 40 44 48\n",
        "\n",
        "n = int(input())\n",
        "\n",
        "for i in range(4, n+1, 4) :\n",
        "  print(i, end=' ')"
      ],
      "metadata": {
        "colab": {
          "base_uri": "https://localhost:8080/"
        },
        "id": "ksCxmPM2mERy",
        "outputId": "6f778c10-c711-4679-a504-6f4a2eb5a3ee"
      },
      "execution_count": 22,
      "outputs": [
        {
          "output_type": "stream",
          "name": "stdout",
          "text": [
            "50\n",
            "4 8 12 16 20 24 28 32 36 40 44 48 "
          ]
        }
      ]
    },
    {
      "cell_type": "code",
      "source": [
        "# Print values from N to 1\n",
        "# Take N from the user\n",
        "\n",
        "# Example : \n",
        "# N = 5\n",
        "# Output : 5 4 3 2 1\n",
        "\n",
        "# range(5, 1, -1) -> 5 4 3 2\n",
        "# range(5, 0, -1) -> 5 4 3 2 1\n",
        "\n",
        "n = int(input())\n",
        "for aarnav in range(n, 0, -1) :\n",
        "  print(aarnav, end=' ')"
      ],
      "metadata": {
        "colab": {
          "base_uri": "https://localhost:8080/"
        },
        "id": "M8vEWQD-nviX",
        "outputId": "8dde78be-fd25-410b-b28f-81fed425575a"
      },
      "execution_count": 26,
      "outputs": [
        {
          "output_type": "stream",
          "name": "stdout",
          "text": [
            "10\n",
            "10 9 8 7 6 5 4 3 2 1 "
          ]
        }
      ]
    },
    {
      "cell_type": "code",
      "source": [
        "# print range(7, 1, -1)\n",
        "\n",
        "# print from 7 to 2\n",
        "\n",
        "print(list(range(7, 1, -1)))"
      ],
      "metadata": {
        "colab": {
          "base_uri": "https://localhost:8080/"
        },
        "id": "opM84T88p18u",
        "outputId": "645f9280-b307-4687-9343-553d00706dbc"
      },
      "execution_count": 27,
      "outputs": [
        {
          "output_type": "stream",
          "name": "stdout",
          "text": [
            "[7, 6, 5, 4, 3, 2]\n"
          ]
        }
      ]
    },
    {
      "cell_type": "code",
      "source": [
        "# Print sum of numbers from 1 to N\n",
        "# Example\n",
        "# N = 5\n",
        "# Output = 1+2+3+4+5 = 15\n",
        "\n",
        "n = int(input())\n",
        "\n",
        "sum = 0\n",
        "for i in range(1, n+1) :\n",
        "  sum = sum + i\n",
        "print(sum)\n",
        "\n",
        "N = 5\n",
        "# RHS is evaluated first\n",
        "# sum   i   sum = sum + i\n",
        "# 0     1   sum = ( 0 + 1 ) => sum = 1\n",
        "# 1     2   sum = ( 1 + 2 ) => sum = 3\n",
        "# 3     3   sum = ( 3 + 3 ) => sum = 6\n",
        "# 6     4   sum = ( 6 + 4 ) => sum = 10\n",
        "# 10    5   sum = ( 10 + 5 ) => sum = 15"
      ],
      "metadata": {
        "colab": {
          "base_uri": "https://localhost:8080/"
        },
        "id": "JydMuOIqqZcH",
        "outputId": "20fe79b5-9328-485e-d0ef-28c855991e1f"
      },
      "execution_count": 29,
      "outputs": [
        {
          "output_type": "stream",
          "name": "stdout",
          "text": [
            "5\n",
            "15\n"
          ]
        }
      ]
    },
    {
      "cell_type": "code",
      "source": [
        "# Print sum of even numbers from 1 to N\n",
        "# Example\n",
        "# N = 7\n",
        "# Output : 2+4+6 = 12\n",
        "# 2 4 6 8 ... N\n",
        "\n",
        "n = int(input())\n",
        "\n",
        "sum = 0\n",
        "for i in range(2, n+1, 2) :\n",
        "  sum = sum + i\n",
        "print(sum)"
      ],
      "metadata": {
        "colab": {
          "base_uri": "https://localhost:8080/"
        },
        "id": "S6_dTyxrslsy",
        "outputId": "10872feb-a178-4d42-dceb-fa9f523c8457"
      },
      "execution_count": 30,
      "outputs": [
        {
          "output_type": "stream",
          "name": "stdout",
          "text": [
            "10\n",
            "30\n"
          ]
        }
      ]
    }
  ]
}