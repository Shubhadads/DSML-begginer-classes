{
  "nbformat": 4,
  "nbformat_minor": 0,
  "metadata": {
    "colab": {
      "provenance": []
    },
    "kernelspec": {
      "name": "python3",
      "display_name": "Python 3"
    },
    "language_info": {
      "name": "python"
    }
  },
  "cells": [
    {
      "cell_type": "code",
      "execution_count": 1,
      "metadata": {
        "id": "xMu2FDctvvRV"
      },
      "outputs": [],
      "source": [
        "def sum_of_digits(n) :\n",
        "\n",
        "  # Base condition\n",
        "  if n == 0 :\n",
        "    return 0\n",
        "\n",
        "  ans = n % 10 + sum_of_digits(n//10)\n",
        "  return ans"
      ]
    },
    {
      "cell_type": "code",
      "source": [
        "print(sum_of_digits(124))\n",
        "print(sum_of_digits(10035))"
      ],
      "metadata": {
        "colab": {
          "base_uri": "https://localhost:8080/"
        },
        "id": "s8dUihOUzEMv",
        "outputId": "030ac576-cfbc-4de2-b606-930fa67599e7"
      },
      "execution_count": 3,
      "outputs": [
        {
          "output_type": "stream",
          "name": "stdout",
          "text": [
            "7\n",
            "9\n"
          ]
        }
      ]
    },
    {
      "cell_type": "code",
      "source": [
        "def pow(x, y) :\n",
        "\n",
        "  # Base condition\n",
        "  if y == 0 :\n",
        "    return 1\n",
        "\n",
        "  # Recursive condition\n",
        "  ans = x * pow(x, y-1)\n",
        "  return ans"
      ],
      "metadata": {
        "id": "UPMhp1Pe1UXk"
      },
      "execution_count": 4,
      "outputs": []
    },
    {
      "cell_type": "code",
      "source": [
        "print(pow(3, 5))\n",
        "print(pow(-4, 2))"
      ],
      "metadata": {
        "colab": {
          "base_uri": "https://localhost:8080/"
        },
        "id": "E66Mjl3S1fqP",
        "outputId": "e35c8511-7ab8-4e65-b5e4-30fa43b9aa04"
      },
      "execution_count": 6,
      "outputs": [
        {
          "output_type": "stream",
          "name": "stdout",
          "text": [
            "243\n",
            "16\n"
          ]
        }
      ]
    },
    {
      "cell_type": "code",
      "source": [
        "def optimised_pow(x, y) :\n",
        "\n",
        "  # Base condition\n",
        "  if y == 0 :\n",
        "    return 1\n",
        "\n",
        "  # Recursive condition\n",
        "  if y % 2 == 0 :\n",
        "    # Power is even\n",
        "    half_pow = optimised_pow(x, y//2)\n",
        "    return half_pow * half_pow\n",
        "  else :\n",
        "    # Power is odd\n",
        "    half_pow = optimised_pow(x, (y-1)//2)\n",
        "    return x * half_pow * half_pow"
      ],
      "metadata": {
        "id": "WtbawaIa4_Qa"
      },
      "execution_count": 11,
      "outputs": []
    },
    {
      "cell_type": "code",
      "source": [
        "print(optimised_pow(3, 9))\n",
        "print(optimised_pow(6, 10))"
      ],
      "metadata": {
        "colab": {
          "base_uri": "https://localhost:8080/"
        },
        "id": "IRmjhsQQ6hK7",
        "outputId": "dacb6b24-a284-48b6-c9e3-9ee63c820e90"
      },
      "execution_count": 12,
      "outputs": [
        {
          "output_type": "stream",
          "name": "stdout",
          "text": [
            "19683\n",
            "60466176\n"
          ]
        }
      ]
    }
  ]
}