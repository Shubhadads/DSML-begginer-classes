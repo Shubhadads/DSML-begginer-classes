{
  "nbformat": 4,
  "nbformat_minor": 0,
  "metadata": {
    "colab": {
      "provenance": []
    },
    "kernelspec": {
      "name": "python3",
      "display_name": "Python 3"
    },
    "language_info": {
      "name": "python"
    }
  },
  "cells": [
    {
      "cell_type": "markdown",
      "source": [
        "Q1 : Write a Python program to create a Vehicle class with max_speed and mileage attributes."
      ],
      "metadata": {
        "id": "0CeHiddGfCZU"
      }
    },
    {
      "cell_type": "code",
      "execution_count": null,
      "metadata": {
        "colab": {
          "base_uri": "https://localhost:8080/"
        },
        "id": "uvuKYGnmd-GY",
        "outputId": "a3074334-6975-4864-b763-fa926895fa90"
      },
      "outputs": [
        {
          "output_type": "stream",
          "name": "stdout",
          "text": [
            "Max speed is 100 and Mileage is 15\n"
          ]
        }
      ],
      "source": [
        "class Vehicle :\n",
        "\n",
        "  def __init__(self, max_speed, mileage) :\n",
        "    self.max_speed = max_speed\n",
        "    self.mileage = mileage\n",
        "\n",
        "car = Vehicle(100, 15)\n",
        "print(f\"Max speed is {car.max_speed} and Mileage is {car.mileage}\")"
      ]
    },
    {
      "cell_type": "markdown",
      "source": [
        "Q2 : Create a Vehicle class without any variables and methods"
      ],
      "metadata": {
        "id": "KXCUbd6cgNsT"
      }
    },
    {
      "cell_type": "code",
      "source": [
        "class Vehicle :\n",
        "  pass\n",
        "\n",
        "car = Vehicle()\n",
        "print(type(car))"
      ],
      "metadata": {
        "colab": {
          "base_uri": "https://localhost:8080/"
        },
        "id": "b1CdRf_AgNd_",
        "outputId": "32801448-9f24-4535-d03b-d45ea395c928"
      },
      "execution_count": null,
      "outputs": [
        {
          "output_type": "stream",
          "name": "stdout",
          "text": [
            "<class '__main__.Vehicle'>\n"
          ]
        }
      ]
    },
    {
      "cell_type": "markdown",
      "source": [
        "Q3 : Create 2 child classes Car and Bike. They will inherit all of the variables and methods of the Vehicle class. "
      ],
      "metadata": {
        "id": "IfM2fIf0g0fp"
      }
    },
    {
      "cell_type": "code",
      "source": [
        "class Vehicle :\n",
        "\n",
        "  def __init__(self, max_speed, mileage) :\n",
        "    self.max_speed = max_speed\n",
        "    self.mileage = mileage\n",
        "\n",
        "class Car(Vehicle) :\n",
        "  pass\n",
        "\n",
        "class Bike(Vehicle) :\n",
        "  pass\n",
        "\n",
        "car = Car(100, 15)\n",
        "print(f\"Max speed is {car.max_speed} and Mileage is {car.mileage}\")\n",
        "\n",
        "bike = Bike(60, 30)\n",
        "print(f\"Max speed is {bike.max_speed} and Mileage is {bike.mileage}\")"
      ],
      "metadata": {
        "colab": {
          "base_uri": "https://localhost:8080/"
        },
        "id": "bifVqQpFg8Zr",
        "outputId": "3ca9c81d-1227-4900-c1b5-8cdec0c94659"
      },
      "execution_count": null,
      "outputs": [
        {
          "output_type": "stream",
          "name": "stdout",
          "text": [
            "Max speed is 100 and Mileage is 15\n",
            "Max speed is 60 and Mileage is 30\n"
          ]
        }
      ]
    },
    {
      "cell_type": "markdown",
      "source": [
        "Q4 : Create a Bus class that inherits from the Vehicle class. \n",
        "- Vehicle class should have a seating capacity function which takes as argument capacity and prints vehicle has X capacity\n",
        "- Make a seating capacity function for Bus class. Give the capacity argument of Bus class a default value of 50."
      ],
      "metadata": {
        "id": "phSq_n41iDnT"
      }
    },
    {
      "cell_type": "code",
      "source": [
        "class Vehicle :\n",
        "\n",
        "  def __init__(self, max_speed, mileage) :\n",
        "    self.max_speed = max_speed\n",
        "    self.mileage = mileage\n",
        "\n",
        "  def seating_capacity(self, capacity) :\n",
        "    print(f\"Vehicle has {capacity} capacity\")\n",
        "\n",
        "class Bus(Vehicle) :\n",
        "  \n",
        "  def seating_capacity(self, capacity = 50) :\n",
        "    print(f\"Bus has {capacity} capacity\")\n",
        "\n",
        "\n",
        "vehicle = Vehicle(20, 30)\n",
        "vehicle.seating_capacity(10)\n",
        "\n",
        "bus1 = Bus(60, 10)\n",
        "bus1.seating_capacity(80)\n",
        "\n",
        "bus2 = Bus(60, 10)\n",
        "bus2.seating_capacity()"
      ],
      "metadata": {
        "colab": {
          "base_uri": "https://localhost:8080/"
        },
        "id": "bvzUqRPbidKd",
        "outputId": "5dd8ec1b-21d0-45cb-86de-6e8f65536587"
      },
      "execution_count": null,
      "outputs": [
        {
          "output_type": "stream",
          "name": "stdout",
          "text": [
            "Vehicle has 10 capacity\n",
            "Bus has 80 capacity\n",
            "Bus has 50 capacity\n"
          ]
        }
      ]
    },
    {
      "cell_type": "markdown",
      "source": [
        "Q5 : Define a color property that must have the same value for every class instance."
      ],
      "metadata": {
        "id": "yH8yqNPFlq-o"
      }
    },
    {
      "cell_type": "code",
      "source": [
        "class Vehicle :\n",
        "\n",
        "  color = \"White\"\n",
        "\n",
        "  def __init__(self, max_speed, mileage) :\n",
        "    self.max_speed = max_speed\n",
        "    self.mileage = mileage\n",
        "\n",
        "\n",
        "v1 = Vehicle(80, 10)\n",
        "print(v1.color)\n",
        "\n",
        "v2 = Vehicle(70, 12)\n",
        "print(v2.color)"
      ],
      "metadata": {
        "colab": {
          "base_uri": "https://localhost:8080/"
        },
        "id": "TYYn0TdNlu2C",
        "outputId": "a8ec4594-aa8d-4d5c-9546-cdfd45238507"
      },
      "execution_count": null,
      "outputs": [
        {
          "output_type": "stream",
          "name": "stdout",
          "text": [
            "White\n",
            "White\n"
          ]
        }
      ]
    },
    {
      "cell_type": "markdown",
      "source": [
        "Q6 : Create a Bus child class that inherits from the Vehicle class. The default fare charge of any vehicle is seating capacity * 100. If Vehicle is Bus instance, we need to add an extra 10% on full fare as a maintenance charge. So total fare for bus instance will become the final amount = total fare + 10% of the total fare.\n",
        "\n",
        "Note: The bus seating capacity is 50. so the final fare amount should be 5500. You need to override the fare() method of a Vehicle class in Bus class."
      ],
      "metadata": {
        "id": "Z1JWjdWPmu1V"
      }
    },
    {
      "cell_type": "code",
      "source": [
        "class Vehicle :\n",
        "\n",
        "  def __init__(self, max_speed, mileage, capacity) :\n",
        "    self.max_speed = max_speed\n",
        "    self.mileage = mileage\n",
        "    self.capacity = capacity\n",
        "\n",
        "  def fare(self) :\n",
        "    return self.capacity * 100\n",
        "\n",
        "class Bus(Vehicle) :\n",
        "  \n",
        "  def fare(self) :\n",
        "    # return (self.capacity * 100) * 1.1\n",
        "    return self.capacity * 110\n",
        "\n",
        "# Total + 10% -> 100% + 10% -> 110% -> 110/100 -> 1.1"
      ],
      "metadata": {
        "id": "-rtopbEEmxOt"
      },
      "execution_count": null,
      "outputs": []
    },
    {
      "cell_type": "markdown",
      "source": [
        "### Access Modifiers\n",
        "\n",
        "Who has access to variables and methods of a class\n",
        "- Public : Anyone can access\n",
        "- Protected : Children can access, but no one else can [ Syntax : _variable, _method ]\n",
        "- Private : Only class can access [ Syntax : __variable, __method ]"
      ],
      "metadata": {
        "id": "ACFYZYdgodwA"
      }
    },
    {
      "cell_type": "markdown",
      "source": [
        "### Higher Order Functions\n",
        "\n",
        "Function which returns a function"
      ],
      "metadata": {
        "id": "fylERPR-tRdl"
      }
    },
    {
      "cell_type": "markdown",
      "source": [
        "Q7 : Write a higher order function, which takes currency exchange ratio and symbol as input, and returns a currency conversion function.\n",
        "\n",
        "Example : ₹, 82\n",
        "\n",
        "Input : 50, Output : ₹4100"
      ],
      "metadata": {
        "id": "YCZ-3xNCth4Z"
      }
    },
    {
      "cell_type": "code",
      "source": [
        "def currency_converter_creater(symbol, conversion_ratio) :\n",
        "\n",
        "  def currency_converter(dollars) :\n",
        "    return f\"{symbol}{dollars * conversion_ratio}\"\n",
        "\n",
        "  return currency_converter"
      ],
      "metadata": {
        "id": "PcAZUIpGs0wn"
      },
      "execution_count": null,
      "outputs": []
    },
    {
      "cell_type": "code",
      "source": [
        "inr_converter = currency_converter_creater('₹', 82)\n",
        "print(inr_converter(50))\n",
        "\n",
        "euro_converter = currency_converter_creater('€', 0.8)\n",
        "print(euro_converter(50))"
      ],
      "metadata": {
        "colab": {
          "base_uri": "https://localhost:8080/"
        },
        "id": "GN8oG4QbtQug",
        "outputId": "c2078361-86b2-424e-9355-2d9d18e1c9b9"
      },
      "execution_count": null,
      "outputs": [
        {
          "output_type": "stream",
          "name": "stdout",
          "text": [
            "₹4100\n",
            "€40.0\n"
          ]
        }
      ]
    },
    {
      "cell_type": "markdown",
      "source": [
        "### Doubts"
      ],
      "metadata": {
        "id": "DjPKW_6b6YwR"
      }
    },
    {
      "cell_type": "code",
      "source": [
        "# Take input\n",
        "inp = input()\n",
        "\n",
        "# Split the input\n",
        "inp = inp.split()\n",
        "\n",
        "# Iterate over all emails\n",
        "ans = filter(inp, valid)\n",
        "\n",
        "return ans"
      ],
      "metadata": {
        "id": "knFuyUOKxAQr"
      },
      "execution_count": null,
      "outputs": []
    },
    {
      "cell_type": "code",
      "source": [
        "ids=[\"Sam@gmail.com\", \"Ram@gmail.com\", \"Sam@gmail.com\", \"samJohnson@iit.com\", \"SAM@harvard.com\"]\n",
        "name=\"sam\" \"SAM\"\n",
        "\n",
        "result = list(filter(lambda x : ??? , ids))\n",
        "print(result)\n",
        "\n",
        "    (name.lower() in x) or (name.upper() in x)\n",
        "    (name.lower() and name.upper()) in x\n",
        "    (name.lower() or name.upper()) in x\n",
        "    name.lower() in x and name.upper() in x"
      ],
      "metadata": {
        "id": "MmJOdu_rykrB"
      },
      "execution_count": null,
      "outputs": []
    },
    {
      "cell_type": "code",
      "source": [
        "name = \"sam\"\n",
        "print(name.lower() or name.upper())\n",
        "\n",
        "(name.lower() or name.upper()) in email\n"
      ],
      "metadata": {
        "colab": {
          "base_uri": "https://localhost:8080/"
        },
        "id": "kziCv4l-0BHh",
        "outputId": "381fb9c9-28df-4be6-e5d1-244d5117cb06"
      },
      "execution_count": 19,
      "outputs": [
        {
          "output_type": "stream",
          "name": "stdout",
          "text": [
            "sam\n"
          ]
        }
      ]
    },
    {
      "cell_type": "code",
      "source": [
        "# Given a sorted array of non-negative distinct integers, \n",
        "# find the smallest missing non-negative integer in it\n",
        "\n",
        "# Ex : 0 1 2 3 4 5 6 \n",
        "# Ans : 7\n",
        "\n",
        "# Ex : 0 1 2 4 7 \n",
        "# Ans : 3\n",
        "\n",
        "# Observation\n",
        "# Smaller non-missing elements are same as index in the list\n",
        "\n",
        "# Find the largest index in list, where index is equal to element\n",
        "# Return largest index + 1\n",
        "\n",
        "# ls = [0, 1, 2, 4, 7]\n",
        "ls = [0, 1, 2, 3, 4, 5, 6]\n",
        "\n",
        "s = 0\n",
        "e = len(ls)-1\n",
        "ans = -1\n",
        "\n",
        "while s <= e :\n",
        "  m = (s+e)//2\n",
        "\n",
        "  if ls[m] > m :\n",
        "    e = m-1\n",
        "\n",
        "  elif ls[m] == m :\n",
        "    # Assume m is the greatest index with correct element\n",
        "    # And update your ans\n",
        "\n",
        "    # If assumption is incorrect, ans will get updated later\n",
        "    # to an index on the right side\n",
        "    ans = m\n",
        "    s = m+1\n",
        "\n",
        "print(ans+1)"
      ],
      "metadata": {
        "colab": {
          "base_uri": "https://localhost:8080/"
        },
        "id": "SyQbrMn10g0J",
        "outputId": "c58c4010-37e6-4575-ae76-e6a767e36442"
      },
      "execution_count": 21,
      "outputs": [
        {
          "output_type": "stream",
          "name": "stdout",
          "text": [
            "7\n"
          ]
        }
      ]
    },
    {
      "cell_type": "code",
      "source": [
        "sentence = \"abc cde def\"\n",
        "result = list(map(lambda x: list(x), sentence.split(\" \")))\n",
        "print(result)"
      ],
      "metadata": {
        "colab": {
          "base_uri": "https://localhost:8080/"
        },
        "id": "C_DyWRul3xtN",
        "outputId": "f44df5e3-dde3-4d8a-d38a-84c5f54e95be"
      },
      "execution_count": 22,
      "outputs": [
        {
          "output_type": "stream",
          "name": "stdout",
          "text": [
            "[['a', 'b', 'c'], ['c', 'd', 'e'], ['d', 'e', 'f']]\n"
          ]
        }
      ]
    },
    {
      "cell_type": "code",
      "source": [
        "names = [\"Adam\",\"Millie\",\"Jacob\",\"Michael\",\"Maxine\"]\n",
        "loc = [(1,2),(5,4),(0,3),(2,3),(0,0)]\n",
        "\n",
        "mini = float(\"inf\")\n",
        "for i in range(len(loc)):\n",
        "  Sum = 0\n",
        "  for j in range(i+1,len(loc)):\n",
        "    Sum = abs(loc[i][0]-loc[j][0]) + abs(loc[i][1]-loc[j][1])\n",
        "    mini = min(Sum, mini)\n",
        "\n",
        "print(mini, Sum)\n",
        "# print(Sum)"
      ],
      "metadata": {
        "colab": {
          "base_uri": "https://localhost:8080/"
        },
        "id": "BN9FWjvJ4xq6",
        "outputId": "581988a6-c0a3-4d5c-9057-59907bd482b5"
      },
      "execution_count": 23,
      "outputs": [
        {
          "output_type": "stream",
          "name": "stdout",
          "text": [
            "2 0\n"
          ]
        }
      ]
    },
    {
      "cell_type": "code",
      "source": [
        "3, 2\n",
        "x, -1\n",
        "\n",
        "Distance is 5\n",
        "\n",
        "(x-3)^2 + (2-(-1))^2 = 25\n",
        "(x-3)^2 = 16\n",
        "|x-3| = 4\n",
        "x-3 = 4 -> x = 7\n",
        "x-3 = -4 -> x = -1"
      ],
      "metadata": {
        "id": "rIWvctQe5nRU"
      },
      "execution_count": null,
      "outputs": []
    }
  ]
}