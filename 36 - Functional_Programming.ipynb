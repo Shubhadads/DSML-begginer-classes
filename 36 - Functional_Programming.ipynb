{
  "nbformat": 4,
  "nbformat_minor": 0,
  "metadata": {
    "colab": {
      "provenance": []
    },
    "kernelspec": {
      "name": "python3",
      "display_name": "Python 3"
    },
    "language_info": {
      "name": "python"
    }
  },
  "cells": [
    {
      "cell_type": "code",
      "execution_count": null,
      "metadata": {
        "colab": {
          "base_uri": "https://localhost:8080/"
        },
        "id": "DqzEhe5O4IpI",
        "outputId": "3d5663d0-3f42-4342-e4d5-ae4d3a58bbf6"
      },
      "outputs": [
        {
          "output_type": "execute_result",
          "data": {
            "text/plain": [
              "True"
            ]
          },
          "metadata": {},
          "execution_count": 1
        }
      ],
      "source": [
        "isinstance(print, object)"
      ]
    },
    {
      "cell_type": "code",
      "source": [
        "def square(x) :\n",
        "  return x**2\n",
        "  \n",
        "print(square(2))"
      ],
      "metadata": {
        "colab": {
          "base_uri": "https://localhost:8080/"
        },
        "id": "Gj7s7vWu6N87",
        "outputId": "2cd61042-4c25-44ce-bf01-10a54d88efe2"
      },
      "execution_count": null,
      "outputs": [
        {
          "output_type": "stream",
          "name": "stdout",
          "text": [
            "4\n"
          ]
        }
      ]
    },
    {
      "cell_type": "code",
      "source": [
        "# Lambda\n",
        "square = lambda x : x**2\n",
        "\n",
        "print(square(2))\n",
        "print(square(-1))\n",
        "print(square(5))"
      ],
      "metadata": {
        "colab": {
          "base_uri": "https://localhost:8080/"
        },
        "id": "mS_R_sMZ6kLE",
        "outputId": "b69f93a9-e8f6-4b26-97d2-30010cbd71ad"
      },
      "execution_count": null,
      "outputs": [
        {
          "output_type": "stream",
          "name": "stdout",
          "text": [
            "4\n",
            "1\n",
            "25\n"
          ]
        }
      ]
    },
    {
      "cell_type": "code",
      "source": [
        "add_two = lambda x, y : x + y\n",
        "\n",
        "print(add_two(2, 3))"
      ],
      "metadata": {
        "colab": {
          "base_uri": "https://localhost:8080/"
        },
        "id": "UX81st_m6tW1",
        "outputId": "d1d76a49-741e-4302-d099-29a35d8e0ace"
      },
      "execution_count": null,
      "outputs": [
        {
          "output_type": "stream",
          "name": "stdout",
          "text": [
            "5\n"
          ]
        }
      ]
    },
    {
      "cell_type": "code",
      "source": [
        "# Lambda functions are anonymous\n",
        "\n",
        "( lambda x : x ** 3 )(4)"
      ],
      "metadata": {
        "colab": {
          "base_uri": "https://localhost:8080/"
        },
        "id": "NuAoKcNJ7Bbm",
        "outputId": "9dfb82d9-ef32-4b91-aa85-c25997ed8eb8"
      },
      "execution_count": null,
      "outputs": [
        {
          "output_type": "execute_result",
          "data": {
            "text/plain": [
              "64"
            ]
          },
          "metadata": {},
          "execution_count": 7
        }
      ]
    },
    {
      "cell_type": "code",
      "source": [
        "is_even = lambda x : True if x%2==0 else False\n",
        "\n",
        "print(is_even(3))\n",
        "print(is_even(4))"
      ],
      "metadata": {
        "colab": {
          "base_uri": "https://localhost:8080/"
        },
        "id": "ZFd_sujf7cat",
        "outputId": "2a2ef2a2-e135-4da5-9f00-3fc59eacb144"
      },
      "execution_count": null,
      "outputs": [
        {
          "output_type": "stream",
          "name": "stdout",
          "text": [
            "False\n",
            "True\n"
          ]
        }
      ]
    },
    {
      "cell_type": "code",
      "source": [
        "# Use case\n",
        "\n",
        "a = [4,5,1,2,3,8,9,10]"
      ],
      "metadata": {
        "id": "w6-Mt9_A81Bj"
      },
      "execution_count": null,
      "outputs": []
    },
    {
      "cell_type": "code",
      "source": [
        "sorted_a = sorted(a)\n",
        "print(sorted_a)"
      ],
      "metadata": {
        "colab": {
          "base_uri": "https://localhost:8080/"
        },
        "id": "BmFScN2l9EU-",
        "outputId": "e1bfc1e1-5c08-466f-ea4b-50474d0c5cfd"
      },
      "execution_count": null,
      "outputs": [
        {
          "output_type": "stream",
          "name": "stdout",
          "text": [
            "[1, 2, 3, 4, 5, 8, 9, 10]\n"
          ]
        }
      ]
    },
    {
      "cell_type": "code",
      "source": [
        "sorted?"
      ],
      "metadata": {
        "id": "_5rxhlkL9NwG"
      },
      "execution_count": null,
      "outputs": []
    },
    {
      "cell_type": "code",
      "source": [
        "reverse_sorted_a = sorted(a, reverse=True)\n",
        "print(reverse_sorted_a)"
      ],
      "metadata": {
        "colab": {
          "base_uri": "https://localhost:8080/"
        },
        "id": "mTl3pubs9byP",
        "outputId": "fa41222a-327a-4752-b887-0d57dd64f7ea"
      },
      "execution_count": null,
      "outputs": [
        {
          "output_type": "stream",
          "name": "stdout",
          "text": [
            "[10, 9, 8, 5, 4, 3, 2, 1]\n"
          ]
        }
      ]
    },
    {
      "cell_type": "code",
      "source": [
        "students = [\n",
        "    { \"name\": \"A\", \"marks\": 50 },\n",
        "    { \"name\": \"B\", \"marks\": 100 },\n",
        "    { \"name\": \"C\", \"marks\": 40 },\n",
        "    { \"name\": \"D\", \"marks\": 80 },\n",
        "    { \"name\": \"E\", \"marks\": 70 },\n",
        "]"
      ],
      "metadata": {
        "id": "9aMvBiqC9lP_"
      },
      "execution_count": null,
      "outputs": []
    },
    {
      "cell_type": "code",
      "source": [
        "# Throws error\n",
        "sorted_students = sorted(students)"
      ],
      "metadata": {
        "colab": {
          "base_uri": "https://localhost:8080/",
          "height": 183
        },
        "id": "APnqkoHu-jMz",
        "outputId": "fde70648-02ab-4ea6-b170-4f76889a1456"
      },
      "execution_count": null,
      "outputs": [
        {
          "output_type": "error",
          "ename": "TypeError",
          "evalue": "ignored",
          "traceback": [
            "\u001b[0;31m---------------------------------------------------------------------------\u001b[0m",
            "\u001b[0;31mTypeError\u001b[0m                                 Traceback (most recent call last)",
            "\u001b[0;32m<ipython-input-21-62c06b876748>\u001b[0m in \u001b[0;36m<module>\u001b[0;34m\u001b[0m\n\u001b[1;32m      1\u001b[0m \u001b[0;31m# Throws error\u001b[0m\u001b[0;34m\u001b[0m\u001b[0;34m\u001b[0m\u001b[0;34m\u001b[0m\u001b[0m\n\u001b[0;32m----> 2\u001b[0;31m \u001b[0msorted_students\u001b[0m \u001b[0;34m=\u001b[0m \u001b[0msorted\u001b[0m\u001b[0;34m(\u001b[0m\u001b[0mstudents\u001b[0m\u001b[0;34m)\u001b[0m\u001b[0;34m\u001b[0m\u001b[0;34m\u001b[0m\u001b[0m\n\u001b[0m",
            "\u001b[0;31mTypeError\u001b[0m: '<' not supported between instances of 'dict' and 'dict'"
          ]
        }
      ]
    },
    {
      "cell_type": "code",
      "source": [
        "sorted_students = sorted(\n",
        "    students,\n",
        "    key = lambda x : x[\"marks\"]\n",
        ")\n",
        "\n",
        "print(sorted_students)"
      ],
      "metadata": {
        "colab": {
          "base_uri": "https://localhost:8080/"
        },
        "id": "qrapTeOe9-6r",
        "outputId": "590dd547-bd10-4518-c2e0-366a9254ebc1"
      },
      "execution_count": null,
      "outputs": [
        {
          "output_type": "stream",
          "name": "stdout",
          "text": [
            "[{'name': 'C', 'marks': 40}, {'name': 'A', 'marks': 50}, {'name': 'E', 'marks': 70}, {'name': 'D', 'marks': 80}, {'name': 'B', 'marks': 100}]\n"
          ]
        }
      ]
    },
    {
      "cell_type": "code",
      "source": [
        "# d1 = {'name': 'C', 'marks': 100}\n",
        "# d2 = {'name': 'A', 'marks': 50}\n",
        "\n",
        "# k1 = key(d1) # 100\n",
        "# k2 = key(d2) # 50\n",
        "\n",
        "# if(k1<k2) return True\n",
        "# else return False"
      ],
      "metadata": {
        "id": "bno5JMoC-p2A"
      },
      "execution_count": null,
      "outputs": []
    },
    {
      "cell_type": "code",
      "source": [
        "def sort_student(d) :\n",
        "  return d[\"marks\"]\n",
        "\n",
        "sorted_students = sorted(\n",
        "    students,\n",
        "    key = sort_student\n",
        ")\n",
        "\n",
        "print(sorted_students)"
      ],
      "metadata": {
        "colab": {
          "base_uri": "https://localhost:8080/"
        },
        "id": "il_SEd3l_dax",
        "outputId": "0ac17380-694c-4b38-df00-04e333c2cc38"
      },
      "execution_count": null,
      "outputs": [
        {
          "output_type": "stream",
          "name": "stdout",
          "text": [
            "[{'name': 'C', 'marks': 40}, {'name': 'A', 'marks': 50}, {'name': 'E', 'marks': 70}, {'name': 'D', 'marks': 80}, {'name': 'B', 'marks': 100}]\n"
          ]
        }
      ]
    },
    {
      "cell_type": "code",
      "source": [
        "# HOMEWORK\n",
        "# Write a sorting function which takes as argument\n",
        "# List, Key, Reverse parameters"
      ],
      "metadata": {
        "id": "Dh6JWDrDBZ2G"
      },
      "execution_count": null,
      "outputs": []
    },
    {
      "cell_type": "code",
      "source": [
        "# Break till 10pm"
      ],
      "metadata": {
        "id": "ieIAmtr-CY-W"
      },
      "execution_count": null,
      "outputs": []
    },
    {
      "cell_type": "code",
      "source": [
        "# Higher Order Functions\n",
        "\n",
        "def gen_exp(n) :\n",
        "  \n",
        "  def exp(x) :\n",
        "    return x ** n\n",
        "\n",
        "  return exp"
      ],
      "metadata": {
        "id": "s7b4HQf-E_vW"
      },
      "execution_count": 75,
      "outputs": []
    },
    {
      "cell_type": "code",
      "source": [
        "exp_3 = gen_exp(3)\n",
        "print(exp_3(2))\n",
        "print(exp_3(4))\n",
        "\n",
        "exp_5 = gen_exp(5)\n",
        "print(exp_5(3))"
      ],
      "metadata": {
        "colab": {
          "base_uri": "https://localhost:8080/"
        },
        "id": "veRvyhE-GBHN",
        "outputId": "018bda0e-38ce-4f20-d840-f44463d8cd8a"
      },
      "execution_count": 29,
      "outputs": [
        {
          "output_type": "stream",
          "name": "stdout",
          "text": [
            "8\n",
            "64\n",
            "243\n"
          ]
        }
      ]
    },
    {
      "cell_type": "code",
      "source": [
        "# Decorators"
      ],
      "metadata": {
        "id": "QQ0W364MJrlU"
      },
      "execution_count": null,
      "outputs": []
    },
    {
      "cell_type": "code",
      "source": [
        "def hello():\n",
        "  print(\"Hello\")"
      ],
      "metadata": {
        "id": "2cM4eqTSJs0_"
      },
      "execution_count": 30,
      "outputs": []
    },
    {
      "cell_type": "code",
      "source": [
        "hello()"
      ],
      "metadata": {
        "colab": {
          "base_uri": "https://localhost:8080/"
        },
        "id": "f8KLpp-sJwel",
        "outputId": "c32e8d8c-0db0-4fbb-ecc9-e3f552c40f5d"
      },
      "execution_count": 31,
      "outputs": [
        {
          "output_type": "stream",
          "name": "stdout",
          "text": [
            "Hello\n"
          ]
        }
      ]
    },
    {
      "cell_type": "code",
      "source": [
        "'''\n",
        "\n",
        "🌸🌸🌸🌸🌸🌸\n",
        "Hello\n",
        "🌸🌸🌸🌸🌸🌸\n",
        "\n",
        "'''"
      ],
      "metadata": {
        "id": "Ksv3vKoIJzqO"
      },
      "execution_count": null,
      "outputs": []
    },
    {
      "cell_type": "code",
      "source": [
        "def hello() :\n",
        "  print('🌸' * 6)\n",
        "  print('Hello')\n",
        "  print('🌸' * 6)\n",
        "\n",
        "hello()"
      ],
      "metadata": {
        "colab": {
          "base_uri": "https://localhost:8080/"
        },
        "id": "buKLu2kNKRcA",
        "outputId": "08f1e1c6-f182-431f-ffed-851d130e8ab6"
      },
      "execution_count": 32,
      "outputs": [
        {
          "output_type": "stream",
          "name": "stdout",
          "text": [
            "🌸🌸🌸🌸🌸🌸\n",
            "Hello\n",
            "🌸🌸🌸🌸🌸🌸\n"
          ]
        }
      ]
    },
    {
      "cell_type": "code",
      "source": [
        "def bye() :\n",
        "  print('🌸' * 6)\n",
        "  print('Bye')\n",
        "  print('🌸' * 6)\n",
        "\n",
        "bye()"
      ],
      "metadata": {
        "colab": {
          "base_uri": "https://localhost:8080/"
        },
        "id": "kmp_f8xoKiou",
        "outputId": "88155eaf-d76b-4794-8e7b-c49f4a34ab65"
      },
      "execution_count": 33,
      "outputs": [
        {
          "output_type": "stream",
          "name": "stdout",
          "text": [
            "🌸🌸🌸🌸🌸🌸\n",
            "Bye\n",
            "🌸🌸🌸🌸🌸🌸\n"
          ]
        }
      ]
    },
    {
      "cell_type": "code",
      "source": [
        "def hello() :\n",
        "  print('Hello')\n",
        "\n",
        "def bye() :\n",
        "  print('Bye')\n",
        "\n",
        "def random() :\n",
        "  print('Random')"
      ],
      "metadata": {
        "id": "msrMXbycKnL6"
      },
      "execution_count": 54,
      "outputs": []
    },
    {
      "cell_type": "code",
      "source": [
        "def pretty(func) :\n",
        "\n",
        "  def wrapper() :\n",
        "    print('🌸' * 6)\n",
        "    func()\n",
        "    print('🌸' * 6)\n",
        "  \n",
        "  return wrapper"
      ],
      "metadata": {
        "id": "AEu_ifJrKtnV"
      },
      "execution_count": 58,
      "outputs": []
    },
    {
      "cell_type": "code",
      "source": [
        "hello = pretty(hello, '🌸')\n",
        "bye = pretty(bye, '👋🏻')\n",
        "random = pretty(random, '🐧')"
      ],
      "metadata": {
        "id": "Zayp-umpK-zG"
      },
      "execution_count": 56,
      "outputs": []
    },
    {
      "cell_type": "code",
      "source": [
        "hello()\n",
        "bye()\n",
        "random()"
      ],
      "metadata": {
        "colab": {
          "base_uri": "https://localhost:8080/"
        },
        "id": "mbuzyHNELZpT",
        "outputId": "bd445cb8-c0ba-4683-f4a1-08022b91c238"
      },
      "execution_count": 57,
      "outputs": [
        {
          "output_type": "stream",
          "name": "stdout",
          "text": [
            "🌸🌸🌸🌸🌸🌸\n",
            "Hello\n",
            "🌸🌸🌸🌸🌸🌸\n",
            "👋🏻👋🏻👋🏻👋🏻👋🏻👋🏻\n",
            "Bye\n",
            "👋🏻👋🏻👋🏻👋🏻👋🏻👋🏻\n",
            "🐧🐧🐧🐧🐧🐧\n",
            "Random\n",
            "🐧🐧🐧🐧🐧🐧\n"
          ]
        }
      ]
    },
    {
      "cell_type": "code",
      "source": [
        "@pretty\n",
        "def super():\n",
        "    print(\"super\")"
      ],
      "metadata": {
        "id": "vHgLZC09MXdt"
      },
      "execution_count": 59,
      "outputs": []
    },
    {
      "cell_type": "code",
      "source": [
        "super()"
      ],
      "metadata": {
        "colab": {
          "base_uri": "https://localhost:8080/"
        },
        "id": "21mEGOENMnp5",
        "outputId": "601484ab-0d5d-4baa-c071-487391cccdb6"
      },
      "execution_count": 60,
      "outputs": [
        {
          "output_type": "stream",
          "name": "stdout",
          "text": [
            "🌸🌸🌸🌸🌸🌸\n",
            "super\n",
            "🌸🌸🌸🌸🌸🌸\n"
          ]
        }
      ]
    },
    {
      "cell_type": "code",
      "source": [
        "# Three principles of Functional Programming\n",
        "\n",
        "# 1. Separate data from mutations\n",
        "# 2. Treat variables as immutable\n",
        "# 3. Treat functions as objects"
      ],
      "metadata": {
        "id": "fvzzwc1VMsYy"
      },
      "execution_count": null,
      "outputs": []
    },
    {
      "cell_type": "code",
      "source": [
        "x = 5\n",
        "\n",
        "# def mutate(x) :\n",
        "#   return 2 * x + 1\n",
        "\n",
        "# x = mutate(x)\n",
        "# print(x)\n",
        "\n",
        "def mutate_1(x) :\n",
        "  return 2 * x + 1\n",
        "\n",
        "x_1 = mutate_1(x)\n",
        "print(x_1)"
      ],
      "metadata": {
        "colab": {
          "base_uri": "https://localhost:8080/"
        },
        "id": "BhTySKK4M6yE",
        "outputId": "e977ad44-5dab-439d-f3bd-4b732535f8fb"
      },
      "execution_count": 62,
      "outputs": [
        {
          "output_type": "stream",
          "name": "stdout",
          "text": [
            "11\n"
          ]
        }
      ]
    },
    {
      "cell_type": "code",
      "source": [
        "# def random(arr):\n",
        "#     arr[0] = 100\n",
        "#     print(arr)\n",
        "    \n",
        "# a = [1,2,3]\n",
        "# random(a)\n",
        "\n",
        "# print(a)\n",
        "\n",
        "def random(arr):\n",
        "    arr_cpy = arr.copy()\n",
        "    arr_cpy[0] = 100\n",
        "    return arr_cpy\n",
        "    \n",
        "a = [1,2,3]\n",
        "a_random = random(a)\n",
        "\n",
        "print(a, a_random)"
      ],
      "metadata": {
        "colab": {
          "base_uri": "https://localhost:8080/"
        },
        "id": "qhdjYyacM66q",
        "outputId": "1f0fbb6e-30cf-48ad-a83d-9d31c18d4c44"
      },
      "execution_count": 65,
      "outputs": [
        {
          "output_type": "stream",
          "name": "stdout",
          "text": [
            "[1, 2, 3] [100, 2, 3]\n"
          ]
        }
      ]
    },
    {
      "cell_type": "code",
      "source": [
        "def gen_exp(n) : \n",
        "  \n",
        "  def exp(x) :\n",
        "    a = (x ** n)\n",
        "  \n",
        "    def exp1(y) : \n",
        "      return a//y \n",
        "    \n",
        "    return exp1\n",
        "  \n",
        "  return exp\n",
        "\n",
        "gen_exp(2)(3)(2)"
      ],
      "metadata": {
        "colab": {
          "base_uri": "https://localhost:8080/"
        },
        "id": "v5M202YTPUvo",
        "outputId": "7eeef428-4331-4f99-a746-3b38f733a02a"
      },
      "execution_count": 68,
      "outputs": [
        {
          "output_type": "execute_result",
          "data": {
            "text/plain": [
              "4"
            ]
          },
          "metadata": {},
          "execution_count": 68
        }
      ]
    },
    {
      "cell_type": "code",
      "source": [
        "exp_5 = gen_exp(5)(3)\n",
        "print(type(exp_5), exp_5)\n",
        "\n",
        "exp_5 = gen_exp(5)\n",
        "print(type(exp_5), exp_5(3))"
      ],
      "metadata": {
        "colab": {
          "base_uri": "https://localhost:8080/"
        },
        "id": "uoTeHbXzP3TZ",
        "outputId": "c296bbd4-4b75-4511-e00b-2564602dc225"
      },
      "execution_count": 76,
      "outputs": [
        {
          "output_type": "stream",
          "name": "stdout",
          "text": [
            "<class 'int'> 243\n",
            "<class 'function'> 243\n"
          ]
        }
      ]
    },
    {
      "cell_type": "code",
      "source": [
        "a=[1,3,4,2,5] \n",
        "print(a.sort())\n",
        "print(a)\n",
        "\n",
        "a.sort() -> In-built sort method on list class\n",
        "sorted(a) -> Global sorting function"
      ],
      "metadata": {
        "id": "Kg5t3OriRIKn"
      },
      "execution_count": 78,
      "outputs": []
    }
  ]
}