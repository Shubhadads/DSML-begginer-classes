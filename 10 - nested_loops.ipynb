{
  "nbformat": 4,
  "nbformat_minor": 0,
  "metadata": {
    "colab": {
      "provenance": []
    },
    "kernelspec": {
      "name": "python3",
      "display_name": "Python 3"
    },
    "language_info": {
      "name": "python"
    }
  },
  "cells": [
    {
      "cell_type": "code",
      "execution_count": 6,
      "metadata": {
        "colab": {
          "base_uri": "https://localhost:8080/"
        },
        "id": "3qoBUk947u5C",
        "outputId": "cac5e363-20fd-435d-f808-5c08220b1f6d"
      },
      "outputs": [
        {
          "output_type": "stream",
          "name": "stdout",
          "text": [
            "729\n",
            "9 2 7 "
          ]
        }
      ],
      "source": [
        "# Print digits of positive integer N in reverse order\n",
        "\n",
        "n = int(input())\n",
        "\n",
        "if n == 0 :\n",
        "  print(0)\n",
        "else :\n",
        "  while n > 0 :\n",
        "    print(n%10, end=' ')\n",
        "    n = n//10\n",
        "\n",
        "# initialise condition variable\n",
        "# while condition :\n",
        "#   do some work\n",
        "#   update condition variable"
      ]
    },
    {
      "cell_type": "code",
      "source": [
        "# Reverse an integer N\n",
        "\n",
        "n = int(input())\n",
        "\n",
        "ans = 0\n",
        "\n",
        "while n > 0 :\n",
        "  d = n % 10 # Get last digit of n\n",
        "  ans = ans * 10 + d # Put d at the end of ans\n",
        "  n = n // 10 # Remove the last digit of n\n",
        "\n",
        "print(ans)"
      ],
      "metadata": {
        "colab": {
          "base_uri": "https://localhost:8080/"
        },
        "id": "nhKYlEUdBV5p",
        "outputId": "95a544d3-ae90-4a31-c029-23bb19c8f891"
      },
      "execution_count": 10,
      "outputs": [
        {
          "output_type": "stream",
          "name": "stdout",
          "text": [
            "0\n",
            "0\n"
          ]
        }
      ]
    },
    {
      "cell_type": "code",
      "source": [
        "# Print common factors of N and M\n",
        "\n",
        "n = int(input())\n",
        "m = int(input())\n",
        "\n",
        "# [1, min(n,m)]\n",
        "hcf = 1\n",
        "\n",
        "for i in range(1, min(n, m)+1) :\n",
        "  if n % i == 0 and m % i == 0 :\n",
        "    # i is a common factor\n",
        "    print(i, end=' ')\n",
        "    hcf = i\n",
        "\n",
        "print()\n",
        "print(\"HCF is\", hcf)"
      ],
      "metadata": {
        "colab": {
          "base_uri": "https://localhost:8080/"
        },
        "id": "3zbw3RHzJR03",
        "outputId": "cdbee4e1-bb1f-45a4-ea8d-ea7db20db607"
      },
      "execution_count": 15,
      "outputs": [
        {
          "output_type": "stream",
          "name": "stdout",
          "text": [
            "17\n",
            "51\n",
            "1 17 \n",
            "HCF is 17\n"
          ]
        }
      ]
    },
    {
      "cell_type": "code",
      "source": [
        "# LCM of 2 integers N and M\n",
        "\n",
        "# Lowest common multiple\n",
        "\n",
        "15 -> 15 30 45 60 75 90\n",
        "10 -> 10 20 30 40 50 60\n",
        "\n",
        "Common multiple -> 30 60\n",
        "Lowest Common Multiple -> \n",
        "\n",
        "1. Using while loop\n",
        "2. Using formula"
      ],
      "metadata": {
        "id": "GZqemZ3BLmV1"
      },
      "execution_count": null,
      "outputs": []
    },
    {
      "cell_type": "code",
      "source": [
        "# Given an integer N, print N stars in a row\n",
        "\n",
        "# N = 5, Output : *****\n",
        "# N = 9, Output : *********\n",
        "\n",
        "n = int(input())\n",
        "\n",
        "for i in range(1, n+1) : # [1, N]\n",
        "  print('*', end='')"
      ],
      "metadata": {
        "colab": {
          "base_uri": "https://localhost:8080/"
        },
        "id": "tMlA9I2jNQaR",
        "outputId": "bd543cb4-1acc-4d10-8023-9df7b91f9b68"
      },
      "execution_count": 17,
      "outputs": [
        {
          "output_type": "stream",
          "name": "stdout",
          "text": [
            "9\n",
            "*********"
          ]
        }
      ]
    },
    {
      "cell_type": "code",
      "source": [
        "for i in range(3):\n",
        "    print('*', end='')\n",
        "for i in range(3):\n",
        "    print('*', end='')\n",
        "for i in range(3):\n",
        "    print('*', end='')"
      ],
      "metadata": {
        "colab": {
          "base_uri": "https://localhost:8080/"
        },
        "id": "QktKSyeKOtb5",
        "outputId": "5294038b-ea21-4811-fa11-4f320841ac85"
      },
      "execution_count": 18,
      "outputs": [
        {
          "output_type": "stream",
          "name": "stdout",
          "text": [
            "*********"
          ]
        }
      ]
    },
    {
      "cell_type": "code",
      "source": [
        "# Print a rectangle of starts of size N*M\n",
        "# N -> Rows\n",
        "# M -> Cols\n",
        "\n",
        "# N = 2\n",
        "# M = 4\n",
        "\n",
        "# ****\n",
        "# ****\n",
        "\n",
        "# N = 3\n",
        "# M = 2\n",
        "\n",
        "# **\n",
        "# **\n",
        "# **\n",
        "\n",
        "\n",
        "n = int(input())\n",
        "m = int(input())\n",
        "\n",
        "for i in range(1, n+1) : # Run n times\n",
        "  for j in range(1, m+1) : # Print 1 row / m stars\n",
        "    print('*', end='')\n",
        "  print() # start a new line after printing row"
      ],
      "metadata": {
        "colab": {
          "base_uri": "https://localhost:8080/"
        },
        "id": "v2Y-GT9XO97o",
        "outputId": "2df8798e-45ec-4fa8-de07-451f459f9faa"
      },
      "execution_count": 24,
      "outputs": [
        {
          "output_type": "stream",
          "name": "stdout",
          "text": [
            "4\n",
            "3\n",
            "***\n",
            "***\n",
            "***\n",
            "***\n"
          ]
        }
      ]
    },
    {
      "cell_type": "code",
      "source": [
        "# Given N, print staircase pattern\n",
        "\n",
        "# N = 4\n",
        "# *\n",
        "# **\n",
        "# ***\n",
        "# ****\n",
        "\n",
        "# N = 6\n",
        "# *\n",
        "# **\n",
        "# ***\n",
        "# ****\n",
        "# *****\n",
        "# ******\n",
        "\n",
        "# N = 4\n",
        "# Row   Stars\n",
        "# 1     1\n",
        "# 2     2\n",
        "# 3     3\n",
        "# 4     4\n",
        "\n",
        "n = int(input())\n",
        "\n",
        "for row in range(1, n+1) : # Run n times\n",
        "  for col in range(1, row+1) : # Print 1 row / m stars\n",
        "    print('*', end='')\n",
        "  print() # start a new line after printing row\n",
        "\n",
        "# row   col\n",
        "# 1     range(1, 2) -> [1]\n",
        "# 2     range(1, 3) -> [1, 2]\n",
        "# 3     range(1, 4) -> [1, 2, 3]\n",
        "# 4     range(1, 5) -> [1, 2, 3, 4]"
      ],
      "metadata": {
        "colab": {
          "base_uri": "https://localhost:8080/"
        },
        "id": "EntfT1dIR2Pv",
        "outputId": "d9cabc73-e3dc-4dc9-8572-9ad73d0f0ede"
      },
      "execution_count": 26,
      "outputs": [
        {
          "output_type": "stream",
          "name": "stdout",
          "text": [
            "10\n",
            "*\n",
            "**\n",
            "***\n",
            "****\n",
            "*****\n",
            "******\n",
            "*******\n",
            "********\n",
            "*********\n",
            "**********\n"
          ]
        }
      ]
    }
  ]
}