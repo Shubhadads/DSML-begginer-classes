{
  "cells": [
    {
      "cell_type": "markdown",
      "id": "0b460c5c",
      "metadata": {
        "id": "0b460c5c"
      },
      "source": [
        "# Strings\n",
        "![](https://scaler.com/topics/images/characters-of-a-string-in-python-1024x483.webp)"
      ]
    },
    {
      "cell_type": "code",
      "execution_count": null,
      "id": "09e05998",
      "metadata": {
        "colab": {
          "base_uri": "https://localhost:8080/"
        },
        "id": "09e05998",
        "outputId": "b8c84c52-39d8-437c-b70c-441e6338cef7"
      },
      "outputs": [
        {
          "output_type": "stream",
          "name": "stdout",
          "text": [
            "Hello World! <class 'str'>\n"
          ]
        }
      ],
      "source": [
        "s = \"Hello World!\"\n",
        "\n",
        "print(s, type(s))"
      ]
    },
    {
      "cell_type": "markdown",
      "id": "a0ecd11d",
      "metadata": {
        "id": "a0ecd11d"
      },
      "source": [
        "A sequence of characters"
      ]
    },
    {
      "cell_type": "code",
      "execution_count": null,
      "id": "8cac27b4",
      "metadata": {
        "colab": {
          "base_uri": "https://localhost:8080/"
        },
        "id": "8cac27b4",
        "outputId": "62cfd19b-e295-46ad-debd-4cd705a6a6da"
      },
      "outputs": [
        {
          "output_type": "stream",
          "name": "stdout",
          "text": [
            "Hey guys ! <class 'str'>\n"
          ]
        }
      ],
      "source": [
        "s = 'Hey guys !'\n",
        "\n",
        "print(s, type(s))"
      ]
    },
    {
      "cell_type": "code",
      "execution_count": null,
      "id": "5f443b44",
      "metadata": {
        "colab": {
          "base_uri": "https://localhost:8080/"
        },
        "id": "5f443b44",
        "outputId": "27ad94aa-610e-45de-c66a-61681452dbbb"
      },
      "outputs": [
        {
          "output_type": "stream",
          "name": "stdout",
          "text": [
            "Hey there\n",
            "My name is Aarnav Jindal <class 'str'>\n"
          ]
        }
      ],
      "source": [
        "s = \"\"\"Hey there\n",
        "My name is Aarnav Jindal\"\"\"\n",
        "\n",
        "print(s, type(s))"
      ]
    },
    {
      "cell_type": "markdown",
      "id": "448bd38f",
      "metadata": {
        "id": "448bd38f"
      },
      "source": [
        "### Multiline String\n",
        "![](https://scaler.com/topics/images/python-multiline-string.webp)"
      ]
    },
    {
      "cell_type": "markdown",
      "id": "a47cbed0",
      "metadata": {
        "id": "a47cbed0"
      },
      "source": [
        "We used multiline strings as docstrings"
      ]
    },
    {
      "cell_type": "code",
      "execution_count": null,
      "id": "5d398cd7",
      "metadata": {
        "colab": {
          "base_uri": "https://localhost:8080/"
        },
        "id": "5d398cd7",
        "outputId": "d6cd8139-94ba-442e-dcf9-576b1863404a"
      },
      "outputs": [
        {
          "output_type": "stream",
          "name": "stdout",
          "text": [
            "Hey there\n",
            "This is a string with quotes ' \" \"\"\"\n"
          ]
        }
      ],
      "source": [
        "s = \"\"\"Hey there\n",
        "This is a string with quotes \\' \\\" \\\"\\\"\\\"\"\"\"\n",
        "\n",
        "print(s)"
      ]
    },
    {
      "cell_type": "code",
      "source": [
        "s = '''Hey there\n",
        "This is a multi-line quote with triple \\''''\n",
        "\n",
        "print(s)"
      ],
      "metadata": {
        "colab": {
          "base_uri": "https://localhost:8080/"
        },
        "id": "nrTNk-tIE4GH",
        "outputId": "137faaf1-08be-4420-9e3f-934654c90767"
      },
      "id": "nrTNk-tIE4GH",
      "execution_count": null,
      "outputs": [
        {
          "output_type": "stream",
          "name": "stdout",
          "text": [
            "Hey there\n",
            "This is a multi-line quote with triple '\n"
          ]
        }
      ]
    },
    {
      "cell_type": "code",
      "source": [],
      "metadata": {
        "id": "OsuqNm9NFGA_"
      },
      "id": "OsuqNm9NFGA_",
      "execution_count": null,
      "outputs": []
    },
    {
      "cell_type": "markdown",
      "id": "706c6b74",
      "metadata": {
        "id": "706c6b74"
      },
      "source": [
        "### Length\n",
        "<img src=\"https://scaler.com/topics/images/length-of-an-array-in-c_thumbnail.webp\" width=\"350px\" />"
      ]
    },
    {
      "cell_type": "code",
      "execution_count": null,
      "id": "db1e634d",
      "metadata": {
        "colab": {
          "base_uri": "https://localhost:8080/"
        },
        "id": "db1e634d",
        "outputId": "c08e4b39-924f-40b3-e012-e2d1fb8beac3"
      },
      "outputs": [
        {
          "output_type": "stream",
          "name": "stdout",
          "text": [
            "17\n"
          ]
        }
      ],
      "source": [
        "s = \"Aarnav is my name\"\n",
        "\n",
        "print(len(s))"
      ]
    },
    {
      "cell_type": "code",
      "execution_count": null,
      "id": "5527d762",
      "metadata": {
        "id": "5527d762"
      },
      "outputs": [],
      "source": []
    },
    {
      "cell_type": "markdown",
      "id": "7ec0d8fd",
      "metadata": {
        "id": "7ec0d8fd"
      },
      "source": [
        "## Indexing"
      ]
    },
    {
      "cell_type": "code",
      "execution_count": null,
      "id": "66c35b24",
      "metadata": {
        "colab": {
          "base_uri": "https://localhost:8080/"
        },
        "id": "66c35b24",
        "outputId": "c26a1fb4-7dad-4081-960d-0e995cd9a71c"
      },
      "outputs": [
        {
          "output_type": "stream",
          "name": "stdout",
          "text": [
            "8 b h\n"
          ]
        }
      ],
      "source": [
        "s = \"abcdefgh\"\n",
        "\n",
        "print(len(s), s[1], s[7])"
      ]
    },
    {
      "cell_type": "code",
      "execution_count": null,
      "id": "ac4f5b2d",
      "metadata": {
        "colab": {
          "base_uri": "https://localhost:8080/"
        },
        "id": "ac4f5b2d",
        "outputId": "34b82921-b433-441a-f7ee-b82089d46591"
      },
      "outputs": [
        {
          "output_type": "stream",
          "name": "stdout",
          "text": [
            "h b\n"
          ]
        }
      ],
      "source": [
        "print(s[-1], s[-7])"
      ]
    },
    {
      "cell_type": "code",
      "source": [
        "print(s[10], s[-10])"
      ],
      "metadata": {
        "colab": {
          "base_uri": "https://localhost:8080/",
          "height": 166
        },
        "id": "CF5pVlhwGJMs",
        "outputId": "2154ee4c-cc90-42b3-e066-0ac08b1c858f"
      },
      "id": "CF5pVlhwGJMs",
      "execution_count": null,
      "outputs": [
        {
          "output_type": "error",
          "ename": "IndexError",
          "evalue": "ignored",
          "traceback": [
            "\u001b[0;31m---------------------------------------------------------------------------\u001b[0m",
            "\u001b[0;31mIndexError\u001b[0m                                Traceback (most recent call last)",
            "\u001b[0;32m<ipython-input-11-ecb015c86a2c>\u001b[0m in \u001b[0;36m<module>\u001b[0;34m\u001b[0m\n\u001b[0;32m----> 1\u001b[0;31m \u001b[0mprint\u001b[0m\u001b[0;34m(\u001b[0m\u001b[0ms\u001b[0m\u001b[0;34m[\u001b[0m\u001b[0;36m10\u001b[0m\u001b[0;34m]\u001b[0m\u001b[0;34m,\u001b[0m \u001b[0ms\u001b[0m\u001b[0;34m[\u001b[0m\u001b[0;34m-\u001b[0m\u001b[0;36m10\u001b[0m\u001b[0;34m]\u001b[0m\u001b[0;34m)\u001b[0m\u001b[0;34m\u001b[0m\u001b[0;34m\u001b[0m\u001b[0m\n\u001b[0m",
            "\u001b[0;31mIndexError\u001b[0m: string index out of range"
          ]
        }
      ]
    },
    {
      "cell_type": "markdown",
      "id": "932c7606",
      "metadata": {
        "id": "932c7606"
      },
      "source": [
        "#### Quiz 1\n",
        "Which of the following is a valid string?  \n",
        "a) \"Rahul#'  \n",
        "b) \"@rahul\"  \n",
        "c) 'Tuna123\""
      ]
    },
    {
      "cell_type": "code",
      "execution_count": null,
      "id": "d08cd2a8",
      "metadata": {
        "id": "d08cd2a8"
      },
      "outputs": [],
      "source": []
    },
    {
      "cell_type": "code",
      "execution_count": null,
      "id": "bb9fdcd6",
      "metadata": {
        "id": "bb9fdcd6"
      },
      "outputs": [],
      "source": []
    },
    {
      "cell_type": "markdown",
      "id": "4da0ee5d",
      "metadata": {
        "id": "4da0ee5d"
      },
      "source": [
        "#### Quiz 2\n",
        "```py\n",
        "print(100 == \"100\")\n",
        "```"
      ]
    },
    {
      "cell_type": "code",
      "execution_count": null,
      "id": "df0547c6",
      "metadata": {
        "colab": {
          "base_uri": "https://localhost:8080/"
        },
        "id": "df0547c6",
        "outputId": "3a50b521-6fa4-44fd-b1ac-3e629a441c4c"
      },
      "outputs": [
        {
          "output_type": "stream",
          "name": "stdout",
          "text": [
            "False\n"
          ]
        }
      ],
      "source": [
        "print(100 == \"100\")\n",
        "\n",
        "# 100 -> Integer\n",
        "# \"100\" -> String"
      ]
    },
    {
      "cell_type": "code",
      "execution_count": null,
      "id": "1d31a379",
      "metadata": {
        "id": "1d31a379"
      },
      "outputs": [],
      "source": [
        " "
      ]
    },
    {
      "cell_type": "markdown",
      "id": "0d4ceb47",
      "metadata": {
        "id": "0d4ceb47"
      },
      "source": [
        "#### Quiz 3 \n",
        "```py\n",
        "l = [\"sahil\", \"bansal\"]\n",
        "\n",
        "print(l[0][-1])\n",
        "```"
      ]
    },
    {
      "cell_type": "code",
      "execution_count": null,
      "id": "3da72f13",
      "metadata": {
        "colab": {
          "base_uri": "https://localhost:8080/"
        },
        "id": "3da72f13",
        "outputId": "1e9505bb-f6e3-4ea0-c8ef-b296fc76e946"
      },
      "outputs": [
        {
          "output_type": "stream",
          "name": "stdout",
          "text": [
            "l\n"
          ]
        }
      ],
      "source": [
        "l = [\"sahil\", \"bansal\"]\n",
        "\n",
        "s = l[0] # s = \"sahil\"\n",
        "\n",
        "ch = s[-1] # ch = 'l'\n",
        "\n",
        "print(ch)\n",
        "\n",
        "# print(l[0][-1])\n",
        "\n",
        "# l[0] = \"sahil\"\n",
        "# l[0][-1] = 'l'"
      ]
    },
    {
      "cell_type": "code",
      "execution_count": null,
      "id": "f05ecc16",
      "metadata": {
        "id": "f05ecc16"
      },
      "outputs": [],
      "source": []
    },
    {
      "cell_type": "code",
      "execution_count": null,
      "id": "0c682135",
      "metadata": {
        "id": "0c682135"
      },
      "outputs": [],
      "source": []
    },
    {
      "cell_type": "markdown",
      "id": "1a4e5734",
      "metadata": {
        "id": "1a4e5734"
      },
      "source": [
        "### Iterating over a string"
      ]
    },
    {
      "cell_type": "markdown",
      "id": "880fa90d",
      "metadata": {
        "id": "880fa90d"
      },
      "source": [
        "#### Question\n",
        "Given a string, print its characters line by line. \\\n",
        "S = \"INDIA\" \n",
        "\n",
        "Output:\n",
        "```\n",
        "I\n",
        "N\n",
        "D\n",
        "I\n",
        "A\n",
        "```"
      ]
    },
    {
      "cell_type": "code",
      "execution_count": null,
      "id": "168f3640",
      "metadata": {
        "colab": {
          "base_uri": "https://localhost:8080/"
        },
        "id": "168f3640",
        "outputId": "10310f67-b14b-4331-dba1-866480b3bfcf"
      },
      "outputs": [
        {
          "output_type": "stream",
          "name": "stdout",
          "text": [
            "I\n",
            "N\n",
            "D\n",
            "I\n",
            "A\n",
            "s\n",
            "a\n",
            "h\n",
            "i\n",
            "l\n"
          ]
        }
      ],
      "source": [
        "S = \"INDIA\"\n",
        "\n",
        "# iterate without indices\n",
        "for ch in S :\n",
        "  print(ch)\n",
        "\n",
        "# iterate with indices\n",
        "for i in range(len(S)) :\n",
        "  print(s[i])"
      ]
    },
    {
      "cell_type": "code",
      "execution_count": null,
      "id": "14b50e68",
      "metadata": {
        "colab": {
          "base_uri": "https://localhost:8080/"
        },
        "id": "14b50e68",
        "outputId": "b3c1f72c-fcac-4ca8-da82-d68d00d385eb"
      },
      "outputs": [
        {
          "output_type": "stream",
          "name": "stdout",
          "text": [
            "I,N,D,I,A,"
          ]
        }
      ],
      "source": [
        "# Print character of S separated by a ,\n",
        "# S = \"INDIA\"\n",
        "# Output = I,N,D,I,A\n",
        "\n",
        "for ch in S :\n",
        "  print(ch, end=',')"
      ]
    },
    {
      "cell_type": "markdown",
      "id": "b2627929",
      "metadata": {
        "id": "b2627929"
      },
      "source": [
        "## String Concatenation\n",
        "![](https://scaler.com/topics/images/string-concatenation-in-python.webp)"
      ]
    },
    {
      "cell_type": "code",
      "execution_count": null,
      "id": "25a1920e",
      "metadata": {
        "colab": {
          "base_uri": "https://localhost:8080/"
        },
        "id": "25a1920e",
        "outputId": "a310b4a1-4318-4f0b-91e1-ae452566b717"
      },
      "outputs": [
        {
          "output_type": "stream",
          "name": "stdout",
          "text": [
            "Aarnav Jindal\n"
          ]
        }
      ],
      "source": [
        "first = \"Aarnav\"\n",
        "second = \"Jindal\"\n",
        "\n",
        "name = first + \" \" + second\n",
        "print(name)"
      ]
    },
    {
      "cell_type": "code",
      "source": [
        "s = \"Hello\" * 5\n",
        "\n",
        "print(s)"
      ],
      "metadata": {
        "colab": {
          "base_uri": "https://localhost:8080/"
        },
        "id": "Eevgkq6yJZeV",
        "outputId": "0d7be2b0-ffe3-4ea1-df3e-ebc858654103"
      },
      "id": "Eevgkq6yJZeV",
      "execution_count": null,
      "outputs": [
        {
          "output_type": "stream",
          "name": "stdout",
          "text": [
            "HelloHelloHelloHelloHello\n"
          ]
        }
      ]
    },
    {
      "cell_type": "code",
      "source": [],
      "metadata": {
        "id": "7sbeU9gzJZm7"
      },
      "id": "7sbeU9gzJZm7",
      "execution_count": null,
      "outputs": []
    },
    {
      "cell_type": "markdown",
      "id": "54690569",
      "metadata": {
        "id": "54690569"
      },
      "source": [
        "### Stair Pattern\n",
        "\n",
        "N =4\n",
        "```\n",
        "*\n",
        "* *\n",
        "* * *\n",
        "* * * *\n",
        "```"
      ]
    },
    {
      "cell_type": "code",
      "execution_count": null,
      "id": "123e7472",
      "metadata": {
        "colab": {
          "base_uri": "https://localhost:8080/"
        },
        "id": "123e7472",
        "outputId": "e0426f67-57ce-4b29-bae5-1ff890bea5ab"
      },
      "outputs": [
        {
          "output_type": "stream",
          "name": "stdout",
          "text": [
            "*\n",
            "* *\n",
            "* * *\n",
            "* * * *\n"
          ]
        }
      ],
      "source": [
        "n = 4\n",
        "\n",
        "for i in range(1, n+1) :\n",
        "  for j in range(1, i+1) :\n",
        "    if j != i :\n",
        "      print('*', end=' ')\n",
        "    else:\n",
        "      print('*')"
      ]
    },
    {
      "cell_type": "code",
      "source": [
        "n = 4\n",
        "\n",
        "for i in range(1, n+1) :\n",
        "  print('* ' * i)"
      ],
      "metadata": {
        "colab": {
          "base_uri": "https://localhost:8080/"
        },
        "id": "ws9lSFZIARys",
        "outputId": "2bce3b5d-a529-42aa-d55d-9fbd3685057c"
      },
      "id": "ws9lSFZIARys",
      "execution_count": null,
      "outputs": [
        {
          "output_type": "stream",
          "name": "stdout",
          "text": [
            "* \n",
            "* * \n",
            "* * * \n",
            "* * * * \n"
          ]
        }
      ]
    },
    {
      "cell_type": "markdown",
      "id": "87582094",
      "metadata": {
        "id": "87582094"
      },
      "source": [
        "#### Quiz 4\n",
        "What will be printed by the following code when it executes?\n",
        "\n",
        "```py\n",
        "city = \"Phoenix\"\n",
        "print(len(city*3))\n",
        "```"
      ]
    },
    {
      "cell_type": "code",
      "execution_count": null,
      "id": "18f25fc9",
      "metadata": {
        "colab": {
          "base_uri": "https://localhost:8080/"
        },
        "id": "18f25fc9",
        "outputId": "cd51c2de-1594-4349-fc86-3331dea85fd2"
      },
      "outputs": [
        {
          "output_type": "stream",
          "name": "stdout",
          "text": [
            "21\n"
          ]
        }
      ],
      "source": [
        "city = \"Phoenix\"\n",
        "print(len(city*3))"
      ]
    },
    {
      "cell_type": "code",
      "execution_count": null,
      "id": "5ea1afb2",
      "metadata": {
        "id": "5ea1afb2"
      },
      "outputs": [],
      "source": []
    },
    {
      "cell_type": "code",
      "execution_count": null,
      "id": "52700360",
      "metadata": {
        "id": "52700360"
      },
      "outputs": [],
      "source": []
    },
    {
      "cell_type": "markdown",
      "id": "0365addf",
      "metadata": {
        "id": "0365addf"
      },
      "source": [
        "## String slicing\n"
      ]
    },
    {
      "cell_type": "markdown",
      "id": "f73ad2db",
      "metadata": {
        "id": "f73ad2db"
      },
      "source": [
        "The exact same rules of list slicing applies to strings as well. "
      ]
    },
    {
      "cell_type": "code",
      "execution_count": null,
      "id": "69d023b9",
      "metadata": {
        "colab": {
          "base_uri": "https://localhost:8080/"
        },
        "id": "69d023b9",
        "outputId": "103a2f1d-d09e-4780-ed24-5132bfa77bac"
      },
      "outputs": [
        {
          "output_type": "stream",
          "name": "stdout",
          "text": [
            "bc\n"
          ]
        }
      ],
      "source": [
        "s = \"abcdef\"\n",
        "print(s[1:3])"
      ]
    },
    {
      "cell_type": "code",
      "source": [
        "print(s[4::-1])"
      ],
      "metadata": {
        "colab": {
          "base_uri": "https://localhost:8080/"
        },
        "id": "1LXDtPLsLaW0",
        "outputId": "9112da85-cfc5-41d1-fcab-ec4714e4b516"
      },
      "id": "1LXDtPLsLaW0",
      "execution_count": null,
      "outputs": [
        {
          "output_type": "stream",
          "name": "stdout",
          "text": [
            "edcba\n"
          ]
        }
      ]
    },
    {
      "cell_type": "code",
      "source": [
        "print(s[::-1])"
      ],
      "metadata": {
        "colab": {
          "base_uri": "https://localhost:8080/"
        },
        "id": "SCDlkcQrLaZa",
        "outputId": "97ac4e77-0798-4ccf-bc07-85623d2e9149"
      },
      "id": "SCDlkcQrLaZa",
      "execution_count": null,
      "outputs": [
        {
          "output_type": "stream",
          "name": "stdout",
          "text": [
            "fedcba\n"
          ]
        }
      ]
    },
    {
      "cell_type": "code",
      "source": [],
      "metadata": {
        "id": "23NPgNtDLaek"
      },
      "id": "23NPgNtDLaek",
      "execution_count": null,
      "outputs": []
    },
    {
      "cell_type": "markdown",
      "id": "1c580a4e",
      "metadata": {
        "id": "1c580a4e"
      },
      "source": [
        "#### Quiz 5\n",
        "What is the return value of the function call `mystery(\"abracadabra\")`?  \n",
        "  \n",
        "\n",
        "```py\n",
        "def mystery(s):\n",
        "  i = len(s)//2\n",
        "  a = s[:i]\n",
        "  b = s[i:]\n",
        "  return a+ b\n",
        "```"
      ]
    },
    {
      "cell_type": "code",
      "execution_count": null,
      "id": "93275b8b",
      "metadata": {
        "colab": {
          "base_uri": "https://localhost:8080/",
          "height": 35
        },
        "id": "93275b8b",
        "outputId": "69c58ee6-5baf-4f60-d115-f9c699ab6462"
      },
      "outputs": [
        {
          "output_type": "execute_result",
          "data": {
            "text/plain": [
              "'abracadabra'"
            ],
            "application/vnd.google.colaboratory.intrinsic+json": {
              "type": "string"
            }
          },
          "metadata": {},
          "execution_count": 43
        }
      ],
      "source": [
        "def mystery(s):\n",
        "  i = len(s)//2 # len(s) -> 11 # 11//2 -> 5\n",
        "  a = s[:i] # s[0:5] -> abrac\n",
        "  b = s[i:] # s[5:len(s)] -> adabra\n",
        "  return a+ b\n",
        "\n",
        "\n",
        "mystery(\"abracadabra\")"
      ]
    },
    {
      "cell_type": "markdown",
      "id": "328212ff",
      "metadata": {
        "id": "328212ff"
      },
      "source": [
        "### Check Palindrome\n",
        "Given a string, check if it is Palindromic"
      ]
    },
    {
      "cell_type": "code",
      "execution_count": null,
      "id": "5693be58",
      "metadata": {
        "id": "5693be58"
      },
      "outputs": [],
      "source": [
        "# Palindrome -> A string which reads the same from front and back"
      ]
    },
    {
      "cell_type": "code",
      "execution_count": null,
      "id": "fb8d8d2f",
      "metadata": {
        "id": "fb8d8d2f"
      },
      "outputs": [],
      "source": [
        "# radar -> Yes\n",
        "# level -> Yes\n",
        "# rahul -> No\n",
        "# Both a and b"
      ]
    },
    {
      "cell_type": "code",
      "source": [
        "def checkPalindrome(s) :\n",
        "  return s == s[::-1]\n",
        "\n",
        "print(checkPalindrome(\"malayalam\"))\n",
        "print(checkPalindrome(\"aarnav\"))"
      ],
      "metadata": {
        "colab": {
          "base_uri": "https://localhost:8080/"
        },
        "id": "U38rpoj8Nvct",
        "outputId": "df50ba81-dacd-49ac-ce3a-0f0c24107522"
      },
      "id": "U38rpoj8Nvct",
      "execution_count": null,
      "outputs": [
        {
          "output_type": "stream",
          "name": "stdout",
          "text": [
            "True\n",
            "False\n"
          ]
        }
      ]
    },
    {
      "cell_type": "markdown",
      "id": "88ca8824",
      "metadata": {
        "id": "88ca8824"
      },
      "source": [
        "## Working with ASCII Values\n",
        "<img src=\"https://scaler.com/topics/images/ascii-values-in-c-thumbnail.webp\" width=\"400px\" />"
      ]
    },
    {
      "cell_type": "code",
      "execution_count": null,
      "id": "8b275e1d",
      "metadata": {
        "id": "8b275e1d"
      },
      "outputs": [],
      "source": [
        "'a', '1', ' ', '$'"
      ]
    },
    {
      "cell_type": "code",
      "execution_count": null,
      "id": "afb2cb95",
      "metadata": {
        "id": "afb2cb95"
      },
      "outputs": [],
      "source": [
        "ASCII -> Unique mapping between numbers and characters\n",
        "\n",
        "'a' -> 97\n",
        "'b' -> 98\n",
        "...\n",
        "'z' -> 122\n",
        "\n",
        "'A' -> 65\n",
        "'B' -> 66\n",
        "....\n",
        "'Z' -> 90"
      ]
    },
    {
      "cell_type": "markdown",
      "id": "56613281",
      "metadata": {
        "id": "56613281"
      },
      "source": [
        "### ord()\n",
        "![](https://scaler.com/topics/images/ord-in-python.webp)"
      ]
    },
    {
      "cell_type": "code",
      "execution_count": 47,
      "id": "346c1fe5",
      "metadata": {
        "id": "346c1fe5",
        "colab": {
          "base_uri": "https://localhost:8080/"
        },
        "outputId": "080486fa-dc9f-46fb-92a9-8241ab9e402f"
      },
      "outputs": [
        {
          "output_type": "stream",
          "name": "stdout",
          "text": [
            "97 49 9\n"
          ]
        }
      ],
      "source": [
        "print(ord('a'), ord('1'), ord('\\t'))"
      ]
    },
    {
      "cell_type": "markdown",
      "id": "e5ed433e",
      "metadata": {
        "id": "e5ed433e"
      },
      "source": [
        "### chr()\n",
        "![](https://scaler.com/topics/images/chr-in-python.webp)"
      ]
    },
    {
      "cell_type": "code",
      "execution_count": 49,
      "id": "08380449",
      "metadata": {
        "id": "08380449",
        "colab": {
          "base_uri": "https://localhost:8080/"
        },
        "outputId": "e6e496b8-f326-4f1d-967a-05150a03e6ba"
      },
      "outputs": [
        {
          "output_type": "stream",
          "name": "stdout",
          "text": [
            "A   1\n"
          ]
        }
      ],
      "source": [
        "print(chr(65), chr(32), chr(49))"
      ]
    },
    {
      "cell_type": "code",
      "source": [],
      "metadata": {
        "id": "PLvl1yUJS7vO"
      },
      "id": "PLvl1yUJS7vO",
      "execution_count": null,
      "outputs": []
    },
    {
      "cell_type": "markdown",
      "id": "c7693e35",
      "metadata": {
        "id": "c7693e35"
      },
      "source": [
        "#### Given a list of integers, construct the string corresponding to it.\n",
        "Input = [97, 65, 98, 68, 73] \\\n",
        "Output = \"aAbDI\""
      ]
    },
    {
      "cell_type": "code",
      "execution_count": 51,
      "id": "111b916d",
      "metadata": {
        "id": "111b916d",
        "colab": {
          "base_uri": "https://localhost:8080/"
        },
        "outputId": "0bea9258-f888-4d4d-a490-a9d9adc02736"
      },
      "outputs": [
        {
          "output_type": "stream",
          "name": "stdout",
          "text": [
            "aAbDI\n"
          ]
        }
      ],
      "source": [
        "s = ''\n",
        "l = [97, 65, 98, 68, 73]\n",
        "\n",
        "for x in l :\n",
        "  s = s + chr(x)\n",
        "\n",
        "print(s)"
      ]
    },
    {
      "cell_type": "code",
      "source": [],
      "metadata": {
        "id": "NMGjuta8TXJb"
      },
      "id": "NMGjuta8TXJb",
      "execution_count": null,
      "outputs": []
    },
    {
      "cell_type": "markdown",
      "id": "7257066c",
      "metadata": {
        "id": "7257066c"
      },
      "source": [
        "### Given a string, count the number of capital characters in it.\n",
        "s = \"Hello World\"\n",
        "\n",
        "Ans = 2\n"
      ]
    },
    {
      "cell_type": "code",
      "execution_count": 53,
      "id": "98d561c5",
      "metadata": {
        "id": "98d561c5",
        "colab": {
          "base_uri": "https://localhost:8080/"
        },
        "outputId": "8716b599-8930-4c6b-ae80-35b7124a21c3"
      },
      "outputs": [
        {
          "output_type": "stream",
          "name": "stdout",
          "text": [
            "7\n"
          ]
        }
      ],
      "source": [
        "# s = \"Hello World\"\n",
        "s = \"ABCabcDeFGHi\"\n",
        "\n",
        "cnt = 0\n",
        "\n",
        "for x in s :\n",
        "  if 'A' <= x <= 'Z' :\n",
        "    cnt = cnt + 1\n",
        "\n",
        "print(cnt)\n"
      ]
    },
    {
      "cell_type": "code",
      "execution_count": null,
      "id": "4c295ca0",
      "metadata": {
        "id": "4c295ca0"
      },
      "outputs": [],
      "source": []
    },
    {
      "cell_type": "markdown",
      "id": "a280a43e",
      "metadata": {
        "id": "a280a43e"
      },
      "source": [
        "### Changing cases\n",
        "![](https://scaler.com/topics/images/upper-in-python-featured-image.webp)\n",
        "- upper()\n",
        "- lower()\n",
        "- title()\n",
        "- isupper()\n",
        "- islower()"
      ]
    },
    {
      "cell_type": "code",
      "execution_count": 54,
      "id": "08c06fed",
      "metadata": {
        "id": "08c06fed",
        "colab": {
          "base_uri": "https://localhost:8080/"
        },
        "outputId": "17d3073d-57a6-4438-fcf8-1ab1dd9f9963"
      },
      "outputs": [
        {
          "output_type": "stream",
          "name": "stdout",
          "text": [
            "True\n"
          ]
        }
      ],
      "source": [
        "s = \"hello world\"\n",
        "print(s.islower())\n",
        "\n",
        "# isLower() -> Checks if all alphabets in string are lowercase"
      ]
    },
    {
      "cell_type": "code",
      "source": [
        "s = \"Hello\"\n",
        "print(s.islower())"
      ],
      "metadata": {
        "colab": {
          "base_uri": "https://localhost:8080/"
        },
        "id": "QT64ouIZUnzf",
        "outputId": "b3a3789a-6dd4-46a2-ce12-e6d02cd03176"
      },
      "id": "QT64ouIZUnzf",
      "execution_count": 55,
      "outputs": [
        {
          "output_type": "stream",
          "name": "stdout",
          "text": [
            "False\n"
          ]
        }
      ]
    },
    {
      "cell_type": "code",
      "source": [
        "s = \"HELLO\"\n",
        "print(s.isupper())\n",
        "\n",
        "# isUpper() -> Checks if all alphabets in string are uppercase"
      ],
      "metadata": {
        "colab": {
          "base_uri": "https://localhost:8080/"
        },
        "id": "fKoVvmBtUn10",
        "outputId": "5e9a79f2-5787-4a5a-8b60-72528381efc7"
      },
      "id": "fKoVvmBtUn10",
      "execution_count": 56,
      "outputs": [
        {
          "output_type": "stream",
          "name": "stdout",
          "text": [
            "True\n"
          ]
        }
      ]
    },
    {
      "cell_type": "code",
      "source": [
        "s = \"HeLLO\"\n",
        "print(s.isupper())"
      ],
      "metadata": {
        "colab": {
          "base_uri": "https://localhost:8080/"
        },
        "id": "7ceHEzazUn35",
        "outputId": "04a3a764-7825-4493-d7a2-b6f996a53fdf"
      },
      "id": "7ceHEzazUn35",
      "execution_count": 57,
      "outputs": [
        {
          "output_type": "stream",
          "name": "stdout",
          "text": [
            "False\n"
          ]
        }
      ]
    },
    {
      "cell_type": "code",
      "execution_count": null,
      "id": "b18ae426",
      "metadata": {
        "id": "b18ae426"
      },
      "outputs": [],
      "source": []
    },
    {
      "cell_type": "markdown",
      "id": "fec79948",
      "metadata": {
        "id": "fec79948"
      },
      "source": [
        "#### Quiz 7\n",
        "What is the return value of the function call `mystery(\"abracadabra\")`?  \n",
        "  \n",
        "\n",
        "```py\n",
        "def mystery(s):\n",
        "  i = len(s)//2\n",
        "  a = s[:i]\n",
        "  b = s[i:]\n",
        "  return a[0].isupper()\n",
        "```"
      ]
    },
    {
      "cell_type": "code",
      "execution_count": 58,
      "id": "c7dd7b19",
      "metadata": {
        "id": "c7dd7b19",
        "colab": {
          "base_uri": "https://localhost:8080/"
        },
        "outputId": "a59010ce-633b-4d36-d1b2-5cf10b18e6f9"
      },
      "outputs": [
        {
          "output_type": "execute_result",
          "data": {
            "text/plain": [
              "False"
            ]
          },
          "metadata": {},
          "execution_count": 58
        }
      ],
      "source": [
        "def mystery(s):\n",
        "  i = len(s)//2\n",
        "  a = s[:i] # abrac\n",
        "  b = s[i:] # adabra\n",
        "  return a[0].isupper()\n",
        "\n",
        "mystery(\"abracadabra\")"
      ]
    },
    {
      "cell_type": "code",
      "source": [],
      "metadata": {
        "id": "ECeyqdmuV7Js"
      },
      "id": "ECeyqdmuV7Js",
      "execution_count": null,
      "outputs": []
    },
    {
      "cell_type": "code",
      "source": [
        "# Change it to uppercase\n",
        "s = \"hello world\"\n",
        "\n",
        "print(s.upper())\n",
        "\n",
        "# upper() -> converts all alphabets to uppercase"
      ],
      "metadata": {
        "colab": {
          "base_uri": "https://localhost:8080/"
        },
        "id": "zkMB-BKSV7PZ",
        "outputId": "980266de-c9b8-4c00-a58c-349cf7ade71d"
      },
      "id": "zkMB-BKSV7PZ",
      "execution_count": 59,
      "outputs": [
        {
          "output_type": "stream",
          "name": "stdout",
          "text": [
            "HELLO WORLD\n"
          ]
        }
      ]
    },
    {
      "cell_type": "code",
      "source": [
        "# Convert to lowercase\n",
        "s = 'HELLO WORLD'\n",
        "\n",
        "print(s.lower())\n",
        "\n",
        "# lower() -> converts all alphabets to lowercase"
      ],
      "metadata": {
        "colab": {
          "base_uri": "https://localhost:8080/"
        },
        "id": "5f213EbJV7Rt",
        "outputId": "6a06b16f-bfbe-4d2c-fd2f-338ef3995ee1"
      },
      "id": "5f213EbJV7Rt",
      "execution_count": 60,
      "outputs": [
        {
          "output_type": "stream",
          "name": "stdout",
          "text": [
            "hello world\n"
          ]
        }
      ]
    },
    {
      "cell_type": "code",
      "source": [],
      "metadata": {
        "id": "jmW6DGAQV7Th"
      },
      "id": "jmW6DGAQV7Th",
      "execution_count": null,
      "outputs": []
    },
    {
      "cell_type": "markdown",
      "id": "2fedfaf1",
      "metadata": {
        "id": "2fedfaf1"
      },
      "source": [
        "#### Quiz\n",
        "What is the return value of the function call `mystery(\"abracadabra\")`?  \n",
        "```py\n",
        "def mystery(s):\n",
        "  i = len(s)//2\n",
        "  a = s[:i]\n",
        "  b = s[i:]\n",
        "  return a.upper() + b.lower()\n",
        "```"
      ]
    },
    {
      "cell_type": "code",
      "execution_count": 61,
      "id": "242be45d",
      "metadata": {
        "id": "242be45d",
        "colab": {
          "base_uri": "https://localhost:8080/"
        },
        "outputId": "8fa73c90-febb-45aa-e3b6-456edc94d823"
      },
      "outputs": [
        {
          "output_type": "stream",
          "name": "stdout",
          "text": [
            "ABRACadabra\n"
          ]
        }
      ],
      "source": [
        "def mystery(s):\n",
        "  i = len(s)//2\n",
        "  a = s[:i]\n",
        "  b = s[i:]\n",
        "  return a.upper() + b.lower()\n",
        "\n",
        "print(mystery(\"abracadabra\"))"
      ]
    },
    {
      "cell_type": "code",
      "execution_count": null,
      "id": "80b80cf8",
      "metadata": {
        "id": "80b80cf8"
      },
      "outputs": [],
      "source": []
    },
    {
      "cell_type": "code",
      "source": [
        "name = \"AARnav jINdal\"\n",
        "s = name.title()\n",
        "print(s)\n",
        "\n",
        "# title() -> First letter of each word is uppercase, rest are lowercase"
      ],
      "metadata": {
        "colab": {
          "base_uri": "https://localhost:8080/"
        },
        "id": "SvnHedhxWs_z",
        "outputId": "abdcc49a-3b25-4110-88f2-1224f0643ee9"
      },
      "id": "SvnHedhxWs_z",
      "execution_count": 62,
      "outputs": [
        {
          "output_type": "stream",
          "name": "stdout",
          "text": [
            "Aarnav Jindal\n"
          ]
        }
      ]
    },
    {
      "cell_type": "code",
      "source": [],
      "metadata": {
        "id": "cGmDdMbxWtDc"
      },
      "id": "cGmDdMbxWtDc",
      "execution_count": null,
      "outputs": []
    },
    {
      "cell_type": "markdown",
      "id": "22847073",
      "metadata": {
        "id": "22847073"
      },
      "source": [
        "### String Formatting\n",
        "![](https://scaler.com/topics/images/fstring_python.webp)"
      ]
    },
    {
      "cell_type": "code",
      "execution_count": 64,
      "id": "3f54149f",
      "metadata": {
        "id": "3f54149f"
      },
      "outputs": [],
      "source": [
        "appleCount = 50\n",
        "orangeCount = 100\n",
        "guavaCount = 21\n",
        "\n",
        "# I have 50 apples, 100 oranges and 21 guavas"
      ]
    },
    {
      "cell_type": "code",
      "source": [
        "\n",
        "\n",
        "s = \"I have \" + str(appleCount) + \" apples, \" + str(orangeCount) + \" oranges and \" + str(guavaCount) + \"guavas\"\n",
        "print(s)"
      ],
      "metadata": {
        "colab": {
          "base_uri": "https://localhost:8080/"
        },
        "id": "ynnE06t0XNIm",
        "outputId": "e6a1402f-8564-451a-b402-8513fa266563"
      },
      "id": "ynnE06t0XNIm",
      "execution_count": 66,
      "outputs": [
        {
          "output_type": "stream",
          "name": "stdout",
          "text": [
            "I have 50 apples, 100 oranges and 21guavas\n"
          ]
        }
      ]
    },
    {
      "cell_type": "code",
      "source": [],
      "metadata": {
        "id": "WvEfpdWJAqgK"
      },
      "id": "WvEfpdWJAqgK",
      "execution_count": null,
      "outputs": []
    },
    {
      "cell_type": "markdown",
      "source": [
        "#### 2 ways to string formatting\n",
        ".format()\n",
        "\n",
        "f-string\n",
        "\n"
      ],
      "metadata": {
        "id": "WqNvkJt9X7SR"
      },
      "id": "WqNvkJt9X7SR"
    },
    {
      "cell_type": "code",
      "source": [
        "# .format()\n",
        "\n",
        "appleCount = 50\n",
        "orangeCount = 10\n",
        "guavaCount = 26\n",
        "\n",
        "# I have 5 apples, 10 oranges and 2 guavas\n",
        "\n",
        "s = \"I have {} apples, {} organges and {} guavas\".format(appleCount, orangeCount, guavaCount)\n",
        "print(s)"
      ],
      "metadata": {
        "colab": {
          "base_uri": "https://localhost:8080/"
        },
        "id": "ndksKxHMYDTt",
        "outputId": "8df44130-00c3-45b3-d0e5-2f3b8a2887f7"
      },
      "id": "ndksKxHMYDTt",
      "execution_count": 68,
      "outputs": [
        {
          "output_type": "stream",
          "name": "stdout",
          "text": [
            "I have 50 apples, 10 organges and 26 guavas\n"
          ]
        }
      ]
    },
    {
      "cell_type": "markdown",
      "id": "6cb72885",
      "metadata": {
        "id": "6cb72885"
      },
      "source": [
        "#### f-string\n",
        "It only works for Python 3.5 or above"
      ]
    },
    {
      "cell_type": "code",
      "execution_count": 69,
      "id": "86f3452c",
      "metadata": {
        "id": "86f3452c",
        "colab": {
          "base_uri": "https://localhost:8080/"
        },
        "outputId": "663f50de-075a-432c-dbb3-6ee1f287004c"
      },
      "outputs": [
        {
          "output_type": "stream",
          "name": "stdout",
          "text": [
            "I have 50 apples, 10 oranges and 26 guavas\n"
          ]
        }
      ],
      "source": [
        "s = f\"I have {appleCount} apples, {orangeCount} oranges and {guavaCount} guavas\"\n",
        "print(s)"
      ]
    },
    {
      "cell_type": "code",
      "execution_count": null,
      "id": "d791e3a6",
      "metadata": {
        "id": "d791e3a6"
      },
      "outputs": [],
      "source": []
    },
    {
      "cell_type": "markdown",
      "source": [
        "### Quiz\n",
        "name = 'Emma Watson'<br>\n",
        "age = 32<bR>\n",
        "print(\"Hey my name is {}, and my age is {}.\".format(age))"
      ],
      "metadata": {
        "id": "EgGAx4nzZd_n"
      },
      "id": "EgGAx4nzZd_n"
    },
    {
      "cell_type": "code",
      "execution_count": 70,
      "id": "d89902af",
      "metadata": {
        "id": "d89902af",
        "colab": {
          "base_uri": "https://localhost:8080/",
          "height": 201
        },
        "outputId": "07adf171-27e9-4c67-a722-e6225b5b10a9"
      },
      "outputs": [
        {
          "output_type": "error",
          "ename": "IndexError",
          "evalue": "ignored",
          "traceback": [
            "\u001b[0;31m---------------------------------------------------------------------------\u001b[0m",
            "\u001b[0;31mIndexError\u001b[0m                                Traceback (most recent call last)",
            "\u001b[0;32m<ipython-input-70-ff7169d25eed>\u001b[0m in \u001b[0;36m<module>\u001b[0;34m\u001b[0m\n\u001b[1;32m      1\u001b[0m \u001b[0mname\u001b[0m \u001b[0;34m=\u001b[0m \u001b[0;34m'Emma Watson'\u001b[0m\u001b[0;34m\u001b[0m\u001b[0;34m\u001b[0m\u001b[0m\n\u001b[1;32m      2\u001b[0m \u001b[0mage\u001b[0m \u001b[0;34m=\u001b[0m \u001b[0;36m32\u001b[0m\u001b[0;34m\u001b[0m\u001b[0;34m\u001b[0m\u001b[0m\n\u001b[0;32m----> 3\u001b[0;31m \u001b[0mprint\u001b[0m\u001b[0;34m(\u001b[0m\u001b[0;34m\"Hey my name is {}, and my age is {}.\"\u001b[0m\u001b[0;34m.\u001b[0m\u001b[0mformat\u001b[0m\u001b[0;34m(\u001b[0m\u001b[0mage\u001b[0m\u001b[0;34m)\u001b[0m\u001b[0;34m)\u001b[0m\u001b[0;34m\u001b[0m\u001b[0;34m\u001b[0m\u001b[0m\n\u001b[0m",
            "\u001b[0;31mIndexError\u001b[0m: tuple index out of range"
          ]
        }
      ],
      "source": [
        "name = 'Emma Watson'\n",
        "age = 32\n",
        "print(\"Hey my name is {}, and my age is {}.\".format(age))"
      ]
    },
    {
      "cell_type": "markdown",
      "id": "ddc18cb1",
      "metadata": {
        "id": "ddc18cb1"
      },
      "source": [
        "# Bonus Reading Material\n",
        "- Strings in Python - https://www.scaler.com/topics/python/strings-in-python/\n",
        "- What is String in Python? - https://www.scaler.com/topics/what-is-string-in-python/\n",
        "- Python Multiline String - https://www.scaler.com/topics/python-multiline-string/\n",
        "- str() in Python - https://www.scaler.com/topics/str-in-python/\n",
        "- String Concatenation in Python - https://www.scaler.com/topics/string-concatenation-in-python/\n",
        "- String Slicing in Python - https://www.scaler.com/topics/python/string-slicing-in-python/\n",
        "- What are Mutable Data Types in Python? - https://www.scaler.com/topics/mutable-data-typesg-in-python/\n",
        "- Mutable and Immutable in Python - https://www.scaler.com/topics/mutable-and-immutable-in-python/\n",
        "- String Comparison in Python - https://www.scaler.com/topics/string-comparison-in-python/\n",
        "- chr() in Python - https://www.scaler.com/topics/chr-in-python/\n",
        "- ord in Python - https://www.scaler.com/topics/ord-in-python/\n",
        "- Difference Between UNICODE and ASCII - https://www.scaler.com/topics/cpp/difference-between-unicode-and-ascii/\n",
        "- Join in Python - https://www.scaler.com/topics/join-in-python/\n",
        "- Convert List to String in Python - https://www.scaler.com/topics/convert-list-to-string-in-python/\n",
        "- String Methods Python - https://www.scaler.com/topics/python/string-methods-python/\n",
        "- upper() in Python - https://www.scaler.com/topics/upper-in-python/\n",
        "- https://www.scaler.com/topics/title-in-python/\n",
        "- isupper() in Python - https://www.scaler.com/topics/python-string-isupper-method/\n",
        "- isalnum() in Python - https://www.scaler.com/topics/isalnum-in-python/\n",
        "- isnumeric() Python Method - https://www.scaler.com/topics/isnumeric-python/\n",
        "- String reverse in Python - https://www.scaler.com/topics/reverse-string-in-python/\n",
        "- String Formatting in Python - https://www.scaler.com/topics/python/string-formatting-in-python/\n",
        "- F String in Python - https://www.scaler.com/topics/f-string-in-python/"
      ]
    },
    {
      "cell_type": "code",
      "execution_count": null,
      "id": "9b2c466b",
      "metadata": {
        "id": "9b2c466b"
      },
      "outputs": [],
      "source": []
    },
    {
      "cell_type": "code",
      "source": [
        "computer can store only 0/1 ( binary )\n",
        "\n",
        "numbers ( decimal ) -> binary\n",
        "binary -> ( decimal ) numbers\n",
        "\n",
        "How does computer store string ?\n",
        "ASCII -> mapping from integer to character\n",
        "\"abc\" -> [97, 98, 99] -> binary\n",
        "binary -> [97, 98, 99] -> \"abc\""
      ],
      "metadata": {
        "id": "bxYXnQErbyTn"
      },
      "id": "bxYXnQErbyTn",
      "execution_count": null,
      "outputs": []
    }
  ],
  "metadata": {
    "kernelspec": {
      "display_name": "Python 3 (ipykernel)",
      "language": "python",
      "name": "python3"
    },
    "language_info": {
      "codemirror_mode": {
        "name": "ipython",
        "version": 3
      },
      "file_extension": ".py",
      "mimetype": "text/x-python",
      "name": "python",
      "nbconvert_exporter": "python",
      "pygments_lexer": "ipython3",
      "version": "3.9.12"
    },
    "colab": {
      "provenance": []
    }
  },
  "nbformat": 4,
  "nbformat_minor": 5
}