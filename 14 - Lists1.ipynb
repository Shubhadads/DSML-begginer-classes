{
  "cells": [
    {
      "cell_type": "markdown",
      "id": "ceff3835",
      "metadata": {
        "id": "ceff3835"
      },
      "source": [
        "# Python Lists\n",
        "![](https://scaler.com/topics/images/array-data-structure.webp)"
      ]
    },
    {
      "cell_type": "code",
      "execution_count": null,
      "id": "3e62a341",
      "metadata": {
        "id": "3e62a341"
      },
      "outputs": [],
      "source": [
        "# Sachin has played 463 \n",
        "\n",
        "runs1 = 30\n",
        "runs2 = 64\n",
        "runs3 = 100\n",
        ".\n",
        ".\n",
        ".\n",
        ".\n",
        "runs463 = 25\n",
        "\n",
        "total = run1 + run2 + run3 + .... + runs463\n",
        "avg = total / 463"
      ]
    },
    {
      "cell_type": "code",
      "execution_count": 9,
      "id": "0942375e",
      "metadata": {
        "id": "0942375e"
      },
      "outputs": [],
      "source": [
        "# List is a collection of items\n",
        "runs = [30, 64, 100, 34, 25]"
      ]
    },
    {
      "cell_type": "code",
      "execution_count": 10,
      "id": "1006c10e",
      "metadata": {
        "colab": {
          "base_uri": "https://localhost:8080/"
        },
        "id": "1006c10e",
        "outputId": "cac4e5fa-cd45-45e7-d9b3-663ce887a283"
      },
      "outputs": [
        {
          "output_type": "stream",
          "name": "stdout",
          "text": [
            "[30, 64, 100, 34, 25]\n"
          ]
        }
      ],
      "source": [
        "print(runs)"
      ]
    },
    {
      "cell_type": "code",
      "execution_count": 11,
      "id": "06aa50e2",
      "metadata": {
        "colab": {
          "base_uri": "https://localhost:8080/"
        },
        "id": "06aa50e2",
        "outputId": "55b3fc19-e2cd-432a-df3f-d07d938e5885"
      },
      "outputs": [
        {
          "output_type": "stream",
          "name": "stdout",
          "text": [
            "<class 'list'>\n"
          ]
        }
      ],
      "source": [
        "print(type(runs))"
      ]
    },
    {
      "cell_type": "code",
      "execution_count": 13,
      "id": "d4ae048d",
      "metadata": {
        "colab": {
          "base_uri": "https://localhost:8080/"
        },
        "id": "d4ae048d",
        "outputId": "0f8b2481-8817-4344-ab24-7587ec6c21a7"
      },
      "outputs": [
        {
          "output_type": "stream",
          "name": "stdout",
          "text": [
            "[34, 15, 'Hello kitty', 1.35, True, ['YO', None]]\n"
          ]
        }
      ],
      "source": [
        "bag_of_items = [34, 15, \"Hello kitty\", 1.35, True, [\"YO\", None]]\n",
        "print(bag_of_items)"
      ]
    },
    {
      "cell_type": "markdown",
      "id": "e85e48d0",
      "metadata": {
        "id": "e85e48d0"
      },
      "source": [
        "### Length of List\n",
        "![](https://scaler.com/topics/images/length-of-array-in-python-fi.webp)"
      ]
    },
    {
      "cell_type": "code",
      "execution_count": 14,
      "id": "03b68002",
      "metadata": {
        "colab": {
          "base_uri": "https://localhost:8080/"
        },
        "id": "03b68002",
        "outputId": "b49b4fc5-57e2-4bb0-d3f5-32ef02fa947e"
      },
      "outputs": [
        {
          "output_type": "stream",
          "name": "stdout",
          "text": [
            "8\n"
          ]
        }
      ],
      "source": [
        "runs = [78, 90, 34, 56, 39, 34, 34, 34]\n",
        "print(len(runs))"
      ]
    },
    {
      "cell_type": "code",
      "execution_count": 16,
      "id": "1c2b3aaf",
      "metadata": {
        "colab": {
          "base_uri": "https://localhost:8080/"
        },
        "id": "1c2b3aaf",
        "outputId": "3fcec63b-277c-4f03-c3e1-9938351ab9b8"
      },
      "outputs": [
        {
          "output_type": "stream",
          "name": "stdout",
          "text": [
            "6\n"
          ]
        }
      ],
      "source": [
        "bag_of_items = [34, 15, \"Hello kitty\", 1.35, True, [\"YO\", None]]\n",
        "print(len(bag_of_items))"
      ]
    },
    {
      "cell_type": "markdown",
      "id": "ac23b782",
      "metadata": {
        "id": "ac23b782"
      },
      "source": [
        "## Indexing\n",
        "![](https://scaler.com/topics/images/lists-in-python.webp)"
      ]
    },
    {
      "cell_type": "code",
      "execution_count": 18,
      "id": "955e8c3d",
      "metadata": {
        "colab": {
          "base_uri": "https://localhost:8080/",
          "height": 131
        },
        "id": "955e8c3d",
        "outputId": "babe292e-c05a-429b-d997-989d9e56cd2e"
      },
      "outputs": [
        {
          "output_type": "error",
          "ename": "SyntaxError",
          "evalue": "ignored",
          "traceback": [
            "\u001b[0;36m  File \u001b[0;32m\"<ipython-input-18-55e0c55c456e>\"\u001b[0;36m, line \u001b[0;32m10\u001b[0m\n\u001b[0;31m    Linked List\u001b[0m\n\u001b[0m              ^\u001b[0m\n\u001b[0;31mSyntaxError\u001b[0m\u001b[0;31m:\u001b[0m invalid syntax\n"
          ]
        }
      ],
      "source": [
        "# Data Structures\n",
        "\n",
        "Basics\n",
        "# List\n",
        "# Set\n",
        "# Tuple\n",
        "# Dictionary\n",
        "\n",
        "Advanced\n",
        "# Linked List\n",
        "# Stack\n",
        "# Queue\n",
        "# Map\n",
        "# Tree\n",
        "# Graph\n",
        "# Heaps \n",
        "# Tries"
      ]
    },
    {
      "cell_type": "code",
      "execution_count": 17,
      "id": "32b622bc",
      "metadata": {
        "id": "32b622bc"
      },
      "outputs": [],
      "source": [
        "# index 0  1  2  3  4\n",
        "runs = [5, 9, 2, 7, 3]\n",
        "\n",
        "# indices / indexes ( positions ) start from 0"
      ]
    },
    {
      "cell_type": "code",
      "execution_count": 19,
      "id": "5e780e1c",
      "metadata": {
        "colab": {
          "base_uri": "https://localhost:8080/"
        },
        "id": "5e780e1c",
        "outputId": "0790e7d3-35c6-4ece-d2dd-7037ff2efab6"
      },
      "outputs": [
        {
          "output_type": "stream",
          "name": "stdout",
          "text": [
            "9\n"
          ]
        }
      ],
      "source": [
        "print(runs[1])"
      ]
    },
    {
      "cell_type": "code",
      "execution_count": 20,
      "id": "14f34d56",
      "metadata": {
        "colab": {
          "base_uri": "https://localhost:8080/"
        },
        "id": "14f34d56",
        "outputId": "dedadf61-26b4-4b90-a975-df658c17d663"
      },
      "outputs": [
        {
          "output_type": "stream",
          "name": "stdout",
          "text": [
            "3\n"
          ]
        }
      ],
      "source": [
        "print(runs[4]) # index to print 3"
      ]
    },
    {
      "cell_type": "code",
      "execution_count": 21,
      "id": "50b506be",
      "metadata": {
        "colab": {
          "base_uri": "https://localhost:8080/"
        },
        "id": "50b506be",
        "outputId": "56662b1e-c6b2-4eab-9381-2167f9d2e72e"
      },
      "outputs": [
        {
          "output_type": "stream",
          "name": "stdout",
          "text": [
            "5\n"
          ]
        }
      ],
      "source": [
        "print(runs[0])"
      ]
    },
    {
      "cell_type": "code",
      "source": [
        "#index  0  1  2  3  4\n",
        "runs = [5, 9, 2, 7, 3]\n",
        "\n",
        "n = len(runs) # length = 5\n",
        "\n",
        "# Last element\n",
        "print(runs[n-1]) # runs[4]\n",
        "\n",
        "# List has N elements\n",
        "# Index starts form 0\n",
        "# Index will end at N-1\n",
        "# Becasue 0 to N-1 are N elements in total"
      ],
      "metadata": {
        "colab": {
          "base_uri": "https://localhost:8080/"
        },
        "id": "IGussW9kfwDX",
        "outputId": "826a63e3-6488-48d9-875b-0b7daadd997c"
      },
      "id": "IGussW9kfwDX",
      "execution_count": 22,
      "outputs": [
        {
          "output_type": "stream",
          "name": "stdout",
          "text": [
            "3\n"
          ]
        }
      ]
    },
    {
      "cell_type": "markdown",
      "id": "f672b881",
      "metadata": {
        "id": "f672b881"
      },
      "source": [
        "## Negative Indexing\n",
        "![](https://scaler.com/topics/images/what-is-list-in-python.webp)"
      ]
    },
    {
      "cell_type": "code",
      "execution_count": null,
      "id": "3d496a6d",
      "metadata": {
        "id": "3d496a6d"
      },
      "outputs": [],
      "source": [
        "#index  0  1  2  3  4\n",
        "runs = [5, 9, 2, 7, 3]\n",
        "#negin -5 -4 -3 -2 -1\n",
        "\n",
        "# positive index : 0 to n-1\n",
        "# negative index : -1 to -n"
      ]
    },
    {
      "cell_type": "code",
      "execution_count": null,
      "id": "2b76b70f",
      "metadata": {
        "id": "2b76b70f"
      },
      "outputs": [],
      "source": [
        "# Print last element\n",
        "\n",
        "n = len(runs)\n",
        "print(runs[n-1])\n",
        "\n",
        "print( runs[ len( runs ) - 1 ] )\n",
        "\n",
        "print(runs[-1])"
      ]
    },
    {
      "cell_type": "code",
      "source": [
        "runs = [5, 9, 2, 7, 3]\n",
        "\n",
        "print(runs[7])\n",
        "# indices in the list are from 0 to 4\n",
        "# index 7 doesn't exist in the list\n",
        "# so it will throw error\n",
        "\n",
        "print(runs[-6])\n",
        "# indices in the list are from -1 to -5\n",
        "# index -6 doesn't exist in the list\n",
        "# so it will throw error"
      ],
      "metadata": {
        "colab": {
          "base_uri": "https://localhost:8080/",
          "height": 201
        },
        "id": "GdnRvMY3ixam",
        "outputId": "2cd07f1f-3ded-4977-da04-f8f273f6e0ca"
      },
      "id": "GdnRvMY3ixam",
      "execution_count": 23,
      "outputs": [
        {
          "output_type": "error",
          "ename": "IndexError",
          "evalue": "ignored",
          "traceback": [
            "\u001b[0;31m---------------------------------------------------------------------------\u001b[0m",
            "\u001b[0;31mIndexError\u001b[0m                                Traceback (most recent call last)",
            "\u001b[0;32m<ipython-input-23-6c19282d3e37>\u001b[0m in \u001b[0;36m<module>\u001b[0;34m\u001b[0m\n\u001b[1;32m      1\u001b[0m \u001b[0mruns\u001b[0m \u001b[0;34m=\u001b[0m \u001b[0;34m[\u001b[0m\u001b[0;36m5\u001b[0m\u001b[0;34m,\u001b[0m \u001b[0;36m9\u001b[0m\u001b[0;34m,\u001b[0m \u001b[0;36m2\u001b[0m\u001b[0;34m,\u001b[0m \u001b[0;36m7\u001b[0m\u001b[0;34m,\u001b[0m \u001b[0;36m3\u001b[0m\u001b[0;34m]\u001b[0m\u001b[0;34m\u001b[0m\u001b[0;34m\u001b[0m\u001b[0m\n\u001b[1;32m      2\u001b[0m \u001b[0;34m\u001b[0m\u001b[0m\n\u001b[0;32m----> 3\u001b[0;31m \u001b[0mprint\u001b[0m\u001b[0;34m(\u001b[0m\u001b[0mruns\u001b[0m\u001b[0;34m[\u001b[0m\u001b[0;36m7\u001b[0m\u001b[0;34m]\u001b[0m\u001b[0;34m)\u001b[0m\u001b[0;34m\u001b[0m\u001b[0;34m\u001b[0m\u001b[0m\n\u001b[0m",
            "\u001b[0;31mIndexError\u001b[0m: list index out of range"
          ]
        }
      ]
    },
    {
      "cell_type": "markdown",
      "id": "d984adc4",
      "metadata": {
        "id": "d984adc4"
      },
      "source": [
        "#### Quiz 2\n",
        "```py\n",
        "runs = [10, 55, 4, 67, 17]\n",
        "print(runs[0] + runs[-1] + runs[-3])\n",
        "```\n"
      ]
    },
    {
      "cell_type": "code",
      "execution_count": 24,
      "id": "2098bbd6",
      "metadata": {
        "colab": {
          "base_uri": "https://localhost:8080/"
        },
        "id": "2098bbd6",
        "outputId": "c01ed6ec-1d6a-4858-d112-894d5f61af4d"
      },
      "outputs": [
        {
          "output_type": "stream",
          "name": "stdout",
          "text": [
            "31\n"
          ]
        }
      ],
      "source": [
        "# runs[0] -> 10\n",
        "# runs[-1] -> 17\n",
        "# runs[-3] -> 4\n",
        "\n",
        "runs = [10, 55, 4, 67, 17]\n",
        "print(runs[0] + runs[-1] + runs[-3])"
      ]
    },
    {
      "cell_type": "code",
      "execution_count": null,
      "id": "510c71b8",
      "metadata": {
        "id": "510c71b8"
      },
      "outputs": [],
      "source": []
    },
    {
      "cell_type": "markdown",
      "id": "36c99be7",
      "metadata": {
        "id": "36c99be7"
      },
      "source": [
        "## Updating Data"
      ]
    },
    {
      "cell_type": "code",
      "execution_count": 25,
      "id": "ecd3229e",
      "metadata": {
        "colab": {
          "base_uri": "https://localhost:8080/"
        },
        "id": "ecd3229e",
        "outputId": "08e78b4a-04c8-43ad-bbde-1450263e94e3"
      },
      "outputs": [
        {
          "output_type": "stream",
          "name": "stdout",
          "text": [
            "[10, 55, 40, 67, 17]\n"
          ]
        }
      ],
      "source": [
        "runs = [10, 55, 4, 67, 17]\n",
        "\n",
        "runs[2] = 40\n",
        "\n",
        "print(runs)"
      ]
    },
    {
      "cell_type": "code",
      "source": [
        "runs[0] = 50\n",
        "\n",
        "print(runs)"
      ],
      "metadata": {
        "colab": {
          "base_uri": "https://localhost:8080/"
        },
        "id": "zSGYtGBNkA0n",
        "outputId": "e4ec31c6-11ed-422b-dc1a-3f98f00859b3"
      },
      "id": "zSGYtGBNkA0n",
      "execution_count": 26,
      "outputs": [
        {
          "output_type": "stream",
          "name": "stdout",
          "text": [
            "[50, 55, 40, 67, 17]\n"
          ]
        }
      ]
    },
    {
      "cell_type": "code",
      "source": [
        "runs[-1] = 80\n",
        "\n",
        "print(runs)"
      ],
      "metadata": {
        "colab": {
          "base_uri": "https://localhost:8080/"
        },
        "id": "HiZF7Rm-kA73",
        "outputId": "8be3926a-ab97-4b7d-f9db-4ec1dc33f294"
      },
      "id": "HiZF7Rm-kA73",
      "execution_count": 27,
      "outputs": [
        {
          "output_type": "stream",
          "name": "stdout",
          "text": [
            "[50, 55, 40, 67, 80]\n"
          ]
        }
      ]
    },
    {
      "cell_type": "markdown",
      "id": "093fe23c",
      "metadata": {
        "id": "093fe23c"
      },
      "source": [
        "## Inserting Data"
      ]
    },
    {
      "cell_type": "markdown",
      "source": [
        "list.append(x) -> Adds at end of list"
      ],
      "metadata": {
        "id": "mQtSCiyUlEAx"
      },
      "id": "mQtSCiyUlEAx"
    },
    {
      "cell_type": "code",
      "execution_count": 28,
      "id": "05f860b3",
      "metadata": {
        "colab": {
          "base_uri": "https://localhost:8080/"
        },
        "id": "05f860b3",
        "outputId": "861c8388-5cee-452c-fa8a-3d0df7c4e745"
      },
      "outputs": [
        {
          "output_type": "stream",
          "name": "stdout",
          "text": [
            "[5, 6, 1, 9]\n"
          ]
        }
      ],
      "source": [
        "a = [5, 6, 1]\n",
        "\n",
        "a.append(9)\n",
        "print(a)"
      ]
    },
    {
      "cell_type": "code",
      "execution_count": 29,
      "id": "7b554ba8",
      "metadata": {
        "colab": {
          "base_uri": "https://localhost:8080/"
        },
        "id": "7b554ba8",
        "outputId": "e756aa73-5b4e-43e8-d09c-c573f2ff2665"
      },
      "outputs": [
        {
          "output_type": "stream",
          "name": "stdout",
          "text": [
            "[5, 6, 1, 9, 20]\n"
          ]
        }
      ],
      "source": [
        "a.append(20)\n",
        "print(a)"
      ]
    },
    {
      "cell_type": "markdown",
      "source": [
        "list.insert(index, data) -> inserts data at given index in list"
      ],
      "metadata": {
        "id": "IMPXqD_4lL0g"
      },
      "id": "IMPXqD_4lL0g"
    },
    {
      "cell_type": "code",
      "execution_count": 31,
      "id": "f337f5c8",
      "metadata": {
        "colab": {
          "base_uri": "https://localhost:8080/"
        },
        "id": "f337f5c8",
        "outputId": "94a67681-86b9-4821-9c7a-143613ce90fb"
      },
      "outputs": [
        {
          "output_type": "stream",
          "name": "stdout",
          "text": [
            "[5, 100, 6, 1, 9, 20]\n"
          ]
        }
      ],
      "source": [
        "a = [5, 6, 1, 9, 20]\n",
        "\n",
        "# insert(index, data)\n",
        "a.insert(1, 100)\n",
        "print(a)"
      ]
    },
    {
      "cell_type": "code",
      "source": [
        "a.insert(0, 30)\n",
        "print(a)"
      ],
      "metadata": {
        "colab": {
          "base_uri": "https://localhost:8080/"
        },
        "id": "_jv0vXGEltKT",
        "outputId": "b8e4fef3-a709-4409-ac31-c74355327a6f"
      },
      "id": "_jv0vXGEltKT",
      "execution_count": 32,
      "outputs": [
        {
          "output_type": "stream",
          "name": "stdout",
          "text": [
            "[30, 5, 100, 6, 1, 9, 20]\n"
          ]
        }
      ]
    },
    {
      "cell_type": "code",
      "source": [
        "a.insert(-1, 34)\n",
        "# would give same result as a.insert(n-1, 34)\n",
        "print(a)"
      ],
      "metadata": {
        "colab": {
          "base_uri": "https://localhost:8080/"
        },
        "id": "tA8XI73gl2rK",
        "outputId": "c60595d4-4f1a-4df3-c63a-9017b099186d"
      },
      "id": "tA8XI73gl2rK",
      "execution_count": 33,
      "outputs": [
        {
          "output_type": "stream",
          "name": "stdout",
          "text": [
            "[30, 5, 100, 6, 1, 9, 34, 20]\n"
          ]
        }
      ]
    },
    {
      "cell_type": "code",
      "source": [
        "a.insert(-2, 5)\n",
        "print(a)"
      ],
      "metadata": {
        "colab": {
          "base_uri": "https://localhost:8080/"
        },
        "id": "Vfbg-MjImiic",
        "outputId": "61adabdc-7307-4d71-a3a6-efb07d031554"
      },
      "id": "Vfbg-MjImiic",
      "execution_count": 34,
      "outputs": [
        {
          "output_type": "stream",
          "name": "stdout",
          "text": [
            "[30, 5, 100, 6, 1, 9, 5, 34, 20]\n"
          ]
        }
      ]
    },
    {
      "cell_type": "code",
      "source": [
        "# Break - 10:15pm"
      ],
      "metadata": {
        "id": "beXrgrPWnaeD"
      },
      "id": "beXrgrPWnaeD",
      "execution_count": null,
      "outputs": []
    },
    {
      "cell_type": "markdown",
      "id": "da34482c",
      "metadata": {
        "id": "da34482c"
      },
      "source": [
        "#### Quiz 3\n",
        "```py\n",
        "runs = [10, 55, 4, 67, 17]\n",
        "runs.append(6)\n",
        "runs.append(200)\n",
        "print(runs[-1] + runs[2])\n",
        "```"
      ]
    },
    {
      "cell_type": "code",
      "execution_count": null,
      "id": "f2a5724c",
      "metadata": {
        "id": "f2a5724c"
      },
      "outputs": [],
      "source": [
        "runs = [10, 55, 4, 67, 17]\n",
        "runs.append(6)\n",
        "# [10, 55, 4, 67, 17, 6]\n",
        "runs.append(200)\n",
        "# [10, 55, 4, 67, 17, 6, 200]\n",
        "print(runs[-1] + runs[2])\n",
        "runs[-1] = 200\n",
        "runs[2] = 4\n",
        "204"
      ]
    },
    {
      "cell_type": "markdown",
      "id": "67b6a2ef",
      "metadata": {
        "id": "67b6a2ef"
      },
      "source": [
        "#### Quiz 4\n",
        "```py\n",
        "l = [1, 2, 3, 3, 5, 6, 7, 5]\n",
        "l.insert(5, 10)\n",
        "print(l)\n",
        "```"
      ]
    },
    {
      "cell_type": "code",
      "execution_count": 36,
      "id": "ecfe5a02",
      "metadata": {
        "colab": {
          "base_uri": "https://localhost:8080/"
        },
        "id": "ecfe5a02",
        "outputId": "4d259856-1dd9-4580-a780-0be5d9a2d9d5"
      },
      "outputs": [
        {
          "output_type": "stream",
          "name": "stdout",
          "text": [
            "[1, 2, 3, 3, 5, 10, 6, 7, 5]\n"
          ]
        }
      ],
      "source": [
        "l = [1, 2, 3, 3, 5, 6, 7, 5]\n",
        "l.insert(5, 10)\n",
        "print(l)"
      ]
    },
    {
      "cell_type": "code",
      "execution_count": 43,
      "id": "12263f75",
      "metadata": {
        "id": "12263f75"
      },
      "outputs": [],
      "source": [
        "runs = [50, 65, 78, 23, 16]\n",
        "new_runs = [90, 150, 20]"
      ]
    },
    {
      "cell_type": "code",
      "source": [
        "# Add all values in new_runs to runs\n",
        "runs.extend(new_runs)\n",
        "print(runs)"
      ],
      "metadata": {
        "colab": {
          "base_uri": "https://localhost:8080/"
        },
        "id": "lZ0U1-9BrWj0",
        "outputId": "55154f68-b3b2-4458-a3aa-7a1059a09d57"
      },
      "id": "lZ0U1-9BrWj0",
      "execution_count": 41,
      "outputs": [
        {
          "output_type": "stream",
          "name": "stdout",
          "text": [
            "[50, 65, 78, 23, 16, 90, 150, 20]\n"
          ]
        }
      ]
    },
    {
      "cell_type": "code",
      "source": [
        "new_runs.extend(runs)\n",
        "print(new_runs)"
      ],
      "metadata": {
        "colab": {
          "base_uri": "https://localhost:8080/"
        },
        "id": "Axda2MlIroC2",
        "outputId": "1b0cfaf0-3846-4803-90f3-b966a186b293"
      },
      "id": "Axda2MlIroC2",
      "execution_count": 44,
      "outputs": [
        {
          "output_type": "stream",
          "name": "stdout",
          "text": [
            "[90, 150, 20, 50, 65, 78, 23, 16]\n"
          ]
        }
      ]
    },
    {
      "cell_type": "code",
      "source": [
        "runs = [50, 65, 78, 23, 16]\n",
        "new_runs = [90, 150, 20]\n",
        "\n",
        "print(runs + new_runs)"
      ],
      "metadata": {
        "colab": {
          "base_uri": "https://localhost:8080/"
        },
        "id": "NDrDAH-Rrw6S",
        "outputId": "5ff25977-2d32-4684-f1b3-4058b994c64b"
      },
      "id": "NDrDAH-Rrw6S",
      "execution_count": 46,
      "outputs": [
        {
          "output_type": "stream",
          "name": "stdout",
          "text": [
            "[50, 65, 78, 23, 16, 90, 150, 20]\n"
          ]
        }
      ]
    },
    {
      "cell_type": "markdown",
      "id": "f202e1a2",
      "metadata": {
        "id": "f202e1a2"
      },
      "source": [
        "## Iterating over lists"
      ]
    },
    {
      "cell_type": "code",
      "execution_count": 48,
      "id": "23eb8619",
      "metadata": {
        "id": "23eb8619"
      },
      "outputs": [],
      "source": [
        "l = [9, 2, 4, 6, 1]"
      ]
    },
    {
      "cell_type": "markdown",
      "id": "defaaf7f",
      "metadata": {
        "id": "defaaf7f"
      },
      "source": [
        "Print the squares of all elements in this list"
      ]
    },
    {
      "cell_type": "code",
      "execution_count": 50,
      "id": "1fbd6bd1",
      "metadata": {
        "colab": {
          "base_uri": "https://localhost:8080/"
        },
        "id": "1fbd6bd1",
        "outputId": "6a712e7a-d568-40dc-97f7-9a70897f8d06"
      },
      "outputs": [
        {
          "output_type": "stream",
          "name": "stdout",
          "text": [
            "81 4 16 36 1 "
          ]
        }
      ],
      "source": [
        "for x in l :\n",
        "  print(x**2, end=' ')"
      ]
    },
    {
      "cell_type": "markdown",
      "id": "fa7b4895",
      "metadata": {
        "id": "fa7b4895"
      },
      "source": [
        "Print only the odd numbers in this list"
      ]
    },
    {
      "cell_type": "code",
      "execution_count": 51,
      "id": "b294d794",
      "metadata": {
        "colab": {
          "base_uri": "https://localhost:8080/"
        },
        "id": "b294d794",
        "outputId": "b4d965b0-daab-40b2-b23a-45e952d8dc94"
      },
      "outputs": [
        {
          "output_type": "stream",
          "name": "stdout",
          "text": [
            "9 1 "
          ]
        }
      ],
      "source": [
        "for x in l :\n",
        "  if x % 2 == 1 :\n",
        "    print(x, end=' ')"
      ]
    },
    {
      "cell_type": "markdown",
      "id": "488b66d3",
      "metadata": {
        "id": "488b66d3"
      },
      "source": [
        "Create a separate list of all odd numbers"
      ]
    },
    {
      "cell_type": "code",
      "execution_count": 52,
      "id": "1c954073",
      "metadata": {
        "colab": {
          "base_uri": "https://localhost:8080/"
        },
        "id": "1c954073",
        "outputId": "54f0eca1-329c-4c9b-fdb0-0862b380ef66"
      },
      "outputs": [
        {
          "output_type": "stream",
          "name": "stdout",
          "text": [
            "[9, 1]\n"
          ]
        }
      ],
      "source": [
        "odd_list = []\n",
        "\n",
        "for x in l :\n",
        "  if x % 2 == 1 :\n",
        "    odd_list.append(x)\n",
        "\n",
        "print(odd_list)"
      ]
    },
    {
      "cell_type": "markdown",
      "id": "5e0cddcf",
      "metadata": {
        "id": "5e0cddcf"
      },
      "source": [
        "Given a list of numbers, compute their\n",
        "- sum\n",
        "- min\n",
        "- max\n",
        "- average"
      ]
    },
    {
      "cell_type": "code",
      "execution_count": 53,
      "id": "a1f78ea8",
      "metadata": {
        "colab": {
          "base_uri": "https://localhost:8080/"
        },
        "id": "a1f78ea8",
        "outputId": "2dca3450-f7d4-4e32-a8f3-5b68536cb9d7"
      },
      "outputs": [
        {
          "output_type": "stream",
          "name": "stdout",
          "text": [
            "22\n",
            "4.4\n"
          ]
        }
      ],
      "source": [
        "sum = 0\n",
        "for x in l :\n",
        "  sum += x\n",
        "\n",
        "print(sum)\n",
        "avg = sum/len(l)\n",
        "print(avg)"
      ]
    },
    {
      "cell_type": "code",
      "execution_count": 54,
      "id": "25366e73",
      "metadata": {
        "colab": {
          "base_uri": "https://localhost:8080/"
        },
        "id": "25366e73",
        "outputId": "ebe34d18-0642-4495-964e-f872684b4cd6"
      },
      "outputs": [
        {
          "output_type": "stream",
          "name": "stdout",
          "text": [
            "-1\n"
          ]
        }
      ],
      "source": [
        "# Max\n",
        "\n",
        "l = [-2, -4, -9, -6, -1]\n",
        "\n",
        "mx = float(\"-inf\")\n",
        "\n",
        "for x in l :\n",
        "  if x > mx :\n",
        "    mx = x\n",
        "\n",
        "print(mx)\n",
        "\n",
        "# mx    x    new_mx\n",
        "# 0     2     2\n",
        "# 2     4     4\n",
        "# 4     9     9\n",
        "# 9     6     9\n",
        "# 9     1     9"
      ]
    },
    {
      "cell_type": "code",
      "source": [
        "import math\n",
        "# Min\n",
        "\n",
        "l = [-2, -4, -9, -6, -1]\n",
        "\n",
        "mn = math.inf # -math.inf\n",
        "\n",
        "for x in l :\n",
        "  if x < mn :\n",
        "    mn = x\n",
        "\n",
        "print(mn)"
      ],
      "metadata": {
        "colab": {
          "base_uri": "https://localhost:8080/"
        },
        "id": "-lo55JCQwpwT",
        "outputId": "217ef3b9-3d10-4d20-db47-516782bff6ae"
      },
      "id": "-lo55JCQwpwT",
      "execution_count": 57,
      "outputs": [
        {
          "output_type": "stream",
          "name": "stdout",
          "text": [
            "-9\n"
          ]
        }
      ]
    },
    {
      "cell_type": "code",
      "source": [
        "print(max(l))\n",
        "print(min(l))"
      ],
      "metadata": {
        "colab": {
          "base_uri": "https://localhost:8080/"
        },
        "id": "KPZhuxNWvMuX",
        "outputId": "d1c6fcff-fe31-4c12-9cb7-1f7c2a768575"
      },
      "id": "KPZhuxNWvMuX",
      "execution_count": 58,
      "outputs": [
        {
          "output_type": "stream",
          "name": "stdout",
          "text": [
            "-1\n",
            "-9\n"
          ]
        }
      ]
    },
    {
      "cell_type": "markdown",
      "id": "16b28c48",
      "metadata": {
        "id": "16b28c48"
      },
      "source": [
        "### Iterating over list using indexes"
      ]
    },
    {
      "cell_type": "code",
      "execution_count": 59,
      "id": "ccb2e1bb",
      "metadata": {
        "colab": {
          "base_uri": "https://localhost:8080/"
        },
        "id": "ccb2e1bb",
        "outputId": "8c2b05f0-5fc0-4e98-f42f-c1b6f3151591"
      },
      "outputs": [
        {
          "output_type": "stream",
          "name": "stdout",
          "text": [
            "5 2 7 -8 -9 1 "
          ]
        }
      ],
      "source": [
        "#index  0  1  2   3   4  5\n",
        "nums = [5, 2, 7, -8, -9, 1]\n",
        "N = len(nums)\n",
        "\n",
        "for ind in range(N) : # range(N) -> 0 to N-1\n",
        "    print(nums[ind], end=' ')\n",
        "\n",
        "# N = 6\n",
        "# range(6) -> [0, 1, 2, 3, 4, 5]\n",
        "# nums[0] nums[1] nums[2] nums[3] nums[4] nums[5]\n",
        "# 5 2 7 -8 -9 1"
      ]
    },
    {
      "cell_type": "code",
      "execution_count": 65,
      "id": "fffe2858",
      "metadata": {
        "colab": {
          "base_uri": "https://localhost:8080/"
        },
        "id": "fffe2858",
        "outputId": "c539a531-27e6-476f-e7a0-f9e0ee5ad8cf"
      },
      "outputs": [
        {
          "output_type": "stream",
          "name": "stdout",
          "text": [
            "1st option\n",
            "5 3 9 -3 \n",
            "\n",
            "2nd option\n",
            "5 3 9 -3 \n",
            "\n",
            "4th option\n",
            "5 3 9 -3 "
          ]
        }
      ],
      "source": [
        "A = [5, 3, 9, -3]\n",
        "\n",
        "print('1st option')\n",
        "for x in A:\n",
        "   print(x, end=' ')\n",
        "\n",
        "\n",
        "print('\\n\\n2nd option')\n",
        "for i in range(len(A)):\n",
        "   print(A[i], end=' ')\n",
        "\n",
        "\n",
        "# i = 0\n",
        "# while i < len(A):\n",
        "#   i+=1\n",
        "#   print(A[i], end=' ')\n",
        "\n",
        "print('\\n\\n4th option')\n",
        "i = 0\n",
        "while i < len(A):\n",
        "  print(A[i], end=' ')\n",
        "  i+=1"
      ]
    },
    {
      "cell_type": "markdown",
      "id": "7c7f6122",
      "metadata": {
        "id": "7c7f6122"
      },
      "source": [
        "# Bonus Reading \n",
        "- List in Data Structure (Language agnostic overview of Lists) - https://www.scaler.com/topics/list-in-data-structure/\n",
        "- What is List in Python? - https://www.scaler.com/topics/what-is-list-in-python/\n",
        "- list() in Python - https://www.scaler.com/topics/python/list-in-python/\n",
        "- Empty List - https://www.scaler.com/topics/empty-list-in-python/\n",
        "- Length of List - https://www.scaler.com/topics/python-length-of-list/\n",
        "- Iterate List in Python - https://www.scaler.com/topics/iterate-list-in-python/"
      ]
    }
  ],
  "metadata": {
    "kernelspec": {
      "display_name": "Python 3 (ipykernel)",
      "language": "python",
      "name": "python3"
    },
    "language_info": {
      "codemirror_mode": {
        "name": "ipython",
        "version": 3
      },
      "file_extension": ".py",
      "mimetype": "text/x-python",
      "name": "python",
      "nbconvert_exporter": "python",
      "pygments_lexer": "ipython3",
      "version": "3.9.12"
    },
    "colab": {
      "provenance": []
    }
  },
  "nbformat": 4,
  "nbformat_minor": 5
}