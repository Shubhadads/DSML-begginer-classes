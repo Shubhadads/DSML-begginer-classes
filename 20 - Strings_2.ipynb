{
  "cells": [
    {
      "cell_type": "markdown",
      "id": "4d8cd4f5",
      "metadata": {
        "id": "4d8cd4f5"
      },
      "source": [
        "# Strings 2"
      ]
    },
    {
      "cell_type": "code",
      "execution_count": null,
      "id": "8431e82e",
      "metadata": {
        "id": "8431e82e"
      },
      "outputs": [],
      "source": []
    },
    {
      "cell_type": "markdown",
      "id": "51193148",
      "metadata": {
        "id": "51193148"
      },
      "source": [
        "## find()\n",
        "![](https://scaler.com/topics/images/find-in-python.webp)"
      ]
    },
    {
      "cell_type": "code",
      "source": [
        "s = \"Harry Potter and the Deathly Hallows\"\n",
        "# Find the index of 'and'\n",
        "\n",
        "idx = s.find('and')\n",
        "print(idx)"
      ],
      "metadata": {
        "colab": {
          "base_uri": "https://localhost:8080/"
        },
        "id": "VLuWtb-TbpXd",
        "outputId": "643acbdb-2fa2-4a61-f331-3e92a1697416"
      },
      "id": "VLuWtb-TbpXd",
      "execution_count": 1,
      "outputs": [
        {
          "output_type": "stream",
          "name": "stdout",
          "text": [
            "13\n"
          ]
        }
      ]
    },
    {
      "cell_type": "code",
      "source": [
        "# In case the substring is not present, it returns -1\n",
        "idx2 = s.find('goblet')\n",
        "\n",
        "print(idx2)"
      ],
      "metadata": {
        "colab": {
          "base_uri": "https://localhost:8080/"
        },
        "id": "IBP8oB3DgkfL",
        "outputId": "3eb1f5af-497f-4f9c-ac80-02b9f256dec6"
      },
      "id": "IBP8oB3DgkfL",
      "execution_count": 2,
      "outputs": [
        {
          "output_type": "stream",
          "name": "stdout",
          "text": [
            "-1\n"
          ]
        }
      ]
    },
    {
      "cell_type": "code",
      "source": [
        "# Find with just 1 argument, returns position of first occurence only\n",
        "\n",
        "s = \"Harry Potter and the Deathly Hallows\"\n",
        "\n",
        "idx3 = s.find('H')\n",
        "print(idx3)"
      ],
      "metadata": {
        "colab": {
          "base_uri": "https://localhost:8080/"
        },
        "id": "xXVSyNJLgth1",
        "outputId": "a3ebe7a8-6657-48b5-a40e-e3edb38162c7"
      },
      "id": "xXVSyNJLgth1",
      "execution_count": 4,
      "outputs": [
        {
          "output_type": "stream",
          "name": "stdout",
          "text": [
            "0\n"
          ]
        }
      ]
    },
    {
      "cell_type": "markdown",
      "id": "eec8dcaf",
      "metadata": {
        "id": "eec8dcaf"
      },
      "source": [
        "If you want 2nd or the third occurence - Try it out on your own.\n",
        "Hint - Refer to the articles"
      ]
    },
    {
      "cell_type": "code",
      "execution_count": null,
      "id": "0efdf946",
      "metadata": {
        "id": "0efdf946"
      },
      "outputs": [],
      "source": []
    },
    {
      "cell_type": "code",
      "execution_count": null,
      "id": "0f19ec6e",
      "metadata": {
        "id": "0f19ec6e"
      },
      "outputs": [],
      "source": []
    },
    {
      "cell_type": "markdown",
      "id": "f9080d2a",
      "metadata": {
        "id": "f9080d2a"
      },
      "source": [
        "## count()\n",
        "![](https://scaler.com/topics/images/count-in-python.webp)"
      ]
    },
    {
      "cell_type": "code",
      "execution_count": 5,
      "id": "fdd7ab24",
      "metadata": {
        "colab": {
          "base_uri": "https://localhost:8080/"
        },
        "id": "fdd7ab24",
        "outputId": "7ee22aa6-4f69-47e6-a24e-ce3b0d75f0c9"
      },
      "outputs": [
        {
          "output_type": "stream",
          "name": "stdout",
          "text": [
            "2\n"
          ]
        }
      ],
      "source": [
        "s = \"Harry Potter and the Deathly Hallows\"\n",
        "c = s.count('H')\n",
        "\n",
        "print(c)"
      ]
    },
    {
      "cell_type": "code",
      "execution_count": 6,
      "id": "837c0e6b",
      "metadata": {
        "colab": {
          "base_uri": "https://localhost:8080/"
        },
        "id": "837c0e6b",
        "outputId": "c4c6eb50-f513-45f3-c8a4-e3610990ffb7"
      },
      "outputs": [
        {
          "output_type": "stream",
          "name": "stdout",
          "text": [
            "3\n"
          ]
        }
      ],
      "source": [
        "c2 = s.count('l')\n",
        "print(c2)"
      ]
    },
    {
      "cell_type": "code",
      "source": [
        "c3 = s.count('Chamber')\n",
        "print(c3)"
      ],
      "metadata": {
        "colab": {
          "base_uri": "https://localhost:8080/"
        },
        "id": "6NfVH1V4hyiT",
        "outputId": "7cc3e063-7aae-4726-ae68-9a176b50cdda"
      },
      "id": "6NfVH1V4hyiT",
      "execution_count": 7,
      "outputs": [
        {
          "output_type": "stream",
          "name": "stdout",
          "text": [
            "0\n"
          ]
        }
      ]
    },
    {
      "cell_type": "markdown",
      "id": "f2c94f37",
      "metadata": {
        "id": "f2c94f37"
      },
      "source": [
        "### in operator"
      ]
    },
    {
      "cell_type": "code",
      "execution_count": null,
      "id": "6396d73f",
      "metadata": {
        "id": "6396d73f"
      },
      "outputs": [],
      "source": [
        "s = \"Harry Potter and the Deathly Hallows\""
      ]
    },
    {
      "cell_type": "code",
      "source": [
        "print('and' in s)\n",
        "\n",
        "print('And' in s)"
      ],
      "metadata": {
        "colab": {
          "base_uri": "https://localhost:8080/"
        },
        "id": "4d7ypdyeiCUJ",
        "outputId": "b1d2390a-8a86-4355-9d46-c2652fab7dec"
      },
      "id": "4d7ypdyeiCUJ",
      "execution_count": 10,
      "outputs": [
        {
          "output_type": "stream",
          "name": "stdout",
          "text": [
            "True\n",
            "False\n"
          ]
        }
      ]
    },
    {
      "cell_type": "code",
      "source": [
        "print(\"Harry Potter\" in s)"
      ],
      "metadata": {
        "colab": {
          "base_uri": "https://localhost:8080/"
        },
        "id": "SbBhlLq6iCWN",
        "outputId": "e611624e-fae4-4df4-c6a2-ce85fbf74a38"
      },
      "id": "SbBhlLq6iCWN",
      "execution_count": 11,
      "outputs": [
        {
          "output_type": "stream",
          "name": "stdout",
          "text": [
            "True\n"
          ]
        }
      ]
    },
    {
      "cell_type": "markdown",
      "id": "62d26e88",
      "metadata": {
        "id": "62d26e88"
      },
      "source": [
        "#### Quiz\n",
        "```py\n",
        "print(\"Ra\" in \"rahul\")\n",
        "```"
      ]
    },
    {
      "cell_type": "code",
      "source": [
        "print('Ra' in 'rahul jango')"
      ],
      "metadata": {
        "colab": {
          "base_uri": "https://localhost:8080/"
        },
        "id": "OmHMVYx5ikzs",
        "outputId": "9342435c-23c5-42f1-be9d-6f978c24a697"
      },
      "id": "OmHMVYx5ikzs",
      "execution_count": 13,
      "outputs": [
        {
          "output_type": "stream",
          "name": "stdout",
          "text": [
            "False\n"
          ]
        }
      ]
    },
    {
      "cell_type": "code",
      "execution_count": null,
      "id": "c899519a",
      "metadata": {
        "id": "c899519a"
      },
      "outputs": [],
      "source": []
    },
    {
      "cell_type": "code",
      "execution_count": null,
      "id": "3008686a",
      "metadata": {
        "id": "3008686a"
      },
      "outputs": [],
      "source": []
    },
    {
      "cell_type": "code",
      "execution_count": null,
      "id": "52ed3691",
      "metadata": {
        "id": "52ed3691"
      },
      "outputs": [],
      "source": []
    },
    {
      "cell_type": "markdown",
      "source": [],
      "metadata": {
        "id": "xNhvS6QobsWF"
      },
      "id": "xNhvS6QobsWF"
    },
    {
      "cell_type": "markdown",
      "id": "98379677",
      "metadata": {
        "id": "98379677"
      },
      "source": [
        "## Immutable Nature\n",
        "![](https://scaler.com/topics/images/python-datatypes.webp)"
      ]
    },
    {
      "cell_type": "code",
      "execution_count": 16,
      "id": "78bb3eec",
      "metadata": {
        "colab": {
          "base_uri": "https://localhost:8080/"
        },
        "id": "78bb3eec",
        "outputId": "702e419d-1423-4b6e-88b7-fb06b053a036"
      },
      "outputs": [
        {
          "output_type": "stream",
          "name": "stdout",
          "text": [
            "['h', 'i', 'l', 'l', 'o']\n"
          ]
        }
      ],
      "source": [
        "# s = \"hello\"\n",
        "# print(s[1])\n",
        "# s[1] = 'i'\n",
        "\n",
        "ls = ['h', 'e', 'l', 'l', 'o']\n",
        "ls[1] = 'i'\n",
        "print(ls)"
      ]
    },
    {
      "cell_type": "code",
      "execution_count": 17,
      "id": "9bf18beb",
      "metadata": {
        "colab": {
          "base_uri": "https://localhost:8080/"
        },
        "id": "9bf18beb",
        "outputId": "1308d3c4-00fe-495c-bbf4-8d9457e8df9e"
      },
      "outputs": [
        {
          "output_type": "stream",
          "name": "stdout",
          "text": [
            "11122720\n"
          ]
        }
      ],
      "source": [
        "# index -> location inside a iterable\n",
        "# memory location -> location inside program memory\n",
        "\n",
        "a = 5\n",
        "print(id(a))"
      ]
    },
    {
      "cell_type": "code",
      "execution_count": 18,
      "id": "4c1356e2",
      "metadata": {
        "colab": {
          "base_uri": "https://localhost:8080/"
        },
        "id": "4c1356e2",
        "outputId": "49adbbd5-a4d7-4ca4-a549-4b980a1c770c"
      },
      "outputs": [
        {
          "output_type": "stream",
          "name": "stdout",
          "text": [
            "11122752\n"
          ]
        }
      ],
      "source": [
        "a = a + 1\n",
        "print(id(a))"
      ]
    },
    {
      "cell_type": "code",
      "source": [
        "a = a * 10\n",
        "print(id(a))"
      ],
      "metadata": {
        "colab": {
          "base_uri": "https://localhost:8080/"
        },
        "id": "eOU_abXmoKJ2",
        "outputId": "7db63814-410e-4fb0-9030-1461b27b3e66"
      },
      "id": "eOU_abXmoKJ2",
      "execution_count": 19,
      "outputs": [
        {
          "output_type": "stream",
          "name": "stdout",
          "text": [
            "11124480\n"
          ]
        }
      ]
    },
    {
      "cell_type": "code",
      "source": [
        "ls = ['h', 'e', 'l', 'l', 'o']\n",
        "print(id(ls))\n",
        "\n",
        "ls[1] = 'i'\n",
        "print(id(ls))"
      ],
      "metadata": {
        "colab": {
          "base_uri": "https://localhost:8080/"
        },
        "id": "P0xsLYv-oPjb",
        "outputId": "1249c459-753f-4c96-e501-8565929eefac"
      },
      "id": "P0xsLYv-oPjb",
      "execution_count": 20,
      "outputs": [
        {
          "output_type": "stream",
          "name": "stdout",
          "text": [
            "139919642342176\n",
            "139919642342176\n"
          ]
        }
      ]
    },
    {
      "cell_type": "markdown",
      "id": "d43829ba",
      "metadata": {
        "id": "d43829ba"
      },
      "source": [
        "## replace()\n",
        "![](https://scaler.com/topics/images/replace-a-character-in-a-string-python.webp)"
      ]
    },
    {
      "cell_type": "code",
      "execution_count": 22,
      "id": "34b16d49",
      "metadata": {
        "colab": {
          "base_uri": "https://localhost:8080/"
        },
        "id": "34b16d49",
        "outputId": "3f15ff16-50ff-4a55-fde2-f6fbedac663b"
      },
      "outputs": [
        {
          "output_type": "stream",
          "name": "stdout",
          "text": [
            "hello everyone\n"
          ]
        }
      ],
      "source": [
        "s = \"hello world\"\n",
        "\n",
        "# Change to \"hello everyone\"\n",
        "\n",
        "s = s.replace('world', 'everyone')\n",
        "print(s)"
      ]
    },
    {
      "cell_type": "code",
      "source": [
        "s = 'hello gladolys'\n",
        "\n",
        "t = s.replace('l', 'L')\n",
        "print(s)\n",
        "print(t)"
      ],
      "metadata": {
        "colab": {
          "base_uri": "https://localhost:8080/"
        },
        "id": "pFttIgixqfkV",
        "outputId": "10d96394-9ef6-4769-f307-d94b47194cb8"
      },
      "id": "pFttIgixqfkV",
      "execution_count": 24,
      "outputs": [
        {
          "output_type": "stream",
          "name": "stdout",
          "text": [
            "hello gladolys\n",
            "heLLo gLadoLys\n"
          ]
        }
      ]
    },
    {
      "cell_type": "markdown",
      "id": "08b9ed2f",
      "metadata": {
        "id": "08b9ed2f"
      },
      "source": [
        "#### Quiz 2\n",
        "```py\n",
        "a = \"Hello\"  \n",
        "b = a  \n",
        "a = \"Yello\"  \n",
        "```\n",
        "What is the value of `b` now?"
      ]
    },
    {
      "cell_type": "code",
      "execution_count": 30,
      "id": "fa14df73",
      "metadata": {
        "colab": {
          "base_uri": "https://localhost:8080/"
        },
        "id": "fa14df73",
        "outputId": "74cad50f-d360-4fda-cd68-8da043059a25"
      },
      "outputs": [
        {
          "output_type": "stream",
          "name": "stdout",
          "text": [
            "139919768378352 139919642160496 Hello\n"
          ]
        }
      ],
      "source": [
        "a = \"Hello\"  \n",
        "b = a  \n",
        "a = \"Yello\"  \n",
        "print(id(a), id(b), b)"
      ]
    },
    {
      "cell_type": "code",
      "execution_count": null,
      "id": "0606b274",
      "metadata": {
        "id": "0606b274"
      },
      "outputs": [],
      "source": []
    },
    {
      "cell_type": "markdown",
      "id": "91591f72",
      "metadata": {
        "id": "91591f72"
      },
      "source": [
        "#### Quiz 3\n",
        "Python - String Nature\n",
        "Predict the output\n",
        "```py\n",
        "a = \"batman\"\n",
        "b = a\n",
        "b.replace(\"b\", \"c\")\n",
        "print(a) \n",
        "```"
      ]
    },
    {
      "cell_type": "code",
      "execution_count": 34,
      "id": "d802f642",
      "metadata": {
        "colab": {
          "base_uri": "https://localhost:8080/"
        },
        "id": "d802f642",
        "outputId": "75512558-b731-44a8-d7da-47015d1a7999"
      },
      "outputs": [
        {
          "output_type": "stream",
          "name": "stdout",
          "text": [
            "batman batman\n"
          ]
        }
      ],
      "source": [
        "a = \"batman\"\n",
        "b = a\n",
        "b.replace(\"b\", \"c\")\n",
        "print(a, b) "
      ]
    },
    {
      "cell_type": "code",
      "execution_count": 37,
      "id": "279a7409",
      "metadata": {
        "colab": {
          "base_uri": "https://localhost:8080/"
        },
        "id": "279a7409",
        "outputId": "e4c9ca61-eb78-457a-e68a-71fb58ce904e"
      },
      "outputs": [
        {
          "output_type": "stream",
          "name": "stdout",
          "text": [
            "Garry Potter and the Deathly Hallows\n"
          ]
        }
      ],
      "source": [
        "s = \"Harry Potter and the Deathly Hallows\"\n",
        "t = s.replace('H', 'G', 1)\n",
        "\n",
        "print(t)"
      ]
    },
    {
      "cell_type": "markdown",
      "id": "d2295e73",
      "metadata": {
        "id": "d2295e73"
      },
      "source": [
        "## String to list"
      ]
    },
    {
      "cell_type": "code",
      "execution_count": 38,
      "id": "f57301e0",
      "metadata": {
        "colab": {
          "base_uri": "https://localhost:8080/"
        },
        "id": "f57301e0",
        "outputId": "c1798fc5-8254-4ce0-ac4d-fd374ecebb8f"
      },
      "outputs": [
        {
          "output_type": "stream",
          "name": "stdout",
          "text": [
            "Hello ['H', 'e', 'l', 'l', 'o']\n"
          ]
        }
      ],
      "source": [
        "s = 'Hello'\n",
        "\n",
        "l = list(s)\n",
        "print(s, l)"
      ]
    },
    {
      "cell_type": "code",
      "source": [
        "s = 'Hello'\n",
        "l = s.split()\n",
        "\n",
        "print(l)"
      ],
      "metadata": {
        "colab": {
          "base_uri": "https://localhost:8080/"
        },
        "id": "4vhpvpSib4bA",
        "outputId": "d613cd51-6f8f-4f8e-cdd6-3a8aab89f677"
      },
      "id": "4vhpvpSib4bA",
      "execution_count": 39,
      "outputs": [
        {
          "output_type": "stream",
          "name": "stdout",
          "text": [
            "['Hello']\n"
          ]
        }
      ]
    },
    {
      "cell_type": "code",
      "source": [
        "# Convert string to list -> split & list"
      ],
      "metadata": {
        "id": "2GSqGewsv6MZ"
      },
      "id": "2GSqGewsv6MZ",
      "execution_count": null,
      "outputs": []
    },
    {
      "cell_type": "markdown",
      "id": "4ad89fb2",
      "metadata": {
        "id": "4ad89fb2"
      },
      "source": [
        "## List to String\n",
        "![](https://scaler.com/topics/images/convert-list-to-string-in-python.webp)"
      ]
    },
    {
      "cell_type": "code",
      "execution_count": 43,
      "id": "5a17347a",
      "metadata": {
        "colab": {
          "base_uri": "https://localhost:8080/"
        },
        "id": "5a17347a",
        "outputId": "6e6c151d-ec42-42fe-fd44-06ea739c6b7f"
      },
      "outputs": [
        {
          "output_type": "stream",
          "name": "stdout",
          "text": [
            "h_e_l_l_o <class 'str'>\n"
          ]
        }
      ],
      "source": [
        "# Given a string, return a new string containing all characters separated by _\n",
        "s = 'hello'\n",
        "\n",
        "# s = 'h_e_l_l_o'\n",
        "\n",
        "# Approach 1 -> Use for and + ( Complex )\n",
        "# Approach 2 -> split and join\n",
        "\n",
        "l = list(s) # l = ['h','e','l','l','o']\n",
        "sj = '_'.join(l)\n",
        "print(sj, type(sj))\n",
        "\n",
        "# .join() takes one argument = iterable\n",
        "# This iterable must be an iterable of strings only"
      ]
    },
    {
      "cell_type": "code",
      "execution_count": 46,
      "id": "cc61d97e",
      "metadata": {
        "colab": {
          "base_uri": "https://localhost:8080/"
        },
        "id": "cc61d97e",
        "outputId": "52b69aa9-c062-41fe-ad86-8e98d54dc46a"
      },
      "outputs": [
        {
          "output_type": "stream",
          "name": "stdout",
          "text": [
            "['hello', 'how', 'are', 'you', 'doing']\n",
            "hello--how--are--you--doing\n"
          ]
        }
      ],
      "source": [
        "s = \"hello how are you doing\"\n",
        "l = s.split()\n",
        "print(l)\n",
        "\n",
        "sj = '--'.join(l)\n",
        "print(sj)"
      ]
    },
    {
      "cell_type": "markdown",
      "id": "095066a7",
      "metadata": {
        "id": "095066a7"
      },
      "source": [
        "#### Quiz 4\n",
        "```py\n",
        "n = ['string1', 'string2']  \n",
        "print(\"Satish\".join(n))\n",
        "```"
      ]
    },
    {
      "cell_type": "code",
      "execution_count": 47,
      "id": "74b5246d",
      "metadata": {
        "colab": {
          "base_uri": "https://localhost:8080/"
        },
        "id": "74b5246d",
        "outputId": "3a7bf756-f135-4484-fa0c-d6fe4bda479b"
      },
      "outputs": [
        {
          "output_type": "stream",
          "name": "stdout",
          "text": [
            "string1Satishstring2\n"
          ]
        }
      ],
      "source": [
        "n = ['string1', 'string2']  \n",
        "print(\"Satish\".join(n))"
      ]
    },
    {
      "cell_type": "code",
      "execution_count": null,
      "id": "2eaa63ed",
      "metadata": {
        "id": "2eaa63ed"
      },
      "outputs": [],
      "source": []
    },
    {
      "cell_type": "code",
      "execution_count": null,
      "id": "3ba2786e",
      "metadata": {
        "id": "3ba2786e"
      },
      "outputs": [],
      "source": []
    },
    {
      "cell_type": "code",
      "execution_count": null,
      "id": "639538a9",
      "metadata": {
        "id": "639538a9"
      },
      "outputs": [],
      "source": []
    },
    {
      "cell_type": "markdown",
      "id": "7e183b45",
      "metadata": {
        "id": "7e183b45"
      },
      "source": [
        "## Reverse words in a string\n",
        "![](https://scaler.com/topics/images/reverse-words-in-a-string-python.webp)"
      ]
    },
    {
      "cell_type": "code",
      "source": [
        "s = \"Python is awesome\"\n",
        "# s becomes \"awesome is Python\"\n",
        "\n",
        "# We can split to get a list, reverse using slicing, join back to get string\n",
        "\n",
        "l = s.split() # l = ['Python', 'is', 'awesome']\n",
        "# l = l[::-1] # l = ['awesome', 'is', 'Python']\n",
        "l.reverse() # reverses the list l\n",
        "s = ' '.join(l)\n",
        "\n",
        "print(s)"
      ],
      "metadata": {
        "colab": {
          "base_uri": "https://localhost:8080/"
        },
        "id": "NM8fl2vLygF4",
        "outputId": "d93373ef-255e-45f5-e86b-70bdec0de5b7"
      },
      "id": "NM8fl2vLygF4",
      "execution_count": 49,
      "outputs": [
        {
          "output_type": "stream",
          "name": "stdout",
          "text": [
            "awesome is Python\n"
          ]
        }
      ]
    },
    {
      "cell_type": "code",
      "source": [],
      "metadata": {
        "id": "MTKqEIjEygQk"
      },
      "id": "MTKqEIjEygQk",
      "execution_count": null,
      "outputs": []
    },
    {
      "cell_type": "markdown",
      "id": "98ffdd2c",
      "metadata": {
        "id": "98ffdd2c"
      },
      "source": [
        "#### Quiz\n",
        "What is the word-by-word reverse of the sentence   \\\n",
        "\"Are you as clever as I am\"\n",
        "\n",
        "Answer: \\\n",
        "am I as clever as you Are\n",
        "\n",
        "Correct answer = d"
      ]
    },
    {
      "cell_type": "code",
      "execution_count": null,
      "id": "7f6a9b58",
      "metadata": {
        "id": "7f6a9b58"
      },
      "outputs": [],
      "source": []
    },
    {
      "cell_type": "code",
      "execution_count": null,
      "id": "30198a32",
      "metadata": {
        "id": "30198a32"
      },
      "outputs": [],
      "source": []
    },
    {
      "cell_type": "markdown",
      "id": "fb5fd551",
      "metadata": {
        "id": "fb5fd551"
      },
      "source": [
        "### Convert a string to all uppercase characters without using any inbuilt functions\n",
        "\n",
        "Input:\n",
        "```\n",
        "s = \"hELLo\"\n",
        "```\n",
        "\n",
        "Output:\n",
        "```\n",
        "s = \"HELLO\"\n",
        "```"
      ]
    },
    {
      "cell_type": "code",
      "execution_count": 55,
      "id": "d765cc5b",
      "metadata": {
        "colab": {
          "base_uri": "https://localhost:8080/"
        },
        "id": "d765cc5b",
        "outputId": "b8a990d8-2759-4cf6-f5b6-ed0529e8676c"
      },
      "outputs": [
        {
          "output_type": "stream",
          "name": "stdout",
          "text": [
            "HARRY POTTER\n",
            "LARRY GOITER 49784@#$@\n"
          ]
        }
      ],
      "source": [
        "def toUppercase(s) :\n",
        "  # convert string to list of characters\n",
        "  l = list(s)\n",
        "\n",
        "  # iterate over the list\n",
        "  for i in range(len(l)) :\n",
        "\n",
        "    # check if character is lower case\n",
        "    if 'a' <= l[i] <= 'z' :\n",
        "\n",
        "      # if true, convert character to upper case\n",
        "      # a-z : 97-122 A-Z : 65-90\n",
        "      # Difference between ASCII of lower and upper case is 32\n",
        "      l[i] = chr( ord( l[i] ) - 32 ) \n",
        "  \n",
        "  # join the list to get string\n",
        "  s = ''.join(l)\n",
        "  return s\n",
        "\n",
        "\n",
        "print(toUppercase('Harry Potter'))\n",
        "print(toUppercase('Larry Goiter 49784@#$@'))"
      ]
    },
    {
      "cell_type": "code",
      "execution_count": null,
      "id": "ceb93104",
      "metadata": {
        "id": "ceb93104"
      },
      "outputs": [],
      "source": []
    },
    {
      "cell_type": "markdown",
      "id": "2463ce14",
      "metadata": {
        "id": "2463ce14"
      },
      "source": [
        "# Bonus Reading Material\n",
        "- What are Mutable Data Types in Python? - https://www.scaler.com/topics/mutable-data-typesg-in-python/\n",
        "- Mutable and Immutable in Python - https://www.scaler.com/topics/mutable-and-immutable-in-python/\n",
        "- Replace in Python - https://www.scaler.com/topics/replace-in-python/\n",
        "- Replace a Character in a String Python - https://www.scaler.com/topics/replace-a-character-in-a-string-python/\n",
        "- Join in Python - https://www.scaler.com/topics/join-in-python/\n",
        "- Convert List to String in Python - https://www.scaler.com/topics/convert-list-to-string-in-python/\n",
        "- Convert List to String in Python - https://www.scaler.com/topics/convert-list-to-string-python/\n",
        "- Python String find() Method - https://www.scaler.com/topics/find-function-in-python/\n",
        "- Find in Python - https://www.scaler.com/topics/find-in-python/\n",
        "- Count in Python - https://www.scaler.com/topics/count-in-python/\n",
        "- startswith() in Python - https://www.scaler.com/topics/startswith-in-python/\n",
        "- capitalize() in Python - https://www.scaler.com/topics/capitalize-in-python/\n",
        "- swapcase() in Python - https://www.scaler.com/topics/swapcase-in-python/\n",
        "- partition() in Python - https://www.scaler.com/topics/partition-in-python/\n",
        "- Strip Function in Python - https://www.scaler.com/topics/strip-function-in-python/\n",
        "- Lexicographical order in Python - https://www.scaler.com/topics/lexicographical-order-in-python/\n",
        "- Sort a String in Python - https://www.scaler.com/topics/sort-a-string-in-python/\n",
        "- Remove Whitespace From String - https://www.scaler.com/topics/remove-whitespace-from-string/\n",
        "- Reverse Words in a String Python - https://www.scaler.com/topics/reverse-words-in-a-string-python/\n",
        "- Reverse Words in a String - https://www.scaler.com/topics/reverse-words-in-a-string/\n",
        "- Substring in Python - https://www.scaler.com/topics/substring-in-python/\n",
        "- Remove Punctuation from String Python - https://www.scaler.com/topics/remove-punctuation-from-string-python/"
      ]
    },
    {
      "cell_type": "code",
      "execution_count": null,
      "id": "d5ad2311",
      "metadata": {
        "id": "d5ad2311"
      },
      "outputs": [],
      "source": []
    },
    {
      "cell_type": "code",
      "execution_count": null,
      "id": "0148d59f",
      "metadata": {
        "id": "0148d59f"
      },
      "outputs": [],
      "source": []
    },
    {
      "cell_type": "code",
      "execution_count": null,
      "id": "24d2a43f",
      "metadata": {
        "id": "24d2a43f"
      },
      "outputs": [],
      "source": []
    },
    {
      "cell_type": "markdown",
      "id": "51df4500",
      "metadata": {
        "id": "51df4500"
      },
      "source": [
        "# Doubts"
      ]
    },
    {
      "cell_type": "code",
      "execution_count": 56,
      "id": "b3425db3",
      "metadata": {
        "colab": {
          "base_uri": "https://localhost:8080/"
        },
        "id": "b3425db3",
        "outputId": "ef9e0a22-9860-4c52-964d-38416723e90b"
      },
      "outputs": [
        {
          "output_type": "stream",
          "name": "stdout",
          "text": [
            "['', 'm', 'n']\n"
          ]
        }
      ],
      "source": [
        "s = \"aman\"\n",
        "l = s.split(\"a\")\n",
        "print(l)"
      ]
    },
    {
      "cell_type": "code",
      "source": [
        "l = [1, 2, 0]\n",
        "\n",
        "# ans = [2, 0, 1]\n",
        "\n",
        "ans = [0] * len(l)\n",
        "for i in range(len(l)) :\n",
        "  ans[l[i]] = i\n",
        "\n",
        "# 1 -> ans[1] = 0\n",
        "# 2 -> ans[2] = 1\n",
        "# 0 -> ans[0] = 2\n",
        "\n",
        "print(ans)"
      ],
      "metadata": {
        "colab": {
          "base_uri": "https://localhost:8080/"
        },
        "id": "ZLEYmGYa3b23",
        "outputId": "d577d365-eccd-4a88-be82-adb4cf40c3af"
      },
      "id": "ZLEYmGYa3b23",
      "execution_count": 57,
      "outputs": [
        {
          "output_type": "stream",
          "name": "stdout",
          "text": [
            "[2, 0, 1]\n"
          ]
        }
      ]
    },
    {
      "cell_type": "code",
      "source": [
        "class Solution:\n",
        "\n",
        "  def solve(self, A):\n",
        "\n",
        "    for i in range(len(A)):\n",
        "      for j in range(len(A[0])):\n",
        "        if(i == j):\n",
        "          if A[i][j] != 1:\n",
        "            return 0\n",
        "        if(i != j):\n",
        "          if A[i][j] != 0:\n",
        "            return 0\n",
        "    \n",
        "    return 1"
      ],
      "metadata": {
        "id": "dPzTVknJ4OGx"
      },
      "id": "dPzTVknJ4OGx",
      "execution_count": null,
      "outputs": []
    },
    {
      "cell_type": "code",
      "source": [
        "mat = []\n",
        "\n",
        "for i in range(rows) :\n",
        "  row = []\n",
        "  for j in range(cols) :\n",
        "    val = int(input())\n",
        "    row.append(val)\n",
        "  mat.append(row)\n"
      ],
      "metadata": {
        "id": "SdUzPU7G6gOY"
      },
      "id": "SdUzPU7G6gOY",
      "execution_count": null,
      "outputs": []
    }
  ],
  "metadata": {
    "kernelspec": {
      "display_name": "Python 3 (ipykernel)",
      "language": "python",
      "name": "python3"
    },
    "language_info": {
      "codemirror_mode": {
        "name": "ipython",
        "version": 3
      },
      "file_extension": ".py",
      "mimetype": "text/x-python",
      "name": "python",
      "nbconvert_exporter": "python",
      "pygments_lexer": "ipython3",
      "version": "3.9.12"
    },
    "colab": {
      "provenance": []
    }
  },
  "nbformat": 4,
  "nbformat_minor": 5
}