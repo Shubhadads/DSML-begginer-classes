{
  "nbformat": 4,
  "nbformat_minor": 0,
  "metadata": {
    "colab": {
      "provenance": []
    },
    "kernelspec": {
      "name": "python3",
      "display_name": "Python 3"
    },
    "language_info": {
      "name": "python"
    }
  },
  "cells": [
    {
      "cell_type": "code",
      "execution_count": 2,
      "metadata": {
        "colab": {
          "base_uri": "https://localhost:8080/"
        },
        "id": "LwrfwoU668e3",
        "outputId": "11dff32d-7a54-4492-8a1a-3c846dd44f30"
      },
      "outputs": [
        {
          "output_type": "stream",
          "name": "stdout",
          "text": [
            "1\n",
            "2\n",
            "3\n",
            "4\n",
            "5\n",
            "6\n",
            "7\n",
            "8\n",
            "9\n",
            "10\n",
            "11\n",
            "12\n",
            "13\n",
            "14\n",
            "15\n",
            "16\n",
            "17\n",
            "18\n",
            "19\n",
            "20\n"
          ]
        }
      ],
      "source": [
        "# initialisation\n",
        "num = 1\n",
        "\n",
        "# condition\n",
        "while num <= 20 :\n",
        "  # do your work \n",
        "  print(num)\n",
        "  # update condition variable\n",
        "  num += 1"
      ]
    },
    {
      "cell_type": "code",
      "source": [
        "# Take an integer input N from the user. Print numbers from 1 to N.\n",
        "\n",
        "N = int(input())\n",
        "\n",
        "num = 1\n",
        "\n",
        "while num <= N :\n",
        "  print(num)\n",
        "  num += 1"
      ],
      "metadata": {
        "colab": {
          "base_uri": "https://localhost:8080/"
        },
        "id": "_G0ggWcX7yQG",
        "outputId": "04541ca4-1e71-48c6-be3c-0ec08cb7ff59"
      },
      "execution_count": 3,
      "outputs": [
        {
          "output_type": "stream",
          "name": "stdout",
          "text": [
            "5\n",
            "1\n",
            "2\n",
            "3\n",
            "4\n",
            "5\n"
          ]
        }
      ]
    },
    {
      "cell_type": "code",
      "source": [
        "# Take an integer input N from the user. Print odd numbers from 1 to N.\n",
        "\n",
        "# N = 10\n",
        "# Output : \n",
        "# 1 \n",
        "# 3 \n",
        "# 5 \n",
        "# 7 \n",
        "# 9\n",
        "\n",
        "N = int(input())\n",
        "\n",
        "num = 1\n",
        "\n",
        "# approach 1\n",
        "# Go over all numbers from 1 to N\n",
        "# But print only odd numbers\n",
        "# num : 1 2 3 4 5 6 7 8 9 10\n",
        "# Loop runs 10 times\n",
        "# while num <= N :\n",
        "#   if num%2==1 :\n",
        "#     print(num)\n",
        "#   num += 1\n",
        "\n",
        "# approach 2\n",
        "# Go over only odd numbers and print them\n",
        "# num : 1 3 5 7 9\n",
        "# Loop runs 5 times\n",
        "while num <= N :\n",
        "  print(num)\n",
        "  num += 2"
      ],
      "metadata": {
        "colab": {
          "base_uri": "https://localhost:8080/"
        },
        "id": "6ptDtoFP9Q5s",
        "outputId": "0c5f00ae-979e-4d70-f700-287c2387a081"
      },
      "execution_count": 5,
      "outputs": [
        {
          "output_type": "stream",
          "name": "stdout",
          "text": [
            "10\n",
            "1\n",
            "3\n",
            "5\n",
            "7\n",
            "9\n"
          ]
        }
      ]
    },
    {
      "cell_type": "code",
      "source": [
        "# Take an integer input N from the user. Print even numbers from 1 to N.\n",
        "\n",
        "N = int(input())\n",
        "\n",
        "# approach 1\n",
        "print(\"Approach 1\")\n",
        "num = 1\n",
        "while num <= N :\n",
        "  if num%2==0 :\n",
        "    print(num)\n",
        "  num += 1\n",
        "\n",
        "# approach 2\n",
        "print(\"Approach 2\")\n",
        "num = 2\n",
        "while num <= N :\n",
        "  print(num)\n",
        "  num += 2"
      ],
      "metadata": {
        "colab": {
          "base_uri": "https://localhost:8080/"
        },
        "id": "moMwLFd8_qQB",
        "outputId": "bcd40867-14ac-49d2-cdbe-883850d0b8fc"
      },
      "execution_count": 8,
      "outputs": [
        {
          "output_type": "stream",
          "name": "stdout",
          "text": [
            "10\n",
            "Approach 1\n",
            "2\n",
            "4\n",
            "6\n",
            "8\n",
            "10\n",
            "Approach 2\n",
            "2\n",
            "4\n",
            "6\n",
            "8\n",
            "10\n"
          ]
        }
      ]
    },
    {
      "cell_type": "code",
      "source": [
        "# Take 2 integer inputs start and end from the user. Print numbers from start to end.\n",
        "# Example : start = 2, end = 6\n",
        "# Output\n",
        "# 2\n",
        "# 3\n",
        "# 4\n",
        "# 5\n",
        "# 6\n",
        "\n",
        "start = int(input())\n",
        "end = int(input())\n",
        "\n",
        "num = start\n",
        "while num <= end :\n",
        "  print(num)\n",
        "  num += 1"
      ],
      "metadata": {
        "colab": {
          "base_uri": "https://localhost:8080/"
        },
        "id": "6ZqDGJRaAqev",
        "outputId": "412b0935-0e60-405b-a5c7-a2020114571f"
      },
      "execution_count": 9,
      "outputs": [
        {
          "output_type": "stream",
          "name": "stdout",
          "text": [
            "2\n",
            "7\n",
            "2\n",
            "3\n",
            "4\n",
            "5\n",
            "6\n",
            "7\n"
          ]
        }
      ]
    },
    {
      "cell_type": "code",
      "source": [
        "# Take 2 integer inputs start and end from the user. Print odd numbers from start to end.\n",
        "# Example : start = 2, end = 8\n",
        "# Output\n",
        "# 3\n",
        "# 5\n",
        "# 7\n",
        "\n",
        "start = int(input())\n",
        "end = int(input())\n",
        "\n",
        "num = start\n",
        "while num <= end :\n",
        "  if num%2==1:\n",
        "    print(num)\n",
        "  num += 1"
      ],
      "metadata": {
        "colab": {
          "base_uri": "https://localhost:8080/"
        },
        "id": "v0ShSL9CCDlN",
        "outputId": "b090c853-8194-4cfc-f5d7-a754d0098e13"
      },
      "execution_count": 10,
      "outputs": [
        {
          "output_type": "stream",
          "name": "stdout",
          "text": [
            "2\n",
            "8\n",
            "3\n",
            "5\n",
            "7\n"
          ]
        }
      ]
    },
    {
      "cell_type": "code",
      "source": [
        "# Take an integer input N from the user. Print numbers from N to 1.\n",
        "# N = 5\n",
        "# Output\n",
        "# 5\n",
        "# 4\n",
        "# 3\n",
        "# 2\n",
        "# 1\n",
        "\n",
        "N = int(input())\n",
        "\n",
        "num = N\n",
        "while num >= 1:\n",
        "  print(num)\n",
        "  num -= 1\n",
        "\n",
        "# num : 5 4 3 2 1 ( 0 -> Breaks )"
      ],
      "metadata": {
        "colab": {
          "base_uri": "https://localhost:8080/"
        },
        "id": "Dcek8WQ9FYbF",
        "outputId": "f3f353b5-2040-406b-8627-891c2a83cef2"
      },
      "execution_count": 11,
      "outputs": [
        {
          "output_type": "stream",
          "name": "stdout",
          "text": [
            "6\n",
            "6\n",
            "5\n",
            "4\n",
            "3\n",
            "2\n",
            "1\n"
          ]
        }
      ]
    },
    {
      "cell_type": "code",
      "source": [
        "# Take an integer input N from the user. Print even numbers from N to 1.\n",
        "# N = 5\n",
        "# Output\n",
        "# 4\n",
        "# 2\n",
        "\n",
        "N = int(input())\n",
        "\n",
        "num = N\n",
        "while num >= 1:\n",
        "  if num%2==0:\n",
        "    print(num)\n",
        "  num -= 1"
      ],
      "metadata": {
        "colab": {
          "base_uri": "https://localhost:8080/"
        },
        "id": "KIOzQ3UzG6pF",
        "outputId": "4b796f60-c700-4e9b-a1cf-6c99e172cbdb"
      },
      "execution_count": 13,
      "outputs": [
        {
          "output_type": "stream",
          "name": "stdout",
          "text": [
            "10\n",
            "10\n",
            "8\n",
            "6\n",
            "4\n",
            "2\n"
          ]
        }
      ]
    },
    {
      "cell_type": "code",
      "source": [
        "# Take a number N as input from user, print it's multiplication table!\n",
        "# Print first 10 multiples of N\n",
        "# Example \n",
        "# N = 3\n",
        "# Output : 3 6 9 12 15 18 21 24 27 30\n",
        "# N*1, N*2, N*3, ...., N*9, N*10\n",
        "\n",
        "N = int(input())\n",
        "\n",
        "mult = 1\n",
        "while mult <= 10 :\n",
        "  print( N * mult, end=' ' ) # by-default end = new line\n",
        "  mult += 1\n",
        "\n",
        "print()\n",
        "\n",
        "mult = 1\n",
        "while mult <= 10 :\n",
        "  print( N * mult, end='#' ) # by-default end = new line\n",
        "  mult += 1\n",
        "\n",
        "print()\n",
        "\n",
        "mult = 1\n",
        "while mult <= 10 :\n",
        "  print( N * mult, end='space' ) # by-default end = new line\n",
        "  mult += 1"
      ],
      "metadata": {
        "colab": {
          "base_uri": "https://localhost:8080/"
        },
        "id": "q_VxKiOPHtC4",
        "outputId": "5d9fca24-8e69-488f-a451-8f456e59d3db"
      },
      "execution_count": 21,
      "outputs": [
        {
          "output_type": "stream",
          "name": "stdout",
          "text": [
            "3\n",
            "3 6 9 12 15 18 21 24 27 30 \n",
            "3#6#9#12#15#18#21#24#27#30#\n",
            "3space6space9space12space15space18space21space24space27space30space"
          ]
        }
      ]
    },
    {
      "cell_type": "code",
      "source": [
        "# 1. Take number of test_cases (count) from a user. (Count of numbers)\n",
        "# 2. Take int(N) inputs from the user\n",
        "# 3. Print multiplication table for all these N!\n",
        "\n",
        "# Example\n",
        "\n",
        "# 3 -> test cases\n",
        "# 4\n",
        "# multiplication table of 4\n",
        "# 5\n",
        "# multiplication table of 5\n",
        "# 6\n",
        "# multiplication table of 6\n",
        "\n",
        "# 2 : count\n",
        "# -1 = N\n",
        "# 3 = N\n",
        "# Output\n",
        "# -1 -2 -3 -4 -5 -6 -7 -8 -9 -10\n",
        "# 3 6 9 12 15 18 21 24 27 30\n",
        "\n",
        "# Nested Loops\n",
        "\n",
        "test_cases = int(input())\n",
        "t = 1\n",
        "\n",
        "while t <= test_cases :\n",
        "\n",
        "  N = int(input())\n",
        "  mult = 1\n",
        "\n",
        "  while mult <= 10 :\n",
        "    print(N*mult, end=' ')\n",
        "    mult += 1\n",
        "  \n",
        "  t += 1"
      ],
      "metadata": {
        "colab": {
          "base_uri": "https://localhost:8080/",
          "height": 468
        },
        "id": "oXYWJLzWKmmn",
        "outputId": "65a0204e-bd09-4177-88ef-0a307dd5fc35"
      },
      "execution_count": 38,
      "outputs": [
        {
          "output_type": "stream",
          "name": "stdout",
          "text": [
            "2\n",
            "3\n",
            "3 6 9 12 15 18 21 24 27 30 4\n",
            "4 8 12 16 20 24 28 32 36 40 "
          ]
        },
        {
          "output_type": "error",
          "ename": "KeyboardInterrupt",
          "evalue": "ignored",
          "traceback": [
            "\u001b[0;31m---------------------------------------------------------------------------\u001b[0m",
            "\u001b[0;31mKeyboardInterrupt\u001b[0m                         Traceback (most recent call last)",
            "\u001b[0;32m<ipython-input-38-31d0063afc32>\u001b[0m in \u001b[0;36m<module>\u001b[0;34m\u001b[0m\n\u001b[1;32m     27\u001b[0m \u001b[0;32mwhile\u001b[0m \u001b[0mt\u001b[0m \u001b[0;34m<=\u001b[0m \u001b[0mtest_cases\u001b[0m \u001b[0;34m:\u001b[0m\u001b[0;34m\u001b[0m\u001b[0;34m\u001b[0m\u001b[0m\n\u001b[1;32m     28\u001b[0m \u001b[0;34m\u001b[0m\u001b[0m\n\u001b[0;32m---> 29\u001b[0;31m   \u001b[0mN\u001b[0m \u001b[0;34m=\u001b[0m \u001b[0mint\u001b[0m\u001b[0;34m(\u001b[0m\u001b[0minput\u001b[0m\u001b[0;34m(\u001b[0m\u001b[0;34m)\u001b[0m\u001b[0;34m)\u001b[0m\u001b[0;34m\u001b[0m\u001b[0;34m\u001b[0m\u001b[0m\n\u001b[0m\u001b[1;32m     30\u001b[0m   \u001b[0mmult\u001b[0m \u001b[0;34m=\u001b[0m \u001b[0;36m1\u001b[0m\u001b[0;34m\u001b[0m\u001b[0;34m\u001b[0m\u001b[0m\n\u001b[1;32m     31\u001b[0m \u001b[0;34m\u001b[0m\u001b[0m\n",
            "\u001b[0;32m/usr/local/lib/python3.7/dist-packages/ipykernel/kernelbase.py\u001b[0m in \u001b[0;36mraw_input\u001b[0;34m(self, prompt)\u001b[0m\n\u001b[1;32m    861\u001b[0m             \u001b[0mself\u001b[0m\u001b[0;34m.\u001b[0m\u001b[0m_parent_ident\u001b[0m\u001b[0;34m,\u001b[0m\u001b[0;34m\u001b[0m\u001b[0;34m\u001b[0m\u001b[0m\n\u001b[1;32m    862\u001b[0m             \u001b[0mself\u001b[0m\u001b[0;34m.\u001b[0m\u001b[0m_parent_header\u001b[0m\u001b[0;34m,\u001b[0m\u001b[0;34m\u001b[0m\u001b[0;34m\u001b[0m\u001b[0m\n\u001b[0;32m--> 863\u001b[0;31m             \u001b[0mpassword\u001b[0m\u001b[0;34m=\u001b[0m\u001b[0;32mFalse\u001b[0m\u001b[0;34m,\u001b[0m\u001b[0;34m\u001b[0m\u001b[0;34m\u001b[0m\u001b[0m\n\u001b[0m\u001b[1;32m    864\u001b[0m         )\n\u001b[1;32m    865\u001b[0m \u001b[0;34m\u001b[0m\u001b[0m\n",
            "\u001b[0;32m/usr/local/lib/python3.7/dist-packages/ipykernel/kernelbase.py\u001b[0m in \u001b[0;36m_input_request\u001b[0;34m(self, prompt, ident, parent, password)\u001b[0m\n\u001b[1;32m    902\u001b[0m             \u001b[0;32mexcept\u001b[0m \u001b[0mKeyboardInterrupt\u001b[0m\u001b[0;34m:\u001b[0m\u001b[0;34m\u001b[0m\u001b[0;34m\u001b[0m\u001b[0m\n\u001b[1;32m    903\u001b[0m                 \u001b[0;31m# re-raise KeyboardInterrupt, to truncate traceback\u001b[0m\u001b[0;34m\u001b[0m\u001b[0;34m\u001b[0m\u001b[0;34m\u001b[0m\u001b[0m\n\u001b[0;32m--> 904\u001b[0;31m                 \u001b[0;32mraise\u001b[0m \u001b[0mKeyboardInterrupt\u001b[0m\u001b[0;34m(\u001b[0m\u001b[0;34m\"Interrupted by user\"\u001b[0m\u001b[0;34m)\u001b[0m \u001b[0;32mfrom\u001b[0m \u001b[0;32mNone\u001b[0m\u001b[0;34m\u001b[0m\u001b[0;34m\u001b[0m\u001b[0m\n\u001b[0m\u001b[1;32m    905\u001b[0m             \u001b[0;32mexcept\u001b[0m \u001b[0mException\u001b[0m \u001b[0;32mas\u001b[0m \u001b[0me\u001b[0m\u001b[0;34m:\u001b[0m\u001b[0;34m\u001b[0m\u001b[0;34m\u001b[0m\u001b[0m\n\u001b[1;32m    906\u001b[0m                 \u001b[0mself\u001b[0m\u001b[0;34m.\u001b[0m\u001b[0mlog\u001b[0m\u001b[0;34m.\u001b[0m\u001b[0mwarning\u001b[0m\u001b[0;34m(\u001b[0m\u001b[0;34m\"Invalid Message:\"\u001b[0m\u001b[0;34m,\u001b[0m \u001b[0mexc_info\u001b[0m\u001b[0;34m=\u001b[0m\u001b[0;32mTrue\u001b[0m\u001b[0;34m)\u001b[0m\u001b[0;34m\u001b[0m\u001b[0;34m\u001b[0m\u001b[0m\n",
            "\u001b[0;31mKeyboardInterrupt\u001b[0m: Interrupted by user"
          ]
        }
      ]
    }
  ]
}