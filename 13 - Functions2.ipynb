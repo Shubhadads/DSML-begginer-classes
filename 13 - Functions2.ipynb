{
  "nbformat": 4,
  "nbformat_minor": 0,
  "metadata": {
    "colab": {
      "provenance": []
    },
    "kernelspec": {
      "name": "python3",
      "display_name": "Python 3"
    },
    "language_info": {
      "name": "python"
    }
  },
  "cells": [
    {
      "cell_type": "code",
      "execution_count": 1,
      "metadata": {
        "colab": {
          "base_uri": "https://localhost:8080/",
          "height": 131
        },
        "id": "pNxyeJpF7vlU",
        "outputId": "98ddb109-cedc-4bf7-c805-b1759bf5ad27"
      },
      "outputs": [
        {
          "output_type": "error",
          "ename": "SyntaxError",
          "evalue": "ignored",
          "traceback": [
            "\u001b[0;36m  File \u001b[0;32m\"<ipython-input-1-f0e86ef6d865>\"\u001b[0;36m, line \u001b[0;32m5\u001b[0m\n\u001b[0;31m    function random():\u001b[0m\n\u001b[0m                  ^\u001b[0m\n\u001b[0;31mSyntaxError\u001b[0m\u001b[0;31m:\u001b[0m invalid syntax\n"
          ]
        }
      ],
      "source": [
        "# Quiz 1\n",
        "\n",
        "# function is defined using keyword def in Python\n",
        "\n",
        "function random():\n",
        "    return True\n",
        "\n",
        "random()"
      ]
    },
    {
      "cell_type": "code",
      "source": [
        "# Quiz 2\n",
        "\n",
        "# Function name should be followed with ()\n",
        "def abc:\n",
        "    return \"I am a function!\"\n",
        "\n",
        "abc()"
      ],
      "metadata": {
        "colab": {
          "base_uri": "https://localhost:8080/",
          "height": 131
        },
        "id": "NxEBP76281PM",
        "outputId": "3b77814c-dd46-4667-b9a6-ce660227ebc6"
      },
      "execution_count": 2,
      "outputs": [
        {
          "output_type": "error",
          "ename": "SyntaxError",
          "evalue": "ignored",
          "traceback": [
            "\u001b[0;36m  File \u001b[0;32m\"<ipython-input-2-f2f6f8999d5b>\"\u001b[0;36m, line \u001b[0;32m4\u001b[0m\n\u001b[0;31m    def abc:\u001b[0m\n\u001b[0m           ^\u001b[0m\n\u001b[0;31mSyntaxError\u001b[0m\u001b[0;31m:\u001b[0m invalid syntax\n"
          ]
        }
      ]
    },
    {
      "cell_type": "code",
      "source": [
        "# Quiz 3\n",
        "\n",
        "a = 10\n",
        "\n",
        "def calculator(number):\n",
        "    print(number * 10)\n",
        "\n",
        "calculator(a)\n",
        "# number variable is only defined within calculator function\n",
        "print(number)\n",
        "print(a)"
      ],
      "metadata": {
        "colab": {
          "base_uri": "https://localhost:8080/",
          "height": 235
        },
        "id": "LEiht1uD9gjn",
        "outputId": "ef4d9205-af63-4c12-9d53-8f020785b722"
      },
      "execution_count": 3,
      "outputs": [
        {
          "output_type": "stream",
          "name": "stdout",
          "text": [
            "100\n"
          ]
        },
        {
          "output_type": "error",
          "ename": "NameError",
          "evalue": "ignored",
          "traceback": [
            "\u001b[0;31m---------------------------------------------------------------------------\u001b[0m",
            "\u001b[0;31mNameError\u001b[0m                                 Traceback (most recent call last)",
            "\u001b[0;32m<ipython-input-3-5f7083c3485e>\u001b[0m in \u001b[0;36m<module>\u001b[0;34m\u001b[0m\n\u001b[1;32m      7\u001b[0m \u001b[0;34m\u001b[0m\u001b[0m\n\u001b[1;32m      8\u001b[0m \u001b[0mcalculator\u001b[0m\u001b[0;34m(\u001b[0m\u001b[0ma\u001b[0m\u001b[0;34m)\u001b[0m\u001b[0;34m\u001b[0m\u001b[0;34m\u001b[0m\u001b[0m\n\u001b[0;32m----> 9\u001b[0;31m \u001b[0mprint\u001b[0m\u001b[0;34m(\u001b[0m\u001b[0mnumber\u001b[0m\u001b[0;34m)\u001b[0m\u001b[0;34m\u001b[0m\u001b[0;34m\u001b[0m\u001b[0m\n\u001b[0m\u001b[1;32m     10\u001b[0m \u001b[0mprint\u001b[0m\u001b[0;34m(\u001b[0m\u001b[0ma\u001b[0m\u001b[0;34m)\u001b[0m\u001b[0;34m\u001b[0m\u001b[0;34m\u001b[0m\u001b[0m\n",
            "\u001b[0;31mNameError\u001b[0m: name 'number' is not defined"
          ]
        }
      ]
    },
    {
      "cell_type": "code",
      "source": [
        "# Quiz 4\n",
        "\n",
        "a = 10\n",
        "\n",
        "def calculator(number):\n",
        "    print(number * 10)\n",
        "\n",
        "calculator(a)\n",
        "print(a)"
      ],
      "metadata": {
        "colab": {
          "base_uri": "https://localhost:8080/"
        },
        "id": "fmmzdlV8-CuW",
        "outputId": "8982f787-d053-4ff8-b39a-9d30a84a741a"
      },
      "execution_count": 4,
      "outputs": [
        {
          "output_type": "stream",
          "name": "stdout",
          "text": [
            "100\n",
            "10\n"
          ]
        }
      ]
    },
    {
      "cell_type": "code",
      "source": [
        "# Quiz 5\n",
        "\n",
        "def f(a, b, c):\n",
        "    print((a + b + c)/3)\n",
        "\n",
        "f(3, 5, 7)"
      ],
      "metadata": {
        "colab": {
          "base_uri": "https://localhost:8080/"
        },
        "id": "Sk9o_BQq-uvT",
        "outputId": "e3991613-1c28-481e-c2c5-f33f6c245b92"
      },
      "execution_count": 5,
      "outputs": [
        {
          "output_type": "stream",
          "name": "stdout",
          "text": [
            "5.0\n"
          ]
        }
      ]
    },
    {
      "cell_type": "code",
      "source": [
        "# Quiz 6\n",
        "\n",
        "def power(number,exponent):\n",
        "    return number**exponent\n",
        "\n",
        "print(power(3, 2))"
      ],
      "metadata": {
        "colab": {
          "base_uri": "https://localhost:8080/"
        },
        "id": "nxG4Vk5M_RYz",
        "outputId": "1209cb1d-58a5-4356-8b7d-cddf3726dca7"
      },
      "execution_count": 6,
      "outputs": [
        {
          "output_type": "stream",
          "name": "stdout",
          "text": [
            "9\n"
          ]
        }
      ]
    },
    {
      "cell_type": "markdown",
      "source": [
        "#### Keyword Arguments"
      ],
      "metadata": {
        "id": "t86NnOE9_cFt"
      }
    },
    {
      "cell_type": "code",
      "source": [
        "def introduce_family(me, father, mother, sibling):\n",
        "  print(\"Me = \", me)\n",
        "  print(\"Father =\", father)\n",
        "  print(\"Mother =\", mother)\n",
        "  print(\"Sibling =\", sibling)"
      ],
      "metadata": {
        "id": "NdBtD4-v_fQT"
      },
      "execution_count": 8,
      "outputs": []
    },
    {
      "cell_type": "code",
      "source": [],
      "metadata": {
        "id": "OFXa9mSb_wRp"
      },
      "execution_count": null,
      "outputs": []
    },
    {
      "cell_type": "code",
      "source": [],
      "metadata": {
        "id": "f4w0Oh4z_web"
      },
      "execution_count": null,
      "outputs": []
    },
    {
      "cell_type": "code",
      "source": [
        "# father, sibling, mother, me\n",
        "introduce_family(\"Arthur\", \"Ginny\", \"Molly\", \"Ron\")"
      ],
      "metadata": {
        "colab": {
          "base_uri": "https://localhost:8080/"
        },
        "id": "KuPMvZOU_wko",
        "outputId": "559c335b-a088-4877-e413-438ba30d1d2a"
      },
      "execution_count": 9,
      "outputs": [
        {
          "output_type": "stream",
          "name": "stdout",
          "text": [
            "Me =  Arthur\n",
            "Father = Ginny\n",
            "Mother = Molly\n",
            "Sibling = Ron\n"
          ]
        }
      ]
    },
    {
      "cell_type": "code",
      "source": [
        "introduce_family(father=\"Arthur\", sibling=\"Ginny\", mother=\"Molly\", me=\"Ron\")"
      ],
      "metadata": {
        "colab": {
          "base_uri": "https://localhost:8080/"
        },
        "id": "JabwPcNeAitV",
        "outputId": "0e8d757a-80ab-4b50-9ee3-09146f48b96f"
      },
      "execution_count": 12,
      "outputs": [
        {
          "output_type": "stream",
          "name": "stdout",
          "text": [
            "Me =  Ron\n",
            "Father = Arthur\n",
            "Mother = Molly\n",
            "Sibling = Ginny\n"
          ]
        }
      ]
    },
    {
      "cell_type": "code",
      "source": [
        "def random(a, b, c, d):\n",
        "    print(a, b, c, d)"
      ],
      "metadata": {
        "id": "dDuXyQA7BDrv"
      },
      "execution_count": 13,
      "outputs": []
    },
    {
      "cell_type": "code",
      "source": [
        "# Only keywords\n",
        "random(b=1, c=5, d=3, a=2)"
      ],
      "metadata": {
        "colab": {
          "base_uri": "https://localhost:8080/"
        },
        "id": "iQDU4u30BF7w",
        "outputId": "90e42521-2325-42ec-efec-9b6643a0bdf6"
      },
      "execution_count": 14,
      "outputs": [
        {
          "output_type": "stream",
          "name": "stdout",
          "text": [
            "2 1 5 3\n"
          ]
        }
      ]
    },
    {
      "cell_type": "code",
      "source": [
        "# Only positional\n",
        "random(1, 5, 2, 3)"
      ],
      "metadata": {
        "colab": {
          "base_uri": "https://localhost:8080/"
        },
        "id": "UwxhmArkBROc",
        "outputId": "ac5b8b3b-bd60-48ee-c86c-25d5f23a82d4"
      },
      "execution_count": 15,
      "outputs": [
        {
          "output_type": "stream",
          "name": "stdout",
          "text": [
            "1 5 2 3\n"
          ]
        }
      ]
    },
    {
      "cell_type": "code",
      "source": [
        "# Positional -> Keyword\n",
        "random(7, 2, d=5, c=3)"
      ],
      "metadata": {
        "colab": {
          "base_uri": "https://localhost:8080/"
        },
        "id": "7_30Fl4jBpuY",
        "outputId": "ba55a51a-11f5-43b7-ae8b-f71d73c1c26f"
      },
      "execution_count": 16,
      "outputs": [
        {
          "output_type": "stream",
          "name": "stdout",
          "text": [
            "7 2 3 5\n"
          ]
        }
      ]
    },
    {
      "cell_type": "code",
      "source": [
        "# Positional -> Keyword\n",
        "random(7, 2, a=8, b=6)\n",
        "\n",
        "# a got 2 values, not allowed, so error"
      ],
      "metadata": {
        "colab": {
          "base_uri": "https://localhost:8080/",
          "height": 183
        },
        "id": "xrtXXLTSCNuU",
        "outputId": "ae1ca82b-ce60-4f3e-ff54-0a24fd6f2d96"
      },
      "execution_count": 17,
      "outputs": [
        {
          "output_type": "error",
          "ename": "TypeError",
          "evalue": "ignored",
          "traceback": [
            "\u001b[0;31m---------------------------------------------------------------------------\u001b[0m",
            "\u001b[0;31mTypeError\u001b[0m                                 Traceback (most recent call last)",
            "\u001b[0;32m<ipython-input-17-2ba7097e8afa>\u001b[0m in \u001b[0;36m<module>\u001b[0;34m\u001b[0m\n\u001b[1;32m      1\u001b[0m \u001b[0;31m# Positional -> Keyword\u001b[0m\u001b[0;34m\u001b[0m\u001b[0;34m\u001b[0m\u001b[0;34m\u001b[0m\u001b[0m\n\u001b[0;32m----> 2\u001b[0;31m \u001b[0mrandom\u001b[0m\u001b[0;34m(\u001b[0m\u001b[0;36m7\u001b[0m\u001b[0;34m,\u001b[0m \u001b[0;36m2\u001b[0m\u001b[0;34m,\u001b[0m \u001b[0ma\u001b[0m\u001b[0;34m=\u001b[0m\u001b[0;36m8\u001b[0m\u001b[0;34m,\u001b[0m \u001b[0mb\u001b[0m\u001b[0;34m=\u001b[0m\u001b[0;36m6\u001b[0m\u001b[0;34m)\u001b[0m\u001b[0;34m\u001b[0m\u001b[0;34m\u001b[0m\u001b[0m\n\u001b[0m",
            "\u001b[0;31mTypeError\u001b[0m: random() got multiple values for argument 'a'"
          ]
        }
      ]
    },
    {
      "cell_type": "code",
      "source": [
        "random(a=7, c=2, 8, 6)"
      ],
      "metadata": {
        "colab": {
          "base_uri": "https://localhost:8080/",
          "height": 131
        },
        "id": "JFc1KlSpCqyR",
        "outputId": "76a7c05d-11c0-49c4-cc3b-c4a36257c828"
      },
      "execution_count": 18,
      "outputs": [
        {
          "output_type": "error",
          "ename": "SyntaxError",
          "evalue": "ignored",
          "traceback": [
            "\u001b[0;36m  File \u001b[0;32m\"<ipython-input-18-0d5a703779e2>\"\u001b[0;36m, line \u001b[0;32m1\u001b[0m\n\u001b[0;31m    random(a=7, c=2, 8, 6)\u001b[0m\n\u001b[0m                    ^\u001b[0m\n\u001b[0;31mSyntaxError\u001b[0m\u001b[0;31m:\u001b[0m positional argument follows keyword argument\n"
          ]
        }
      ]
    },
    {
      "cell_type": "code",
      "source": [
        "# can never write positional arguments after keyword arguments\n",
        "# syntax error\n",
        "\n",
        "random(a=7, b=2, 8, 6)"
      ],
      "metadata": {
        "colab": {
          "base_uri": "https://localhost:8080/",
          "height": 131
        },
        "id": "z_4_kDSXDCfN",
        "outputId": "ef94b114-b54b-4d5d-b2b5-aec5401c9d97"
      },
      "execution_count": 19,
      "outputs": [
        {
          "output_type": "error",
          "ename": "SyntaxError",
          "evalue": "ignored",
          "traceback": [
            "\u001b[0;36m  File \u001b[0;32m\"<ipython-input-19-73420cd2f4fd>\"\u001b[0;36m, line \u001b[0;32m1\u001b[0m\n\u001b[0;31m    random(a=7, b=2, 8, 6)\u001b[0m\n\u001b[0m                    ^\u001b[0m\n\u001b[0;31mSyntaxError\u001b[0m\u001b[0;31m:\u001b[0m positional argument follows keyword argument\n"
          ]
        }
      ]
    },
    {
      "cell_type": "code",
      "source": [
        "# Quiz 7\n",
        "\n",
        "def power(number,exponent):\n",
        "    return number**exponent\n",
        "\n",
        "power(exponent=2,number=3)"
      ],
      "metadata": {
        "colab": {
          "base_uri": "https://localhost:8080/"
        },
        "id": "fAzmh3n1D9bI",
        "outputId": "d0acdb6e-475e-4406-96d4-f4e22535a326"
      },
      "execution_count": 20,
      "outputs": [
        {
          "output_type": "execute_result",
          "data": {
            "text/plain": [
              "9"
            ]
          },
          "metadata": {},
          "execution_count": 20
        }
      ]
    },
    {
      "cell_type": "markdown",
      "source": [
        "### Default arguments"
      ],
      "metadata": {
        "id": "nNjYZsG-EJ9w"
      }
    },
    {
      "cell_type": "code",
      "source": [
        "# p - principal\n",
        "# t - time\n",
        "# r - rate\n",
        "\n",
        "def simple_interest(p, t, r):\n",
        "    return (p * t * r) / 100"
      ],
      "metadata": {
        "id": "HDLSFeOwENw-"
      },
      "execution_count": 22,
      "outputs": []
    },
    {
      "cell_type": "code",
      "source": [
        "simple_interest(100, 2, 10)"
      ],
      "metadata": {
        "colab": {
          "base_uri": "https://localhost:8080/"
        },
        "id": "5oT2LAh1EkBt",
        "outputId": "762d527c-5c32-4683-cad3-1c4040c1fc9e"
      },
      "execution_count": 23,
      "outputs": [
        {
          "output_type": "execute_result",
          "data": {
            "text/plain": [
              "20.0"
            ]
          },
          "metadata": {},
          "execution_count": 23
        }
      ]
    },
    {
      "cell_type": "code",
      "source": [
        "def simple_interest(p, t, r=10):\n",
        "    return (p * t * r) / 100"
      ],
      "metadata": {
        "id": "SK8vSmKREvEf"
      },
      "execution_count": 24,
      "outputs": []
    },
    {
      "cell_type": "code",
      "source": [
        "simple_interest(100, 5)"
      ],
      "metadata": {
        "colab": {
          "base_uri": "https://localhost:8080/"
        },
        "id": "bBrfksu-E4Dh",
        "outputId": "4ed2c97e-de5e-4eda-bf0f-1c4114508e87"
      },
      "execution_count": 25,
      "outputs": [
        {
          "output_type": "execute_result",
          "data": {
            "text/plain": [
              "50.0"
            ]
          },
          "metadata": {},
          "execution_count": 25
        }
      ]
    },
    {
      "cell_type": "code",
      "source": [
        "simple_interest(100, 5, 5)"
      ],
      "metadata": {
        "colab": {
          "base_uri": "https://localhost:8080/"
        },
        "id": "JFonY4LuFBnO",
        "outputId": "839be9bc-e788-458c-b627-78401cc511bb"
      },
      "execution_count": 26,
      "outputs": [
        {
          "output_type": "execute_result",
          "data": {
            "text/plain": [
              "25.0"
            ]
          },
          "metadata": {},
          "execution_count": 26
        }
      ]
    },
    {
      "cell_type": "code",
      "source": [
        "def simple_interest(p=50, t=1, r=10):\n",
        "    return (p * t * r) / 100"
      ],
      "metadata": {
        "id": "C-aKKCNRFPoX"
      },
      "execution_count": 27,
      "outputs": []
    },
    {
      "cell_type": "code",
      "source": [
        "print(simple_interest())\n",
        "print(simple_interest(1000))\n",
        "print(simple_interest(100, 2))\n",
        "print(simple_interest(200, 1, 30))"
      ],
      "metadata": {
        "colab": {
          "base_uri": "https://localhost:8080/"
        },
        "id": "TY28pUDoFR-4",
        "outputId": "658ffb8b-7cad-42a1-fa4f-62ef3ce12207"
      },
      "execution_count": 29,
      "outputs": [
        {
          "output_type": "stream",
          "name": "stdout",
          "text": [
            "5.0\n",
            "100.0\n",
            "20.0\n",
            "60.0\n"
          ]
        }
      ]
    },
    {
      "cell_type": "code",
      "source": [
        "# can not write a non-default argument after a default argument\n",
        "\n",
        "def simple_interest(p=50, t, r=10):\n",
        "    return (p * t * r) / 100"
      ],
      "metadata": {
        "colab": {
          "base_uri": "https://localhost:8080/",
          "height": 131
        },
        "id": "6Vcw3jcAFnTP",
        "outputId": "174ffd7c-22d1-41b4-f417-f70496b346dd"
      },
      "execution_count": 30,
      "outputs": [
        {
          "output_type": "error",
          "ename": "SyntaxError",
          "evalue": "ignored",
          "traceback": [
            "\u001b[0;36m  File \u001b[0;32m\"<ipython-input-30-64470dd44c5f>\"\u001b[0;36m, line \u001b[0;32m1\u001b[0m\n\u001b[0;31m    def simple_interest(p=50, t, r=10):\u001b[0m\n\u001b[0m                       ^\u001b[0m\n\u001b[0;31mSyntaxError\u001b[0m\u001b[0;31m:\u001b[0m non-default argument follows default argument\n"
          ]
        }
      ]
    },
    {
      "cell_type": "code",
      "source": [
        "# Positional and Keyword arguments -> Used while calling functions.\n",
        "# Default argument -> Used while defining function."
      ],
      "metadata": {
        "id": "OkI3FoInGpDJ"
      },
      "execution_count": null,
      "outputs": []
    },
    {
      "cell_type": "markdown",
      "source": [
        "Defining a function - Write def function_name(arguments)\n",
        "\n",
        "Calling a function - function_name(input_values)"
      ],
      "metadata": {
        "id": "vzSYr4-fH4iI"
      }
    },
    {
      "cell_type": "code",
      "source": [
        "# Quiz 8\n",
        "\n",
        "def power(x,e=1):\n",
        "    return x**e\n",
        "\n",
        "power(3, 3)"
      ],
      "metadata": {
        "colab": {
          "base_uri": "https://localhost:8080/"
        },
        "id": "jxiHc1NSHjdJ",
        "outputId": "b6d56ae4-410a-4e91-f705-d89b65a6d858"
      },
      "execution_count": 31,
      "outputs": [
        {
          "output_type": "execute_result",
          "data": {
            "text/plain": [
              "27"
            ]
          },
          "metadata": {},
          "execution_count": 31
        }
      ]
    },
    {
      "cell_type": "markdown",
      "source": [
        "**Break - 10:05pm**"
      ],
      "metadata": {
        "id": "bMt3eyQxHwWr"
      }
    },
    {
      "cell_type": "code",
      "source": [],
      "metadata": {
        "id": "byp9tYjVHzNx"
      },
      "execution_count": null,
      "outputs": []
    },
    {
      "cell_type": "code",
      "source": [
        "# Functions with positional and keyword arguments\n",
        "\n",
        "# print()\n",
        "# print(values, end='?')\n",
        "# print(values, end='?', sep='?')\n",
        "\n",
        "help(print)"
      ],
      "metadata": {
        "colab": {
          "base_uri": "https://localhost:8080/"
        },
        "id": "Weve24SNIAhT",
        "outputId": "9cd83c55-f295-465c-94c2-3f56843db548"
      },
      "execution_count": 32,
      "outputs": [
        {
          "output_type": "stream",
          "name": "stdout",
          "text": [
            "Help on built-in function print in module builtins:\n",
            "\n",
            "print(...)\n",
            "    print(value, ..., sep=' ', end='\\n', file=sys.stdout, flush=False)\n",
            "    \n",
            "    Prints the values to a stream, or to sys.stdout by default.\n",
            "    Optional keyword arguments:\n",
            "    file:  a file-like object (stream); defaults to the current sys.stdout.\n",
            "    sep:   string inserted between values, default a space.\n",
            "    end:   string appended after the last value, default a newline.\n",
            "    flush: whether to forcibly flush the stream.\n",
            "\n"
          ]
        }
      ]
    },
    {
      "cell_type": "code",
      "source": [
        "# range(E)\n",
        "# range(S, E)\n",
        "# range(S, E, Step)\n",
        "\n",
        "help(range)"
      ],
      "metadata": {
        "colab": {
          "base_uri": "https://localhost:8080/"
        },
        "id": "qhYeFO1dLOiY",
        "outputId": "fae25b5b-4ef7-4211-a505-ba2f03d684a4"
      },
      "execution_count": 36,
      "outputs": [
        {
          "output_type": "stream",
          "name": "stdout",
          "text": [
            "Help on class range in module builtins:\n",
            "\n",
            "class range(object)\n",
            " |  range(stop) -> range object\n",
            " |  range(start, stop[, step]) -> range object\n",
            " |  \n",
            " |  Return an object that produces a sequence of integers from start (inclusive)\n",
            " |  to stop (exclusive) by step.  range(i, j) produces i, i+1, i+2, ..., j-1.\n",
            " |  start defaults to 0, and stop is omitted!  range(4) produces 0, 1, 2, 3.\n",
            " |  These are exactly the valid indices for a list of 4 elements.\n",
            " |  When step is given, it specifies the increment (or decrement).\n",
            " |  \n",
            " |  Methods defined here:\n",
            " |  \n",
            " |  __bool__(self, /)\n",
            " |      self != 0\n",
            " |  \n",
            " |  __contains__(self, key, /)\n",
            " |      Return key in self.\n",
            " |  \n",
            " |  __eq__(self, value, /)\n",
            " |      Return self==value.\n",
            " |  \n",
            " |  __ge__(self, value, /)\n",
            " |      Return self>=value.\n",
            " |  \n",
            " |  __getattribute__(self, name, /)\n",
            " |      Return getattr(self, name).\n",
            " |  \n",
            " |  __getitem__(self, key, /)\n",
            " |      Return self[key].\n",
            " |  \n",
            " |  __gt__(self, value, /)\n",
            " |      Return self>value.\n",
            " |  \n",
            " |  __hash__(self, /)\n",
            " |      Return hash(self).\n",
            " |  \n",
            " |  __iter__(self, /)\n",
            " |      Implement iter(self).\n",
            " |  \n",
            " |  __le__(self, value, /)\n",
            " |      Return self<=value.\n",
            " |  \n",
            " |  __len__(self, /)\n",
            " |      Return len(self).\n",
            " |  \n",
            " |  __lt__(self, value, /)\n",
            " |      Return self<value.\n",
            " |  \n",
            " |  __ne__(self, value, /)\n",
            " |      Return self!=value.\n",
            " |  \n",
            " |  __reduce__(...)\n",
            " |      Helper for pickle.\n",
            " |  \n",
            " |  __repr__(self, /)\n",
            " |      Return repr(self).\n",
            " |  \n",
            " |  __reversed__(...)\n",
            " |      Return a reverse iterator.\n",
            " |  \n",
            " |  count(...)\n",
            " |      rangeobject.count(value) -> integer -- return number of occurrences of value\n",
            " |  \n",
            " |  index(...)\n",
            " |      rangeobject.index(value) -> integer -- return index of value.\n",
            " |      Raise ValueError if the value is not present.\n",
            " |  \n",
            " |  ----------------------------------------------------------------------\n",
            " |  Static methods defined here:\n",
            " |  \n",
            " |  __new__(*args, **kwargs) from builtins.type\n",
            " |      Create and return a new object.  See help(type) for accurate signature.\n",
            " |  \n",
            " |  ----------------------------------------------------------------------\n",
            " |  Data descriptors defined here:\n",
            " |  \n",
            " |  start\n",
            " |  \n",
            " |  step\n",
            " |  \n",
            " |  stop\n",
            "\n"
          ]
        }
      ]
    },
    {
      "cell_type": "code",
      "source": [
        "# Question - Date Printing\n",
        "\n",
        "# Create a date printing function which \n",
        "# takes in 4 arguments : date, month, year, style\n",
        "\n",
        "# Style 0 -> d/m/y\n",
        "# Style 1 -> m/d/y\n",
        "# Default style is 0\n",
        "\n",
        "def print_date(date, month, year, style=0) :\n",
        "    if style == 0 :\n",
        "      print(date, month, year, sep='/')\n",
        "    elif style == 1 :\n",
        "      print(month, date, year, sep='/')\n",
        "    else :\n",
        "      print(\"Incorrect style\")"
      ],
      "metadata": {
        "id": "sYy2bpAzL_lN"
      },
      "execution_count": 39,
      "outputs": []
    },
    {
      "cell_type": "code",
      "source": [
        "print_date(5, 2, 2022)"
      ],
      "metadata": {
        "colab": {
          "base_uri": "https://localhost:8080/"
        },
        "id": "bG_vVnm1N9ZJ",
        "outputId": "1e414bfe-c4cd-43b1-cdf9-06d0f1be8c18"
      },
      "execution_count": 40,
      "outputs": [
        {
          "output_type": "stream",
          "name": "stdout",
          "text": [
            "5/2/2022\n"
          ]
        }
      ]
    },
    {
      "cell_type": "code",
      "source": [
        "print_date(\"05\", \"02\", \"2022\")"
      ],
      "metadata": {
        "colab": {
          "base_uri": "https://localhost:8080/"
        },
        "id": "7Yl2O0exO_aJ",
        "outputId": "d3c04a9f-0492-4f71-8a3e-ddd9b90587e0"
      },
      "execution_count": 43,
      "outputs": [
        {
          "output_type": "stream",
          "name": "stdout",
          "text": [
            "05/02/2022\n"
          ]
        }
      ]
    },
    {
      "cell_type": "code",
      "source": [
        "print_date(7, 4, 2020, 1)"
      ],
      "metadata": {
        "colab": {
          "base_uri": "https://localhost:8080/"
        },
        "id": "-HpnFO9nOK5c",
        "outputId": "68f8464b-3ca0-4e42-ad53-3037c4b771ef"
      },
      "execution_count": 41,
      "outputs": [
        {
          "output_type": "stream",
          "name": "stdout",
          "text": [
            "4/7/2020\n"
          ]
        }
      ]
    },
    {
      "cell_type": "code",
      "source": [
        "print_date(7, 4, 2020, 50)"
      ],
      "metadata": {
        "colab": {
          "base_uri": "https://localhost:8080/"
        },
        "id": "B5lgp9ClOQai",
        "outputId": "d21f23a4-4bd9-4710-a12c-921a6d07bf80"
      },
      "execution_count": 42,
      "outputs": [
        {
          "output_type": "stream",
          "name": "stdout",
          "text": [
            "Incorrect style\n"
          ]
        }
      ]
    },
    {
      "cell_type": "markdown",
      "source": [
        "### Scope"
      ],
      "metadata": {
        "id": "PpVQOW58Pcza"
      }
    },
    {
      "cell_type": "code",
      "source": [
        "# scope of variable - region within which a variable can be used\n",
        "\n",
        "# global variable\n",
        "chief_of_house = \"mother\"\n",
        "\n",
        "def change_chief():\n",
        "    # local variable\n",
        "    chief_of_house = \"father\"\n",
        "    print(\"Inside the function -\", chief_of_house)\n",
        "    \n",
        "    \n",
        "change_chief()\n",
        "print(\"Outside the function -\", chief_of_house)"
      ],
      "metadata": {
        "colab": {
          "base_uri": "https://localhost:8080/"
        },
        "id": "0RFYX0KnPPpu",
        "outputId": "d3184743-fe77-41ef-9969-2e7739ce9cbe"
      },
      "execution_count": 44,
      "outputs": [
        {
          "output_type": "stream",
          "name": "stdout",
          "text": [
            "Inside the function - father\n",
            "Outside the function - mother\n"
          ]
        }
      ]
    },
    {
      "cell_type": "code",
      "source": [
        "# global variable\n",
        "chief_of_house = \"mother\"\n",
        "\n",
        "def change_chief():\n",
        "    print(\"Inside the function -\", chief_of_house)\n",
        "    \n",
        "    \n",
        "change_chief()\n",
        "print(\"Outside the function -\", chief_of_house)"
      ],
      "metadata": {
        "colab": {
          "base_uri": "https://localhost:8080/"
        },
        "id": "ZqipIqHVQlVM",
        "outputId": "8c975317-d28e-4365-8b23-77aa79560dbc"
      },
      "execution_count": 45,
      "outputs": [
        {
          "output_type": "stream",
          "name": "stdout",
          "text": [
            "Inside the function - mother\n",
            "Outside the function - mother\n"
          ]
        }
      ]
    },
    {
      "cell_type": "code",
      "source": [
        "def change_chief():\n",
        "    # local variable\n",
        "    chief = \"father\"\n",
        "    print(\"Inside the function -\", chief)\n",
        "    \n",
        "    \n",
        "change_chief()\n",
        "print(\"Outside the function -\", chief)"
      ],
      "metadata": {
        "colab": {
          "base_uri": "https://localhost:8080/",
          "height": 218
        },
        "id": "t_L70Yy7RNaj",
        "outputId": "fbcd4372-b973-4c81-86b8-8bd9a7b52ce1"
      },
      "execution_count": 47,
      "outputs": [
        {
          "output_type": "stream",
          "name": "stdout",
          "text": [
            "Inside the function - father\n"
          ]
        },
        {
          "output_type": "error",
          "ename": "NameError",
          "evalue": "ignored",
          "traceback": [
            "\u001b[0;31m---------------------------------------------------------------------------\u001b[0m",
            "\u001b[0;31mNameError\u001b[0m                                 Traceback (most recent call last)",
            "\u001b[0;32m<ipython-input-47-3f59b57286a6>\u001b[0m in \u001b[0;36m<module>\u001b[0;34m\u001b[0m\n\u001b[1;32m      6\u001b[0m \u001b[0;34m\u001b[0m\u001b[0m\n\u001b[1;32m      7\u001b[0m \u001b[0mchange_chief\u001b[0m\u001b[0;34m(\u001b[0m\u001b[0;34m)\u001b[0m\u001b[0;34m\u001b[0m\u001b[0;34m\u001b[0m\u001b[0m\n\u001b[0;32m----> 8\u001b[0;31m \u001b[0mprint\u001b[0m\u001b[0;34m(\u001b[0m\u001b[0;34m\"Outside the function -\"\u001b[0m\u001b[0;34m,\u001b[0m \u001b[0mchief\u001b[0m\u001b[0;34m)\u001b[0m\u001b[0;34m\u001b[0m\u001b[0;34m\u001b[0m\u001b[0m\n\u001b[0m",
            "\u001b[0;31mNameError\u001b[0m: name 'chief' is not defined"
          ]
        }
      ]
    },
    {
      "cell_type": "code",
      "source": [
        "# global variable\n",
        "chief_of_house = \"mother\"\n",
        "\n",
        "def change_chief():\n",
        "    global chief_of_house\n",
        "    chief_of_house = \"father\"\n",
        "    print(\"Inside the function -\", chief_of_house)\n",
        "    \n",
        "    \n",
        "change_chief()\n",
        "print(\"Outside the function -\", chief_of_house)"
      ],
      "metadata": {
        "colab": {
          "base_uri": "https://localhost:8080/"
        },
        "id": "yhfsEX9QRwQ-",
        "outputId": "7e89aaeb-9b36-410e-9ce2-5399713a3e4c"
      },
      "execution_count": 64,
      "outputs": [
        {
          "output_type": "stream",
          "name": "stdout",
          "text": [
            "Inside the function - father\n",
            "Outside the function - mother\n"
          ]
        }
      ]
    }
  ]
}