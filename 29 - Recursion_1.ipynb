{
  "nbformat": 4,
  "nbformat_minor": 0,
  "metadata": {
    "colab": {
      "provenance": []
    },
    "kernelspec": {
      "name": "python3",
      "display_name": "Python 3"
    },
    "language_info": {
      "name": "python"
    }
  },
  "cells": [
    {
      "cell_type": "code",
      "execution_count": 1,
      "metadata": {
        "id": "I8RYis6YSR5W"
      },
      "outputs": [],
      "source": [
        "# Calculate N factorial\n",
        "\n",
        "def fact(n) :\n",
        "\n",
        "  # Base condition\n",
        "  if n == 0 :\n",
        "    return 1\n",
        "\n",
        "  # Recursive formula\n",
        "  return n * fact(n-1)"
      ]
    },
    {
      "cell_type": "code",
      "source": [
        "# fact(3) = 3 * fact(2) -> 2\n",
        "# fact(2) = 2 * fact(1) -> 1\n",
        "# fact(1) = 1 * fact(0) -> 1\n",
        "# fact(0) = 1\n",
        "\n",
        "# Return 6"
      ],
      "metadata": {
        "id": "gZ6-Nf9PW8pd"
      },
      "execution_count": null,
      "outputs": []
    },
    {
      "cell_type": "code",
      "source": [
        "print(fact(5))\n",
        "print(fact(0))"
      ],
      "metadata": {
        "colab": {
          "base_uri": "https://localhost:8080/"
        },
        "id": "3NP_Ats0W9P8",
        "outputId": "ae6b8fc1-f306-4af1-be7e-ff934395c81a"
      },
      "execution_count": 3,
      "outputs": [
        {
          "output_type": "stream",
          "name": "stdout",
          "text": [
            "120\n",
            "1\n"
          ]
        }
      ]
    },
    {
      "cell_type": "code",
      "source": [
        "# Merge sort\n",
        "\n",
        "def merge_sort(ls) :\n",
        "\n",
        "  # Base condition\n",
        "  if len(ls) == 1 :\n",
        "    return ls\n",
        "\n",
        "  n = len(ls)\n",
        "  # Recursive formula\n",
        "  # 1. Sort left half\n",
        "  left = merge_sort(ls[:n//2])\n",
        "  # 2. Sort right half\n",
        "  right = merge_sort(ls[n//2:])\n",
        "  # 3. Combine sorted left and right halves\n",
        "  res = []\n",
        "  i = 0\n",
        "  j = 0\n",
        "  while i < len(left) and j < len(right) :\n",
        "    if left[i] < right[j] :\n",
        "      res.append(left[i])\n",
        "      i+=1\n",
        "    else :\n",
        "      res.append(right[j])\n",
        "      j+=1\n",
        "  \n",
        "  # Add left over elements from left or right list\n",
        "  if i < len(left) :\n",
        "    res += left[i:]\n",
        "  if j < len(right) :\n",
        "    res += right[j:]\n",
        "  \n",
        "  return res"
      ],
      "metadata": {
        "id": "XUO0yphugeJn"
      },
      "execution_count": 4,
      "outputs": []
    },
    {
      "cell_type": "code",
      "source": [
        "print(merge_sort([4, 2, 7, 5, 0, -3, -1]))"
      ],
      "metadata": {
        "colab": {
          "base_uri": "https://localhost:8080/"
        },
        "id": "Dz3O4L36iTea",
        "outputId": "fca521aa-6c3f-4a39-e604-d5af0f2b1056"
      },
      "execution_count": 5,
      "outputs": [
        {
          "output_type": "stream",
          "name": "stdout",
          "text": [
            "[-3, -1, 0, 2, 4, 5, 7]\n"
          ]
        }
      ]
    },
    {
      "cell_type": "code",
      "source": [
        "# Bonus Question [ Google, Amazon, InterviewBit ]\n",
        "\n",
        "def solve(ls) :\n",
        "\n",
        "  # Base case\n",
        "  if len(ls) <= 1 :\n",
        "    return ls\n",
        "\n",
        "  # Take out all even elements\n",
        "  res = ls[::2]\n",
        "  # Call recursive function on odd index elements\n",
        "  ans = solve(ls[1::2])\n",
        "  # Add even elements and ans of recursive function\n",
        "  return res + ans"
      ],
      "metadata": {
        "id": "BsRBIGyApS3f"
      },
      "execution_count": 6,
      "outputs": []
    },
    {
      "cell_type": "code",
      "source": [
        "print(solve([1, 2, 3, 4, 5, 6]))"
      ],
      "metadata": {
        "colab": {
          "base_uri": "https://localhost:8080/"
        },
        "id": "t6mgOINxp7VD",
        "outputId": "7b652c70-f6f7-4b5f-fff1-1c8847394c15"
      },
      "execution_count": 7,
      "outputs": [
        {
          "output_type": "stream",
          "name": "stdout",
          "text": [
            "[1, 3, 5, 2, 6, 4]\n"
          ]
        }
      ]
    },
    {
      "cell_type": "code",
      "source": [
        "[1, 2, 3, 4, 5, 6]\n",
        "1 \n",
        "[3, 4, 5, 6, 2]\n",
        "3\n",
        "[5, 6, 2, 4]\n",
        "5\n",
        "\n",
        "[2, 4, 6]\n",
        "2\n",
        "[6, 4]\n",
        "6\n",
        "\n",
        "[4]\n",
        "4"
      ],
      "metadata": {
        "id": "B3kMoP_2q0gq"
      },
      "execution_count": null,
      "outputs": []
    },
    {
      "cell_type": "code",
      "source": [
        "def recur_search(key, values, lower, upper):\n",
        "  if (upper < lower):\n",
        "    return False\n",
        "\n",
        "  mid = (lower + upper) // 2\n",
        "\n",
        "  if (key == values[mid]):\n",
        "    return True;\n",
        " \n",
        "  elif (key < values[mid]):\n",
        "    recur_search(key, values, lower, mid - 1)\n",
        "\n",
        "  else: \n",
        "    recur_search(key, values, mid + 1, upper)\n",
        "\n",
        "  return False"
      ],
      "metadata": {
        "id": "9WwFVqtVsN__"
      },
      "execution_count": null,
      "outputs": []
    }
  ]
}