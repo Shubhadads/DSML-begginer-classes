{
  "cells": [
    {
      "cell_type": "markdown",
      "id": "380f0204",
      "metadata": {
        "id": "380f0204"
      },
      "source": [
        "# Dictionaries\n",
        "![](https://scaler.com/topics/images/dict-in-python.webp)"
      ]
    },
    {
      "cell_type": "markdown",
      "id": "1f7701d0",
      "metadata": {
        "id": "1f7701d0"
      },
      "source": [
        "- They are used to store data in key-value pair format\n",
        "- The keys are always unique\n",
        "- The values may or may not be unique\n",
        "- Dictionaries use **hashing** to store the data"
      ]
    },
    {
      "cell_type": "code",
      "execution_count": 1,
      "id": "ffb2cd44",
      "metadata": {
        "colab": {
          "base_uri": "https://localhost:8080/"
        },
        "id": "ffb2cd44",
        "outputId": "078aaf31-471e-4617-918c-2b2a003e021b"
      },
      "outputs": [
        {
          "output_type": "stream",
          "name": "stdout",
          "text": [
            "{} <class 'dict'>\n"
          ]
        }
      ],
      "source": [
        "# d = {}\n",
        "d = dict()\n",
        "\n",
        "print(d, type(d))"
      ]
    },
    {
      "cell_type": "code",
      "execution_count": 2,
      "id": "650a7893",
      "metadata": {
        "colab": {
          "base_uri": "https://localhost:8080/"
        },
        "id": "650a7893",
        "outputId": "ebefea07-d233-4bbb-8467-2515b2d75942"
      },
      "outputs": [
        {
          "output_type": "stream",
          "name": "stdout",
          "text": [
            "{'Dal Makhani': 400, 'Dosa': 300, 'Pizza': 500} <class 'dict'>\n"
          ]
        }
      ],
      "source": [
        "menu = {\n",
        "    \"Dal Makhani\": 400,\n",
        "    \"Dosa\": 300,\n",
        "    \"Pizza\": 500,\n",
        "}\n",
        "\n",
        "print(menu, type(menu))"
      ]
    },
    {
      "cell_type": "code",
      "execution_count": 8,
      "id": "38e86aed",
      "metadata": {
        "colab": {
          "base_uri": "https://localhost:8080/"
        },
        "id": "38e86aed",
        "outputId": "c748be30-f787-4115-a103-35ed0e6c5341"
      },
      "outputs": [
        {
          "output_type": "stream",
          "name": "stdout",
          "text": [
            "{1: 'Hello', 'YOLO': True, 2.3: 234, 'l': ['Hello', None, False]} <class 'dict'>\n"
          ]
        }
      ],
      "source": [
        "d = {\n",
        "    1 : \"Hello\",\n",
        "    \"YOLO\" : True,\n",
        "    2.3 : 234,\n",
        "    'l' : [\"Hello\", None, False]\n",
        "}\n",
        "\n",
        "print(d, type(d))"
      ]
    },
    {
      "cell_type": "code",
      "execution_count": null,
      "id": "6f35aa61",
      "metadata": {
        "id": "6f35aa61"
      },
      "outputs": [],
      "source": []
    },
    {
      "cell_type": "code",
      "execution_count": null,
      "id": "31a40683",
      "metadata": {
        "id": "31a40683"
      },
      "outputs": [],
      "source": []
    },
    {
      "cell_type": "markdown",
      "id": "021a17d2",
      "metadata": {
        "id": "021a17d2"
      },
      "source": [
        "### Reading values\n",
        "- square brackets\n",
        "- get()"
      ]
    },
    {
      "cell_type": "code",
      "source": [
        "# Dictionaries have unique keys\n",
        "# Which means each key can occur only once"
      ],
      "metadata": {
        "id": "4T8MySKnpF99"
      },
      "id": "4T8MySKnpF99",
      "execution_count": null,
      "outputs": []
    },
    {
      "cell_type": "code",
      "execution_count": 9,
      "id": "1a4efbea",
      "metadata": {
        "id": "1a4efbea"
      },
      "outputs": [],
      "source": [
        "menu = {\n",
        "    \"Dal Makhani\": 400,\n",
        "    \"Dosa\": 300,\n",
        "    \"Pizza\": 500,\n",
        "    90: 5.2\n",
        "}"
      ]
    },
    {
      "cell_type": "code",
      "source": [
        "print(menu[\"Pizza\"])\n",
        "print(menu[90])"
      ],
      "metadata": {
        "colab": {
          "base_uri": "https://localhost:8080/"
        },
        "id": "rkT357XmoP4_",
        "outputId": "942af9ff-7224-4fba-ff08-bbb97afb4d04"
      },
      "id": "rkT357XmoP4_",
      "execution_count": 11,
      "outputs": [
        {
          "output_type": "stream",
          "name": "stdout",
          "text": [
            "500\n",
            "5.2\n"
          ]
        }
      ]
    },
    {
      "cell_type": "code",
      "source": [
        "# What if key is not present ?\n",
        "print(menu[\"pizza\"])"
      ],
      "metadata": {
        "colab": {
          "base_uri": "https://localhost:8080/",
          "height": 183
        },
        "id": "3prEIywyoP9d",
        "outputId": "99490fc2-8fa3-4d5f-9b16-bfb7eb0190b0"
      },
      "id": "3prEIywyoP9d",
      "execution_count": 12,
      "outputs": [
        {
          "output_type": "error",
          "ename": "KeyError",
          "evalue": "ignored",
          "traceback": [
            "\u001b[0;31m---------------------------------------------------------------------------\u001b[0m",
            "\u001b[0;31mKeyError\u001b[0m                                  Traceback (most recent call last)",
            "\u001b[0;32m<ipython-input-12-d490c842c84e>\u001b[0m in \u001b[0;36m<module>\u001b[0;34m\u001b[0m\n\u001b[1;32m      1\u001b[0m \u001b[0;31m# What if key is not present ?\u001b[0m\u001b[0;34m\u001b[0m\u001b[0;34m\u001b[0m\u001b[0;34m\u001b[0m\u001b[0m\n\u001b[0;32m----> 2\u001b[0;31m \u001b[0mprint\u001b[0m\u001b[0;34m(\u001b[0m\u001b[0mmenu\u001b[0m\u001b[0;34m[\u001b[0m\u001b[0;34m\"pizza\"\u001b[0m\u001b[0;34m]\u001b[0m\u001b[0;34m)\u001b[0m\u001b[0;34m\u001b[0m\u001b[0;34m\u001b[0m\u001b[0m\n\u001b[0m",
            "\u001b[0;31mKeyError\u001b[0m: 'pizza'"
          ]
        }
      ]
    },
    {
      "cell_type": "code",
      "source": [
        "menu = {\n",
        "    \"Dal Makhani\": 400,\n",
        "    \"Dosa\": 300,\n",
        "    \"Pizza\": 500,\n",
        "}\n",
        "\n",
        "# If key is present, it will return its value\n",
        "# If key is not present, it will return the default value = None\n",
        "\n",
        "print(menu.get(\"Pizza\"))\n",
        "print(menu.get(\"pizza\"))"
      ],
      "metadata": {
        "colab": {
          "base_uri": "https://localhost:8080/"
        },
        "id": "bMlcqJTIoslw",
        "outputId": "8d0eff9c-6cd2-4ac3-fa6e-5a3258691877"
      },
      "id": "bMlcqJTIoslw",
      "execution_count": 14,
      "outputs": [
        {
          "output_type": "stream",
          "name": "stdout",
          "text": [
            "500\n",
            "None\n"
          ]
        }
      ]
    },
    {
      "cell_type": "code",
      "source": [],
      "metadata": {
        "id": "c5k9ypSjpffS"
      },
      "id": "c5k9ypSjpffS",
      "execution_count": null,
      "outputs": []
    },
    {
      "cell_type": "markdown",
      "id": "daa774a8",
      "metadata": {
        "id": "daa774a8"
      },
      "source": [
        "### Challenge\n",
        "If a dish is in the menu, show its price. Otherwise, chef will charge extra for it. Show the price as 1000."
      ]
    },
    {
      "cell_type": "code",
      "source": [
        "# Get function takes a second argument, the default value\n",
        "\n",
        "# If key is present, returns value corresponding to key\n",
        "# If key is not prsent, returns default value\n",
        "print(menu.get(\"Paneer\", 1000))"
      ],
      "metadata": {
        "colab": {
          "base_uri": "https://localhost:8080/"
        },
        "id": "Z0EpHba7osni",
        "outputId": "74ff377e-d359-41f2-a827-651e58596588"
      },
      "id": "Z0EpHba7osni",
      "execution_count": 16,
      "outputs": [
        {
          "output_type": "stream",
          "name": "stdout",
          "text": [
            "1000\n"
          ]
        }
      ]
    },
    {
      "cell_type": "code",
      "execution_count": null,
      "id": "9b0d37ab",
      "metadata": {
        "id": "9b0d37ab"
      },
      "outputs": [],
      "source": []
    },
    {
      "cell_type": "code",
      "execution_count": null,
      "id": "a7bc9255",
      "metadata": {
        "id": "a7bc9255"
      },
      "outputs": [],
      "source": [
        "menu = {\n",
        "    \"Dal Makhani\": 400,\n",
        "    \"Dosa\": 300,\n",
        "    \"Pizza\": 500,\n",
        "    \"Paneer\": 300\n",
        "}"
      ]
    },
    {
      "cell_type": "code",
      "source": [
        "print(menu[\"Pizza\"])\n",
        "menu[300] # Will not return Dosa and Paneer\n",
        "\n",
        "# You can use key to get value\n",
        "# You can't use value to get key"
      ],
      "metadata": {
        "colab": {
          "base_uri": "https://localhost:8080/"
        },
        "id": "-x65EuXNqOxB",
        "outputId": "f7c1fb1d-e7bc-4018-c054-07146353420f"
      },
      "id": "-x65EuXNqOxB",
      "execution_count": 18,
      "outputs": [
        {
          "output_type": "stream",
          "name": "stdout",
          "text": [
            "500\n"
          ]
        }
      ]
    },
    {
      "cell_type": "code",
      "source": [],
      "metadata": {
        "id": "IrIBT3VCqTyq"
      },
      "id": "IrIBT3VCqTyq",
      "execution_count": null,
      "outputs": []
    },
    {
      "cell_type": "markdown",
      "id": "a33270bf",
      "metadata": {
        "id": "a33270bf"
      },
      "source": [
        "## Updation and Addition\n",
        "- Updating/Adding one entry - using square brackets\n",
        "- Updating/Adding multiple entries - update()"
      ]
    },
    {
      "cell_type": "code",
      "execution_count": 19,
      "id": "92281f39",
      "metadata": {
        "id": "92281f39"
      },
      "outputs": [],
      "source": [
        "avenger = {\n",
        "    \"name\": \"Thor\",\n",
        "    \"age\": 1000,\n",
        "    \"weapons\": ['Mjolnir', 'Stormbreaker']\n",
        "}"
      ]
    },
    {
      "cell_type": "code",
      "execution_count": 20,
      "id": "8bd86dbd",
      "metadata": {
        "colab": {
          "base_uri": "https://localhost:8080/"
        },
        "id": "8bd86dbd",
        "outputId": "ba232489-b076-4e89-b259-40875419771b"
      },
      "outputs": [
        {
          "output_type": "stream",
          "name": "stdout",
          "text": [
            "{'name': 'Thor Odinson', 'age': 1000, 'weapons': ['Mjolnir', 'Stormbreaker']}\n"
          ]
        }
      ],
      "source": [
        "# Update the name to \"Thor Odinson\"\n",
        "\n",
        "avenger[\"name\"] = \"Thor Odinson\"\n",
        "print(avenger)"
      ]
    },
    {
      "cell_type": "code",
      "execution_count": 21,
      "id": "ce980893",
      "metadata": {
        "colab": {
          "base_uri": "https://localhost:8080/"
        },
        "id": "ce980893",
        "outputId": "eb18a243-9b7a-4f95-8e89-d4d16086d090"
      },
      "outputs": [
        {
          "output_type": "stream",
          "name": "stdout",
          "text": [
            "{'name': 'Thor Odinson', 'age': 1000, 'weapons': ['Mjolnir', 'Stormbreaker'], 'gf': 'Jane Foster'}\n"
          ]
        }
      ],
      "source": [
        "# Add a new entry\n",
        "# girlfriend -> Jane Foster\n",
        "\n",
        "avenger[\"gf\"] = \"Jane Foster\"\n",
        "print(avenger)"
      ]
    },
    {
      "cell_type": "code",
      "execution_count": 22,
      "id": "8574e84c",
      "metadata": {
        "colab": {
          "base_uri": "https://localhost:8080/"
        },
        "id": "8574e84c",
        "outputId": "057db67f-daa3-4824-d02f-5ab7f1b71b66"
      },
      "outputs": [
        {
          "output_type": "stream",
          "name": "stdout",
          "text": [
            "{'name': 'Thor Odinson', 'age': 1000, 'weapons': ['Mjolnir', 'Stormbreaker', 'Thunder'], 'gf': 'Jane Foster'}\n"
          ]
        }
      ],
      "source": [
        "avenger[\"weapons\"].append(\"Thunder\")\n",
        "print(avenger)"
      ]
    },
    {
      "cell_type": "code",
      "source": [],
      "metadata": {
        "id": "ShArfsldrhgF"
      },
      "id": "ShArfsldrhgF",
      "execution_count": null,
      "outputs": []
    },
    {
      "cell_type": "code",
      "source": [
        "avenger = {\n",
        "    \"name\": \"Thor\",\n",
        "    \"age\": 1000\n",
        "}"
      ],
      "metadata": {
        "id": "c_ph6xM-r72O"
      },
      "id": "c_ph6xM-r72O",
      "execution_count": null,
      "outputs": []
    },
    {
      "cell_type": "code",
      "source": [
        "avenger.update({\n",
        "  \"age\" : 1500,\n",
        "  \"weapons\" : [\"Mjolnir\", \"Thunder\"],\n",
        "  \"gf\" : \"Jane Foster\"\n",
        "})\n",
        "\n",
        "print(avenger)"
      ],
      "metadata": {
        "colab": {
          "base_uri": "https://localhost:8080/"
        },
        "id": "5STPzcUYrhkN",
        "outputId": "1c67f810-5cfc-4c9e-cfd0-f68fe6b7cd68"
      },
      "id": "5STPzcUYrhkN",
      "execution_count": 23,
      "outputs": [
        {
          "output_type": "stream",
          "name": "stdout",
          "text": [
            "{'name': 'Thor Odinson', 'age': 1500, 'weapons': ['Mjolnir', 'Thunder'], 'gf': 'Jane Foster'}\n"
          ]
        }
      ]
    },
    {
      "cell_type": "markdown",
      "id": "fb5317f9",
      "metadata": {
        "id": "fb5317f9"
      },
      "source": [
        "#### Quiz 1\n",
        "What does the following Python code output?\n",
        "```py\n",
        "words = {\n",
        "\"is\": 2,\n",
        "\"hello\": 3,\n",
        "\"the\": 4\n",
        "}\n",
        "this_count = words[\"this\"]\n",
        "\n",
        "print(this_count)\n",
        "```"
      ]
    },
    {
      "cell_type": "code",
      "execution_count": 24,
      "id": "b45fa922",
      "metadata": {
        "colab": {
          "base_uri": "https://localhost:8080/",
          "height": 235
        },
        "id": "b45fa922",
        "outputId": "49377107-62a2-4a89-e8e1-1e7b09a47136"
      },
      "outputs": [
        {
          "output_type": "error",
          "ename": "KeyError",
          "evalue": "ignored",
          "traceback": [
            "\u001b[0;31m---------------------------------------------------------------------------\u001b[0m",
            "\u001b[0;31mKeyError\u001b[0m                                  Traceback (most recent call last)",
            "\u001b[0;32m<ipython-input-24-105f94622fcb>\u001b[0m in \u001b[0;36m<module>\u001b[0;34m\u001b[0m\n\u001b[1;32m      4\u001b[0m \u001b[0;34m\"the\"\u001b[0m\u001b[0;34m:\u001b[0m \u001b[0;36m4\u001b[0m\u001b[0;34m\u001b[0m\u001b[0;34m\u001b[0m\u001b[0m\n\u001b[1;32m      5\u001b[0m }\n\u001b[0;32m----> 6\u001b[0;31m \u001b[0mthis_count\u001b[0m \u001b[0;34m=\u001b[0m \u001b[0mwords\u001b[0m\u001b[0;34m[\u001b[0m\u001b[0;34m\"this\"\u001b[0m\u001b[0;34m]\u001b[0m\u001b[0;34m\u001b[0m\u001b[0;34m\u001b[0m\u001b[0m\n\u001b[0m\u001b[1;32m      7\u001b[0m \u001b[0;34m\u001b[0m\u001b[0m\n\u001b[1;32m      8\u001b[0m \u001b[0mprint\u001b[0m\u001b[0;34m(\u001b[0m\u001b[0mthis_count\u001b[0m\u001b[0;34m)\u001b[0m\u001b[0;34m\u001b[0m\u001b[0;34m\u001b[0m\u001b[0m\n",
            "\u001b[0;31mKeyError\u001b[0m: 'this'"
          ]
        }
      ],
      "source": [
        "words = {\n",
        "\"is\": 2,\n",
        "\"hello\": 3,\n",
        "\"the\": 4\n",
        "}\n",
        "this_count = words[\"this\"]\n",
        "\n",
        "print(this_count)"
      ]
    },
    {
      "cell_type": "code",
      "execution_count": null,
      "id": "4a5d10fa",
      "metadata": {
        "id": "4a5d10fa"
      },
      "outputs": [],
      "source": []
    },
    {
      "cell_type": "markdown",
      "id": "dafa7cc7",
      "metadata": {
        "id": "dafa7cc7"
      },
      "source": [
        "#### Quiz 2\n",
        "What is the output of the following code?\n",
        "```py\n",
        "d = {\"a\": 1, \"b\": 2, \"c\": 3}\n",
        "d['d'] = 55\n",
        "\n",
        "print(d['d'])\n",
        "```"
      ]
    },
    {
      "cell_type": "code",
      "execution_count": 25,
      "id": "713b1190",
      "metadata": {
        "colab": {
          "base_uri": "https://localhost:8080/"
        },
        "id": "713b1190",
        "outputId": "d4f532ff-b899-487b-8fc8-ab3dadaf3797"
      },
      "outputs": [
        {
          "output_type": "stream",
          "name": "stdout",
          "text": [
            "55\n"
          ]
        }
      ],
      "source": [
        "d = {\"a\": 1, \"b\": 2, \"c\": 3}\n",
        "d['d'] = 55\n",
        "\n",
        "print(d['d'])"
      ]
    },
    {
      "cell_type": "code",
      "execution_count": null,
      "id": "908f0a14",
      "metadata": {
        "id": "908f0a14"
      },
      "outputs": [],
      "source": []
    },
    {
      "cell_type": "markdown",
      "id": "274813bf",
      "metadata": {
        "id": "274813bf"
      },
      "source": [
        "### Are Dictionaries ordered ? \n",
        "Yes and No.\n",
        "- In Python 3.7 and above -> Ordered Dictionaries (It will remember the order of insertion)\n",
        "- In Python 3.6 or below -> Unordered Dictionaries"
      ]
    },
    {
      "cell_type": "code",
      "execution_count": 29,
      "id": "05406caf",
      "metadata": {
        "colab": {
          "base_uri": "https://localhost:8080/"
        },
        "id": "05406caf",
        "outputId": "2ed5f2cd-8bf0-4014-bded-fa2fd748ffa5"
      },
      "outputs": [
        {
          "output_type": "stream",
          "name": "stdout",
          "text": [
            "{'Dal': 100, 'Panner': 200, 'Pizza': 300}\n"
          ]
        }
      ],
      "source": [
        "# There are no indices in dictionaries\n",
        "\n",
        "menu = {\n",
        "    \"Dal\": 100,\n",
        "    \"Panner\": 200,\n",
        "    \"Pizza\": 300\n",
        "}\n",
        "print(menu)"
      ]
    },
    {
      "cell_type": "code",
      "execution_count": null,
      "id": "c3625034",
      "metadata": {
        "id": "c3625034"
      },
      "outputs": [],
      "source": [
        "# Break : 10:10pm"
      ]
    },
    {
      "cell_type": "markdown",
      "id": "36b0ce44",
      "metadata": {
        "id": "36b0ce44"
      },
      "source": [
        "#### Quiz 3\n",
        "What is the output of the following code?\n",
        "```py\n",
        "d = {\"a\": 1, \"b\": 2, \"c\": 3}\n",
        "print(d.get(\"a\", 0))\n",
        "print(d.get(\"b\", 0))\n",
        "print(d.get(\"c\", 0))\n",
        "print(d.get(\"d\", 0))\n",
        "```"
      ]
    },
    {
      "cell_type": "code",
      "execution_count": 30,
      "id": "da92951c",
      "metadata": {
        "colab": {
          "base_uri": "https://localhost:8080/"
        },
        "id": "da92951c",
        "outputId": "435fdfec-7477-4c30-e61e-553d11564b3d"
      },
      "outputs": [
        {
          "output_type": "stream",
          "name": "stdout",
          "text": [
            "1\n",
            "2\n",
            "3\n",
            "0\n"
          ]
        }
      ],
      "source": [
        "d = {\"a\": 1, \"b\": 2, \"c\": 3}\n",
        "print(d.get(\"a\", 0))\n",
        "print(d.get(\"b\", 0))\n",
        "print(d.get(\"c\", 0))\n",
        "print(d.get(\"d\", 0))"
      ]
    },
    {
      "cell_type": "code",
      "execution_count": null,
      "id": "956aeb3d",
      "metadata": {
        "id": "956aeb3d"
      },
      "outputs": [],
      "source": []
    },
    {
      "cell_type": "code",
      "execution_count": null,
      "id": "b9a31aa7",
      "metadata": {
        "id": "b9a31aa7"
      },
      "outputs": [],
      "source": []
    },
    {
      "cell_type": "code",
      "execution_count": null,
      "id": "bdc754bf",
      "metadata": {
        "id": "bdc754bf"
      },
      "outputs": [],
      "source": []
    },
    {
      "cell_type": "code",
      "execution_count": null,
      "id": "d3d74ef6",
      "metadata": {
        "id": "d3d74ef6"
      },
      "outputs": [],
      "source": []
    },
    {
      "cell_type": "code",
      "execution_count": null,
      "id": "d60348d0",
      "metadata": {
        "id": "d60348d0"
      },
      "outputs": [],
      "source": []
    },
    {
      "cell_type": "markdown",
      "id": "6919262f",
      "metadata": {
        "id": "6919262f"
      },
      "source": [
        "## Removing entries\n",
        "- pop()\n",
        "- del"
      ]
    },
    {
      "cell_type": "code",
      "execution_count": 36,
      "id": "42af5d47",
      "metadata": {
        "id": "42af5d47"
      },
      "outputs": [],
      "source": [
        "menu = {\n",
        "    \"Dal Makhani\": 400,\n",
        "    \"Dosa\": 300,\n",
        "    \"Pizza\": 200,\n",
        "}"
      ]
    },
    {
      "cell_type": "code",
      "execution_count": 32,
      "id": "1e528026",
      "metadata": {
        "id": "1e528026"
      },
      "outputs": [],
      "source": [
        "# Your Italian Chef is leaving the restaurant. How to remove Pizza from your menu ? "
      ]
    },
    {
      "cell_type": "code",
      "execution_count": 37,
      "id": "b336a5a2",
      "metadata": {
        "colab": {
          "base_uri": "https://localhost:8080/"
        },
        "id": "b336a5a2",
        "outputId": "6782260c-c173-42a2-95bf-8458e32f856c"
      },
      "outputs": [
        {
          "output_type": "stream",
          "name": "stdout",
          "text": [
            "200 {'Dal Makhani': 400, 'Dosa': 300}\n"
          ]
        }
      ],
      "source": [
        "menu_price = menu.pop(\"Pizza\")\n",
        "print(menu_price, menu)"
      ]
    },
    {
      "cell_type": "code",
      "execution_count": 38,
      "id": "5656b7ef",
      "metadata": {
        "colab": {
          "base_uri": "https://localhost:8080/",
          "height": 166
        },
        "id": "5656b7ef",
        "outputId": "95883ce1-63f4-4c43-c740-33469bc16325"
      },
      "outputs": [
        {
          "output_type": "error",
          "ename": "KeyError",
          "evalue": "ignored",
          "traceback": [
            "\u001b[0;31m---------------------------------------------------------------------------\u001b[0m",
            "\u001b[0;31mKeyError\u001b[0m                                  Traceback (most recent call last)",
            "\u001b[0;32m<ipython-input-38-c9ac04e1a299>\u001b[0m in \u001b[0;36m<module>\u001b[0;34m\u001b[0m\n\u001b[0;32m----> 1\u001b[0;31m \u001b[0mmenu\u001b[0m\u001b[0;34m.\u001b[0m\u001b[0mpop\u001b[0m\u001b[0;34m(\u001b[0m\u001b[0;34m\"Pasta\"\u001b[0m\u001b[0;34m)\u001b[0m\u001b[0;34m\u001b[0m\u001b[0;34m\u001b[0m\u001b[0m\n\u001b[0m",
            "\u001b[0;31mKeyError\u001b[0m: 'Pasta'"
          ]
        }
      ],
      "source": [
        "menu.pop(\"Pasta\")"
      ]
    },
    {
      "cell_type": "code",
      "execution_count": 41,
      "id": "ac65da43",
      "metadata": {
        "id": "ac65da43"
      },
      "outputs": [],
      "source": [
        "menu = {\n",
        "    \"Dal Makhani\": 400,\n",
        "    \"Dosa\": 300,\n",
        "    \"Pizza\": 200,\n",
        "}\n",
        "\n",
        "# del menu['Pizza']\n",
        "# print(menu)"
      ]
    },
    {
      "cell_type": "code",
      "execution_count": 42,
      "id": "6c13dc0a",
      "metadata": {
        "colab": {
          "base_uri": "https://localhost:8080/",
          "height": 166
        },
        "id": "6c13dc0a",
        "outputId": "ca754481-a54e-4e60-9579-71b66ea85ddb"
      },
      "outputs": [
        {
          "output_type": "error",
          "ename": "KeyError",
          "evalue": "ignored",
          "traceback": [
            "\u001b[0;31m---------------------------------------------------------------------------\u001b[0m",
            "\u001b[0;31mKeyError\u001b[0m                                  Traceback (most recent call last)",
            "\u001b[0;32m<ipython-input-42-4cfcc2bb3eb7>\u001b[0m in \u001b[0;36m<module>\u001b[0;34m\u001b[0m\n\u001b[0;32m----> 1\u001b[0;31m \u001b[0;32mdel\u001b[0m \u001b[0mmenu\u001b[0m\u001b[0;34m[\u001b[0m\u001b[0;34m'Pasta'\u001b[0m\u001b[0;34m]\u001b[0m\u001b[0;34m\u001b[0m\u001b[0;34m\u001b[0m\u001b[0m\n\u001b[0m",
            "\u001b[0;31mKeyError\u001b[0m: 'Pasta'"
          ]
        }
      ],
      "source": [
        "del menu['Pasta']"
      ]
    },
    {
      "cell_type": "code",
      "execution_count": null,
      "id": "98d98091",
      "metadata": {
        "id": "98d98091"
      },
      "outputs": [],
      "source": []
    },
    {
      "cell_type": "markdown",
      "id": "df68466e",
      "metadata": {
        "id": "df68466e"
      },
      "source": [
        "## keys() and values()"
      ]
    },
    {
      "cell_type": "code",
      "execution_count": 43,
      "id": "da353e44",
      "metadata": {
        "id": "da353e44"
      },
      "outputs": [],
      "source": [
        "avenger = {\n",
        "    'name': 'Thor',\n",
        "    'age': 1100,\n",
        "    'weapon': 'Mjolnir',\n",
        "    'gf': 'Jane Foster',\n",
        "    'best friend': 'Heimdall'\n",
        "}"
      ]
    },
    {
      "cell_type": "code",
      "execution_count": 46,
      "id": "bf0190ea",
      "metadata": {
        "colab": {
          "base_uri": "https://localhost:8080/"
        },
        "id": "bf0190ea",
        "outputId": "0f1cf34b-de4c-41e5-89ab-4ba98d7a3cd0"
      },
      "outputs": [
        {
          "output_type": "stream",
          "name": "stdout",
          "text": [
            "dict_keys(['name', 'age', 'weapon', 'gf', 'best friend']) <class 'dict_keys'>\n"
          ]
        }
      ],
      "source": [
        "keys = avenger.keys()\n",
        "print(keys, type(keys))"
      ]
    },
    {
      "cell_type": "code",
      "execution_count": 47,
      "id": "ad7979ed",
      "metadata": {
        "colab": {
          "base_uri": "https://localhost:8080/"
        },
        "id": "ad7979ed",
        "outputId": "08982727-9a8a-428a-e936-9dd38c7cfe79"
      },
      "outputs": [
        {
          "output_type": "stream",
          "name": "stdout",
          "text": [
            "name Thor\n",
            "age 1100\n",
            "weapon Mjolnir\n",
            "gf Jane Foster\n",
            "best friend Heimdall\n"
          ]
        }
      ],
      "source": [
        "for key in keys :\n",
        "  print(key, avenger[key])"
      ]
    },
    {
      "cell_type": "code",
      "source": [],
      "metadata": {
        "id": "O0OJmGREzTbB"
      },
      "id": "O0OJmGREzTbB",
      "execution_count": null,
      "outputs": []
    },
    {
      "cell_type": "code",
      "source": [
        "values = avenger.values()\n",
        "print(values, type(values))\n",
        "\n",
        "# for value in values :\n",
        "#   print(value)"
      ],
      "metadata": {
        "colab": {
          "base_uri": "https://localhost:8080/"
        },
        "id": "GS_KQ5ukzTdT",
        "outputId": "ae1cee0c-59b1-460e-e67b-ac63849d36b1"
      },
      "id": "GS_KQ5ukzTdT",
      "execution_count": 49,
      "outputs": [
        {
          "output_type": "stream",
          "name": "stdout",
          "text": [
            "dict_values(['Thor', 1100, 'Mjolnir', 'Jane Foster', 'Heimdall']) <class 'dict_values'>\n"
          ]
        }
      ]
    },
    {
      "cell_type": "code",
      "source": [],
      "metadata": {
        "id": "zaPnQcf8zTfZ"
      },
      "id": "zaPnQcf8zTfZ",
      "execution_count": null,
      "outputs": []
    },
    {
      "cell_type": "code",
      "source": [
        "# By default, for in loop gets keys in dictionary\n",
        "\n",
        "for k in avenger :\n",
        "  print(k, '->', avenger[k])"
      ],
      "metadata": {
        "colab": {
          "base_uri": "https://localhost:8080/"
        },
        "id": "n1PsipHrzThP",
        "outputId": "98b1b7a0-d44c-4f7d-bfad-964f09853ea9"
      },
      "id": "n1PsipHrzThP",
      "execution_count": 51,
      "outputs": [
        {
          "output_type": "stream",
          "name": "stdout",
          "text": [
            "name -> Thor\n",
            "age -> 1100\n",
            "weapon -> Mjolnir\n",
            "gf -> Jane Foster\n",
            "best friend -> Heimdall\n"
          ]
        }
      ]
    },
    {
      "cell_type": "code",
      "source": [],
      "metadata": {
        "id": "J1hzlAslzgld"
      },
      "id": "J1hzlAslzgld",
      "execution_count": null,
      "outputs": []
    },
    {
      "cell_type": "code",
      "source": [],
      "metadata": {
        "id": "R-XwSb9kzgtx"
      },
      "id": "R-XwSb9kzgtx",
      "execution_count": null,
      "outputs": []
    },
    {
      "cell_type": "markdown",
      "id": "0a92a43f",
      "metadata": {
        "id": "0a92a43f"
      },
      "source": [
        "#### Quiz 4\n",
        "```py\n",
        "a = {1: 1, 2: 4, 3: 9}\n",
        "\n",
        "for x in a:\n",
        "  print(a[x], end=' ')\n",
        "```"
      ]
    },
    {
      "cell_type": "code",
      "execution_count": 52,
      "id": "59d5bc53",
      "metadata": {
        "colab": {
          "base_uri": "https://localhost:8080/"
        },
        "id": "59d5bc53",
        "outputId": "3ed30678-eaa1-45a3-8eb2-de436d15d364"
      },
      "outputs": [
        {
          "output_type": "stream",
          "name": "stdout",
          "text": [
            "1 4 9 "
          ]
        }
      ],
      "source": [
        "a = {1: 1, 2: 4, 3: 9}\n",
        "\n",
        "for x in a:\n",
        "  print(a[x], end=' ')"
      ]
    },
    {
      "cell_type": "code",
      "execution_count": null,
      "id": "4ff6dd06",
      "metadata": {
        "id": "4ff6dd06"
      },
      "outputs": [],
      "source": []
    },
    {
      "cell_type": "code",
      "execution_count": 53,
      "id": "065027ec",
      "metadata": {
        "id": "065027ec"
      },
      "outputs": [],
      "source": [
        "avenger = {\n",
        "    'name': 'Thor',\n",
        "    'age': 1100,\n",
        "    'weapon': 'Mjolnir',\n",
        "    'gf': 'Jane Foster',\n",
        "    'best friend': 'Heimdall'\n",
        "}"
      ]
    },
    {
      "cell_type": "code",
      "execution_count": 54,
      "id": "da92915c",
      "metadata": {
        "colab": {
          "base_uri": "https://localhost:8080/"
        },
        "id": "da92915c",
        "outputId": "2565eeb7-1bc5-4856-8633-0b3fd8f5acef"
      },
      "outputs": [
        {
          "output_type": "stream",
          "name": "stdout",
          "text": [
            "dict_items([('name', 'Thor'), ('age', 1100), ('weapon', 'Mjolnir'), ('gf', 'Jane Foster'), ('best friend', 'Heimdall')])\n"
          ]
        }
      ],
      "source": [
        "print(avenger.items())\n",
        "# This gives you the key-value pairs"
      ]
    },
    {
      "cell_type": "code",
      "source": [
        "for k, v in avenger.items() :\n",
        "  print(k, '->', v)"
      ],
      "metadata": {
        "colab": {
          "base_uri": "https://localhost:8080/"
        },
        "id": "_ZilZtIh0UTV",
        "outputId": "69437050-129c-405b-deef-bed2c409fb9e"
      },
      "id": "_ZilZtIh0UTV",
      "execution_count": 55,
      "outputs": [
        {
          "output_type": "stream",
          "name": "stdout",
          "text": [
            "name -> Thor\n",
            "age -> 1100\n",
            "weapon -> Mjolnir\n",
            "gf -> Jane Foster\n",
            "best friend -> Heimdall\n"
          ]
        }
      ]
    },
    {
      "cell_type": "code",
      "execution_count": null,
      "id": "8b4b99f4",
      "metadata": {
        "id": "8b4b99f4"
      },
      "outputs": [],
      "source": []
    },
    {
      "cell_type": "markdown",
      "id": "83c23a65",
      "metadata": {
        "id": "83c23a65"
      },
      "source": [
        "### How to check if a key is present in a dictionary ? "
      ]
    },
    {
      "cell_type": "code",
      "execution_count": 56,
      "id": "c3604689",
      "metadata": {
        "id": "c3604689"
      },
      "outputs": [],
      "source": [
        "menu = {\n",
        "    \"Dal Makhani\": 500,\n",
        "    \"Dosa\": 300,\n",
        "    \"Pizza\": 400,\n",
        "    \"Pasta\": 350\n",
        "}"
      ]
    },
    {
      "cell_type": "code",
      "execution_count": 57,
      "id": "b2961f8a",
      "metadata": {
        "colab": {
          "base_uri": "https://localhost:8080/"
        },
        "id": "b2961f8a",
        "outputId": "00f0e1c0-0bce-4ee7-a5d1-25a88dd93faa"
      },
      "outputs": [
        {
          "output_type": "execute_result",
          "data": {
            "text/plain": [
              "True"
            ]
          },
          "metadata": {},
          "execution_count": 57
        }
      ],
      "source": [
        "\"Pizza\" in menu"
      ]
    },
    {
      "cell_type": "code",
      "source": [
        "\"Paneer\" in menu"
      ],
      "metadata": {
        "colab": {
          "base_uri": "https://localhost:8080/"
        },
        "id": "TvI8iiAD01ip",
        "outputId": "d831f62b-8a08-4aa9-fbd5-e03bd3b20050"
      },
      "id": "TvI8iiAD01ip",
      "execution_count": 58,
      "outputs": [
        {
          "output_type": "execute_result",
          "data": {
            "text/plain": [
              "False"
            ]
          },
          "metadata": {},
          "execution_count": 58
        }
      ]
    },
    {
      "cell_type": "code",
      "source": [],
      "metadata": {
        "colab": {
          "base_uri": "https://localhost:8080/"
        },
        "id": "6B72xJ-401qc",
        "outputId": "44a3f4f7-618c-481a-c739-3ae123330fef"
      },
      "id": "6B72xJ-401qc",
      "execution_count": 64,
      "outputs": [
        {
          "output_type": "execute_result",
          "data": {
            "text/plain": [
              "1"
            ]
          },
          "metadata": {},
          "execution_count": 64
        }
      ]
    },
    {
      "cell_type": "markdown",
      "id": "e7869812",
      "metadata": {
        "id": "e7869812"
      },
      "source": [
        "#### Frequency Map\n",
        "Given a list of numbers, print the frequencies of all unique values in it (in any order)\n",
        "\n",
        "\n",
        "Input:\n",
        "```\n",
        "[5, 5, 2, 5, 2, 6, 1, 3]\n",
        "```\n",
        "\n",
        "Output:\n",
        "```\n",
        "5 -> 3\n",
        "2 -> 2\n",
        "6 -> 1\n",
        "1 -> 1\n",
        "3 -> 1\n",
        "(Order does not matter)\n",
        "```"
      ]
    },
    {
      "cell_type": "code",
      "execution_count": 66,
      "id": "dd48a688",
      "metadata": {
        "colab": {
          "base_uri": "https://localhost:8080/"
        },
        "id": "dd48a688",
        "outputId": "31b12b66-7d67-46fa-fb8e-e80ca25b47e2"
      },
      "outputs": [
        {
          "output_type": "stream",
          "name": "stdout",
          "text": [
            "{5: 1}\n",
            "{5: 2}\n",
            "{5: 2, 2: 1}\n",
            "{5: 3, 2: 1}\n",
            "{5: 3, 2: 2}\n",
            "{5: 3, 2: 2, 6: 1}\n",
            "{5: 3, 2: 2, 6: 1, 1: 1}\n",
            "{5: 3, 2: 2, 6: 1, 1: 1, 3: 1}\n",
            "{5: 3, 2: 2, 6: 2, 1: 1, 3: 1}\n",
            "{5: 3, 2: 2, 6: 3, 1: 1, 3: 1}\n",
            "{5: 3, 2: 2, 6: 3, 1: 1, 3: 2}\n",
            "{5: 3, 2: 2, 6: 3, 1: 2, 3: 2}\n",
            "{5: 3, 2: 2, 6: 3, 1: 3, 3: 2}\n",
            "{5: 3, 2: 2, 6: 3, 1: 4, 3: 2}\n",
            "{5: 3, 2: 2, 6: 3, 1: 5, 3: 2}\n",
            "{5: 3, 2: 2, 6: 3, 1: 6, 3: 2}\n",
            "{5: 3, 2: 2, 6: 3, 1: 7, 3: 2}\n",
            "{5: 3, 2: 2, 6: 3, 1: 8, 3: 2}\n",
            "{5: 3, 2: 2, 6: 3, 1: 9, 3: 2}\n",
            "{5: 3, 2: 2, 6: 3, 1: 10, 3: 2}\n",
            "{5: 3, 2: 2, 6: 3, 1: 11, 3: 2}\n"
          ]
        }
      ],
      "source": [
        "a = [5, 5, 2, 5, 2, 6, 1, 3, 6, 6, 3, 1, 1, 1, 1, 1, 1, 1,1 ,1, 1]\n",
        "\n",
        "d = {}\n",
        "\n",
        "for k in a :\n",
        "\n",
        "  if k in d :\n",
        "    # If key is present in dictionary\n",
        "    # Find its value and add one to it\n",
        "    # Store the new value in the dictionary\n",
        "    d[k] = d[k] + 1\n",
        "  \n",
        "  else :\n",
        "    # If key is not present in dictionary\n",
        "    # Add it to dictionary\n",
        "    # Frequency will be 1\n",
        "    d[k] = 1\n",
        "\n",
        "  print(d)\n",
        "\n",
        "a = [5, 5, 2, 5, 2, 6, 1, 3, 6, 6, 3, 1, 1, 1, 1, 1, 1, 1,1 ,1, 1]\n"
      ]
    },
    {
      "cell_type": "code",
      "execution_count": null,
      "id": "34a0c4c4",
      "metadata": {
        "id": "34a0c4c4"
      },
      "outputs": [],
      "source": []
    },
    {
      "cell_type": "code",
      "execution_count": null,
      "id": "781749e8",
      "metadata": {
        "id": "781749e8"
      },
      "outputs": [],
      "source": []
    },
    {
      "cell_type": "markdown",
      "id": "36020bd9",
      "metadata": {
        "id": "36020bd9"
      },
      "source": [
        "# Bonus Reading Material\n",
        "- Dictionary in Python - https://www.scaler.com/topics/python/dictionary-in-python/\n",
        "- dict() in Python - https://www.scaler.com/topics/dict-in-python/\n",
        "- What is Dictionary in Python? - https://www.scaler.com/topics/what-is-dictionary-in-python/\n",
        "- Python Dictionary values() - https://www.scaler.com/topics/python-dictionary-values/\n",
        "- Python Dictionary Keys() Method - https://www.scaler.com/topics/python-dictionary-keys/\n",
        "- What is Ordered Dictionary Python in Python? - https://www.scaler.com/topics/ordered-dictionary-python/\n",
        "- What is Nested Dictionary in Python? - https://www.scaler.com/topics/nested-dictionary-in-python/\n",
        "- Sort Dictionary by Value in Python - https://www.scaler.com/topics/sort-dictionary-by-value-in-python/\n",
        "- fromkeys() in Python - https://www.scaler.com/topics/fromkeys-in-python/\n",
        "- How to Convert a List to Dictionary in Python? - https://www.scaler.com/topics/list-to-dictionary-python/\n",
        "- List of Dictionaries in Python - https://www.scaler.com/topics/list-of-dictionaries-in-python/\n",
        "- What is the Difference Between List and Dictionary in Python? - https://www.scaler.com/topics/difference-between-list-and-dictionary-in-python/\n",
        "- Differences between List, Tuple, Set and Dictionary in Python - https://www.scaler.com/topics/python/difference-between-dictionary-list-tuple-and-set-in-python/"
      ]
    },
    {
      "cell_type": "code",
      "execution_count": null,
      "id": "d2f1de6f",
      "metadata": {
        "id": "d2f1de6f"
      },
      "outputs": [],
      "source": []
    },
    {
      "cell_type": "code",
      "execution_count": null,
      "id": "e38627ea",
      "metadata": {
        "id": "e38627ea"
      },
      "outputs": [],
      "source": []
    },
    {
      "cell_type": "code",
      "execution_count": null,
      "id": "3f9a3553",
      "metadata": {
        "id": "3f9a3553"
      },
      "outputs": [],
      "source": []
    },
    {
      "cell_type": "markdown",
      "id": "801a011b",
      "metadata": {
        "id": "801a011b"
      },
      "source": [
        "# Doubts"
      ]
    },
    {
      "cell_type": "code",
      "source": [
        "sets = {3, 4, 5}\n",
        "sets.update( {\n",
        "    1: 5, \n",
        "    2: 6, \n",
        "    3: 7\n",
        "} ) # iterable\n",
        "print(sets)"
      ],
      "metadata": {
        "colab": {
          "base_uri": "https://localhost:8080/"
        },
        "id": "Unjilwk96Kqo",
        "outputId": "b87591a3-7da8-4e87-87e8-f69c813c7c10"
      },
      "id": "Unjilwk96Kqo",
      "execution_count": 88,
      "outputs": [
        {
          "output_type": "stream",
          "name": "stdout",
          "text": [
            "{1, 2, 3, 4, 5}\n"
          ]
        }
      ]
    },
    {
      "cell_type": "code",
      "source": [],
      "metadata": {
        "id": "Vpli_GcRDp9c"
      },
      "id": "Vpli_GcRDp9c",
      "execution_count": null,
      "outputs": []
    }
  ],
  "metadata": {
    "kernelspec": {
      "display_name": "Python 3 (ipykernel)",
      "language": "python",
      "name": "python3"
    },
    "language_info": {
      "codemirror_mode": {
        "name": "ipython",
        "version": 3
      },
      "file_extension": ".py",
      "mimetype": "text/x-python",
      "name": "python",
      "nbconvert_exporter": "python",
      "pygments_lexer": "ipython3",
      "version": "3.9.12"
    },
    "colab": {
      "provenance": []
    }
  },
  "nbformat": 4,
  "nbformat_minor": 5
}