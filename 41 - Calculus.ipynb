{
  "nbformat": 4,
  "nbformat_minor": 0,
  "metadata": {
    "colab": {
      "provenance": []
    },
    "kernelspec": {
      "name": "python3",
      "display_name": "Python 3"
    },
    "language_info": {
      "name": "python"
    }
  },
  "cells": [
    {
      "cell_type": "markdown",
      "source": [
        "### Limits"
      ],
      "metadata": {
        "id": "w3NNzucZs1pi"
      }
    },
    {
      "cell_type": "code",
      "execution_count": 1,
      "metadata": {
        "id": "MsvuopOasstS"
      },
      "outputs": [],
      "source": [
        "def f(x):\n",
        "    if x > 2:\n",
        "        return x**2\n",
        "    else:\n",
        "        return x"
      ]
    },
    {
      "cell_type": "code",
      "source": [
        "a = 2\n",
        "\n",
        "left_hand_inputs = [1.5, 1.9, 1.99, 1.9999]\n",
        "right_hand_inputs = [2.5, 2.1, 2.01, 2.0001]\n",
        "\n",
        "left_hand_outputs = [f(x) for x in left_hand_inputs]\n",
        "right_hand_outputs = [f(x) for x in right_hand_inputs]\n",
        "\n",
        "print(\"Left Hand outputs: \", left_hand_outputs)\n",
        "print(\"Right hand outputs: \", right_hand_outputs)\n",
        "\n",
        "# There is obvious discontinuity in graph when we approach x=2 from left and right side"
      ],
      "metadata": {
        "colab": {
          "base_uri": "https://localhost:8080/"
        },
        "id": "KuUisG33s72b",
        "outputId": "ab52e4c3-bd01-4e15-8de2-9ac9a98ac9c4"
      },
      "execution_count": 5,
      "outputs": [
        {
          "output_type": "stream",
          "name": "stdout",
          "text": [
            "Left Hand outputs:  [1.5, 1.9, 1.99, 1.9999]\n",
            "Right hand outputs:  [6.25, 4.41, 4.040099999999999, 4.000400010000001]\n"
          ]
        }
      ]
    },
    {
      "cell_type": "code",
      "source": [
        "a = 1\n",
        "\n",
        "left_hand_inputs = [0.5, 0.9, 0.99, 0.9999]\n",
        "right_hand_inputs = [1.5, 1.1, 1.01, 1.0001]\n",
        "\n",
        "left_hand_outputs = [f(x) for x in left_hand_inputs]\n",
        "right_hand_outputs = [f(x) for x in right_hand_inputs]\n",
        "\n",
        "print(\"Left Hand outputs: \", left_hand_outputs)\n",
        "print(\"Right hand outputs: \", right_hand_outputs)\n",
        "\n",
        "# There is obvious discontinuity in graph when we approach x=1 from left and right side"
      ],
      "metadata": {
        "colab": {
          "base_uri": "https://localhost:8080/"
        },
        "id": "taOWzS0wtFVb",
        "outputId": "59e791f4-9c7d-4c7b-8bec-3bae792dd1f6"
      },
      "execution_count": 6,
      "outputs": [
        {
          "output_type": "stream",
          "name": "stdout",
          "text": [
            "Left Hand outputs:  [0.5, 0.9, 0.99, 0.9999]\n",
            "Right hand outputs:  [1.5, 1.1, 1.01, 1.0001]\n"
          ]
        }
      ]
    }
  ]
}