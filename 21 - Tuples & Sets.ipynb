{
  "cells": [
    {
      "cell_type": "markdown",
      "id": "3f6817d6",
      "metadata": {
        "id": "3f6817d6"
      },
      "source": [
        "# Tuples\n",
        "![](https://scaler.com/topics/images/tuples-in-python.webp)"
      ]
    },
    {
      "cell_type": "markdown",
      "id": "9cec72e6",
      "metadata": {
        "id": "9cec72e6"
      },
      "source": [
        "- Tuples are used to hold together multiple objects. Think of them as similar to lists, but without the extensive functionality that the list class gives you.\n",
        "- One major feature of tuples is that they are **immutable** like strings i.e. you cannot modify tuples.\n",
        "- Tuples are defined by specifying items separated by commas within an optional pair of parentheses.\n",
        "- Tuples are usually used in cases where a statement or a user-defined function can safely assume that the collection of values i.e. the tuple of values used will **not change**."
      ]
    },
    {
      "cell_type": "code",
      "execution_count": 1,
      "id": "e101360c",
      "metadata": {
        "colab": {
          "base_uri": "https://localhost:8080/"
        },
        "id": "e101360c",
        "outputId": "e4110850-dd07-4d64-e0da-f1ac1e8dc870"
      },
      "outputs": [
        {
          "output_type": "execute_result",
          "data": {
            "text/plain": [
              "list"
            ]
          },
          "metadata": {},
          "execution_count": 1
        }
      ],
      "source": [
        "# ISRO\n",
        "planets = [\n",
        "    \"Mercury\",\n",
        "    \"Venus\",\n",
        "    \"Earth\",\n",
        "    \"Mars\",\n",
        "    \"Jupiter\",\n",
        "    \"Saturn\",\n",
        "    \"Uranus\",\n",
        "    \"Neptune\",\n",
        "    \"Pluto\"\n",
        "]\n",
        "\n",
        "type(planets)"
      ]
    },
    {
      "cell_type": "code",
      "execution_count": 2,
      "id": "2ce856f9",
      "metadata": {
        "colab": {
          "base_uri": "https://localhost:8080/"
        },
        "id": "2ce856f9",
        "outputId": "033468cf-57ca-4b28-c0d1-01d1b9e8da22"
      },
      "outputs": [
        {
          "output_type": "stream",
          "name": "stdout",
          "text": [
            "['Mercury', 'Venus', \"Aarnav's planet\", 'Mars', 'Jupiter', 'Saturn', 'Uranus', 'Neptune', 'Pluto']\n"
          ]
        }
      ],
      "source": [
        "# Intern at ISRO\n",
        "\n",
        "planets[2] = \"Aarnav's planet\"\n",
        "print(planets)"
      ]
    },
    {
      "cell_type": "code",
      "execution_count": null,
      "id": "c0498800",
      "metadata": {
        "id": "c0498800"
      },
      "outputs": [],
      "source": [
        "# Tuple is a list which can not be changed\n",
        "# Tuple is an immutable list"
      ]
    },
    {
      "cell_type": "code",
      "execution_count": 3,
      "id": "ccb99d16",
      "metadata": {
        "colab": {
          "base_uri": "https://localhost:8080/"
        },
        "id": "ccb99d16",
        "outputId": "2d7f4282-a6e1-4f11-e8da-169485fd9a95"
      },
      "outputs": [
        {
          "output_type": "stream",
          "name": "stdout",
          "text": [
            "(1, 4, None, True, 'Hello', -8.34) <class 'tuple'>\n"
          ]
        }
      ],
      "source": [
        "t = (1, 4, None, True, \"Hello\", -8.34)\n",
        "print(t, type(t))"
      ]
    },
    {
      "cell_type": "code",
      "source": [
        "t[0] = 10"
      ],
      "metadata": {
        "colab": {
          "base_uri": "https://localhost:8080/",
          "height": 166
        },
        "id": "xgBLzr1_G_8e",
        "outputId": "4900a835-1408-425c-db9e-90d34e556b8f"
      },
      "id": "xgBLzr1_G_8e",
      "execution_count": 4,
      "outputs": [
        {
          "output_type": "error",
          "ename": "TypeError",
          "evalue": "ignored",
          "traceback": [
            "\u001b[0;31m---------------------------------------------------------------------------\u001b[0m",
            "\u001b[0;31mTypeError\u001b[0m                                 Traceback (most recent call last)",
            "\u001b[0;32m<ipython-input-4-88963aa635fa>\u001b[0m in \u001b[0;36m<module>\u001b[0;34m\u001b[0m\n\u001b[0;32m----> 1\u001b[0;31m \u001b[0mt\u001b[0m\u001b[0;34m[\u001b[0m\u001b[0;36m0\u001b[0m\u001b[0;34m]\u001b[0m \u001b[0;34m=\u001b[0m \u001b[0;36m10\u001b[0m\u001b[0;34m\u001b[0m\u001b[0;34m\u001b[0m\u001b[0m\n\u001b[0m",
            "\u001b[0;31mTypeError\u001b[0m: 'tuple' object does not support item assignment"
          ]
        }
      ]
    },
    {
      "cell_type": "code",
      "source": [
        "print(t[0])\n",
        "print(t[-1])\n",
        "print(t[3])"
      ],
      "metadata": {
        "colab": {
          "base_uri": "https://localhost:8080/"
        },
        "id": "wt5Unp05HAE0",
        "outputId": "be685461-7b3b-4c43-9341-e97c88ce5b9f"
      },
      "id": "wt5Unp05HAE0",
      "execution_count": 5,
      "outputs": [
        {
          "output_type": "stream",
          "name": "stdout",
          "text": [
            "1\n",
            "-8.34\n",
            "True\n"
          ]
        }
      ]
    },
    {
      "cell_type": "code",
      "source": [],
      "metadata": {
        "id": "lEKk7N-rHAGp"
      },
      "id": "lEKk7N-rHAGp",
      "execution_count": null,
      "outputs": []
    },
    {
      "cell_type": "code",
      "source": [
        "t = (9, 2, 3, 4, 6)\n",
        "for x in t :\n",
        "  print(x, end=' ')"
      ],
      "metadata": {
        "colab": {
          "base_uri": "https://localhost:8080/"
        },
        "id": "0GJJY7SoHd_D",
        "outputId": "0f46b56f-0d5d-41b2-e191-49e0e890cd50"
      },
      "id": "0GJJY7SoHd_D",
      "execution_count": 8,
      "outputs": [
        {
          "output_type": "stream",
          "name": "stdout",
          "text": [
            "9 2 3 4 6 "
          ]
        }
      ]
    },
    {
      "cell_type": "code",
      "source": [
        "len(t)"
      ],
      "metadata": {
        "colab": {
          "base_uri": "https://localhost:8080/"
        },
        "id": "drbl0PuzHeA1",
        "outputId": "5913efd5-f1d7-41d4-f411-44215e532f44"
      },
      "id": "drbl0PuzHeA1",
      "execution_count": 9,
      "outputs": [
        {
          "output_type": "execute_result",
          "data": {
            "text/plain": [
              "5"
            ]
          },
          "metadata": {},
          "execution_count": 9
        }
      ]
    },
    {
      "cell_type": "markdown",
      "id": "7d0e3c62",
      "metadata": {
        "id": "7d0e3c62"
      },
      "source": [
        "### Important Tuple methods\n",
        "- index()\n",
        "- count()\n",
        "- slicing"
      ]
    },
    {
      "cell_type": "code",
      "execution_count": 10,
      "id": "080d251a",
      "metadata": {
        "colab": {
          "base_uri": "https://localhost:8080/"
        },
        "id": "080d251a",
        "outputId": "5ab68911-4814-4fe8-fa28-cae11d210357"
      },
      "outputs": [
        {
          "output_type": "stream",
          "name": "stdout",
          "text": [
            "0\n"
          ]
        }
      ],
      "source": [
        "t = (6, 7, 6, 1, 3)\n",
        "print(t.index(6))"
      ]
    },
    {
      "cell_type": "code",
      "source": [
        "t = (6, 7, 6, 1, 3)\n",
        "print(t.count(6))"
      ],
      "metadata": {
        "colab": {
          "base_uri": "https://localhost:8080/"
        },
        "id": "gq7PJheF890x",
        "outputId": "b48b4db0-adf3-41cc-cd2b-bc54b6cc9009"
      },
      "id": "gq7PJheF890x",
      "execution_count": 11,
      "outputs": [
        {
          "output_type": "stream",
          "name": "stdout",
          "text": [
            "2\n"
          ]
        }
      ]
    },
    {
      "cell_type": "code",
      "source": [
        "# Returns a new tuple\n",
        "print(t[2:]) "
      ],
      "metadata": {
        "colab": {
          "base_uri": "https://localhost:8080/"
        },
        "id": "HO2gNSmd893E",
        "outputId": "1bd5dbb9-97a2-4c38-cce7-1d2ebfe584e6"
      },
      "id": "HO2gNSmd893E",
      "execution_count": 12,
      "outputs": [
        {
          "output_type": "stream",
          "name": "stdout",
          "text": [
            "(6, 1, 3)\n"
          ]
        }
      ]
    },
    {
      "cell_type": "code",
      "source": [
        "print(t[::-1])"
      ],
      "metadata": {
        "colab": {
          "base_uri": "https://localhost:8080/"
        },
        "id": "vBCiad_ZId-X",
        "outputId": "b1a86f5a-07c5-43e1-b46c-690721976f47"
      },
      "id": "vBCiad_ZId-X",
      "execution_count": 13,
      "outputs": [
        {
          "output_type": "stream",
          "name": "stdout",
          "text": [
            "(3, 1, 6, 7, 6)\n"
          ]
        }
      ]
    },
    {
      "cell_type": "code",
      "source": [
        "l = list(t)\n",
        "print(l, type(l))\n",
        "\n",
        "t = tuple(l)\n",
        "print(t, type(t))"
      ],
      "metadata": {
        "colab": {
          "base_uri": "https://localhost:8080/"
        },
        "id": "U1zhXc9wItgG",
        "outputId": "cc9257d1-413e-432b-afe8-366461571483"
      },
      "id": "U1zhXc9wItgG",
      "execution_count": 15,
      "outputs": [
        {
          "output_type": "stream",
          "name": "stdout",
          "text": [
            "[6, 7, 6, 1, 3] <class 'list'>\n",
            "(6, 7, 6, 1, 3) <class 'tuple'>\n"
          ]
        }
      ]
    },
    {
      "cell_type": "markdown",
      "id": "486a11cd",
      "metadata": {
        "id": "486a11cd"
      },
      "source": [
        "### How to create a tuple\n",
        "1. Using round brackets\n",
        "2. Using tuple()\n",
        "3. Using comma separated values"
      ]
    },
    {
      "cell_type": "code",
      "source": [
        "t = (6, 7, 6, 1, 3)\n",
        "print(t, type(t))"
      ],
      "metadata": {
        "colab": {
          "base_uri": "https://localhost:8080/"
        },
        "id": "WMccbYxyJfDd",
        "outputId": "7a998f12-b8d1-44a6-fe33-e5b4daecf359"
      },
      "id": "WMccbYxyJfDd",
      "execution_count": 19,
      "outputs": [
        {
          "output_type": "stream",
          "name": "stdout",
          "text": [
            "(6, 7, 6, 1, 3) <class 'tuple'>\n"
          ]
        }
      ]
    },
    {
      "cell_type": "code",
      "source": [
        "# tuple() -> converts an iterable into a tuple"
      ],
      "metadata": {
        "id": "1oijdnDqTiBg"
      },
      "id": "1oijdnDqTiBg",
      "execution_count": null,
      "outputs": []
    },
    {
      "cell_type": "code",
      "source": [
        "# Empty tuple\n",
        "\n",
        "t = tuple()\n",
        "print(t, type(t))"
      ],
      "metadata": {
        "colab": {
          "base_uri": "https://localhost:8080/"
        },
        "id": "Kk63DqyPJAmw",
        "outputId": "654095d2-3646-4ce3-bb7c-20c0746e4ed8"
      },
      "id": "Kk63DqyPJAmw",
      "execution_count": 16,
      "outputs": [
        {
          "output_type": "stream",
          "name": "stdout",
          "text": [
            "() <class 'tuple'>\n"
          ]
        }
      ]
    },
    {
      "cell_type": "code",
      "source": [
        "# Empty tuple\n",
        "t = ()\n",
        "print(t, type(t))"
      ],
      "metadata": {
        "colab": {
          "base_uri": "https://localhost:8080/"
        },
        "id": "Fc9hHERJJVnE",
        "outputId": "038b79f8-f14a-4540-cfd6-9cf78c28276e"
      },
      "id": "Fc9hHERJJVnE",
      "execution_count": 18,
      "outputs": [
        {
          "output_type": "stream",
          "name": "stdout",
          "text": [
            "() <class 'tuple'>\n"
          ]
        }
      ]
    },
    {
      "cell_type": "code",
      "source": [
        "l = [2,6,1,8,9,3]\n",
        "t = tuple(l)\n",
        "print(t, type(t))"
      ],
      "metadata": {
        "colab": {
          "base_uri": "https://localhost:8080/"
        },
        "id": "8uUOky11JAqI",
        "outputId": "55b60a54-d184-47e1-c805-57fc6e78534f"
      },
      "id": "8uUOky11JAqI",
      "execution_count": 17,
      "outputs": [
        {
          "output_type": "stream",
          "name": "stdout",
          "text": [
            "(2, 6, 1, 8, 9, 3) <class 'tuple'>\n"
          ]
        }
      ]
    },
    {
      "cell_type": "code",
      "source": [],
      "metadata": {
        "id": "czyVcdwPJAsv"
      },
      "id": "czyVcdwPJAsv",
      "execution_count": null,
      "outputs": []
    },
    {
      "cell_type": "code",
      "source": [
        "t = 1, 3, \"Hello\", None, True\n",
        "print(t, type(t))"
      ],
      "metadata": {
        "colab": {
          "base_uri": "https://localhost:8080/"
        },
        "id": "xhOkMX6OJnLA",
        "outputId": "d5569f01-8ee3-48be-b086-c323138331ae"
      },
      "id": "xhOkMX6OJnLA",
      "execution_count": 20,
      "outputs": [
        {
          "output_type": "stream",
          "name": "stdout",
          "text": [
            "(1, 3, 'Hello', None, True) <class 'tuple'>\n"
          ]
        }
      ]
    },
    {
      "cell_type": "code",
      "source": [],
      "metadata": {
        "id": "aTywWzQcJnO4"
      },
      "id": "aTywWzQcJnO4",
      "execution_count": null,
      "outputs": []
    },
    {
      "cell_type": "code",
      "source": [],
      "metadata": {
        "id": "6ZGdlPQPJAvm"
      },
      "id": "6ZGdlPQPJAvm",
      "execution_count": null,
      "outputs": []
    },
    {
      "cell_type": "markdown",
      "id": "e6e27899",
      "metadata": {
        "id": "e6e27899"
      },
      "source": [
        "#### Quiz 1\n",
        "```py\n",
        "t = (\"Sahil\")\n",
        "type(t)\n",
        "```"
      ]
    },
    {
      "cell_type": "code",
      "execution_count": 21,
      "id": "2173269e",
      "metadata": {
        "colab": {
          "base_uri": "https://localhost:8080/"
        },
        "id": "2173269e",
        "outputId": "541ffafa-0f75-424e-df38-26d8d1466ce0"
      },
      "outputs": [
        {
          "output_type": "stream",
          "name": "stdout",
          "text": [
            "9 <class 'int'>\n"
          ]
        }
      ],
      "source": [
        "x = (9)\n",
        "print(x, type(x))"
      ]
    },
    {
      "cell_type": "code",
      "source": [
        "t = (\"Sahil\")\n",
        "type(t)"
      ],
      "metadata": {
        "colab": {
          "base_uri": "https://localhost:8080/"
        },
        "id": "46f6NJETK-fr",
        "outputId": "9aea8caa-9fdd-4aeb-d111-e176a8284963"
      },
      "id": "46f6NJETK-fr",
      "execution_count": 22,
      "outputs": [
        {
          "output_type": "execute_result",
          "data": {
            "text/plain": [
              "str"
            ]
          },
          "metadata": {},
          "execution_count": 22
        }
      ]
    },
    {
      "cell_type": "code",
      "source": [
        "t1 = tuple([9])\n",
        "t2 = tuple([\"Hello\"])\n",
        "print(type(t1), type(t2))\n",
        "\n",
        "# Anything with () brackets with 0 or >= 2 items is considered a tuple"
      ],
      "metadata": {
        "colab": {
          "base_uri": "https://localhost:8080/"
        },
        "id": "2S19hSC6K-sK",
        "outputId": "c6be7a22-e514-40a0-a09c-8645f19fd817"
      },
      "id": "2S19hSC6K-sK",
      "execution_count": 28,
      "outputs": [
        {
          "output_type": "stream",
          "name": "stdout",
          "text": [
            "<class 'tuple'> <class 'tuple'>\n"
          ]
        }
      ]
    },
    {
      "cell_type": "code",
      "execution_count": null,
      "id": "35eb0bea",
      "metadata": {
        "id": "35eb0bea"
      },
      "outputs": [],
      "source": []
    },
    {
      "cell_type": "markdown",
      "id": "f0a08939",
      "metadata": {
        "id": "f0a08939"
      },
      "source": [
        "#### Quiz 2\n",
        "What is the output of the following?\n",
        "\n",
        "```py\n",
        "print(type((1,2,3)))\n",
        "```"
      ]
    },
    {
      "cell_type": "code",
      "execution_count": 29,
      "id": "ad981849",
      "metadata": {
        "colab": {
          "base_uri": "https://localhost:8080/"
        },
        "id": "ad981849",
        "outputId": "67c46f0e-5f11-4b40-b1d4-32d2a2b0792e"
      },
      "outputs": [
        {
          "output_type": "stream",
          "name": "stdout",
          "text": [
            "<class 'tuple'>\n"
          ]
        }
      ],
      "source": [
        "print(type((1,2,3)))"
      ]
    },
    {
      "cell_type": "code",
      "execution_count": null,
      "id": "9edff7cf",
      "metadata": {
        "id": "9edff7cf"
      },
      "outputs": [],
      "source": []
    },
    {
      "cell_type": "markdown",
      "id": "b56b334c",
      "metadata": {
        "id": "b56b334c"
      },
      "source": [
        "#### Quiz 3\n",
        "```py\n",
        "T1 = (1) \n",
        "T2 = (3, 4) \n",
        "T1 += 5\n",
        "print(T1)\n",
        "```"
      ]
    },
    {
      "cell_type": "code",
      "execution_count": 30,
      "id": "f1dbafdf",
      "metadata": {
        "colab": {
          "base_uri": "https://localhost:8080/"
        },
        "id": "f1dbafdf",
        "outputId": "f3363945-9811-460a-eeb0-8e3487890595"
      },
      "outputs": [
        {
          "output_type": "stream",
          "name": "stdout",
          "text": [
            "6\n"
          ]
        }
      ],
      "source": [
        "T1 = (1) # integer\n",
        "T2 = (3, 4) # tuple\n",
        "T1 += 5\n",
        "print(T1)"
      ]
    },
    {
      "cell_type": "code",
      "execution_count": null,
      "id": "a4c23519",
      "metadata": {
        "id": "a4c23519"
      },
      "outputs": [],
      "source": []
    },
    {
      "cell_type": "markdown",
      "id": "89846073",
      "metadata": {
        "id": "89846073"
      },
      "source": [
        "#### Quiz 4\n",
        "```py\n",
        "t=tuple(range(1, 10, 2))\n",
        "print(t)\n",
        "```"
      ]
    },
    {
      "cell_type": "code",
      "execution_count": 32,
      "id": "b14dff5c",
      "metadata": {
        "colab": {
          "base_uri": "https://localhost:8080/"
        },
        "id": "b14dff5c",
        "outputId": "295f1cf5-9a8e-45e1-ca18-aac1c195bad4"
      },
      "outputs": [
        {
          "output_type": "stream",
          "name": "stdout",
          "text": [
            "(1, 3, 5, 7, 9)\n"
          ]
        }
      ],
      "source": [
        "t = tuple(range(1, 10, 2))\n",
        "print(t)"
      ]
    },
    {
      "cell_type": "code",
      "source": [],
      "metadata": {
        "id": "9v8eYFay9HC3"
      },
      "id": "9v8eYFay9HC3",
      "execution_count": null,
      "outputs": []
    },
    {
      "cell_type": "markdown",
      "id": "906c1ee7",
      "metadata": {
        "id": "906c1ee7"
      },
      "source": [
        "#### Quiz 5\n",
        "What is the result of the following expression?\n",
        "\n",
        "```py\n",
        "tuple('hello world')\n",
        "```"
      ]
    },
    {
      "cell_type": "code",
      "execution_count": 33,
      "id": "8ce0d555",
      "metadata": {
        "colab": {
          "base_uri": "https://localhost:8080/"
        },
        "id": "8ce0d555",
        "outputId": "398fecda-8653-4d10-a8f5-934481471855"
      },
      "outputs": [
        {
          "output_type": "stream",
          "name": "stdout",
          "text": [
            "['h', 'e', 'l', 'l', 'o', ' ', 'w', 'o', 'r', 'l', 'd']\n"
          ]
        }
      ],
      "source": [
        "print(list('hello world'))"
      ]
    },
    {
      "cell_type": "code",
      "execution_count": 34,
      "id": "e3650fdf",
      "metadata": {
        "colab": {
          "base_uri": "https://localhost:8080/"
        },
        "id": "e3650fdf",
        "outputId": "8f0e2273-1365-47dd-f79a-46aebead7e3c"
      },
      "outputs": [
        {
          "output_type": "stream",
          "name": "stdout",
          "text": [
            "('h', 'e', 'l', 'l', 'o', ' ', 'w', 'o', 'r', 'l', 'd')\n"
          ]
        }
      ],
      "source": [
        "print(tuple('hello world'))"
      ]
    },
    {
      "cell_type": "markdown",
      "id": "772346da",
      "metadata": {
        "id": "772346da"
      },
      "source": [
        "#### Quiz 6\n",
        "```py\n",
        "t = (3, 4, 6, 7, 3)\n",
        "print(t[::2])\n",
        "```"
      ]
    },
    {
      "cell_type": "code",
      "execution_count": 35,
      "id": "45009dd3",
      "metadata": {
        "colab": {
          "base_uri": "https://localhost:8080/"
        },
        "id": "45009dd3",
        "outputId": "2095a532-f3f0-4c17-b9ed-ef3bc4826986"
      },
      "outputs": [
        {
          "output_type": "stream",
          "name": "stdout",
          "text": [
            "(3, 6, 3)\n"
          ]
        }
      ],
      "source": [
        "t = (3, 4, 6, 7, 3)\n",
        "print(t[::2])"
      ]
    },
    {
      "cell_type": "code",
      "source": [
        "# Destructuring"
      ],
      "metadata": {
        "id": "tmCg5_t8OqBy"
      },
      "id": "tmCg5_t8OqBy",
      "execution_count": null,
      "outputs": []
    },
    {
      "cell_type": "code",
      "source": [
        "t = (1, 2, 3, 4)\n",
        "a, b, c, d = t\n",
        "print(a, end=' ')\n",
        "print(b, end=' ')\n",
        "print(c, end=' ')\n",
        "print(d, end=' ')"
      ],
      "metadata": {
        "colab": {
          "base_uri": "https://localhost:8080/"
        },
        "id": "J0GaNzUS9Mh4",
        "outputId": "d2fe8caf-598f-4a1b-f49f-4f09c699f859"
      },
      "id": "J0GaNzUS9Mh4",
      "execution_count": 39,
      "outputs": [
        {
          "output_type": "stream",
          "name": "stdout",
          "text": [
            "1 2 3 4 "
          ]
        }
      ]
    },
    {
      "cell_type": "code",
      "source": [],
      "metadata": {
        "id": "GT3LgzUWOx7B"
      },
      "id": "GT3LgzUWOx7B",
      "execution_count": null,
      "outputs": []
    },
    {
      "cell_type": "code",
      "source": [
        "# swapping variables\n",
        "a = 5000\n",
        "b = 10000\n",
        "\n",
        "a, b = b, a # b,a is a tuple"
      ],
      "metadata": {
        "id": "6qqlN5B2OqEG"
      },
      "id": "6qqlN5B2OqEG",
      "execution_count": 49,
      "outputs": []
    },
    {
      "cell_type": "code",
      "source": [
        "a, b, c = 1, 2, 3\n",
        "print(a, b, c)"
      ],
      "metadata": {
        "colab": {
          "base_uri": "https://localhost:8080/"
        },
        "id": "i99WbDcQP9Pp",
        "outputId": "736eacf6-e619-4f13-b4bf-289b27fa162e"
      },
      "id": "i99WbDcQP9Pp",
      "execution_count": 50,
      "outputs": [
        {
          "output_type": "stream",
          "name": "stdout",
          "text": [
            "1 2 3\n"
          ]
        }
      ]
    },
    {
      "cell_type": "code",
      "source": [
        "a, b, c = 1, 2"
      ],
      "metadata": {
        "colab": {
          "base_uri": "https://localhost:8080/",
          "height": 166
        },
        "id": "1DlkCK2AQeUg",
        "outputId": "dab35845-55f8-43b9-c082-17e83ac6511e"
      },
      "id": "1DlkCK2AQeUg",
      "execution_count": 51,
      "outputs": [
        {
          "output_type": "error",
          "ename": "ValueError",
          "evalue": "ignored",
          "traceback": [
            "\u001b[0;31m---------------------------------------------------------------------------\u001b[0m",
            "\u001b[0;31mValueError\u001b[0m                                Traceback (most recent call last)",
            "\u001b[0;32m<ipython-input-51-9dbc59cfd6c6>\u001b[0m in \u001b[0;36m<module>\u001b[0;34m\u001b[0m\n\u001b[0;32m----> 1\u001b[0;31m \u001b[0ma\u001b[0m\u001b[0;34m,\u001b[0m \u001b[0mb\u001b[0m\u001b[0;34m,\u001b[0m \u001b[0mc\u001b[0m \u001b[0;34m=\u001b[0m \u001b[0;36m1\u001b[0m\u001b[0;34m,\u001b[0m \u001b[0;36m2\u001b[0m\u001b[0;34m\u001b[0m\u001b[0;34m\u001b[0m\u001b[0m\n\u001b[0m",
            "\u001b[0;31mValueError\u001b[0m: not enough values to unpack (expected 3, got 2)"
          ]
        }
      ]
    },
    {
      "cell_type": "code",
      "source": [
        "a, b, c = 1, 2, 3, 4"
      ],
      "metadata": {
        "colab": {
          "base_uri": "https://localhost:8080/",
          "height": 166
        },
        "id": "Q_ChUIrsQegP",
        "outputId": "384885d7-b2c8-4934-f8dc-a39fe0ce1283"
      },
      "id": "Q_ChUIrsQegP",
      "execution_count": 52,
      "outputs": [
        {
          "output_type": "error",
          "ename": "ValueError",
          "evalue": "ignored",
          "traceback": [
            "\u001b[0;31m---------------------------------------------------------------------------\u001b[0m",
            "\u001b[0;31mValueError\u001b[0m                                Traceback (most recent call last)",
            "\u001b[0;32m<ipython-input-52-cddfa131f1b1>\u001b[0m in \u001b[0;36m<module>\u001b[0;34m\u001b[0m\n\u001b[0;32m----> 1\u001b[0;31m \u001b[0ma\u001b[0m\u001b[0;34m,\u001b[0m \u001b[0mb\u001b[0m\u001b[0;34m,\u001b[0m \u001b[0mc\u001b[0m \u001b[0;34m=\u001b[0m \u001b[0;36m1\u001b[0m\u001b[0;34m,\u001b[0m \u001b[0;36m2\u001b[0m\u001b[0;34m,\u001b[0m \u001b[0;36m3\u001b[0m\u001b[0;34m,\u001b[0m \u001b[0;36m4\u001b[0m\u001b[0;34m\u001b[0m\u001b[0;34m\u001b[0m\u001b[0m\n\u001b[0m",
            "\u001b[0;31mValueError\u001b[0m: too many values to unpack (expected 3)"
          ]
        }
      ]
    },
    {
      "cell_type": "code",
      "source": [
        "students = (\n",
        "    (1, \"Thor\"),\n",
        "    (2, \"Spiderman\"),\n",
        "    (3, \"Captain America\"),\n",
        "    (4, \"Hulk\"),\n",
        ")"
      ],
      "metadata": {
        "id": "8vBU96TWRI0D"
      },
      "id": "8vBU96TWRI0D",
      "execution_count": 55,
      "outputs": []
    },
    {
      "cell_type": "code",
      "source": [
        "# Print all student's role numbers with their names\n",
        "\n",
        "for st in students :\n",
        "  print(f\"Roll no {st[0]} name is {st[1]}\")"
      ],
      "metadata": {
        "colab": {
          "base_uri": "https://localhost:8080/"
        },
        "id": "Wggz6mUJRyA5",
        "outputId": "a7d2b1df-8381-412f-ce75-9c50ac2ead54"
      },
      "id": "Wggz6mUJRyA5",
      "execution_count": 58,
      "outputs": [
        {
          "output_type": "stream",
          "name": "stdout",
          "text": [
            "Roll no 1 name is Thor\n",
            "Roll no 2 name is Spiderman\n",
            "Roll no 3 name is Captain America\n",
            "Roll no 4 name is Hulk\n"
          ]
        }
      ]
    },
    {
      "cell_type": "code",
      "source": [
        "for roll, name in students :\n",
        "  print(f\"Roll no {roll} name is {name}\")\n",
        "\n",
        "# roll, name = (1, 'Thor')"
      ],
      "metadata": {
        "colab": {
          "base_uri": "https://localhost:8080/"
        },
        "id": "v2SSftmLSG91",
        "outputId": "60ebf071-3dcc-4f34-8e8a-66a21d7acb55"
      },
      "id": "v2SSftmLSG91",
      "execution_count": 60,
      "outputs": [
        {
          "output_type": "stream",
          "name": "stdout",
          "text": [
            "Roll no 1 name is Thor\n",
            "Roll no 2 name is Spiderman\n",
            "Roll no 3 name is Captain America\n",
            "Roll no 4 name is Hulk\n",
            "1 Thor\n"
          ]
        }
      ]
    },
    {
      "cell_type": "markdown",
      "id": "8df16bac",
      "metadata": {
        "id": "8df16bac"
      },
      "source": [
        "## Bonus Reading Material for Tuples\n",
        "- Data Structures in Python - https://www.scaler.com/topics/data-structures-in-python/\n",
        "- Tuples in Python - https://www.scaler.com/topics/python/tuples-in-python/\n",
        "- What is the Difference Between List and Tuple in Python? - https://www.scaler.com/topics/difference-between-list-and-tuple-in-python/\n",
        "- Convert List to Tuple in Python - https://www.scaler.com/topics/convert-list-to-tuple-python/\n",
        "- WtfPython: Mutating the immutable! - https://github.com/satwikkansal/wtfpython#-mutating-the-immutable\n",
        "- WtfPython: Needles in a Haystack - https://github.com/satwikkansal/wtfpython#-needles-in-a-haystack-"
      ]
    },
    {
      "cell_type": "code",
      "execution_count": null,
      "id": "3060d8aa",
      "metadata": {
        "id": "3060d8aa"
      },
      "outputs": [],
      "source": []
    },
    {
      "cell_type": "markdown",
      "id": "37e3eeb6",
      "metadata": {
        "id": "37e3eeb6"
      },
      "source": [
        "# Sets\n",
        "![](https://scaler.com/topics/images/set-in-python.webp)"
      ]
    },
    {
      "cell_type": "code",
      "execution_count": null,
      "id": "375beb4a",
      "metadata": {
        "id": "375beb4a"
      },
      "outputs": [],
      "source": [
        "# set -> unordered collection of unique items\n",
        "# hashing -> intermediate / advanced"
      ]
    },
    {
      "cell_type": "code",
      "source": [
        "s = {1, 7, 8, -100, 'hello', 9.7}\n",
        "print(s, type(s))"
      ],
      "metadata": {
        "colab": {
          "base_uri": "https://localhost:8080/"
        },
        "id": "JTexNqtyWVI_",
        "outputId": "9048688f-ef6f-49d8-f6f2-bcb878eda875"
      },
      "id": "JTexNqtyWVI_",
      "execution_count": 61,
      "outputs": [
        {
          "output_type": "stream",
          "name": "stdout",
          "text": [
            "{1, 'hello', 7, 8, 9.7, -100} <class 'set'>\n"
          ]
        }
      ]
    },
    {
      "cell_type": "code",
      "source": [
        "# To create an empty dict\n",
        "\n",
        "s = {}\n",
        "print(s, type(s))"
      ],
      "metadata": {
        "colab": {
          "base_uri": "https://localhost:8080/"
        },
        "id": "JWyOD3bgWVNp",
        "outputId": "87008480-1a41-4e87-aaa6-5d8b76e14263"
      },
      "id": "JWyOD3bgWVNp",
      "execution_count": 62,
      "outputs": [
        {
          "output_type": "stream",
          "name": "stdout",
          "text": [
            "{} <class 'dict'>\n"
          ]
        }
      ]
    },
    {
      "cell_type": "code",
      "source": [
        "# To create an empty set\n",
        "\n",
        "s = set()\n",
        "print(s, type(s))"
      ],
      "metadata": {
        "colab": {
          "base_uri": "https://localhost:8080/"
        },
        "id": "eUlAdEcdWVPv",
        "outputId": "89f36d30-758c-4712-d660-30f966657b7e"
      },
      "id": "eUlAdEcdWVPv",
      "execution_count": 63,
      "outputs": [
        {
          "output_type": "stream",
          "name": "stdout",
          "text": [
            "set() <class 'set'>\n"
          ]
        }
      ]
    },
    {
      "cell_type": "markdown",
      "id": "49860666",
      "metadata": {
        "id": "49860666"
      },
      "source": [
        "Sets can only store unique values"
      ]
    },
    {
      "cell_type": "code",
      "execution_count": 64,
      "id": "36309179",
      "metadata": {
        "colab": {
          "base_uri": "https://localhost:8080/"
        },
        "id": "36309179",
        "outputId": "c309a75a-589d-4a2d-a0bf-ebbbc4deb894"
      },
      "outputs": [
        {
          "output_type": "stream",
          "name": "stdout",
          "text": [
            "{8, 1, 4, 7}\n"
          ]
        }
      ],
      "source": [
        "s = {1,7,8,8,8,7,1,4,7,1,1,4,8,4}\n",
        "print(s)"
      ]
    },
    {
      "cell_type": "code",
      "execution_count": 65,
      "id": "aa3376b9",
      "metadata": {
        "colab": {
          "base_uri": "https://localhost:8080/",
          "height": 201
        },
        "id": "aa3376b9",
        "outputId": "801e4180-74cd-46bf-94e2-78da9b9a8f6f"
      },
      "outputs": [
        {
          "output_type": "error",
          "ename": "TypeError",
          "evalue": "ignored",
          "traceback": [
            "\u001b[0;31m---------------------------------------------------------------------------\u001b[0m",
            "\u001b[0;31mTypeError\u001b[0m                                 Traceback (most recent call last)",
            "\u001b[0;32m<ipython-input-65-ffa650d592a3>\u001b[0m in \u001b[0;36m<module>\u001b[0;34m\u001b[0m\n\u001b[1;32m      1\u001b[0m \u001b[0;31m# there is no order in items stored\u001b[0m\u001b[0;34m\u001b[0m\u001b[0;34m\u001b[0m\u001b[0;34m\u001b[0m\u001b[0m\n\u001b[1;32m      2\u001b[0m \u001b[0;34m\u001b[0m\u001b[0m\n\u001b[0;32m----> 3\u001b[0;31m \u001b[0ms\u001b[0m\u001b[0;34m[\u001b[0m\u001b[0;36m0\u001b[0m\u001b[0;34m]\u001b[0m\u001b[0;34m\u001b[0m\u001b[0;34m\u001b[0m\u001b[0m\n\u001b[0m",
            "\u001b[0;31mTypeError\u001b[0m: 'set' object is not subscriptable"
          ]
        }
      ],
      "source": [
        "# there is no order in items stored\n",
        "\n",
        "s[0] # since there is no sequence, hence no indexes"
      ]
    },
    {
      "cell_type": "code",
      "source": [
        "print(len(s))"
      ],
      "metadata": {
        "colab": {
          "base_uri": "https://localhost:8080/"
        },
        "id": "NYjSMb58XR1i",
        "outputId": "c345af28-7077-468d-8c25-41f538d10cee"
      },
      "id": "NYjSMb58XR1i",
      "execution_count": 66,
      "outputs": [
        {
          "output_type": "stream",
          "name": "stdout",
          "text": [
            "4\n"
          ]
        }
      ]
    },
    {
      "cell_type": "code",
      "source": [],
      "metadata": {
        "id": "l4njY_wlXbDe"
      },
      "id": "l4njY_wlXbDe",
      "execution_count": null,
      "outputs": []
    },
    {
      "cell_type": "markdown",
      "id": "b7201208",
      "metadata": {
        "id": "b7201208"
      },
      "source": [
        "Important methods\n",
        "- add()\n",
        "- remove()\n",
        "- in"
      ]
    },
    {
      "cell_type": "code",
      "execution_count": 69,
      "id": "e9f8bbd6",
      "metadata": {
        "colab": {
          "base_uri": "https://localhost:8080/"
        },
        "id": "e9f8bbd6",
        "outputId": "2ae67f62-f786-497b-d787-03b723dd1ef6"
      },
      "outputs": [
        {
          "output_type": "stream",
          "name": "stdout",
          "text": [
            "{-30, 40, 10, -50, 20, 30}\n"
          ]
        }
      ],
      "source": [
        "s = {10, 20, 30, 40, -50, -30}\n",
        "print(s)"
      ]
    },
    {
      "cell_type": "code",
      "execution_count": 70,
      "id": "e668f70d",
      "metadata": {
        "colab": {
          "base_uri": "https://localhost:8080/"
        },
        "id": "e668f70d",
        "outputId": "8851c6f7-7b43-475d-c6a0-c89220c8743d"
      },
      "outputs": [
        {
          "output_type": "stream",
          "name": "stdout",
          "text": [
            "{-30, 100, 40, 10, -50, 20, 30}\n"
          ]
        }
      ],
      "source": [
        "s.add(100)\n",
        "print(s)"
      ]
    },
    {
      "cell_type": "code",
      "execution_count": 71,
      "id": "bc27fb4a",
      "metadata": {
        "colab": {
          "base_uri": "https://localhost:8080/"
        },
        "id": "bc27fb4a",
        "outputId": "f78a6670-1c87-4c8c-ea09-d2f36cd998ed"
      },
      "outputs": [
        {
          "output_type": "stream",
          "name": "stdout",
          "text": [
            "{-30, 100, 40, 10, -50, 20, 30}\n"
          ]
        }
      ],
      "source": [
        "s.add(20)\n",
        "print(s)"
      ]
    },
    {
      "cell_type": "code",
      "source": [
        "s.remove(100)\n",
        "print(s)"
      ],
      "metadata": {
        "colab": {
          "base_uri": "https://localhost:8080/"
        },
        "id": "aows40B8YEwf",
        "outputId": "218f54bc-226e-46b3-cf71-377cbf3b15d4"
      },
      "id": "aows40B8YEwf",
      "execution_count": 72,
      "outputs": [
        {
          "output_type": "stream",
          "name": "stdout",
          "text": [
            "{-30, 40, 10, -50, 20, 30}\n"
          ]
        }
      ]
    },
    {
      "cell_type": "code",
      "source": [
        "s.remove(100)\n",
        "print(s)"
      ],
      "metadata": {
        "colab": {
          "base_uri": "https://localhost:8080/",
          "height": 183
        },
        "id": "HC15aJp4YEzG",
        "outputId": "b58a6a15-ce94-4638-f860-8b17ff31af80"
      },
      "id": "HC15aJp4YEzG",
      "execution_count": 73,
      "outputs": [
        {
          "output_type": "error",
          "ename": "KeyError",
          "evalue": "ignored",
          "traceback": [
            "\u001b[0;31m---------------------------------------------------------------------------\u001b[0m",
            "\u001b[0;31mKeyError\u001b[0m                                  Traceback (most recent call last)",
            "\u001b[0;32m<ipython-input-73-c66074f56fd7>\u001b[0m in \u001b[0;36m<module>\u001b[0;34m\u001b[0m\n\u001b[0;32m----> 1\u001b[0;31m \u001b[0ms\u001b[0m\u001b[0;34m.\u001b[0m\u001b[0mremove\u001b[0m\u001b[0;34m(\u001b[0m\u001b[0;36m100\u001b[0m\u001b[0;34m)\u001b[0m\u001b[0;34m\u001b[0m\u001b[0;34m\u001b[0m\u001b[0m\n\u001b[0m\u001b[1;32m      2\u001b[0m \u001b[0mprint\u001b[0m\u001b[0;34m(\u001b[0m\u001b[0ms\u001b[0m\u001b[0;34m)\u001b[0m\u001b[0;34m\u001b[0m\u001b[0;34m\u001b[0m\u001b[0m\n",
            "\u001b[0;31mKeyError\u001b[0m: 100"
          ]
        }
      ]
    },
    {
      "cell_type": "code",
      "source": [
        "s.discard(100)"
      ],
      "metadata": {
        "id": "l8N8vNbjYtSn"
      },
      "id": "l8N8vNbjYtSn",
      "execution_count": 77,
      "outputs": []
    },
    {
      "cell_type": "code",
      "source": [
        "print(s)"
      ],
      "metadata": {
        "colab": {
          "base_uri": "https://localhost:8080/"
        },
        "id": "WQzX81aLYTgw",
        "outputId": "2be41d6f-a1ed-4b42-92d8-ed380c509da0"
      },
      "id": "WQzX81aLYTgw",
      "execution_count": 75,
      "outputs": [
        {
          "output_type": "stream",
          "name": "stdout",
          "text": [
            "{-30, 40, 10, -50, 20, 30}\n"
          ]
        }
      ]
    },
    {
      "cell_type": "code",
      "source": [
        "-30 in s"
      ],
      "metadata": {
        "colab": {
          "base_uri": "https://localhost:8080/"
        },
        "id": "8nR0n-u7YMcd",
        "outputId": "0980a962-3817-4309-e2c9-fd991d57bb52"
      },
      "id": "8nR0n-u7YMcd",
      "execution_count": 74,
      "outputs": [
        {
          "output_type": "execute_result",
          "data": {
            "text/plain": [
              "True"
            ]
          },
          "metadata": {},
          "execution_count": 74
        }
      ]
    },
    {
      "cell_type": "code",
      "source": [
        "100 in s"
      ],
      "metadata": {
        "colab": {
          "base_uri": "https://localhost:8080/"
        },
        "id": "CZtJ2WHrYE1s",
        "outputId": "cec264c1-1cd3-4499-f6e5-66f6b003b496"
      },
      "id": "CZtJ2WHrYE1s",
      "execution_count": 76,
      "outputs": [
        {
          "output_type": "execute_result",
          "data": {
            "text/plain": [
              "False"
            ]
          },
          "metadata": {},
          "execution_count": 76
        }
      ]
    },
    {
      "cell_type": "code",
      "source": [
        "# Iteration"
      ],
      "metadata": {
        "id": "cV14Gva-ZA1J"
      },
      "id": "cV14Gva-ZA1J",
      "execution_count": null,
      "outputs": []
    },
    {
      "cell_type": "code",
      "source": [
        "for x in s :\n",
        "  print(x, end=' ')"
      ],
      "metadata": {
        "colab": {
          "base_uri": "https://localhost:8080/"
        },
        "id": "lyuoBpP8ZCRH",
        "outputId": "58b510c0-d54f-4ba8-8ffb-244b38b9e536"
      },
      "id": "lyuoBpP8ZCRH",
      "execution_count": 78,
      "outputs": [
        {
          "output_type": "stream",
          "name": "stdout",
          "text": [
            "-30 40 10 -50 20 30 "
          ]
        }
      ]
    },
    {
      "cell_type": "markdown",
      "id": "6ac524c0",
      "metadata": {
        "id": "6ac524c0"
      },
      "source": [
        "### TV Series recommendation\n",
        "You ask 2 friends for a TV Series recommendation"
      ]
    },
    {
      "cell_type": "code",
      "execution_count": 80,
      "id": "79bf2cda",
      "metadata": {
        "id": "79bf2cda"
      },
      "outputs": [],
      "source": [
        "A = {\n",
        "    \"Breaking Bad\",\n",
        "    \"Better Call Saul\",\n",
        "    \"Dark\"\n",
        "}\n",
        "\n",
        "B = {\n",
        "    \"Sherlock\",\n",
        "    \"Dark\",\n",
        "    \"The Office\"\n",
        "}"
      ]
    },
    {
      "cell_type": "code",
      "execution_count": 81,
      "id": "f3476a56",
      "metadata": {
        "colab": {
          "base_uri": "https://localhost:8080/"
        },
        "id": "f3476a56",
        "outputId": "d7f61f7c-e4c0-42de-9a02-d0d572260e78"
      },
      "outputs": [
        {
          "output_type": "stream",
          "name": "stdout",
          "text": [
            "{'The Office', 'Sherlock', 'Dark', 'Breaking Bad', 'Better Call Saul'}\n"
          ]
        }
      ],
      "source": [
        "print(A|B)\n",
        "print(A.union(B), B.union(A))"
      ]
    },
    {
      "cell_type": "code",
      "execution_count": 82,
      "id": "0fd7c85d",
      "metadata": {
        "colab": {
          "base_uri": "https://localhost:8080/"
        },
        "id": "0fd7c85d",
        "outputId": "43deb24f-69b5-4d9a-d3ee-60ace04f9964"
      },
      "outputs": [
        {
          "output_type": "stream",
          "name": "stdout",
          "text": [
            "{'Dark'}\n"
          ]
        }
      ],
      "source": [
        "print(A&B)\n",
        "print(A.intersection(B), B.instersection(A))"
      ]
    },
    {
      "cell_type": "code",
      "source": [],
      "metadata": {
        "id": "yB-Q4oILa8DH"
      },
      "id": "yB-Q4oILa8DH",
      "execution_count": null,
      "outputs": []
    },
    {
      "cell_type": "code",
      "source": [
        "print(A-B)"
      ],
      "metadata": {
        "colab": {
          "base_uri": "https://localhost:8080/"
        },
        "id": "vIHZb9_2buLc",
        "outputId": "dc18c043-fb8d-42fa-8751-19c227367029"
      },
      "id": "vIHZb9_2buLc",
      "execution_count": 83,
      "outputs": [
        {
          "output_type": "stream",
          "name": "stdout",
          "text": [
            "{'Breaking Bad', 'Better Call Saul'}\n"
          ]
        }
      ]
    },
    {
      "cell_type": "code",
      "source": [
        "print(B-A)"
      ],
      "metadata": {
        "colab": {
          "base_uri": "https://localhost:8080/"
        },
        "id": "cq8M8TdPa8Ge",
        "outputId": "615b6dcb-677e-46c2-9cb7-ecedbe1a78ce"
      },
      "id": "cq8M8TdPa8Ge",
      "execution_count": 84,
      "outputs": [
        {
          "output_type": "stream",
          "name": "stdout",
          "text": [
            "{'The Office', 'Sherlock'}\n"
          ]
        }
      ]
    },
    {
      "cell_type": "code",
      "source": [
        "print(A^B)"
      ],
      "metadata": {
        "colab": {
          "base_uri": "https://localhost:8080/"
        },
        "id": "1OwYANXrciUA",
        "outputId": "71416b57-15bc-484b-b11d-953da9852503"
      },
      "id": "1OwYANXrciUA",
      "execution_count": 85,
      "outputs": [
        {
          "output_type": "stream",
          "name": "stdout",
          "text": [
            "{'Breaking Bad', 'The Office', 'Sherlock', 'Better Call Saul'}\n"
          ]
        }
      ]
    },
    {
      "cell_type": "markdown",
      "id": "b22cfd81",
      "metadata": {
        "id": "b22cfd81"
      },
      "source": [
        "### Quiz 7\n",
        "What is the output of the following?\n",
        "```py\n",
        "a = {1,2,3}\n",
        "b = {3,4,5}\n",
        "print(a-b)\n",
        "print(a.union(b))\n",
        "print(a.intersection(b))\n",
        "```"
      ]
    },
    {
      "cell_type": "code",
      "execution_count": 87,
      "id": "74c08a86",
      "metadata": {
        "colab": {
          "base_uri": "https://localhost:8080/"
        },
        "id": "74c08a86",
        "outputId": "edeb0dab-d811-4606-9fc2-a43bc4f36f4c"
      },
      "outputs": [
        {
          "output_type": "stream",
          "name": "stdout",
          "text": [
            "{1, 2}\n",
            "{1, 2, 3, 4, 5}\n",
            "{3}\n"
          ]
        }
      ],
      "source": [
        "a = {1,2,3}\n",
        "b = {3,4,5}\n",
        "print(a-b)\n",
        "print(a.union(b))\n",
        "print(a.intersection(b))"
      ]
    },
    {
      "cell_type": "code",
      "execution_count": null,
      "id": "cb047428",
      "metadata": {
        "id": "cb047428"
      },
      "outputs": [],
      "source": []
    },
    {
      "cell_type": "markdown",
      "id": "d3162f02",
      "metadata": {
        "id": "d3162f02"
      },
      "source": [
        "#### Quiz 8\n",
        "What is the value of x in the code snippet below?\n",
        "```py\n",
        "set1 = {1, 2, 3, 4, 5, 6}\n",
        "set2 = {2, 4, 5, 6, 7}\n",
        "x = set1 | set2\n",
        "```"
      ]
    },
    {
      "cell_type": "code",
      "execution_count": 86,
      "id": "75f87099",
      "metadata": {
        "colab": {
          "base_uri": "https://localhost:8080/"
        },
        "id": "75f87099",
        "outputId": "342f14de-216c-404b-b980-8b03fb394852"
      },
      "outputs": [
        {
          "output_type": "stream",
          "name": "stdout",
          "text": [
            "{1, 2, 3, 4, 5, 6, 7}\n"
          ]
        }
      ],
      "source": [
        "set1 = {1, 2, 3, 4, 5, 6}\n",
        "set2 = {2, 4, 5, 6, 7}\n",
        "x = set1 | set2\n",
        "print(x)"
      ]
    },
    {
      "cell_type": "code",
      "execution_count": null,
      "id": "acf61360",
      "metadata": {
        "id": "acf61360"
      },
      "outputs": [],
      "source": []
    },
    {
      "cell_type": "markdown",
      "id": "ba66784b",
      "metadata": {
        "id": "ba66784b"
      },
      "source": [
        "### Count unique\n",
        "Given an array, count unique elements in it."
      ]
    },
    {
      "cell_type": "code",
      "execution_count": 89,
      "id": "d6c1eb90",
      "metadata": {
        "id": "d6c1eb90"
      },
      "outputs": [],
      "source": [
        "def countUnique(ls):\n",
        "    # s = set(ls)\n",
        "    # return len(s)\n",
        "    return len(set(ls))"
      ]
    },
    {
      "cell_type": "code",
      "execution_count": 90,
      "id": "1735273b",
      "metadata": {
        "colab": {
          "base_uri": "https://localhost:8080/"
        },
        "id": "1735273b",
        "outputId": "37162cab-fa4a-4503-bcec-c1781f1f4fcb"
      },
      "outputs": [
        {
          "output_type": "execute_result",
          "data": {
            "text/plain": [
              "4"
            ]
          },
          "metadata": {},
          "execution_count": 90
        }
      ],
      "source": [
        "countUnique([5, 6, 5, 2, 3]) # 4"
      ]
    },
    {
      "cell_type": "markdown",
      "id": "abb275e0",
      "metadata": {
        "id": "abb275e0"
      },
      "source": [
        "## Bonus Reading Material for Sets\n",
        "- set() in Python - https://www.scaler.com/topics/set-in-python/\n",
        "- Sets in Python - https://www.scaler.com/topics/python/sets-in-python/\n",
        "- Set to List Python - https://www.scaler.com/topics/set-to-list-python/\n",
        "- Convert List to Set Python - https://www.scaler.com/topics/convert-list-to-set-python/\n",
        "- frozenset() in Python - https://www.scaler.com/topics/frozenset-in-python/\n",
        "- Python Set difference() - https://www.scaler.com/topics/python-set-difference/\n",
        "- union() in Python - https://www.scaler.com/topics/union-in-python/\n",
        "- intersection() in Python - https://www.scaler.com/topics/intersection-in-python/\n",
        "- symmetric_difference() Python - https://www.scaler.com/topics/symmetric-difference-python/"
      ]
    },
    {
      "cell_type": "code",
      "execution_count": null,
      "id": "f8d337e6",
      "metadata": {
        "id": "f8d337e6"
      },
      "outputs": [],
      "source": []
    },
    {
      "cell_type": "code",
      "execution_count": null,
      "id": "b0763a3f",
      "metadata": {
        "id": "b0763a3f"
      },
      "outputs": [],
      "source": []
    },
    {
      "cell_type": "code",
      "execution_count": null,
      "id": "a52fc212",
      "metadata": {
        "id": "a52fc212"
      },
      "outputs": [],
      "source": []
    },
    {
      "cell_type": "markdown",
      "id": "0eb37159",
      "metadata": {
        "id": "0eb37159"
      },
      "source": [
        "# Doubts"
      ]
    },
    {
      "cell_type": "code",
      "execution_count": 95,
      "id": "6aedb03e",
      "metadata": {
        "colab": {
          "base_uri": "https://localhost:8080/",
          "height": 183
        },
        "id": "6aedb03e",
        "outputId": "f065d04d-6014-4b6e-8791-3fbb3606879f"
      },
      "outputs": [
        {
          "output_type": "error",
          "ename": "TypeError",
          "evalue": "ignored",
          "traceback": [
            "\u001b[0;31m---------------------------------------------------------------------------\u001b[0m",
            "\u001b[0;31mTypeError\u001b[0m                                 Traceback (most recent call last)",
            "\u001b[0;32m<ipython-input-95-e722387c965f>\u001b[0m in \u001b[0;36m<module>\u001b[0;34m\u001b[0m\n\u001b[0;32m----> 1\u001b[0;31m \u001b[0ma\u001b[0m \u001b[0;34m=\u001b[0m \u001b[0mtuple\u001b[0m\u001b[0;34m(\u001b[0m\u001b[0;34m'c'\u001b[0m\u001b[0;34m,\u001b[0m \u001b[0;34m'a'\u001b[0m\u001b[0;34m)\u001b[0m\u001b[0;34m\u001b[0m\u001b[0;34m\u001b[0m\u001b[0m\n\u001b[0m\u001b[1;32m      2\u001b[0m \u001b[0mprint\u001b[0m\u001b[0;34m(\u001b[0m\u001b[0ma\u001b[0m\u001b[0;34m,\u001b[0m \u001b[0mtype\u001b[0m\u001b[0;34m(\u001b[0m\u001b[0ma\u001b[0m\u001b[0;34m[\u001b[0m\u001b[0;36m0\u001b[0m\u001b[0;34m]\u001b[0m\u001b[0;34m)\u001b[0m\u001b[0;34m)\u001b[0m\u001b[0;34m\u001b[0m\u001b[0;34m\u001b[0m\u001b[0m\n",
            "\u001b[0;31mTypeError\u001b[0m: tuple expected at most 1 arguments, got 2"
          ]
        }
      ],
      "source": [
        "a = tuple('c')\n",
        "print(a, type(a[0]))"
      ]
    },
    {
      "cell_type": "code",
      "execution_count": 97,
      "id": "c4457fdc",
      "metadata": {
        "colab": {
          "base_uri": "https://localhost:8080/"
        },
        "id": "c4457fdc",
        "outputId": "971ee344-45ac-48ad-867d-493adf984eab"
      },
      "outputs": [
        {
          "output_type": "stream",
          "name": "stdout",
          "text": [
            "[1, 'Thor']\n",
            "[2, 'Spiderman']\n",
            "[3, 'Captain America']\n",
            "[4, 'Hulk']\n"
          ]
        }
      ],
      "source": [
        "students = [\n",
        "[1, \"Thor\"],\n",
        "[2, \"Spiderman\"],\n",
        "[3, \"Captain America\"],\n",
        "[4, \"Hulk\"],\n",
        "] \n",
        "\n",
        "# print(f\"Roll no {students[0][0]} name is {students[0][1]}\")\n",
        "\n",
        "for item in students :\n",
        "  print(item[0], item[1])"
      ]
    },
    {
      "cell_type": "code",
      "source": [
        "row   0s  inc   dec   0s\n",
        "1     4   [5,5] -      4\n",
        "2     3   [4,5] [4,4]  3\n",
        "3     2   [3,5] [4,3]  2\n",
        "4     1   [2,5] [4,2]  1\n",
        "5     0   [1,5] [4,1]  0\n",
        "\n",
        "0s -> n-row\n",
        "inc-s -> n+1-row\n",
        "inc-e -> n\n",
        "dec-s -> n-1\n",
        "dec-e -> n+1-row\n",
        "0s -> n-row"
      ],
      "metadata": {
        "colab": {
          "base_uri": "https://localhost:8080/"
        },
        "id": "0zY93sROgezq",
        "outputId": "5299b668-1450-44fe-8284-4ea1ffbe596e"
      },
      "id": "0zY93sROgezq",
      "execution_count": 103,
      "outputs": [
        {
          "output_type": "stream",
          "name": "stdout",
          "text": [
            "5\n",
            "0 0 0 0 5 0 0 0 0 \n",
            "0 0 0 4 5 5 0 0 0 \n",
            "0 0 3 4 4 5 5 0 0 \n",
            "0 2 3 3 4 4 5 5 0 \n",
            "1 2 2 3 3 4 4 5 5 \n"
          ]
        }
      ]
    }
  ],
  "metadata": {
    "kernelspec": {
      "display_name": "Python 3 (ipykernel)",
      "language": "python",
      "name": "python3"
    },
    "language_info": {
      "codemirror_mode": {
        "name": "ipython",
        "version": 3
      },
      "file_extension": ".py",
      "mimetype": "text/x-python",
      "name": "python",
      "nbconvert_exporter": "python",
      "pygments_lexer": "ipython3",
      "version": "3.9.12"
    },
    "colab": {
      "provenance": []
    }
  },
  "nbformat": 4,
  "nbformat_minor": 5
}