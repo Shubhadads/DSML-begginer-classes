{
  "nbformat": 4,
  "nbformat_minor": 0,
  "metadata": {
    "colab": {
      "provenance": []
    },
    "kernelspec": {
      "name": "python3",
      "display_name": "Python 3"
    },
    "language_info": {
      "name": "python"
    }
  },
  "cells": [
    {
      "cell_type": "code",
      "execution_count": 13,
      "metadata": {
        "colab": {
          "base_uri": "https://localhost:8080/"
        },
        "id": "OqG8ufXpsTKy",
        "outputId": "5eb83f59-9da2-416e-d0c0-7ac94f3c93d2"
      },
      "outputs": [
        {
          "output_type": "stream",
          "name": "stdout",
          "text": [
            "8 36 [-3, 0, 1, 5, 7, 9, 10, 12, 14]\n"
          ]
        }
      ],
      "source": [
        "# Bubble Sort\n",
        "\n",
        "# ls = [-3, 6, 5, 1, 0]\n",
        "ls = [14, -3, 0, 1, 5, 7, 9, 10, 12]\n",
        "# Number of comparisons\n",
        "cnt = 0\n",
        "# Number of iterations\n",
        "iter = 0\n",
        "\n",
        "# Outer loop tells how many iterations to perform : n-1\n",
        "for i in range(len(ls)-1) :\n",
        "  iter = iter + 1\n",
        "  # Keep comparing adjacent elements\n",
        "  # Swap if first is bigger than second\n",
        "  for j in range(len(ls)-i-1) :\n",
        "    cnt = cnt + 1\n",
        "    if ls[j] > ls[j+1] :\n",
        "      ls[j], ls[j+1] = ls[j+1], ls[j]\n",
        "\n",
        "print(iter, cnt, ls)\n",
        "\n",
        "# i = 0 j = [0, n-2]\n",
        "# i = 1 j = [0, n-3]"
      ]
    },
    {
      "cell_type": "code",
      "source": [
        "# Optimised Bubble Sort\n",
        "ls = [14, -3, 0, 1, 5, 7, 9, 10, 12]\n",
        "\n",
        "# Number of comparisons\n",
        "cnt = 0\n",
        "# Number of iterations\n",
        "iter = 0\n",
        "\n",
        "# Outer loop tells how many iterations to perform : n-1\n",
        "for i in range(len(ls)-1) :\n",
        "  iter = iter + 1\n",
        "  # Let's assume sublist is sorted\n",
        "  flag = True\n",
        "\n",
        "  # Keep comparing adjacent elements\n",
        "  # Swap if first is bigger than second\n",
        "\n",
        "  for j in range(len(ls)-i-1) :\n",
        "    cnt = cnt + 1\n",
        "\n",
        "    if ls[j] > ls[j+1] :\n",
        "      ls[j], ls[j+1] = ls[j+1], ls[j]\n",
        "      flag = False\n",
        "  \n",
        "  # Flag still true, it means sublist was already sorted\n",
        "  if flag == True :\n",
        "    break\n",
        "\n",
        "print(iter, cnt, ls)"
      ],
      "metadata": {
        "colab": {
          "base_uri": "https://localhost:8080/"
        },
        "id": "pUMSe8etyA2A",
        "outputId": "e8507c63-5d7e-4fff-d5af-72276864f634"
      },
      "execution_count": 14,
      "outputs": [
        {
          "output_type": "stream",
          "name": "stdout",
          "text": [
            "2 15 [-3, 0, 1, 5, 7, 9, 10, 12, 14]\n"
          ]
        }
      ]
    },
    {
      "cell_type": "code",
      "source": [
        "# Insertion Sort\n",
        "\n",
        "ls = [-3, 6, 5, 1, 0]\n",
        "\n",
        "# Put n-1 items in correct position in sorted list on left side\n",
        "for i in range(len(ls)-1) :\n",
        "\n",
        "  # Start from i+1 th element -> 1st element in unsorted list\n",
        "  # Keep swapping element with element on left\n",
        "  # Till the element on left is smaller\n",
        "  for j in range(i+1, 0, -1) :\n",
        "    \n",
        "    if ls[j-1] < ls[j] :\n",
        "      break\n",
        "    \n",
        "    ls[j-1], ls[j] = ls[j], ls[j-1]\n",
        "\n",
        "print(ls)"
      ],
      "metadata": {
        "colab": {
          "base_uri": "https://localhost:8080/"
        },
        "id": "_gd7VQjO3-_6",
        "outputId": "90aed390-815d-45c9-d4a0-6daa1d78904a"
      },
      "execution_count": 16,
      "outputs": [
        {
          "output_type": "stream",
          "name": "stdout",
          "text": [
            "[-3, 0, 1, 5, 7, 9, 10, 12, 14]\n"
          ]
        }
      ]
    }
  ]
}