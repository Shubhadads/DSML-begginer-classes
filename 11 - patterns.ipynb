{
  "nbformat": 4,
  "nbformat_minor": 0,
  "metadata": {
    "colab": {
      "provenance": []
    },
    "kernelspec": {
      "name": "python3",
      "display_name": "Python 3"
    },
    "language_info": {
      "name": "python"
    }
  },
  "cells": [
    {
      "cell_type": "code",
      "execution_count": null,
      "metadata": {
        "colab": {
          "base_uri": "https://localhost:8080/"
        },
        "id": "qTihn-i8aXin",
        "outputId": "bc4bc5c6-07cc-4396-9682-d6a3c5b4632c"
      },
      "outputs": [
        {
          "output_type": "stream",
          "name": "stdout",
          "text": [
            "5\n",
            "*\n",
            "**\n",
            "***\n",
            "****\n",
            "*****\n"
          ]
        }
      ],
      "source": [
        "# Q1 : Print staircase pattern\n",
        "\n",
        "n = int(input())\n",
        "\n",
        "for row in range(1, n+1) :\n",
        "  for col in range(1, row+1) :\n",
        "    print('*', end='')\n",
        "  print()"
      ]
    },
    {
      "cell_type": "code",
      "source": [
        "# Q2 : Print inverse staircase pattern\n",
        "\n",
        "n = int(input())\n",
        "\n",
        "# N rows\n",
        "for row in range(1, n+1) :\n",
        "  # For each row there are n+1-row cols\n",
        "  # range(1, n+1-row) -> [1, n+1-row)\n",
        "  # range(1, n+1-row +1) -> [1, n+1-row +1)\n",
        "  for col in range(1, n+1-row + 1) :\n",
        "    print('*', end='')\n",
        "  # Print new line\n",
        "  print()\n",
        "\n",
        "# I want to print n stars\n",
        "# range(1, n+1)\n",
        "# range(1, n) -> Wrong"
      ],
      "metadata": {
        "colab": {
          "base_uri": "https://localhost:8080/"
        },
        "id": "Fkb-zEG0ayBa",
        "outputId": "77865a08-675e-40ed-b2d1-6de230c6744c"
      },
      "execution_count": null,
      "outputs": [
        {
          "output_type": "stream",
          "name": "stdout",
          "text": [
            "5\n",
            "*****\n",
            "****\n",
            "***\n",
            "**\n",
            "*\n"
          ]
        }
      ]
    },
    {
      "cell_type": "code",
      "source": [
        "# Q3 : Print pattern with spaces\n",
        "\n",
        "n = int(input())\n",
        "\n",
        "# N rows\n",
        "for row in range(1, n+1) :\n",
        "  # In each row we have - 1 start, N-2 spaces, 1 star\n",
        "  print('*', end='')\n",
        "  for sp in range(1, n-2 + 1):\n",
        "    print(' ', end='')\n",
        "  print('*', end='')\n",
        "  print()"
      ],
      "metadata": {
        "colab": {
          "base_uri": "https://localhost:8080/"
        },
        "id": "92FDB9xef17v",
        "outputId": "fa34d1b1-e31a-4e35-a1f2-5fb9cd883eff"
      },
      "execution_count": null,
      "outputs": [
        {
          "output_type": "stream",
          "name": "stdout",
          "text": [
            "3\n",
            "* *\n",
            "* *\n",
            "* *\n"
          ]
        }
      ]
    },
    {
      "cell_type": "code",
      "source": [
        "# Q4 : Print pattern with leading spaces\n",
        "\n",
        "n = int(input())\n",
        "\n",
        "# Print n rows\n",
        "for row in range(1, n+1) :\n",
        "  # Print n-row spaces\n",
        "  for sp in range(1, n-row +1) :\n",
        "    print(' ', end='')\n",
        "  # Print row stars\n",
        "  for st in range(1, row +1) :\n",
        "    print('*', end='')\n",
        "  print()"
      ],
      "metadata": {
        "colab": {
          "base_uri": "https://localhost:8080/"
        },
        "id": "Ew3MRLpxijPn",
        "outputId": "6c797f48-8944-424e-94d6-09f8e0fe87ea"
      },
      "execution_count": null,
      "outputs": [
        {
          "output_type": "stream",
          "name": "stdout",
          "text": [
            "5\n",
            "    *\n",
            "   **\n",
            "  ***\n",
            " ****\n",
            "*****\n"
          ]
        }
      ]
    },
    {
      "cell_type": "code",
      "source": [
        "# Q5 : Print pyramid\n",
        "\n",
        "n = int(input())\n",
        "\n",
        "for row in range(1, n+1) :\n",
        "\n",
        "  # print spaces\n",
        "  for sp in range(1, n-row +1) :\n",
        "    print(' ', end='')\n",
        "  # print stars\n",
        "  for st in range(1, 2*row-1 +1) :\n",
        "    print('*', end='')\n",
        "  # print spaces\n",
        "  for sp in range(1, n-row +1) :\n",
        "    print(' ', end='')\n",
        "  print()"
      ],
      "metadata": {
        "colab": {
          "base_uri": "https://localhost:8080/"
        },
        "id": "oM63DFvHo_Bu",
        "outputId": "b980e67a-cdf1-484d-c782-880659c99b87"
      },
      "execution_count": null,
      "outputs": [
        {
          "output_type": "stream",
          "name": "stdout",
          "text": [
            "5\n",
            "    *    \n",
            "   ***   \n",
            "  *****  \n",
            " ******* \n",
            "*********\n"
          ]
        }
      ]
    },
    {
      "cell_type": "code",
      "source": [
        "# Q6 : Print upper diamond\n",
        "\n",
        "n = int(input())\n",
        "\n",
        "for row in range(1, n+1) :\n",
        "\n",
        "  # print star\n",
        "  for st in range(1, n-row+1 +1) :\n",
        "    print('*', end='')\n",
        "  # print space\n",
        "  for sp in range(1, 2*row-2 +1) :\n",
        "    print(' ', end='')\n",
        "  # print star\n",
        "  for st in range(1, n-row+1 +1) :\n",
        "    print('*', end='')\n",
        "  print()"
      ],
      "metadata": {
        "colab": {
          "base_uri": "https://localhost:8080/"
        },
        "id": "yzbjsoFdsXhY",
        "outputId": "c106c5a8-84d3-4191-c55d-2b57c83d6f2c"
      },
      "execution_count": null,
      "outputs": [
        {
          "output_type": "stream",
          "name": "stdout",
          "text": [
            "5\n",
            "**********\n",
            "****  ****\n",
            "***    ***\n",
            "**      **\n",
            "*        *\n"
          ]
        }
      ]
    },
    {
      "cell_type": "code",
      "source": [
        "# Q7 : Print lower diamond\n",
        "\n",
        "n = int(input())\n",
        "\n",
        "for row in range(1, n+1) :\n",
        "\n",
        "  # print star\n",
        "  for st in range(1, row +1) :\n",
        "    print('*', end='')\n",
        "  # print space\n",
        "  for sp in range(1, 2*n-2*row +1) :\n",
        "    print(' ', end='')\n",
        "  # print star\n",
        "  for st in range(1, row +1) :\n",
        "    print('*', end='')\n",
        "  print()"
      ],
      "metadata": {
        "colab": {
          "base_uri": "https://localhost:8080/"
        },
        "id": "qtPau1FhskvO",
        "outputId": "13b9b8c8-cb5e-470c-83c8-4d1dbbed91e7"
      },
      "execution_count": null,
      "outputs": [
        {
          "output_type": "stream",
          "name": "stdout",
          "text": [
            "5\n",
            "*        *\n",
            "**      **\n",
            "***    ***\n",
            "****  ****\n",
            "**********\n"
          ]
        }
      ]
    },
    {
      "cell_type": "code",
      "source": [
        "# Q8 : Print a diamond\n",
        "\n",
        "# N = 5\n",
        "\n",
        "# **********\n",
        "# ****  ****\n",
        "# ***    ***\n",
        "# **      **\n",
        "# *        *\n",
        "# *        *\n",
        "# **      **\n",
        "# ***    ***\n",
        "# ****  ****\n",
        "# **********\n",
        "\n",
        "n = int(input())\n",
        "\n",
        "# Print upper diamond\n",
        "\n",
        "for row in range(1, n+1) :\n",
        "\n",
        "  # print star\n",
        "  for st in range(1, n-row+1 +1) :\n",
        "    print('*', end='')\n",
        "  # print space\n",
        "  for sp in range(1, 2*row-2 +1) :\n",
        "    print(' ', end='')\n",
        "  # print star\n",
        "  for st in range(1, n-row+1 +1) :\n",
        "    print('*', end='')\n",
        "  print()\n",
        "\n",
        "# Print lower diamond\n",
        "\n",
        "for row in range(1, n+1) :\n",
        "\n",
        "  # print star\n",
        "  for st in range(1, row +1) :\n",
        "    print('*', end='')\n",
        "  # print space\n",
        "  for sp in range(1, 2*n-2*row +1) :\n",
        "    print(' ', end='')\n",
        "  # print star\n",
        "  for st in range(1, row +1) :\n",
        "    print('*', end='')\n",
        "  print()"
      ],
      "metadata": {
        "colab": {
          "base_uri": "https://localhost:8080/"
        },
        "id": "j4zTpwEqtN2u",
        "outputId": "165f6ef5-7093-4959-fe1b-e6498314a949"
      },
      "execution_count": null,
      "outputs": [
        {
          "output_type": "stream",
          "name": "stdout",
          "text": [
            "5\n",
            "**********\n",
            "****  ****\n",
            "***    ***\n",
            "**      **\n",
            "*        *\n",
            "*        *\n",
            "**      **\n",
            "***    ***\n",
            "****  ****\n",
            "**********\n"
          ]
        }
      ]
    },
    {
      "cell_type": "code",
      "source": [
        "# Print staircase with spaces\n",
        "# Note : Do not print any space after last star in the row\n",
        "\n",
        "# N = 5\n",
        "# *\n",
        "# *_*\n",
        "# *_*_*\n",
        "# *_*_*_*\n",
        "# *_*_*_*_*\n",
        "\n",
        "\n",
        "n = int(input())\n",
        "\n",
        "for row in range(1, n+1) :\n",
        "  for col in range(1, row+1) :\n",
        "    print('*', end='')\n",
        "    if col != row : # Means col is not equal to last column value\n",
        "      print('_', end='')\n",
        "  print()"
      ],
      "metadata": {
        "colab": {
          "base_uri": "https://localhost:8080/"
        },
        "id": "QwgdPlSGuRrG",
        "outputId": "7e52c499-3500-41e0-961e-c7b538182987"
      },
      "execution_count": null,
      "outputs": [
        {
          "output_type": "stream",
          "name": "stdout",
          "text": [
            "5\n",
            "*\n",
            "*_*\n",
            "*_*_*\n",
            "*_*_*_*\n",
            "*_*_*_*_*\n"
          ]
        }
      ]
    }
  ]
}