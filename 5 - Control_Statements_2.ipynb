{
  "nbformat": 4,
  "nbformat_minor": 0,
  "metadata": {
    "colab": {
      "name": "Control_Statements_2.ipynb",
      "provenance": []
    },
    "kernelspec": {
      "name": "python3",
      "display_name": "Python 3"
    },
    "language_info": {
      "name": "python"
    }
  },
  "cells": [
    {
      "cell_type": "markdown",
      "source": [
        "## Practice Practice Practice"
      ],
      "metadata": {
        "id": "yFwONFkex2or"
      }
    },
    {
      "cell_type": "code",
      "source": [
        "# if condition1:\n",
        "    # statement if condition 1 is true\n",
        "# elif condition2:\n",
        "    # statement if condition 2 is true\n",
        "# .\n",
        "# .\n",
        "# .\n",
        "# else:\n",
        "    # statment if no conditions are true"
      ],
      "metadata": {
        "id": "kJ4EkKO_y5oX"
      },
      "execution_count": null,
      "outputs": []
    },
    {
      "cell_type": "markdown",
      "source": [
        "1. Take a integer input and print whether it is positive or not.\n",
        "\n",
        "Note : Assume 0 is positive for this question"
      ],
      "metadata": {
        "id": "a6L-gpwuzLUA"
      }
    },
    {
      "cell_type": "code",
      "source": [
        "num = int(input())\n",
        "\n",
        "if num >= 0 :\n",
        "  print(\"Positive\")\n",
        "else :\n",
        "  print(\"Negative\")"
      ],
      "metadata": {
        "colab": {
          "base_uri": "https://localhost:8080/"
        },
        "id": "aCQPnMWczXMk",
        "outputId": "63aace5c-1cb1-465e-e3d3-b90ba710df19"
      },
      "execution_count": 2,
      "outputs": [
        {
          "output_type": "stream",
          "name": "stdout",
          "text": [
            "-20\n",
            "Negative\n"
          ]
        }
      ]
    },
    {
      "cell_type": "markdown",
      "source": [
        "2. Take a non-negative single digit number as input. If num**5%50+20 is > 15 then print(\"BLACK\") else print(\"BLUE\"). \n",
        "\n",
        "Note - Reject any inputs which are not single digit. In such case print \"Invalid input\""
      ],
      "metadata": {
        "id": "0ScVvjpt0VzR"
      }
    },
    {
      "cell_type": "code",
      "source": [
        "num = int(input())\n",
        "\n",
        "if num >= 0 and num <= 9 :\n",
        "\n",
        "  if num**5%50+20 > 15 :\n",
        "    print(\"Black\")\n",
        "  else :\n",
        "    print(\"Blue\")\n",
        "\n",
        "else :\n",
        "  print(\"Invalid input\")"
      ],
      "metadata": {
        "colab": {
          "base_uri": "https://localhost:8080/"
        },
        "id": "YaAfGZWn0p9W",
        "outputId": "351188d6-3832-4e42-cf0e-0f1a6c1859b0"
      },
      "execution_count": 5,
      "outputs": [
        {
          "output_type": "stream",
          "name": "stdout",
          "text": [
            "-10\n",
            "Invalid input\n"
          ]
        }
      ]
    },
    {
      "cell_type": "code",
      "source": [
        "# if number should not be <0 and number should not be >9\n",
        "num = int(input())\n",
        "\n",
        "if not num < 0 and not num > 9 :\n",
        "  if num**5%50+20 > 15 :\n",
        "    print(\"Black\")\n",
        "  else :\n",
        "    print(\"Blue\")\n",
        "else :\n",
        "  print(\"Invalid input\")"
      ],
      "metadata": {
        "colab": {
          "base_uri": "https://localhost:8080/"
        },
        "id": "oyx7CLjJ1s7o",
        "outputId": "a030d658-2416-40dd-8b84-b9c1f53dd5d1"
      },
      "execution_count": 10,
      "outputs": [
        {
          "output_type": "stream",
          "name": "stdout",
          "text": [
            "9\n",
            "Black\n"
          ]
        }
      ]
    },
    {
      "cell_type": "markdown",
      "source": [
        "3. Take a string as input. If the string is \"Python\", print(\"Great Choice\") else print(\"Think Again!\")"
      ],
      "metadata": {
        "id": "QK9uODRd3uBd"
      }
    },
    {
      "cell_type": "code",
      "source": [
        "s = input()\n",
        "\n",
        "# Python\n",
        "# PYTHON\n",
        "# PyTHoN\n",
        "\n",
        "if s.lower() == \"python\" :\n",
        "  print(\"Great Choice\")\n",
        "else :\n",
        "  print(\"Think Again !\")\n",
        "\n",
        "# s = 'AsvBsvuQ'\n",
        "# s.lower() = 'asvbsvuq'\n",
        "# s.upper() = 'ASVBSVUQ'"
      ],
      "metadata": {
        "colab": {
          "base_uri": "https://localhost:8080/"
        },
        "id": "EIbG3HIE34V2",
        "outputId": "5e342f87-7ec0-421c-f61e-05d43bc855b9"
      },
      "execution_count": 15,
      "outputs": [
        {
          "output_type": "stream",
          "name": "stdout",
          "text": [
            "PythoN\n",
            "Great Choice\n"
          ]
        }
      ]
    },
    {
      "cell_type": "markdown",
      "source": [
        "4. Take a string as input and if the entered string is \"Python\" or \"JAVA\", print(\"WOW\") else print(\"Are you living under a rock?\"). \n",
        "\n",
        "NOTE - Reject any integer inputs. Print \"Invalid input\""
      ],
      "metadata": {
        "id": "EZzXhbAz5MSA"
      }
    },
    {
      "cell_type": "code",
      "source": [
        "# Not solvable\n",
        "# Example to show not all questions doable at this point even if they seem easy\n",
        "\n",
        "s = input()\n",
        "\n",
        "if type(int(s)) == int :\n",
        "  print(\"Invalid input\")\n",
        "else :\n",
        "  if s.lower() == \"python\" or s.lower() == \"java\" :\n",
        "    print(\"WOW\")\n",
        "  else :\n",
        "    print(\"Are you living under a rock !\")"
      ],
      "metadata": {
        "colab": {
          "base_uri": "https://localhost:8080/"
        },
        "id": "-p79qdQi5R7q",
        "outputId": "c83af24f-dda8-49af-c209-5ce574009f74"
      },
      "execution_count": 18,
      "outputs": [
        {
          "output_type": "stream",
          "name": "stdout",
          "text": [
            "10\n",
            "Invalid input\n"
          ]
        }
      ]
    },
    {
      "cell_type": "markdown",
      "source": [
        "5. Take an integer and check whether it is positive, negative or zero."
      ],
      "metadata": {
        "id": "HZEiNBDz8UP3"
      }
    },
    {
      "cell_type": "code",
      "source": [
        "num = int(input())\n",
        "\n",
        "if num > 0 :\n",
        "  print(\"Positive\")\n",
        "elif num < 0 : \n",
        "  print(\"Negative\")\n",
        "else :\n",
        "  print(\"Zero\")"
      ],
      "metadata": {
        "id": "BfLIr2fQ8XPQ"
      },
      "execution_count": null,
      "outputs": []
    },
    {
      "cell_type": "markdown",
      "source": [
        "6. Feedback System - Take string feedback from a user.\n",
        "\n",
        "If feedback is not provided, print \"Please give feedback\".\n",
        "\n",
        "\n",
        "If feedback is \"Super\", \"Great\", \"Fantastic\", \"Awesome\", print(\"Thank you so much!\")\n",
        "\n",
        "Now if any other feedback is provided, print(\"Thank you for providing the feedback\"). "
      ],
      "metadata": {
        "id": "UJ_r7iuO9WDV"
      }
    },
    {
      "cell_type": "code",
      "source": [
        "feedback = input()\n",
        "\n",
        "if feedback == \"\" :\n",
        "  print(\"Please give feedback\")\n",
        "elif feedback.lower() == \"super\" or feedback.lower() == \"great\" or feedback.lower() == \"fantastic\" or feedback.lower() == \"awesome\" :\n",
        "  print(\"Thank you so much!\")\n",
        "else :\n",
        "  print(\"Thank you for providing feedback\")"
      ],
      "metadata": {
        "colab": {
          "base_uri": "https://localhost:8080/"
        },
        "id": "GPZXwwCR-sx0",
        "outputId": "e3a66a19-9880-4105-d025-7eaa26b30a4d"
      },
      "execution_count": 26,
      "outputs": [
        {
          "output_type": "stream",
          "name": "stdout",
          "text": [
            "awesome\n",
            "Thank you so much!\n"
          ]
        }
      ]
    },
    {
      "cell_type": "markdown",
      "source": [
        "## Break - 10:15"
      ],
      "metadata": {
        "id": "7HZu3mpBAb2d"
      }
    },
    {
      "cell_type": "markdown",
      "source": [
        "7. FIZZBUZZ -> Take an input N. \n",
        "\n",
        "If N is a multiple of 3, print FIZZ. \n",
        "\n",
        "Else if N is a multiple of 5 print BUZZ. \n",
        "\n",
        "Else if N is a multiple of both 3 and 5, print FIZZBUZZ."
      ],
      "metadata": {
        "id": "-QbgiFoaD1Hj"
      }
    },
    {
      "cell_type": "code",
      "source": [
        "num = int(input())\n",
        "\n",
        "if num%3==0 and num%5==0 :\n",
        "  print(\"FizzBuzz\")\n",
        "elif num%3 == 0 :\n",
        "  print(\"Fizz\")\n",
        "elif num%5 == 0 :\n",
        "  print(\"Buzz\")"
      ],
      "metadata": {
        "colab": {
          "base_uri": "https://localhost:8080/"
        },
        "id": "kOByP8pSEJG_",
        "outputId": "c74384b6-648e-4752-da51-4c03a825cefb"
      },
      "execution_count": 36,
      "outputs": [
        {
          "output_type": "stream",
          "name": "stdout",
          "text": [
            "15\n",
            "FizzBuzz\n"
          ]
        }
      ]
    },
    {
      "cell_type": "markdown",
      "source": [
        "8. Take three inputs from a user which are marks in english, maths and science. \n",
        "\n",
        "Assign streams according to the following criteria - \n",
        "\n",
        "if science > 90 or marks in all are greater than 75 -> Science\n",
        "\n",
        "if marks in all are greater than 60 and less than 75 -> Commerce\n",
        "\n",
        "if marks in all are less than 60 -> Humanities"
      ],
      "metadata": {
        "id": "Q12bT9jHGub7"
      }
    },
    {
      "cell_type": "code",
      "source": [
        "english = int(input())\n",
        "maths = int(input())\n",
        "science = int(input())\n",
        "\n",
        "if science > 90 or ( english >= 75 and maths >= 75 and science >= 75 ) :\n",
        "  print(\"Science\")\n",
        "elif 60 < english and 60 < maths and 60 < science :\n",
        "  print(\"Commerce\")\n",
        "else :\n",
        "  print(\"Humanities\")"
      ],
      "metadata": {
        "colab": {
          "base_uri": "https://localhost:8080/"
        },
        "id": "ZhJEmOWZHKTi",
        "outputId": "df6f564d-74a2-40c9-dc0a-c4cb31026174"
      },
      "execution_count": 52,
      "outputs": [
        {
          "output_type": "stream",
          "name": "stdout",
          "text": [
            "80\n",
            "65\n",
            "70\n",
            "Commerce\n"
          ]
        }
      ]
    },
    {
      "cell_type": "markdown",
      "source": [
        "9. Generate electricity bill using the following rate card. \n",
        "\n",
        "Take units consumed as input -\n",
        "\n",
        "If < 100 units -> Free\n",
        "\n",
        "If >= 100 units and < 200 units -> Rs 2 per unit\n",
        "\n",
        "If >= 200 units -> Rs 5 per unit"
      ],
      "metadata": {
        "id": "ySTho_ZWKEM-"
      }
    },
    {
      "cell_type": "markdown",
      "source": [
        "10. Build a meter system for an auto. Take two inputs. Kilometers Travelled and Wait Time (in minutes). \n",
        "\n",
        "Rate List -\n",
        "\n",
        "First 10 kms - Rs 10 per Km\n",
        "\n",
        "Next 40 kms - Rs 9 per Km\n",
        "\n",
        "Next 100 kms - Rs 8 per Km\n",
        "\n",
        "Any leftover km count - Rs. 6 per Km\n",
        "\n",
        "Rs 5 extra for every minute of Wait Time"
      ],
      "metadata": {
        "id": "sK_yTry3JtXh"
      }
    }
  ]
}
