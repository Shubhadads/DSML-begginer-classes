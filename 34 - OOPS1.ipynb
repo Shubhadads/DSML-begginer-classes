{
  "nbformat": 4,
  "nbformat_minor": 0,
  "metadata": {
    "colab": {
      "provenance": []
    },
    "kernelspec": {
      "name": "python3",
      "display_name": "Python 3"
    },
    "language_info": {
      "name": "python"
    }
  },
  "cells": [
    {
      "cell_type": "code",
      "execution_count": 1,
      "metadata": {
        "id": "AIBCT7ns1Tzv"
      },
      "outputs": [],
      "source": [
        "class Student :\n",
        "  pass"
      ]
    },
    {
      "cell_type": "code",
      "source": [
        "a = Student()"
      ],
      "metadata": {
        "id": "wZdJ14LY-iED"
      },
      "execution_count": 2,
      "outputs": []
    },
    {
      "cell_type": "code",
      "source": [
        "print(type(a))"
      ],
      "metadata": {
        "colab": {
          "base_uri": "https://localhost:8080/"
        },
        "id": "TbbbJqSh-l4l",
        "outputId": "7d1ec8c1-db2f-4de9-ed92-241171bc0576"
      },
      "execution_count": 3,
      "outputs": [
        {
          "output_type": "stream",
          "name": "stdout",
          "text": [
            "<class '__main__.Student'>\n"
          ]
        }
      ]
    },
    {
      "cell_type": "code",
      "source": [
        "b = Student()"
      ],
      "metadata": {
        "id": "YN4hNkYs-4cp"
      },
      "execution_count": 4,
      "outputs": []
    },
    {
      "cell_type": "code",
      "source": [
        "a.name = \"Aarnav\""
      ],
      "metadata": {
        "id": "mzgsqRAw-6lW"
      },
      "execution_count": 5,
      "outputs": []
    },
    {
      "cell_type": "code",
      "source": [
        "print(a.name)"
      ],
      "metadata": {
        "colab": {
          "base_uri": "https://localhost:8080/"
        },
        "id": "3LhhP4cs_Llh",
        "outputId": "5e28c5fb-4793-4397-a666-558256f37448"
      },
      "execution_count": 6,
      "outputs": [
        {
          "output_type": "stream",
          "name": "stdout",
          "text": [
            "Aarnav\n"
          ]
        }
      ]
    },
    {
      "cell_type": "code",
      "source": [
        "print(b.name)"
      ],
      "metadata": {
        "colab": {
          "base_uri": "https://localhost:8080/",
          "height": 166
        },
        "id": "79aJNypZ_NqV",
        "outputId": "ea961483-a63d-4784-d381-0c094d13663a"
      },
      "execution_count": 7,
      "outputs": [
        {
          "output_type": "error",
          "ename": "AttributeError",
          "evalue": "ignored",
          "traceback": [
            "\u001b[0;31m---------------------------------------------------------------------------\u001b[0m",
            "\u001b[0;31mAttributeError\u001b[0m                            Traceback (most recent call last)",
            "\u001b[0;32m<ipython-input-7-89ecc42ca0df>\u001b[0m in \u001b[0;36m<module>\u001b[0;34m\u001b[0m\n\u001b[0;32m----> 1\u001b[0;31m \u001b[0mprint\u001b[0m\u001b[0;34m(\u001b[0m\u001b[0mb\u001b[0m\u001b[0;34m.\u001b[0m\u001b[0mname\u001b[0m\u001b[0;34m)\u001b[0m\u001b[0;34m\u001b[0m\u001b[0;34m\u001b[0m\u001b[0m\n\u001b[0m",
            "\u001b[0;31mAttributeError\u001b[0m: 'Student' object has no attribute 'name'"
          ]
        }
      ]
    },
    {
      "cell_type": "code",
      "source": [
        "class Student:\n",
        "    \n",
        "    def __init__(self):\n",
        "        print(f\"self -> {id(self)}\")"
      ],
      "metadata": {
        "id": "rEkLZw9xE4N6"
      },
      "execution_count": 8,
      "outputs": []
    },
    {
      "cell_type": "code",
      "source": [
        "a = Student()\n",
        "\n",
        "# What is happening internally ?\n",
        "# Student.__init__(a)\n",
        "# Abstraction hidden from you"
      ],
      "metadata": {
        "colab": {
          "base_uri": "https://localhost:8080/"
        },
        "id": "8KDoC_AmFNO9",
        "outputId": "74136bcb-5ceb-46e5-9c8f-d49b7e9c4e17"
      },
      "execution_count": 9,
      "outputs": [
        {
          "output_type": "stream",
          "name": "stdout",
          "text": [
            "self -> 140649669374480\n"
          ]
        }
      ]
    },
    {
      "cell_type": "code",
      "source": [
        "print(id(a))"
      ],
      "metadata": {
        "colab": {
          "base_uri": "https://localhost:8080/"
        },
        "id": "oPkBq_9nFfJC",
        "outputId": "36818e5b-fbc3-4401-f3c6-caad3825454c"
      },
      "execution_count": 10,
      "outputs": [
        {
          "output_type": "stream",
          "name": "stdout",
          "text": [
            "140649669374480\n"
          ]
        }
      ]
    },
    {
      "cell_type": "code",
      "source": [
        "# Job of a constructor\n",
        "# Assign attribute values to the instance\n",
        "\n",
        "class Student:\n",
        "    def __init__(self):\n",
        "        self.name = \"Random Template Name\""
      ],
      "metadata": {
        "id": "X4gQQgjsF97E"
      },
      "execution_count": 11,
      "outputs": []
    },
    {
      "cell_type": "code",
      "source": [
        "a = Student()\n",
        "b = Student()\n",
        "\n",
        "print(a.name, b.name, sep='\\n')"
      ],
      "metadata": {
        "colab": {
          "base_uri": "https://localhost:8080/"
        },
        "id": "ee82Q-d9GxXz",
        "outputId": "2add104c-6738-4dd4-e03b-f12444c9473d"
      },
      "execution_count": 14,
      "outputs": [
        {
          "output_type": "stream",
          "name": "stdout",
          "text": [
            "Random Template Name\n",
            "Random Template Name\n"
          ]
        }
      ]
    },
    {
      "cell_type": "code",
      "source": [
        "class Student: # Using self is convention\n",
        "    def __init__(self, name, age):\n",
        "        self.name = name\n",
        "        self.age = age"
      ],
      "metadata": {
        "id": "IL9aSLNnHCMW"
      },
      "execution_count": 15,
      "outputs": []
    },
    {
      "cell_type": "code",
      "source": [
        "a = Student(\"Tarun\", 22)\n",
        "b = Student(\"Kavya\", 24)"
      ],
      "metadata": {
        "id": "2HSEiJPVHMMf"
      },
      "execution_count": 16,
      "outputs": []
    },
    {
      "cell_type": "code",
      "source": [
        "print(a.name, a.age)\n",
        "print(b.name, b.age)"
      ],
      "metadata": {
        "colab": {
          "base_uri": "https://localhost:8080/"
        },
        "id": "55C2Am46HUfc",
        "outputId": "66d9be1c-1c05-4ee6-92e9-746e40430699"
      },
      "execution_count": 19,
      "outputs": [
        {
          "output_type": "stream",
          "name": "stdout",
          "text": [
            "Tarun 22\n",
            "Kavya 24\n"
          ]
        }
      ]
    },
    {
      "cell_type": "code",
      "source": [
        "class Student:\n",
        "    def hello(): \n",
        "        print(\"Hello!\")"
      ],
      "metadata": {
        "id": "MPwxfxYTIyfW"
      },
      "execution_count": 20,
      "outputs": []
    },
    {
      "cell_type": "code",
      "source": [
        "a = Student()"
      ],
      "metadata": {
        "id": "Hwd2_8vMI3bN"
      },
      "execution_count": 21,
      "outputs": []
    },
    {
      "cell_type": "code",
      "source": [
        "a.hello()\n",
        "# Student.hello(a)"
      ],
      "metadata": {
        "colab": {
          "base_uri": "https://localhost:8080/",
          "height": 166
        },
        "id": "ByaPSbIWI6O5",
        "outputId": "6e0f96b5-3d85-43a5-ace7-adf30de5b857"
      },
      "execution_count": 22,
      "outputs": [
        {
          "output_type": "error",
          "ename": "TypeError",
          "evalue": "ignored",
          "traceback": [
            "\u001b[0;31m---------------------------------------------------------------------------\u001b[0m",
            "\u001b[0;31mTypeError\u001b[0m                                 Traceback (most recent call last)",
            "\u001b[0;32m<ipython-input-22-edc1730342fb>\u001b[0m in \u001b[0;36m<module>\u001b[0;34m\u001b[0m\n\u001b[0;32m----> 1\u001b[0;31m \u001b[0ma\u001b[0m\u001b[0;34m.\u001b[0m\u001b[0mhello\u001b[0m\u001b[0;34m(\u001b[0m\u001b[0;34m)\u001b[0m\u001b[0;34m\u001b[0m\u001b[0;34m\u001b[0m\u001b[0m\n\u001b[0m",
            "\u001b[0;31mTypeError\u001b[0m: hello() takes 0 positional arguments but 1 was given"
          ]
        }
      ]
    },
    {
      "cell_type": "code",
      "source": [
        "Student.hello()"
      ],
      "metadata": {
        "colab": {
          "base_uri": "https://localhost:8080/"
        },
        "id": "KNa8zyutJNdn",
        "outputId": "7bc83e39-0032-4c88-d65f-5b47a1bceb17"
      },
      "execution_count": 23,
      "outputs": [
        {
          "output_type": "stream",
          "name": "stdout",
          "text": [
            "Hello!\n"
          ]
        }
      ]
    },
    {
      "cell_type": "code",
      "source": [
        "User \n",
        "- Student\n",
        "- Instructor"
      ],
      "metadata": {
        "id": "RxAFyCdxJg0G"
      },
      "execution_count": null,
      "outputs": []
    },
    {
      "cell_type": "code",
      "source": [
        "class Student: # Using self is convention\n",
        "    def __init__(self, name, age):\n",
        "        self.name = name\n",
        "        self.age = age\n",
        "    \n",
        "    def print(self) :\n",
        "      print(f\"{self.name}'s age is {self.age}\")\n",
        "\n",
        "    def can_you_vote(self) :\n",
        "      print(f\"{self.age >= 18}\")"
      ],
      "metadata": {
        "id": "V0m981ATKRh0"
      },
      "execution_count": 24,
      "outputs": []
    },
    {
      "cell_type": "code",
      "source": [
        "a = Student(\"Aarnav\", 25)\n",
        "a.print()\n",
        "a.can_you_vote()"
      ],
      "metadata": {
        "colab": {
          "base_uri": "https://localhost:8080/"
        },
        "id": "uqoa_L7gKlKV",
        "outputId": "30876cf3-60fc-4ab9-8f9e-0f44af3b28dd"
      },
      "execution_count": 25,
      "outputs": [
        {
          "output_type": "stream",
          "name": "stdout",
          "text": [
            "Aarnav age is 25\n",
            "True\n"
          ]
        }
      ]
    },
    {
      "cell_type": "code",
      "source": [
        "class Dog:\n",
        "    kind = \"labrador\" # class variable -> Accessible directly from the class\n",
        "    \n",
        "    def __init__(self, name):\n",
        "        self.name = name # instance variable (different for each object)"
      ],
      "metadata": {
        "id": "zLnxLDlyK-xo"
      },
      "execution_count": 26,
      "outputs": []
    },
    {
      "cell_type": "code",
      "source": [
        "a = Dog(\"Hira\")\n",
        "b = Dog(\"Moti\")"
      ],
      "metadata": {
        "id": "-l1xhn4cLLL6"
      },
      "execution_count": 27,
      "outputs": []
    },
    {
      "cell_type": "code",
      "source": [
        "print(a.name)"
      ],
      "metadata": {
        "colab": {
          "base_uri": "https://localhost:8080/"
        },
        "id": "CCjoym0iNASK",
        "outputId": "fbddcdba-7b56-4987-9fc8-7ffa35a00668"
      },
      "execution_count": 33,
      "outputs": [
        {
          "output_type": "stream",
          "name": "stdout",
          "text": [
            "Hira\n"
          ]
        }
      ]
    },
    {
      "cell_type": "code",
      "source": [
        "print(Dog.kind)"
      ],
      "metadata": {
        "colab": {
          "base_uri": "https://localhost:8080/"
        },
        "id": "THkiBFFaLQyu",
        "outputId": "f3fb67b1-8cc8-40c1-a485-3c8969e8773a"
      },
      "execution_count": 28,
      "outputs": [
        {
          "output_type": "stream",
          "name": "stdout",
          "text": [
            "labrador\n"
          ]
        }
      ]
    },
    {
      "cell_type": "code",
      "source": [
        "print(a.kind)\n",
        "print(b.kind)"
      ],
      "metadata": {
        "colab": {
          "base_uri": "https://localhost:8080/"
        },
        "id": "zm0VrfXLLVsh",
        "outputId": "5c162e9f-9f9a-4e20-a625-d9bdd6dbaf56"
      },
      "execution_count": 30,
      "outputs": [
        {
          "output_type": "stream",
          "name": "stdout",
          "text": [
            "labrador\n",
            "labrador\n"
          ]
        }
      ]
    },
    {
      "cell_type": "code",
      "source": [
        "a.kind = \"poodle\"\n",
        "print(a.kind)\n",
        "print(b.kind)\n",
        "print(Dog.kind)"
      ],
      "metadata": {
        "colab": {
          "base_uri": "https://localhost:8080/"
        },
        "id": "-kFHY2ZkL1qH",
        "outputId": "70a70497-c030-460d-f184-a00468353835"
      },
      "execution_count": 32,
      "outputs": [
        {
          "output_type": "stream",
          "name": "stdout",
          "text": [
            "poodle\n",
            "labrador\n",
            "labrador\n"
          ]
        }
      ]
    },
    {
      "cell_type": "code",
      "source": [],
      "metadata": {
        "id": "vjw1CU7VL_Kc"
      },
      "execution_count": null,
      "outputs": []
    }
  ]
}