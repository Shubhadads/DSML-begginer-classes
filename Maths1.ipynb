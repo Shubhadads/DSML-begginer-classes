{
  "nbformat": 4,
  "nbformat_minor": 0,
  "metadata": {
    "colab": {
      "name": "Maths1.ipynb",
      "provenance": []
    },
    "kernelspec": {
      "name": "python3",
      "display_name": "Python 3"
    },
    "language_info": {
      "name": "python"
    }
  },
  "cells": [
    {
      "cell_type": "code",
      "execution_count": null,
      "metadata": {
        "colab": {
          "base_uri": "https://localhost:8080/"
        },
        "id": "1eZjbgxei-ET",
        "outputId": "1dd13dd2-df9d-4f17-9fb0-230c469837b0"
      },
      "outputs": [
        {
          "output_type": "stream",
          "name": "stdout",
          "text": [
            "3.0\n",
            "2.0\n",
            "-1.0\n",
            "2.302585092994046\n",
            "2.8613531161467867\n"
          ]
        }
      ],
      "source": [
        "import math\n",
        "\n",
        "# Library -> Books you can read\n",
        "# Module -> Commonly used functions / data structures\n",
        "\n",
        "# f(x) -> y\n",
        "\n",
        "print(math.log2(8))\n",
        "print(math.log10(100))\n",
        "print(math.log10(0.1))\n",
        "print(math.log(10))\n",
        "\n",
        "# print(math.log(value, base)) -> power\n",
        "print(math.log(100, 5))"
      ]
    },
    {
      "cell_type": "code",
      "source": [
        "range(0, 5) # -> [0, 5)\n",
        "\n",
        "# list is array in Python\n",
        "# we have 5 classes on list later\n",
        "\n",
        "print(list(range(0,5)))"
      ],
      "metadata": {
        "colab": {
          "base_uri": "https://localhost:8080/"
        },
        "id": "DaO2_d8hpSJH",
        "outputId": "40a4fae8-08b6-48d8-fc4b-8f50eeeffe28"
      },
      "execution_count": null,
      "outputs": [
        {
          "output_type": "stream",
          "name": "stdout",
          "text": [
            "[0, 1, 2, 3, 4]\n"
          ]
        }
      ]
    }
  ]
}