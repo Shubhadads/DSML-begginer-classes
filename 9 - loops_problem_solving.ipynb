{
  "nbformat": 4,
  "nbformat_minor": 0,
  "metadata": {
    "colab": {
      "provenance": []
    },
    "kernelspec": {
      "name": "python3",
      "display_name": "Python 3"
    },
    "language_info": {
      "name": "python"
    }
  },
  "cells": [
    {
      "cell_type": "code",
      "execution_count": 3,
      "metadata": {
        "colab": {
          "base_uri": "https://localhost:8080/"
        },
        "id": "DEEj_C22mxuN",
        "outputId": "6e790541-b984-4f5b-aab0-3e65a624db46"
      },
      "outputs": [
        {
          "name": "stdout",
          "output_type": "stream",
          "text": [
            "20\n"
          ]
        }
      ],
      "source": [
        "# pass\n",
        "\n",
        "n = int(input())\n",
        "\n",
        "if n == 10 :\n",
        "  # do something\n",
        "  print(\"N is 10\")"
      ]
    },
    {
      "cell_type": "code",
      "source": [
        "x = 5\n",
        "if x % 2 == 0:\n",
        "  pass\n",
        "  print(x ** 3)\n",
        "else:\n",
        "  pass\n",
        "  print(x ** 2)\n",
        "\n",
        "# ans is 25"
      ],
      "metadata": {
        "colab": {
          "base_uri": "https://localhost:8080/"
        },
        "id": "7nJts5P3oNa_",
        "outputId": "1f26ba32-e8e7-4df6-89b8-2cf29cc82575"
      },
      "execution_count": 4,
      "outputs": [
        {
          "output_type": "stream",
          "name": "stdout",
          "text": [
            "25\n"
          ]
        }
      ]
    },
    {
      "cell_type": "code",
      "source": [
        "# sep in print\n",
        "\n",
        "print(\"Hello\", \"World\", \"How\", \"are\", \"you\", 8, 9.3456, None, True)"
      ],
      "metadata": {
        "colab": {
          "base_uri": "https://localhost:8080/"
        },
        "id": "hgsdx_fWowC4",
        "outputId": "13471448-90e3-40b4-e299-0c5b50769822"
      },
      "execution_count": 5,
      "outputs": [
        {
          "output_type": "stream",
          "name": "stdout",
          "text": [
            "Hello World How are you 8 9.3456 None True\n"
          ]
        }
      ]
    },
    {
      "cell_type": "code",
      "source": [
        "# separator to change what is printed in between values\n",
        "\n",
        "print(\"Hello\", \"World\", \"Good\", \"evening\", sep=' 100 ')"
      ],
      "metadata": {
        "colab": {
          "base_uri": "https://localhost:8080/"
        },
        "id": "NK83kjdIo9Wb",
        "outputId": "e38fcd3c-7860-4d68-efc7-7fbbc8fad66d"
      },
      "execution_count": 8,
      "outputs": [
        {
          "output_type": "stream",
          "name": "stdout",
          "text": [
            "Hello 100 World 100 Good 100 evening\n"
          ]
        }
      ]
    },
    {
      "cell_type": "code",
      "source": [
        "for i in range(3):\n",
        "    print(\"i\", i, sep='=')"
      ],
      "metadata": {
        "colab": {
          "base_uri": "https://localhost:8080/"
        },
        "id": "ObIdevgqpapZ",
        "outputId": "15328610-1c40-4188-90c8-781efd5823a4"
      },
      "execution_count": 7,
      "outputs": [
        {
          "output_type": "stream",
          "name": "stdout",
          "text": [
            "i=0\n",
            "i=1\n",
            "i=2\n"
          ]
        }
      ]
    },
    {
      "cell_type": "code",
      "source": [
        "# end in print\n",
        "\n",
        "print(\"Hello!\")\n",
        "print(\"My name is Aarnav\")"
      ],
      "metadata": {
        "colab": {
          "base_uri": "https://localhost:8080/"
        },
        "id": "Wt5aRhAMqf9k",
        "outputId": "704d3b87-c0de-4968-babc-0c176a9f86c6"
      },
      "execution_count": 9,
      "outputs": [
        {
          "output_type": "stream",
          "name": "stdout",
          "text": [
            "Hello!\n",
            "My name is Aarnav\n"
          ]
        }
      ]
    },
    {
      "cell_type": "code",
      "source": [
        "print(\"Hello!\", end = ' ')\n",
        "print(\"My name is Aarnav\")"
      ],
      "metadata": {
        "colab": {
          "base_uri": "https://localhost:8080/"
        },
        "id": "r6asvRrrq05H",
        "outputId": "a6f27144-3cb3-4f8c-d1e8-0b193a085b0c"
      },
      "execution_count": 12,
      "outputs": [
        {
          "output_type": "stream",
          "name": "stdout",
          "text": [
            "Hello! \n",
            "\n",
            "My name is Aarnav\n"
          ]
        }
      ]
    },
    {
      "cell_type": "code",
      "source": [
        "# sep and end in print\n",
        "\n",
        "print(\"Hello\", \"World\", sep=',', end='+')\n",
        "print(\"Foo\", sep='./') # default value of end is new line\n",
        "print(\"Bar\", end=' 123')\n",
        "\n",
        "# Hello,World+Foo\n",
        "# Bar 123"
      ],
      "metadata": {
        "colab": {
          "base_uri": "https://localhost:8080/"
        },
        "id": "rqe8zDVcrCuA",
        "outputId": "4e0a53e4-a3ed-406e-ab67-6ae235eb5fd3"
      },
      "execution_count": 13,
      "outputs": [
        {
          "output_type": "stream",
          "name": "stdout",
          "text": [
            "Hello,World+Foo\n",
            "Bar 123"
          ]
        }
      ]
    },
    {
      "cell_type": "code",
      "source": [
        "for i in range(2, 5):\n",
        "    print(\"i\", i, end=' ', sep='=')\n",
        "\n",
        "# range(2, 5) = [2, 3, 4]\n",
        "# i=2 i=3 i=4"
      ],
      "metadata": {
        "colab": {
          "base_uri": "https://localhost:8080/"
        },
        "id": "uvRznDF7tCle",
        "outputId": "c52a1145-28c0-4358-ed9c-659f0f37a1cd"
      },
      "execution_count": 14,
      "outputs": [
        {
          "output_type": "stream",
          "name": "stdout",
          "text": [
            "i=2 i=3 i=4 "
          ]
        }
      ]
    },
    {
      "cell_type": "code",
      "source": [
        "# Factors\n",
        "\n",
        "# An integer X is a factor of integer Y if Y % X == 0 ( Y is a multiple of X )\n",
        "\n",
        "Y = 24\n",
        "X = 1, 2, 3, 4, 6, 8, 12, 24\n",
        "\n",
        "Y = 48\n",
        "X = 1, 2, 3, 4, 6, 8, 12, 16, 24, 48\n",
        "\n",
        "Y % X -> will be 0 for the above cases"
      ],
      "metadata": {
        "id": "AwTn49z3uxJq"
      },
      "execution_count": null,
      "outputs": []
    },
    {
      "cell_type": "code",
      "source": [
        "# Smallest factor of any positive integer N\n",
        "1\n",
        "\n",
        "# Biggest factor of any positive integer N\n",
        "N\n",
        "\n",
        "# Range of all factors of N\n",
        "1 to N -> range(1, N+1)"
      ],
      "metadata": {
        "id": "rLbfQiPkv_2z"
      },
      "execution_count": null,
      "outputs": []
    },
    {
      "cell_type": "code",
      "source": [
        "# Print all factors of N\n",
        "\n",
        "N = int(input())\n",
        "for i in range(1, N+1) :\n",
        "  if N % i == 0 :\n",
        "    print(i, end = ', ')"
      ],
      "metadata": {
        "colab": {
          "base_uri": "https://localhost:8080/"
        },
        "id": "rhzEi6eAxDyq",
        "outputId": "de1b0890-5d10-4249-917b-6849b3546359"
      },
      "execution_count": 16,
      "outputs": [
        {
          "output_type": "stream",
          "name": "stdout",
          "text": [
            "24\n",
            "1, 2, 3, 4, 6, 8, 12, 24, "
          ]
        }
      ]
    },
    {
      "cell_type": "code",
      "source": [
        "# Break - 10:10pm"
      ],
      "metadata": {
        "id": "_LiZGhMnyTy6"
      },
      "execution_count": 20,
      "outputs": []
    },
    {
      "cell_type": "code",
      "source": [
        "# Print count of factors of N\n",
        "\n",
        "N = int(input())\n",
        "\n",
        "cnt = 0\n",
        "\n",
        "for i in range(1, N+1) :\n",
        "  if N % i == 0 :\n",
        "    cnt = cnt + 1\n",
        "\n",
        "print(\"N has\", cnt, \"factors\")"
      ],
      "metadata": {
        "colab": {
          "base_uri": "https://localhost:8080/"
        },
        "id": "sD-r4hOI1S9o",
        "outputId": "1d489d9c-2740-45ae-e2b5-49e73fe2f219"
      },
      "execution_count": 24,
      "outputs": [
        {
          "output_type": "stream",
          "name": "stdout",
          "text": [
            "12\n",
            "N has 6 factors\n"
          ]
        }
      ]
    },
    {
      "cell_type": "code",
      "source": [
        "# Print sum of factors of N\n",
        "\n",
        "N = int(input())\n",
        "\n",
        "sum = 0\n",
        "\n",
        "for i in range(1, N+1) :\n",
        "  if N % i == 0 :\n",
        "    sum = sum + i\n",
        "\n",
        "print(\"Sum of factors of N is\", sum)"
      ],
      "metadata": {
        "colab": {
          "base_uri": "https://localhost:8080/"
        },
        "id": "IzuMHds92OM5",
        "outputId": "63903aa1-b07d-4b44-83f3-2f16e59e1b3f"
      },
      "execution_count": 25,
      "outputs": [
        {
          "output_type": "stream",
          "name": "stdout",
          "text": [
            "12\n",
            "Sum of factors of N is 28\n"
          ]
        }
      ]
    },
    {
      "cell_type": "code",
      "source": [
        "# Prime numbers\n",
        "\n",
        "# A number N is a prime number if it has factors 1 and itself -> Wrong\n",
        "N = 1 (1, 1)\n",
        "# Fact that 1 is not a prime number\n",
        "\n",
        "# A number N which has exactly 2 factors -> Correct\n",
        "N = 1 (1, 1)\n",
        "# By this definition N is not a prime number"
      ],
      "metadata": {
        "id": "Irrgt_Js3L19"
      },
      "execution_count": null,
      "outputs": []
    },
    {
      "cell_type": "code",
      "source": [
        "# Given a number N in the input. \n",
        "# Print prime if it is a \"prime\". \n",
        "\n",
        "N = int(input())\n",
        "\n",
        "cnt = 0\n",
        "\n",
        "for i in range(1, N+1) :\n",
        "  if N % i == 0 :\n",
        "    cnt = cnt + 1\n",
        "\n",
        "if cnt == 2 :\n",
        "  print(\"prime\")\n",
        "else :\n",
        "  print(\"not prime\")"
      ],
      "metadata": {
        "colab": {
          "base_uri": "https://localhost:8080/"
        },
        "id": "-GajCWLI4pbi",
        "outputId": "1f34f52f-873b-4588-90f3-9c3704c41891"
      },
      "execution_count": 28,
      "outputs": [
        {
          "output_type": "stream",
          "name": "stdout",
          "text": [
            "1\n",
            "not prime\n"
          ]
        }
      ]
    },
    {
      "cell_type": "code",
      "source": [
        "# 2 is the smallest prime number\n",
        "# 2 is the only even prime number"
      ],
      "metadata": {
        "id": "nurFR0GW62hr"
      },
      "execution_count": null,
      "outputs": []
    },
    {
      "cell_type": "code",
      "source": [
        "# break\n",
        "\n",
        "for i in range(1, 10) :\n",
        "  print(i, end=' ')\n",
        "  if i == 5 :\n",
        "    break # breaks or stops or destroys the loop\n",
        "\n",
        "print(\"Hello\")"
      ],
      "metadata": {
        "colab": {
          "base_uri": "https://localhost:8080/"
        },
        "id": "ocOW3zsh7o6I",
        "outputId": "d2bbf2f9-9595-4b0b-9587-3e7146d194b3"
      },
      "execution_count": 31,
      "outputs": [
        {
          "output_type": "stream",
          "name": "stdout",
          "text": [
            "1 2 3 4 5 Hello\n"
          ]
        }
      ]
    },
    {
      "cell_type": "code",
      "source": [
        "for i in range(1, 10):\n",
        "  if i == 5:\n",
        "    break\n",
        "  print(i, end=' ')"
      ],
      "metadata": {
        "colab": {
          "base_uri": "https://localhost:8080/"
        },
        "id": "0-1MOgY38xtv",
        "outputId": "148c7bfd-3a37-4dd1-ff1d-675595b26bd5"
      },
      "execution_count": 32,
      "outputs": [
        {
          "output_type": "stream",
          "name": "stdout",
          "text": [
            "1 2 3 4 "
          ]
        }
      ]
    },
    {
      "cell_type": "code",
      "source": [
        "# continue\n",
        "\n",
        "for i in range(10):\n",
        "  print(i, end=' ')\n",
        "\n",
        "print()\n",
        "\n",
        "for i in range(10):\n",
        "  if i == 5 :\n",
        "    continue\n",
        "  print(i, end=' ')"
      ],
      "metadata": {
        "colab": {
          "base_uri": "https://localhost:8080/"
        },
        "id": "FtG6q0yy9AJ9",
        "outputId": "f7396f08-6cac-435d-e61a-011eb5ccca55"
      },
      "execution_count": 35,
      "outputs": [
        {
          "output_type": "stream",
          "name": "stdout",
          "text": [
            "0 1 2 3 4 5 6 7 8 9 \n",
            "0 1 2 3 4 6 7 8 9 "
          ]
        }
      ]
    },
    {
      "cell_type": "code",
      "source": [
        "for i in range(0,10):\n",
        "  if i%3==0:\n",
        "    continue\n",
        "  print(i, end=' ')\n",
        "\n",
        "# range(0, 10) -> 0 to 9\n",
        "# i : 0 1 2 3 4 5 6 7 8 9\n",
        "\n",
        "# i   i%3==0  print\n",
        "# 0   True\n",
        "# 1   False   1\n",
        "# 2   False   2\n",
        "# 3   True\n",
        "# 4   False   4\n",
        "# 5   False   5\n",
        "# 6   True\n",
        "# 7   False   7\n",
        "# 8   False   8\n",
        "# 9   True\n"
      ],
      "metadata": {
        "colab": {
          "base_uri": "https://localhost:8080/"
        },
        "id": "Ipb91itr-lC5",
        "outputId": "cffec24f-5f5c-47d9-e7e3-c8dd961d623b"
      },
      "execution_count": 36,
      "outputs": [
        {
          "output_type": "stream",
          "name": "stdout",
          "text": [
            "1 2 4 5 7 8 "
          ]
        }
      ]
    },
    {
      "cell_type": "code",
      "source": [
        "# Random Game\n",
        "\n",
        "# Design a game to generate and print random numbers from 1 to 10.\n",
        "\n",
        "# You need to keep on printing till you get a 5\n",
        "# Skip printing multiples of 4\n",
        "\n",
        "import random\n",
        "\n",
        "for i in range(5):\n",
        "    r = random.randint(1, 10)\n",
        "    print(r, end=' ')"
      ],
      "metadata": {
        "colab": {
          "base_uri": "https://localhost:8080/"
        },
        "id": "kZXPR0ZJAESc",
        "outputId": "c304ea10-e621-4ca2-ccec-b73313cf97d9"
      },
      "execution_count": 40,
      "outputs": [
        {
          "output_type": "stream",
          "name": "stdout",
          "text": [
            "9 6 8 2 4 "
          ]
        }
      ]
    },
    {
      "cell_type": "code",
      "source": [
        "while True :\n",
        "\n",
        "  # Generate a random number\n",
        "  r = random.randint(1, 10)\n",
        "\n",
        "  # Skip printing r if it is a multiple of 4\n",
        "  if r % 4 == 0 :\n",
        "    continue\n",
        "  \n",
        "  print(r, end=' ')\n",
        "\n",
        "  # Stop printing when you see 5\n",
        "  if r == 5 :\n",
        "    break"
      ],
      "metadata": {
        "colab": {
          "base_uri": "https://localhost:8080/"
        },
        "id": "yoxT_NpwAvHy",
        "outputId": "5c9be422-1e51-4879-bc8a-798b0837bb83"
      },
      "execution_count": 47,
      "outputs": [
        {
          "output_type": "stream",
          "name": "stdout",
          "text": [
            "1 6 10 6 9 2 2 5 "
          ]
        }
      ]
    },
    {
      "cell_type": "code",
      "source": [
        "n = int(input())\n",
        "\n",
        "for i in range(n) :\n",
        "  print('*', end='')"
      ],
      "metadata": {
        "colab": {
          "base_uri": "https://localhost:8080/"
        },
        "id": "FIG01EcaFwS4",
        "outputId": "6cd4cefc-4e3b-4999-ab0f-bd7725c56ff0"
      },
      "execution_count": 50,
      "outputs": [
        {
          "output_type": "stream",
          "name": "stdout",
          "text": [
            "8\n",
            "********"
          ]
        }
      ]
    },
    {
      "cell_type": "code",
      "source": [
        "import random\n",
        "\n",
        "while True:\n",
        "  r=random.randint(1,10)\n",
        "  if r%4==0:\n",
        "    pass\n",
        "\n",
        "  print(r,end=' ')\n",
        "  \n",
        "  if r==5:\n",
        "    break"
      ],
      "metadata": {
        "colab": {
          "base_uri": "https://localhost:8080/"
        },
        "id": "iCYvGrhzIEQa",
        "outputId": "e1ae938d-66d8-4673-b96e-375bc4dd26c0"
      },
      "execution_count": 51,
      "outputs": [
        {
          "output_type": "stream",
          "name": "stdout",
          "text": [
            "7 9 9 7 7 6 2 7 7 4 2 7 4 8 4 8 8 7 5 "
          ]
        }
      ]
    },
    {
      "cell_type": "code",
      "source": [],
      "metadata": {
        "id": "mOqbGcDKJIP9"
      },
      "execution_count": null,
      "outputs": []
    }
  ]
}