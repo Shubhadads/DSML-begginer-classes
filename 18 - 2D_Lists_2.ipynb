{
  "cells": [
    {
      "cell_type": "markdown",
      "id": "4cfc177c",
      "metadata": {
        "id": "4cfc177c"
      },
      "source": [
        "# 2D Arrays - 2\n",
        "![](https://scaler.com/topics/images/two-dimensional-array-in-c.webp)"
      ]
    },
    {
      "cell_type": "code",
      "execution_count": null,
      "id": "67ae9821",
      "metadata": {
        "id": "67ae9821"
      },
      "outputs": [],
      "source": []
    },
    {
      "cell_type": "code",
      "execution_count": null,
      "id": "dfec9c06",
      "metadata": {
        "id": "dfec9c06"
      },
      "outputs": [],
      "source": []
    },
    {
      "cell_type": "code",
      "execution_count": null,
      "id": "d1a9bdbc",
      "metadata": {
        "id": "d1a9bdbc"
      },
      "outputs": [],
      "source": []
    },
    {
      "cell_type": "code",
      "execution_count": null,
      "id": "2befa049",
      "metadata": {
        "id": "2befa049"
      },
      "outputs": [],
      "source": []
    },
    {
      "cell_type": "markdown",
      "id": "93e8f697",
      "metadata": {
        "id": "93e8f697"
      },
      "source": [
        "### Reading 2D Array Input\n",
        "![](https://scaler.com/topics/images/raw-input-in-python.webp)"
      ]
    },
    {
      "cell_type": "markdown",
      "id": "34e2841e",
      "metadata": {
        "id": "34e2841e"
      },
      "source": [
        "### Sample Input\n",
        "```\n",
        "2 3\n",
        "10 20 30\n",
        "40 50 60\n",
        "```\n",
        "\n",
        "2 Rows \\\n",
        "3 Columns\n"
      ]
    },
    {
      "cell_type": "code",
      "execution_count": 12,
      "id": "0b5541b1",
      "metadata": {
        "colab": {
          "base_uri": "https://localhost:8080/"
        },
        "id": "0b5541b1",
        "outputId": "df5b8e80-eb16-44da-ec3e-dff87d853615"
      },
      "outputs": [
        {
          "output_type": "stream",
          "name": "stdout",
          "text": [
            "2 3\n",
            "row 2 cols 3\n"
          ]
        }
      ],
      "source": [
        "# Input contains of row and col\n",
        "# 1st val is row, 2nd is col\n",
        "ls = list(map(int, input().split()))\n",
        "\n",
        "rows = ls[0]\n",
        "cols = ls[1]\n",
        "print('row', rows, 'cols', cols)"
      ]
    },
    {
      "cell_type": "code",
      "execution_count": 13,
      "id": "447976a9",
      "metadata": {
        "colab": {
          "base_uri": "https://localhost:8080/"
        },
        "id": "447976a9",
        "outputId": "3ae5945a-c947-4cbc-872d-57123a44d8b7"
      },
      "outputs": [
        {
          "output_type": "stream",
          "name": "stdout",
          "text": [
            "10 20 30\n",
            "40 50 60\n",
            "[[10, 20, 30], [40, 50, 60]]\n"
          ]
        }
      ],
      "source": [
        "A = []\n",
        "\n",
        "for i in range(rows) :\n",
        "  # Take ith row in the input\n",
        "  row = list(map(int, input().split()))\n",
        "  # Append row inside the 2D list\n",
        "  A.append(row)\n",
        "\n",
        "print(A)\n",
        "\n",
        "\n",
        "# [[1, 4, 5], [9, 3, -2]]"
      ]
    },
    {
      "cell_type": "markdown",
      "id": "ba6500e1",
      "metadata": {
        "id": "ba6500e1"
      },
      "source": [
        "### Sum of two matrices"
      ]
    },
    {
      "cell_type": "code",
      "execution_count": 19,
      "id": "f365080b",
      "metadata": {
        "id": "f365080b"
      },
      "outputs": [],
      "source": [
        "A = [\n",
        "    [2, 9],\n",
        "    [8, 7],\n",
        "    [0, 1]\n",
        "]\n",
        "\n",
        "B = [\n",
        "    [10, -5],\n",
        "    [-3, 1],\n",
        "    [3, 0]\n",
        "]"
      ]
    },
    {
      "cell_type": "code",
      "execution_count": 22,
      "id": "798df103",
      "metadata": {
        "colab": {
          "base_uri": "https://localhost:8080/"
        },
        "id": "798df103",
        "outputId": "85e58c36-4c45-445c-ea2f-7b463c421007"
      },
      "outputs": [
        {
          "output_type": "stream",
          "name": "stdout",
          "text": [
            "[[12, 4], [5, 8], [3, 1]]\n"
          ]
        }
      ],
      "source": [
        "C = []\n",
        "\n",
        "rows = len(A) # no of rows in A, B\n",
        "cols = len(A[0]) # no of cols in A, B\n",
        "\n",
        "for i in range(rows) :\n",
        "\n",
        "  row = []\n",
        "\n",
        "  for j in range(cols) :\n",
        "    \n",
        "    val = A[i][j] + B[i][j]\n",
        "    row.append(val)\n",
        "\n",
        "  C.append(row)\n",
        "\n",
        "print(C)\n",
        "\n",
        "# Approach 1\n",
        "# C[i][j] = A[i][j] + B[i][j] -> Error\n",
        "# C[0][0] = A[0][0] + B[0][0] -> C is a 1D list\n",
        "\n",
        "# Approach 2\n",
        "# val = A[i][j] + B[i][j] -> Incorrect since it returns a 1D list\n",
        "# C.append(val)"
      ]
    },
    {
      "cell_type": "code",
      "execution_count": null,
      "id": "69aaca93",
      "metadata": {
        "id": "69aaca93"
      },
      "outputs": [],
      "source": []
    },
    {
      "cell_type": "markdown",
      "id": "d4cdf262",
      "metadata": {
        "id": "d4cdf262"
      },
      "source": [
        "### Swap two numbers\n",
        "![](https://scaler.com/topics/images/swapping-of-two-numbers-in-python.webp)"
      ]
    },
    {
      "cell_type": "code",
      "source": [
        "A = 6\n",
        "B = 7\n",
        "\n",
        "# What we want to do\n",
        "A = 7\n",
        "B = 6"
      ],
      "metadata": {
        "id": "iOU26Lra6QHo"
      },
      "id": "iOU26Lra6QHo",
      "execution_count": null,
      "outputs": []
    },
    {
      "cell_type": "code",
      "execution_count": null,
      "id": "8b74a795",
      "metadata": {
        "id": "8b74a795"
      },
      "outputs": [],
      "source": [
        "# Lots of ways of swapping\n",
        "1. Use a temp variable\n",
        "2. Uses addition & subtraction\n",
        "3. XOR - Bit Manipulation\n",
        "4. Simplest way - Unique to Python (Method we will do)"
      ]
    },
    {
      "cell_type": "code",
      "execution_count": 14,
      "id": "a16c8b21",
      "metadata": {
        "colab": {
          "base_uri": "https://localhost:8080/"
        },
        "id": "a16c8b21",
        "outputId": "a12d1c45-0a31-4577-da15-0c35a0fc6d81"
      },
      "outputs": [
        {
          "output_type": "stream",
          "name": "stdout",
          "text": [
            "10 3\n"
          ]
        }
      ],
      "source": [
        "A = 3\n",
        "B = 10\n",
        "\n",
        "A, B = B, A\n",
        "\n",
        "print(A, B)"
      ]
    },
    {
      "cell_type": "code",
      "execution_count": 16,
      "id": "b200cda1",
      "metadata": {
        "colab": {
          "base_uri": "https://localhost:8080/"
        },
        "id": "b200cda1",
        "outputId": "f45c9517-d1fb-42fd-80f6-c616d9a50d0f"
      },
      "outputs": [
        {
          "output_type": "stream",
          "name": "stdout",
          "text": [
            "1 2 3\n"
          ]
        }
      ],
      "source": [
        "# ls = [1, 2, 3]\n",
        "# A, B, C = ls\n",
        "\n",
        "A = 3\n",
        "B = 2\n",
        "C = 1\n",
        "\n",
        "A, B, C = C, B, A\n",
        "\n",
        "print(A, B, C)"
      ]
    },
    {
      "cell_type": "markdown",
      "id": "0bbe4b32",
      "metadata": {
        "id": "0bbe4b32"
      },
      "source": [
        "### Transpose\n",
        "![](https://scaler.com/topics/images/transpose-of-a-matrix-in-python-featured-image.webp)\n",
        "<img src=\"https://scaler.com/topics/images/transpose-of-matrix.webp\" width=\"600px\" />"
      ]
    },
    {
      "cell_type": "code",
      "execution_count": 23,
      "id": "405b121f",
      "metadata": {
        "id": "405b121f"
      },
      "outputs": [],
      "source": [
        "A = [\n",
        "    [1, 2, 3],\n",
        "    [4, 5, 6]\n",
        "]\n",
        "\n",
        "# At = [\n",
        "#     [1, 4],\n",
        "#     [2, 5],\n",
        "#     [3, 6]\n",
        "# ]"
      ]
    },
    {
      "cell_type": "code",
      "source": [
        "At = []\n",
        "\n",
        "rows = len(A)\n",
        "cols = len(A[0])\n",
        "\n",
        "for col in range(cols) :\n",
        "\n",
        "  # Put all column values inside a list\n",
        "  ls = []\n",
        "\n",
        "  for row in range(rows) :\n",
        "    ls.append(A[row][col])\n",
        "  \n",
        "  # Put list inside transpose\n",
        "  At.append(ls)\n",
        "\n",
        "print(At)"
      ],
      "metadata": {
        "colab": {
          "base_uri": "https://localhost:8080/"
        },
        "id": "UYw_sjI5AVdi",
        "outputId": "43aad1a1-75c3-497a-e67a-2ba19e448d01"
      },
      "id": "UYw_sjI5AVdi",
      "execution_count": 26,
      "outputs": [
        {
          "output_type": "stream",
          "name": "stdout",
          "text": [
            "[[1, 4], [2, 5], [3, 6]]\n"
          ]
        }
      ]
    },
    {
      "cell_type": "code",
      "source": [],
      "metadata": {
        "id": "VY85kfqeAVh7"
      },
      "id": "VY85kfqeAVh7",
      "execution_count": null,
      "outputs": []
    },
    {
      "cell_type": "markdown",
      "id": "81cfe650",
      "metadata": {
        "id": "81cfe650"
      },
      "source": [
        "### Check Identity Matrix"
      ]
    },
    {
      "cell_type": "code",
      "execution_count": null,
      "id": "499ef1bb",
      "metadata": {
        "id": "499ef1bb"
      },
      "outputs": [],
      "source": [
        "# Given a square 2D matrix in the input\n",
        "# Check whether it is identity matrix or not\n",
        "\n",
        "# 1. Diagonal elements are 1 -> diagonal elements have row, col index same\n",
        "# 2. Non-diagonal elements are 0 -> non-diagonal elments have row, col index not same"
      ]
    },
    {
      "cell_type": "code",
      "execution_count": null,
      "id": "06e0fb31",
      "metadata": {
        "id": "06e0fb31"
      },
      "outputs": [],
      "source": []
    },
    {
      "cell_type": "code",
      "execution_count": null,
      "id": "d4330177",
      "metadata": {
        "id": "d4330177"
      },
      "outputs": [],
      "source": []
    },
    {
      "cell_type": "markdown",
      "id": "628ce767",
      "metadata": {
        "id": "628ce767"
      },
      "source": [
        "## Bonus Reading Material\n",
        "- Wtf Python: A tic-tac-toe where X wins in the first attempt! - https://github.com/satwikkansal/wtfpython#-a-tic-tac-toe-where-x-wins-in-the-first-attempt\n",
        "- Swapping of Two Numbers in Python - https://www.scaler.com/topics/swapping-of-two-numbers-in-python/\n",
        "- Transpose of a Matrix in Python - https://www.scaler.com/topics/transpose-of-a-matrix-in-python/\n",
        "- Matrix Multiplication in Python - https://www.scaler.com/topics/matrix-multiplication-in-python/\n",
        "- What is List Comprehension in Python? - https://www.scaler.com/topics/list-comprehension-in-python/"
      ]
    },
    {
      "cell_type": "code",
      "execution_count": null,
      "id": "5b95b9a5",
      "metadata": {
        "id": "5b95b9a5"
      },
      "outputs": [],
      "source": []
    },
    {
      "cell_type": "code",
      "execution_count": null,
      "id": "9366cd12",
      "metadata": {
        "id": "9366cd12"
      },
      "outputs": [],
      "source": []
    },
    {
      "cell_type": "markdown",
      "id": "dbdd73cf",
      "metadata": {
        "id": "dbdd73cf"
      },
      "source": [
        "# Doubts"
      ]
    },
    {
      "cell_type": "code",
      "source": [
        "def solve(self, A): \n",
        "  \n",
        "  for i in range(len(A)-1): \n",
        "    if A[i] > A[i+1]: \n",
        "      return 0\n",
        "\n",
        "  return 1\n",
        "\n",
        "1 4 3 5\n",
        "d = 4\n",
        "\n",
        "Sorted list -> All pairs should follow this condition A[i]<=A[i+1]"
      ],
      "metadata": {
        "id": "xAcw09nDu2HC"
      },
      "id": "xAcw09nDu2HC",
      "execution_count": null,
      "outputs": []
    },
    {
      "cell_type": "code",
      "source": [
        "ls1 = [1, 2]\n",
        "ls2 = ls1 # Both variables refer to same list [1, 2]\n",
        "\n",
        "ls1[0] = 3\n",
        "print(ls1, ls2)"
      ],
      "metadata": {
        "colab": {
          "base_uri": "https://localhost:8080/"
        },
        "id": "f4NH1PtoJXk5",
        "outputId": "dcbf585e-7611-43d0-d17a-4a4f4be6522b"
      },
      "id": "f4NH1PtoJXk5",
      "execution_count": 27,
      "outputs": [
        {
          "output_type": "stream",
          "name": "stdout",
          "text": [
            "[3, 2] [3, 2]\n"
          ]
        }
      ]
    },
    {
      "cell_type": "code",
      "source": [
        "ls1 = [1, 2]\n",
        "ls2 = ls1.copy() # ls2 refers to a new copy of ls1\n",
        "\n",
        "ls1[0] = 3\n",
        "print(ls1, ls2)"
      ],
      "metadata": {
        "colab": {
          "base_uri": "https://localhost:8080/"
        },
        "id": "Yw0ogfw9JrHc",
        "outputId": "01a11fa2-d7f7-4eb2-cd9e-adf5c527d105"
      },
      "id": "Yw0ogfw9JrHc",
      "execution_count": 28,
      "outputs": [
        {
          "output_type": "stream",
          "name": "stdout",
          "text": [
            "[3, 2] [1, 2]\n"
          ]
        }
      ]
    },
    {
      "cell_type": "code",
      "source": [
        "A = [\n",
        "    [1, 2, 3],\n",
        "    [4, 5, 6]\n",
        "]\n",
        "\n",
        "AT = []\n",
        "cols = len(A[0])\n",
        "rows = len(A)\n",
        "\n",
        "for col in range(cols):\n",
        "  ls = []\n",
        "  for row in range(rows):\n",
        "    ls.append(A[row][col])\n",
        "  AT.append(ls)\n",
        "\n",
        "print(AT)\n",
        "\n",
        "# output: [[],[],[]]"
      ],
      "metadata": {
        "colab": {
          "base_uri": "https://localhost:8080/"
        },
        "id": "E6C8mraiKIrV",
        "outputId": "058f733a-e2b7-4e16-989d-41b4d4280bc9"
      },
      "id": "E6C8mraiKIrV",
      "execution_count": 31,
      "outputs": [
        {
          "output_type": "stream",
          "name": "stdout",
          "text": [
            "[[1, 4], [2, 5], [3, 6]]\n"
          ]
        }
      ]
    },
    {
      "cell_type": "code",
      "source": [
        "Given a 1 based array A of size N, return the number of perfect pairs (i,j).\n",
        "\n",
        "A pair (i,j) is said to be perfect if:\n",
        "  A[i] - min_ind(j) <= A[j] - min_ind(i)\n",
        "  i != j\n",
        "  A[i] != A[j]\n",
        "  A[j] mod A[i] = 0\n",
        "\n",
        "Where min_ind(x) gives the smallest index i, such that A[i] = A[x]\n",
        "\n",
        "[1, 4, 5, 7, 2, 4, 4]\n",
        "x = 5"
      ],
      "metadata": {
        "id": "80nQuY3XLBbu"
      },
      "id": "80nQuY3XLBbu",
      "execution_count": null,
      "outputs": []
    },
    {
      "cell_type": "code",
      "source": [
        "fruits = [\"apple\", \"banana\", \"cherry\", \"kiwi\", \"mango\"]\n",
        "newlist = []\n",
        "\n",
        "for x in fruits:\n",
        "  if \"a\" in x:\n",
        "    newlist.append(x)\n",
        "\n",
        "print(newlist)"
      ],
      "metadata": {
        "id": "GX1aloELMNqH"
      },
      "id": "GX1aloELMNqH",
      "execution_count": null,
      "outputs": []
    },
    {
      "cell_type": "code",
      "source": [
        "fruits = [\"apple\", \"banana\", \"cherry\", \"kiwi\", \"mango\"]\n",
        "\n",
        "newlist = [x for x in fruits if \"a\" in x]\n",
        "\n",
        "print(newlist)"
      ],
      "metadata": {
        "id": "CxYkcXFYMRON"
      },
      "id": "CxYkcXFYMRON",
      "execution_count": null,
      "outputs": []
    }
  ],
  "metadata": {
    "kernelspec": {
      "display_name": "Python 3 (ipykernel)",
      "language": "python",
      "name": "python3"
    },
    "language_info": {
      "codemirror_mode": {
        "name": "ipython",
        "version": 3
      },
      "file_extension": ".py",
      "mimetype": "text/x-python",
      "name": "python",
      "nbconvert_exporter": "python",
      "pygments_lexer": "ipython3",
      "version": "3.9.12"
    },
    "colab": {
      "provenance": []
    }
  },
  "nbformat": 4,
  "nbformat_minor": 5
}