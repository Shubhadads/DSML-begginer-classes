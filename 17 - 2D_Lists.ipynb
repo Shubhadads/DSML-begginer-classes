{
  "cells": [
    {
      "cell_type": "markdown",
      "id": "64cd6bd8",
      "metadata": {
        "id": "64cd6bd8"
      },
      "source": [
        "# map function\n",
        "![](https://scaler.com/topics/images/map-in-python.webp)"
      ]
    },
    {
      "cell_type": "code",
      "execution_count": 2,
      "id": "5615a37c",
      "metadata": {
        "id": "5615a37c"
      },
      "outputs": [],
      "source": [
        "a = [5, 9, 1, 4, 3]\n",
        "\n",
        "# No modifications to the original list\n",
        "# Expected list is [25, 81, 1, 16, 9]"
      ]
    },
    {
      "cell_type": "code",
      "source": [
        "def square(x) :\n",
        "  return x ** 2\n",
        "\n",
        "ls = []\n",
        "\n",
        "for x in a :\n",
        "  ls.append( square(x) )\n",
        "\n",
        "print(ls)"
      ],
      "metadata": {
        "colab": {
          "base_uri": "https://localhost:8080/"
        },
        "id": "DHhH4Q3AdN6k",
        "outputId": "452b43ec-6244-45fa-db61-0f8a9ec626c9"
      },
      "id": "DHhH4Q3AdN6k",
      "execution_count": 4,
      "outputs": [
        {
          "output_type": "stream",
          "name": "stdout",
          "text": [
            "[25, 81, 1, 16, 9]\n"
          ]
        }
      ]
    },
    {
      "cell_type": "code",
      "source": [
        "# Map function\n",
        "\n",
        "# Calls a function on all items in an iterable\n",
        "\n",
        "# Syntax\n",
        "# map(function, iterable)\n",
        "\n",
        "# iterables -> list, range, string, dictionary, set, tuple"
      ],
      "metadata": {
        "id": "15viW9o3eIqr"
      },
      "id": "15viW9o3eIqr",
      "execution_count": null,
      "outputs": []
    },
    {
      "cell_type": "code",
      "source": [
        "def square(x) :\n",
        "  return x ** 2\n",
        "\n",
        "print(map(square, a))\n",
        "\n",
        "ls = list(map(square, a))\n",
        "\n",
        "print(ls)"
      ],
      "metadata": {
        "colab": {
          "base_uri": "https://localhost:8080/"
        },
        "id": "ezHCj3vYdwg6",
        "outputId": "1b5e9a43-d6a0-44cf-c037-8c6ae85d86c0"
      },
      "id": "ezHCj3vYdwg6",
      "execution_count": 6,
      "outputs": [
        {
          "output_type": "stream",
          "name": "stdout",
          "text": [
            "<map object at 0x7f1c77337a90>\n",
            "[25, 81, 1, 16, 9]\n"
          ]
        }
      ]
    },
    {
      "cell_type": "code",
      "source": [
        "def cube(x) :\n",
        "  return x ** 3\n",
        "\n",
        "ls = list(map(cube, a))\n",
        "\n",
        "print(ls)"
      ],
      "metadata": {
        "colab": {
          "base_uri": "https://localhost:8080/"
        },
        "id": "y22tpLexekJk",
        "outputId": "db7d19dd-54c0-41de-cff7-79d564543f52"
      },
      "id": "y22tpLexekJk",
      "execution_count": 7,
      "outputs": [
        {
          "output_type": "stream",
          "name": "stdout",
          "text": [
            "[125, 729, 1, 64, 27]\n"
          ]
        }
      ]
    },
    {
      "cell_type": "code",
      "source": [
        "# Map function is going to call the given function with only one argument\n",
        "\n",
        "def random(x, y):\n",
        "    return x + y\n",
        "\n",
        "a = [5, 9, 1, 4, 3]\n",
        "b = list(map(random, a))\n",
        "\n",
        "print(b)"
      ],
      "metadata": {
        "colab": {
          "base_uri": "https://localhost:8080/",
          "height": 235
        },
        "id": "ksqZuDogdOB7",
        "outputId": "18f676f9-31a1-4a5e-aab1-64a64b8a5605"
      },
      "id": "ksqZuDogdOB7",
      "execution_count": 8,
      "outputs": [
        {
          "output_type": "error",
          "ename": "TypeError",
          "evalue": "ignored",
          "traceback": [
            "\u001b[0;31m---------------------------------------------------------------------------\u001b[0m",
            "\u001b[0;31mTypeError\u001b[0m                                 Traceback (most recent call last)",
            "\u001b[0;32m<ipython-input-8-5c62d5da8435>\u001b[0m in \u001b[0;36m<module>\u001b[0;34m\u001b[0m\n\u001b[1;32m      3\u001b[0m \u001b[0;34m\u001b[0m\u001b[0m\n\u001b[1;32m      4\u001b[0m \u001b[0ma\u001b[0m \u001b[0;34m=\u001b[0m \u001b[0;34m[\u001b[0m\u001b[0;36m5\u001b[0m\u001b[0;34m,\u001b[0m \u001b[0;36m9\u001b[0m\u001b[0;34m,\u001b[0m \u001b[0;36m1\u001b[0m\u001b[0;34m,\u001b[0m \u001b[0;36m4\u001b[0m\u001b[0;34m,\u001b[0m \u001b[0;36m3\u001b[0m\u001b[0;34m]\u001b[0m\u001b[0;34m\u001b[0m\u001b[0;34m\u001b[0m\u001b[0m\n\u001b[0;32m----> 5\u001b[0;31m \u001b[0mb\u001b[0m \u001b[0;34m=\u001b[0m \u001b[0mlist\u001b[0m\u001b[0;34m(\u001b[0m\u001b[0mmap\u001b[0m\u001b[0;34m(\u001b[0m\u001b[0mrandom\u001b[0m\u001b[0;34m,\u001b[0m \u001b[0ma\u001b[0m\u001b[0;34m)\u001b[0m\u001b[0;34m)\u001b[0m\u001b[0;34m\u001b[0m\u001b[0;34m\u001b[0m\u001b[0m\n\u001b[0m\u001b[1;32m      6\u001b[0m \u001b[0;34m\u001b[0m\u001b[0m\n\u001b[1;32m      7\u001b[0m \u001b[0mprint\u001b[0m\u001b[0;34m(\u001b[0m\u001b[0mb\u001b[0m\u001b[0;34m)\u001b[0m\u001b[0;34m\u001b[0m\u001b[0;34m\u001b[0m\u001b[0m\n",
            "\u001b[0;31mTypeError\u001b[0m: random() missing 1 required positional argument: 'y'"
          ]
        }
      ]
    },
    {
      "cell_type": "code",
      "source": [],
      "metadata": {
        "id": "L0CE8G_pfqfl"
      },
      "id": "L0CE8G_pfqfl",
      "execution_count": null,
      "outputs": []
    },
    {
      "cell_type": "markdown",
      "id": "be20f6b0",
      "metadata": {
        "id": "be20f6b0"
      },
      "source": [
        "## One line code for reading and parsing list input"
      ]
    },
    {
      "cell_type": "code",
      "source": [
        "# take this list as input : l = 10 5 2 6\n",
        "\n",
        "s = input() # s = '10 5 2 6'\n",
        "l = s.split() # l = [\"10\", \"5\", \"2\", \"6\"]\n",
        "\n",
        "ls = list(map(int, l))\n",
        "print(ls)"
      ],
      "metadata": {
        "colab": {
          "base_uri": "https://localhost:8080/"
        },
        "id": "Kf5s_ZOSgZEQ",
        "outputId": "40232336-9b16-45e3-b0f5-8e898cba2f46"
      },
      "id": "Kf5s_ZOSgZEQ",
      "execution_count": 9,
      "outputs": [
        {
          "output_type": "stream",
          "name": "stdout",
          "text": [
            "10 5 2 6\n",
            "[10, 5, 2, 6]\n"
          ]
        }
      ]
    },
    {
      "cell_type": "code",
      "source": [
        "# input().split() -> takes input, converts it to a list\n",
        "\n",
        "ls = list(map(int, input().split()))\n",
        "print(ls)"
      ],
      "metadata": {
        "colab": {
          "base_uri": "https://localhost:8080/"
        },
        "id": "q7tmjmGdgZgp",
        "outputId": "13b999f9-86ba-4684-a88f-1304a23811cd"
      },
      "id": "q7tmjmGdgZgp",
      "execution_count": 11,
      "outputs": [
        {
          "output_type": "stream",
          "name": "stdout",
          "text": [
            "10 5 3 9 4 8\n",
            "[10, 5, 3, 9, 4, 8]\n"
          ]
        }
      ]
    },
    {
      "cell_type": "code",
      "source": [],
      "metadata": {
        "id": "lwbvR2dLb9Sw"
      },
      "id": "lwbvR2dLb9Sw",
      "execution_count": null,
      "outputs": []
    },
    {
      "cell_type": "markdown",
      "id": "d8aee07b",
      "metadata": {
        "id": "d8aee07b"
      },
      "source": [
        "### Quiz 1\n",
        "```py\n",
        "def find_sqr(x):\n",
        "    return x*x*2\n",
        "\n",
        "l = [1, 2, 3]\n",
        "res = list(map(find_sqr, l))\n",
        "\n",
        "print(res)\n",
        "```"
      ]
    },
    {
      "cell_type": "code",
      "source": [
        "def find_sqr(x):\n",
        "    return x*x*2\n",
        "\n",
        "l = [1, 2, 3]\n",
        "res = list(map(find_sqr, l))\n",
        "\n",
        "print(res)"
      ],
      "metadata": {
        "colab": {
          "base_uri": "https://localhost:8080/"
        },
        "id": "BNCQ37Pqixa8",
        "outputId": "090e0a88-289c-44ba-ea91-d0308f576717"
      },
      "id": "BNCQ37Pqixa8",
      "execution_count": 12,
      "outputs": [
        {
          "output_type": "stream",
          "name": "stdout",
          "text": [
            "[2, 8, 18]\n"
          ]
        }
      ]
    },
    {
      "cell_type": "markdown",
      "id": "9b62d63d",
      "metadata": {
        "id": "9b62d63d"
      },
      "source": [
        "#### Quiz 2\n",
        "```py\n",
        "l = [1, 2]  \n",
        "l.append(0)\n",
        "\n",
        "  \n",
        "l.append(3)  \n",
        "l = l + [3]  \n",
        "print(l)\n",
        "```"
      ]
    },
    {
      "cell_type": "code",
      "source": [
        "l = [1, 2]  \n",
        "l.append(0) # 1 2 0\n",
        "l.append(3) # 1 2 0 3\n",
        "l = l + [3] # 1 2 0 3 3\n",
        "print(l)"
      ],
      "metadata": {
        "colab": {
          "base_uri": "https://localhost:8080/"
        },
        "id": "mPyLq2aAn3Zm",
        "outputId": "5ff3e2cd-d591-440d-936b-2107f2cea72a"
      },
      "id": "mPyLq2aAn3Zm",
      "execution_count": 15,
      "outputs": [
        {
          "output_type": "stream",
          "name": "stdout",
          "text": [
            "[1, 2, 0, 3, 3]\n"
          ]
        }
      ]
    },
    {
      "cell_type": "markdown",
      "id": "f65af4c8",
      "metadata": {
        "id": "f65af4c8"
      },
      "source": [
        "#### Quiz 3\n",
        "```py\n",
        "l = []\n",
        "odi = [120, 30, 50]\n",
        "l.extend(odi)\n",
        "print(l)\n",
        "```"
      ]
    },
    {
      "cell_type": "code",
      "execution_count": 13,
      "id": "6e4dd72b",
      "metadata": {
        "colab": {
          "base_uri": "https://localhost:8080/"
        },
        "id": "6e4dd72b",
        "outputId": "c8ff637e-3005-43ee-ec1c-39762c471239"
      },
      "outputs": [
        {
          "output_type": "stream",
          "name": "stdout",
          "text": [
            "[120, 30, 50]\n"
          ]
        }
      ],
      "source": [
        "l = []\n",
        "odi = [120, 30, 50]\n",
        "l.extend(odi)\n",
        "print(l)"
      ]
    },
    {
      "cell_type": "markdown",
      "id": "e13cacb0",
      "metadata": {
        "id": "e13cacb0"
      },
      "source": [
        "#### Quiz 4\n",
        "```py\n",
        "l = []\n",
        "odi = [120, 30, 50]\n",
        "l.append(odi)\n",
        "print(l)\n",
        "```"
      ]
    },
    {
      "cell_type": "code",
      "execution_count": 14,
      "id": "502c932a",
      "metadata": {
        "colab": {
          "base_uri": "https://localhost:8080/"
        },
        "id": "502c932a",
        "outputId": "32ff9509-2163-4e08-8a58-55223005b7e9"
      },
      "outputs": [
        {
          "output_type": "stream",
          "name": "stdout",
          "text": [
            "[[120, 30, 50]]\n"
          ]
        }
      ],
      "source": [
        "l = []\n",
        "odi = [120, 30, 50]\n",
        "l.append(odi)\n",
        "print(l)"
      ]
    },
    {
      "cell_type": "code",
      "execution_count": null,
      "id": "94f7a4f7",
      "metadata": {
        "id": "94f7a4f7"
      },
      "outputs": [],
      "source": []
    },
    {
      "cell_type": "markdown",
      "id": "1a395098",
      "metadata": {
        "id": "1a395098"
      },
      "source": [
        "## 2D Lists\n",
        "![](https://scaler.com/topics/images/2d-array-python.webp)"
      ]
    },
    {
      "cell_type": "code",
      "execution_count": 16,
      "id": "a366e257",
      "metadata": {
        "id": "a366e257"
      },
      "outputs": [],
      "source": [
        "a = [\n",
        "      [10, 20], # Row 0\n",
        "      [30, 40], # Row 1\n",
        "      [50, 60], # Row 2\n",
        "      [70, 80], # Row 3\n",
        "      [90, 100], # Row 4\n",
        "]\n",
        "\n",
        "# a is a list of lists ( 2D list )\n",
        "# each list inside a represents a row"
      ]
    },
    {
      "cell_type": "code",
      "execution_count": 17,
      "id": "d2459ad1",
      "metadata": {
        "colab": {
          "base_uri": "https://localhost:8080/"
        },
        "id": "d2459ad1",
        "outputId": "dc3dc79e-94dc-473f-d50c-3c92d48f9da0"
      },
      "outputs": [
        {
          "output_type": "stream",
          "name": "stdout",
          "text": [
            "[[10, 20], [30, 40], [50, 60], [70, 80], [90, 100]]\n"
          ]
        }
      ],
      "source": [
        "print(a)"
      ]
    },
    {
      "cell_type": "code",
      "execution_count": 20,
      "id": "c8358839",
      "metadata": {
        "colab": {
          "base_uri": "https://localhost:8080/"
        },
        "id": "c8358839",
        "outputId": "b8605dae-2335-42bb-9d07-4e08ad79b3d1"
      },
      "outputs": [
        {
          "output_type": "stream",
          "name": "stdout",
          "text": [
            "[10, 20]\n",
            "[30, 40]\n",
            "20\n"
          ]
        }
      ],
      "source": [
        "print(a[0]) # row 0\n",
        "\n",
        "print(a[1]) # row 1\n",
        "\n",
        "print(a[0][1]) # 1th element of 0th row"
      ]
    },
    {
      "cell_type": "code",
      "source": [
        "# Number of rows inside the 2D list\n",
        "print(\"Number of rows\", len(a))\n",
        "\n",
        "# Number of cols inside the 2D list ( only for same columns in each row )\n",
        "print(\"Number of cols\", len(a[0]))\n",
        "\n",
        "# Type of 2D list\n",
        "print(\"Type of\", type(a))"
      ],
      "metadata": {
        "colab": {
          "base_uri": "https://localhost:8080/"
        },
        "id": "oJWiK0jHp_X1",
        "outputId": "8b5fecdd-087a-4cac-d6ca-9a99ea555609"
      },
      "id": "oJWiK0jHp_X1",
      "execution_count": 25,
      "outputs": [
        {
          "output_type": "stream",
          "name": "stdout",
          "text": [
            "Number of rows 5\n",
            "Number of cols 2\n",
            "Type of <class 'list'>\n"
          ]
        }
      ]
    },
    {
      "cell_type": "code",
      "source": [
        "a = [\n",
        "    [10, 20], # Row 0\n",
        "    [30, 40, 67], # Row 1\n",
        "    [50, 60, 56, 345], # Row 2\n",
        "    [70, 80, 11], # Row 3\n",
        "    [90], # Row 4\n",
        "]\n",
        "\n",
        "print(a)\n",
        "# Rows in 2D list can have variable number of elements\n",
        "# Not necessary to be same"
      ],
      "metadata": {
        "colab": {
          "base_uri": "https://localhost:8080/"
        },
        "id": "XEGAWX_7rXUa",
        "outputId": "b1edb29a-6e2c-47e0-e1ed-3696361eb73a"
      },
      "id": "XEGAWX_7rXUa",
      "execution_count": 26,
      "outputs": [
        {
          "output_type": "stream",
          "name": "stdout",
          "text": [
            "[[10, 20], [30, 40, 67], [50, 60, 56, 345], [70, 80, 11], [90]]\n"
          ]
        }
      ]
    },
    {
      "cell_type": "code",
      "source": [],
      "metadata": {
        "id": "3Ts7Y8JfrmgP"
      },
      "id": "3Ts7Y8JfrmgP",
      "execution_count": null,
      "outputs": []
    },
    {
      "cell_type": "markdown",
      "source": [
        "### **Iterating over a 2D list**"
      ],
      "metadata": {
        "id": "L0AE-JNqrm-e"
      },
      "id": "L0AE-JNqrm-e"
    },
    {
      "cell_type": "code",
      "source": [
        "# 2D array / list with same number of columns for all rows\n",
        "a = [\n",
        "    [10, 20],\n",
        "    [30, 40],\n",
        "    [50, 60],\n",
        "]\n",
        "print(a)"
      ],
      "metadata": {
        "colab": {
          "base_uri": "https://localhost:8080/"
        },
        "id": "MK5qJHfwrqD1",
        "outputId": "254c0287-cb78-453c-93ff-8069fcc9ec9f"
      },
      "id": "MK5qJHfwrqD1",
      "execution_count": 27,
      "outputs": [
        {
          "output_type": "stream",
          "name": "stdout",
          "text": [
            "[[10, 20], [30, 40], [50, 60]]\n"
          ]
        }
      ]
    },
    {
      "cell_type": "code",
      "source": [
        "print(len(a), len(a[0]))"
      ],
      "metadata": {
        "colab": {
          "base_uri": "https://localhost:8080/"
        },
        "id": "XtwXHeHVrvmR",
        "outputId": "0874a849-c8f5-47d8-8009-a2c114b029ff"
      },
      "id": "XtwXHeHVrvmR",
      "execution_count": 28,
      "outputs": [
        {
          "output_type": "stream",
          "name": "stdout",
          "text": [
            "3 2\n"
          ]
        }
      ]
    },
    {
      "cell_type": "code",
      "source": [
        "# Print each row inside the list\n",
        "\n",
        "for i in range(len(a)) :\n",
        "  print('a[', i, '] = ', a[i], sep='')"
      ],
      "metadata": {
        "colab": {
          "base_uri": "https://localhost:8080/"
        },
        "id": "diPRYKLXrvo1",
        "outputId": "597316e3-23b3-4b33-e408-7aa33560aeff"
      },
      "id": "diPRYKLXrvo1",
      "execution_count": 32,
      "outputs": [
        {
          "output_type": "stream",
          "name": "stdout",
          "text": [
            "a[0] = [10, 20]\n",
            "a[1] = [30, 40]\n",
            "a[2] = [50, 60]\n"
          ]
        }
      ]
    },
    {
      "cell_type": "code",
      "source": [
        "# Print each row inside the list in this format\n",
        "\n",
        "# a = [[10, 20], [30, 40], [50, 60]]\n",
        "a = [\n",
        "    [10, 20], # Row 0\n",
        "    [30, 40, 67], # Row 1\n",
        "    [50, 60, 56, 345], # Row 2\n",
        "    [70, 80, 11], # Row 3\n",
        "    [90], # Row 4\n",
        "]\n",
        "\n",
        "# 10 20\n",
        "# 30 40\n",
        "# 50 60\n",
        "\n",
        "for i in range(len(a)) :\n",
        "\n",
        "  row = a[i] # ith row in 2D list\n",
        "\n",
        "  for j in range(len(row)) :\n",
        "\n",
        "    col = row[j] # jth col in ith row\n",
        "    # print(a[i][j]) \n",
        "    print(col, end=' ')\n",
        "  \n",
        "  print()"
      ],
      "metadata": {
        "colab": {
          "base_uri": "https://localhost:8080/"
        },
        "id": "Lw0sUwomr_m_",
        "outputId": "7f33d32c-d940-46ed-9703-4ef871994bab"
      },
      "id": "Lw0sUwomr_m_",
      "execution_count": 34,
      "outputs": [
        {
          "output_type": "stream",
          "name": "stdout",
          "text": [
            "10 20 \n",
            "30 40 67 \n",
            "50 60 56 345 \n",
            "70 80 11 \n",
            "90 \n"
          ]
        }
      ]
    },
    {
      "cell_type": "code",
      "source": [
        "# Iterate over the rows & columns & print the square of each element\n",
        "\n",
        "# Print each row inside the list in this format\n",
        "\n",
        "a = [[10, 20], [30, 40], [50, 60]]\n",
        "\n",
        "# 10 20\n",
        "# 30 40\n",
        "# 50 60\n",
        "\n",
        "for i in range(len(a)) :\n",
        "\n",
        "  row = a[i] # ith row in 2D list\n",
        "\n",
        "  for j in range(len(row)) :\n",
        "\n",
        "    col = row[j] # jth col in ith row\n",
        "    # print(a[i][j]) \n",
        "    print(col**2, end=' ')\n",
        "  \n",
        "  print()"
      ],
      "metadata": {
        "colab": {
          "base_uri": "https://localhost:8080/"
        },
        "id": "lf3eAuTYuKVB",
        "outputId": "9f065432-0f9a-48cb-e1ea-99d4c6984d00"
      },
      "id": "lf3eAuTYuKVB",
      "execution_count": 35,
      "outputs": [
        {
          "output_type": "stream",
          "name": "stdout",
          "text": [
            "100 400 \n",
            "900 1600 \n",
            "2500 3600 \n"
          ]
        }
      ]
    },
    {
      "cell_type": "markdown",
      "id": "680e90ba",
      "metadata": {
        "id": "680e90ba"
      },
      "source": [
        "## Row wise Sum\n",
        "![](https://scaler.com/topics/images/sum-in-python.webp)"
      ]
    },
    {
      "cell_type": "markdown",
      "id": "20596f4b",
      "metadata": {
        "id": "20596f4b"
      },
      "source": [
        "Given a 2D Array, print the sum of each row separately."
      ]
    },
    {
      "cell_type": "code",
      "execution_count": 39,
      "id": "98db21ca",
      "metadata": {
        "colab": {
          "base_uri": "https://localhost:8080/"
        },
        "id": "98db21ca",
        "outputId": "d8c3cb4d-37b6-463f-d439-0087ca3b399e"
      },
      "outputs": [
        {
          "output_type": "stream",
          "name": "stdout",
          "text": [
            "30\n",
            "70\n",
            "110\n"
          ]
        }
      ],
      "source": [
        "a = [[10, 20], [30, 40], [50, 60]]\n",
        "\n",
        "# 30\n",
        "# 70\n",
        "# 110\n",
        "\n",
        "for i in range(len(a)) :\n",
        "\n",
        "  row = a[i] # ith row in 2D list\n",
        "  # print(sum(row))\n",
        "\n",
        "  sum = 0\n",
        "\n",
        "  for j in range(len(row)) :\n",
        "\n",
        "    col = row[j] # jth col in ith row\n",
        "    sum = sum + col\n",
        "    # sum = sum + a[i][j]\n",
        "    \n",
        "  print(sum)"
      ]
    },
    {
      "cell_type": "code",
      "execution_count": null,
      "id": "8c0bf46b",
      "metadata": {
        "id": "8c0bf46b"
      },
      "outputs": [],
      "source": []
    },
    {
      "cell_type": "markdown",
      "id": "ed1581f3",
      "metadata": {
        "id": "ed1581f3"
      },
      "source": [
        "\n",
        "## Maximum of each row"
      ]
    },
    {
      "cell_type": "code",
      "execution_count": 44,
      "id": "80a5a53f",
      "metadata": {
        "colab": {
          "base_uri": "https://localhost:8080/"
        },
        "id": "80a5a53f",
        "outputId": "7f99e0a1-e423-479c-8d67-2afeea8f82e0"
      },
      "outputs": [
        {
          "output_type": "stream",
          "name": "stdout",
          "text": [
            "20\n",
            "40\n",
            "60\n"
          ]
        }
      ],
      "source": [
        "a = [\n",
        "    [10, 20],\n",
        "    [30, 40],\n",
        "    [50, 60],\n",
        "]\n",
        "\n",
        "# print( list(map(max, a)) )\n",
        "\n",
        "for row in a :\n",
        "  # print(max(row)) # Just like max there is min, sum, avg, count\n",
        "\n",
        "  mx = float(\"-inf\")\n",
        "  for col in row :\n",
        "    if col > mx :\n",
        "      mx = col\n",
        "  print(mx)"
      ]
    },
    {
      "cell_type": "code",
      "execution_count": null,
      "id": "c8f3a532",
      "metadata": {
        "id": "c8f3a532"
      },
      "outputs": [],
      "source": []
    },
    {
      "cell_type": "markdown",
      "id": "74fe5a4b",
      "metadata": {
        "id": "74fe5a4b"
      },
      "source": [
        "# Bonus Reading Material\n",
        "- map() in Python - https://www.scaler.com/topics/map-function-in-python/\n",
        "- What is Nested List in Python? - https://www.scaler.com/topics/nested-list-in-python/\n",
        "- 2D Array in Python- https://www.scaler.com/topics/2d-array-in-python/\n",
        "- Transpose of a Matrix in Python - https://www.scaler.com/topics/transpose-of-a-matrix-in-python/\n",
        "- Sum() in Python - https://www.scaler.com/topics/sum-in-python/"
      ]
    },
    {
      "cell_type": "code",
      "execution_count": null,
      "id": "ef29860e",
      "metadata": {
        "id": "ef29860e"
      },
      "outputs": [],
      "source": []
    },
    {
      "cell_type": "markdown",
      "id": "f0beac60",
      "metadata": {
        "id": "f0beac60"
      },
      "source": [
        "# Doubts"
      ]
    },
    {
      "cell_type": "code",
      "source": [
        "A = [2, 0, 1]\n",
        "\n",
        "B = [0] * len(A) # B = [0, 0, 0]\n",
        "\n",
        "# ith value in B\n",
        "# Should be index of i in A\n",
        "\n",
        "for i in range(len(A)) :\n",
        "  B[A[i]] = i\n",
        "\n",
        "print(B)"
      ],
      "metadata": {
        "colab": {
          "base_uri": "https://localhost:8080/"
        },
        "id": "0VF6cJ1IzT4X",
        "outputId": "9297f4d7-ee3e-4ee7-d84c-fbf386e7e0e1"
      },
      "id": "0VF6cJ1IzT4X",
      "execution_count": 51,
      "outputs": [
        {
          "output_type": "stream",
          "name": "stdout",
          "text": [
            "[1, 2, 0]\n"
          ]
        }
      ]
    },
    {
      "cell_type": "code",
      "source": [
        "b = [] # empty lsit\n",
        "b.insert(3,2) # list.insert(index, value) # Gets added at index 0\n",
        "b.insert(2,1) # Gets added at index 1\n",
        "print(b) \n",
        "\n",
        "# should return [1,2] right but it is returning [2,1]\n",
        "\n",
        "ls = [1, 2, 3]\n",
        "ls[0] = -1\n",
        "print(ls)"
      ],
      "metadata": {
        "colab": {
          "base_uri": "https://localhost:8080/"
        },
        "id": "9iOeJwEa2HXz",
        "outputId": "f5669ccc-6d8c-4e68-9853-219dca2e122d"
      },
      "id": "9iOeJwEa2HXz",
      "execution_count": 52,
      "outputs": [
        {
          "output_type": "stream",
          "name": "stdout",
          "text": [
            "[2, 1]\n",
            "[-1, 2, 3]\n"
          ]
        }
      ]
    },
    {
      "cell_type": "code",
      "source": [
        "# Find 2nd max in list\n",
        "ls = [1, 2, 3, 4, 4, 2, 7]\n",
        "# Ans is 4\n",
        "\n",
        "mx = max(ls)\n",
        "\n",
        "# Find largest value in list that is not mx\n",
        "mx2 = float(\"-inf\")\n",
        "\n",
        "for x in ls :\n",
        "  if x != mx and x > mx2 :\n",
        "    mx2 = x\n",
        "\n",
        "print(mx2)"
      ],
      "metadata": {
        "colab": {
          "base_uri": "https://localhost:8080/"
        },
        "id": "9V8hc84j39Uk",
        "outputId": "ce823ce2-721d-4fab-f9f0-b4116be1fc91"
      },
      "id": "9V8hc84j39Uk",
      "execution_count": 53,
      "outputs": [
        {
          "output_type": "stream",
          "name": "stdout",
          "text": [
            "4\n"
          ]
        }
      ]
    },
    {
      "cell_type": "code",
      "source": [
        "c =[[10,20],[30,40,67],[50,60,56,345],[70,80,11],[90]]\n",
        "\n",
        "for i in range(len(c)):\n",
        "  max=c[i][0]\n",
        "  for j in range(len(c[i])):\n",
        "    if c[i][j]>max:\n",
        "      max=c[i][j]\n",
        "  print(max)"
      ],
      "metadata": {
        "colab": {
          "base_uri": "https://localhost:8080/"
        },
        "id": "83fGfRrm5g1c",
        "outputId": "06723c5f-f026-4148-a0e0-79fe25c867f1"
      },
      "id": "83fGfRrm5g1c",
      "execution_count": 57,
      "outputs": [
        {
          "output_type": "stream",
          "name": "stdout",
          "text": [
            "20\n",
            "67\n",
            "345\n",
            "80\n",
            "90\n"
          ]
        }
      ]
    }
  ],
  "metadata": {
    "kernelspec": {
      "display_name": "Python 3 (ipykernel)",
      "language": "python",
      "name": "python3"
    },
    "language_info": {
      "codemirror_mode": {
        "name": "ipython",
        "version": 3
      },
      "file_extension": ".py",
      "mimetype": "text/x-python",
      "name": "python",
      "nbconvert_exporter": "python",
      "pygments_lexer": "ipython3",
      "version": "3.9.12"
    },
    "colab": {
      "provenance": []
    }
  },
  "nbformat": 4,
  "nbformat_minor": 5
}