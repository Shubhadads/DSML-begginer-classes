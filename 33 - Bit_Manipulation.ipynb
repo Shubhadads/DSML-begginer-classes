{
  "nbformat": 4,
  "nbformat_minor": 0,
  "metadata": {
    "colab": {
      "provenance": []
    },
    "kernelspec": {
      "name": "python3",
      "display_name": "Python 3"
    },
    "language_info": {
      "name": "python"
    }
  },
  "cells": [
    {
      "cell_type": "code",
      "execution_count": null,
      "metadata": {
        "colab": {
          "base_uri": "https://localhost:8080/"
        },
        "id": "UxTTvK6mWRhY",
        "outputId": "a9c83440-6171-4b1b-d62c-688a273e03cf"
      },
      "outputs": [
        {
          "output_type": "stream",
          "name": "stdout",
          "text": [
            "6\n"
          ]
        }
      ],
      "source": [
        "# Practical applications of bit manipulation\n",
        "\n",
        "# Setting file permission\n",
        "\n",
        "# File Permissions = 00000xxx\n",
        "\n",
        "# Q : Write file permissions for only read and writing code\n",
        "\n",
        "file_permissions = 0\n",
        "# R -> 4 ( 0100 ) - T (1)\n",
        "# W -> 2 ( 0010 ) - T (1)\n",
        "# E -> 1 ( 0001 ) - F (0)\n",
        "# 0110 -> 6\n",
        "\n",
        "# Read permission\n",
        "# 0000 | 0100 -> 0100\n",
        "# 0 | 4 -> 4\n",
        "\n",
        "# Write permission\n",
        "# 0000 | 0010 -> 0010\n",
        "# 0 | 2 -> 2\n",
        "\n",
        "# Execute permission\n",
        "# 0000 | 0001 -> 0001\n",
        "# 0 | 1 -> 1\n",
        "\n",
        "file_permissions = file_permissions | 4 # Give permission to read\n",
        "file_permissions = file_permissions | 2 # Give permission to write\n",
        "\n",
        "print(file_permissions)"
      ]
    },
    {
      "cell_type": "code",
      "source": [
        "# Reading file permission\n",
        "\n",
        "file_permissions = 6 # 0110\n",
        "# R -> 4 ( 0100 )\n",
        "# W -> 2 ( 0010 )\n",
        "# E -> 1 ( 0001 )\n",
        "\n",
        "print(\"File has read permission: \", (file_permissions & 4)>0)\n",
        "# 0110 & 0100 -> 0100 ( Read permission )\n",
        "# 0011 & 0100 -> 0000 ( No read permission )\n",
        "\n",
        "print(\"File has write permission: \", (file_permissions & 2)>0)\n",
        "# 0110 & 0100 -> 0100 ( Write permission )\n",
        "# 0011 & 0100 -> 0000 ( No write permission )\n",
        "\n",
        "print(\"File has execute permission: \", (file_permissions & 1)>0)\n",
        "# 0110 & 0100 -> 0100 ( Execute permission )\n",
        "# 0011 & 0100 -> 0000 ( No execute permission )"
      ],
      "metadata": {
        "colab": {
          "base_uri": "https://localhost:8080/"
        },
        "id": "3-6JchE5Ytyr",
        "outputId": "06abdd9a-68fd-43a9-c7f8-216f9285e96b"
      },
      "execution_count": null,
      "outputs": [
        {
          "output_type": "stream",
          "name": "stdout",
          "text": [
            "File has read permission:  True\n",
            "File has write permission:  True\n",
            "File has execute permission:  False\n"
          ]
        }
      ]
    },
    {
      "cell_type": "code",
      "source": [
        "# Remove permission \n",
        "\n",
        "# Remove read permission\n",
        "file_permissions = file_permissions & (~4)\n",
        "print(file_permissions)\n",
        "\n",
        "# Remove write permission\n",
        "file_permissions = file_permissions & (~2)\n",
        "print(file_permissions)\n",
        "\n",
        "# Remove execute permission\n",
        "file_permissions = file_permissions & (~1)\n",
        "print(file_permissions)"
      ],
      "metadata": {
        "colab": {
          "base_uri": "https://localhost:8080/"
        },
        "id": "H0SM9PlTbXsN",
        "outputId": "ab092294-f098-496a-d939-415c39fcf5ef"
      },
      "execution_count": null,
      "outputs": [
        {
          "output_type": "stream",
          "name": "stdout",
          "text": [
            "2\n",
            "2\n"
          ]
        }
      ]
    },
    {
      "cell_type": "code",
      "source": [
        "print(3 & 1)\n",
        "print(2 & 1)"
      ],
      "metadata": {
        "colab": {
          "base_uri": "https://localhost:8080/"
        },
        "id": "G12ymuTdcqRa",
        "outputId": "920c5935-7a52-4112-add2-20a04919c1f3"
      },
      "execution_count": null,
      "outputs": [
        {
          "output_type": "stream",
          "name": "stdout",
          "text": [
            "1\n",
            "0\n"
          ]
        }
      ]
    }
  ]
}
