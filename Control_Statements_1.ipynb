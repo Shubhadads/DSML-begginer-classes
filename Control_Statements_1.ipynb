{
  "nbformat": 4,
  "nbformat_minor": 0,
  "metadata": {
    "colab": {
      "name": "Control_Statements_1.ipynb",
      "provenance": []
    },
    "kernelspec": {
      "name": "python3",
      "display_name": "Python 3"
    },
    "language_info": {
      "name": "python"
    }
  },
  "cells": [
    {
      "cell_type": "code",
      "execution_count": 1,
      "metadata": {
        "id": "9bxAjYyYkOdR"
      },
      "outputs": [],
      "source": [
        "a = 10"
      ]
    },
    {
      "cell_type": "code",
      "source": [
        "# OR operator\n",
        "a>5 or a==20 or a<2\n",
        "# T or F or F"
      ],
      "metadata": {
        "colab": {
          "base_uri": "https://localhost:8080/"
        },
        "id": "nW8HwtyVkVjq",
        "outputId": "5dcb4b98-4a7a-4c60-d2ff-182d6830c9bb"
      },
      "execution_count": 2,
      "outputs": [
        {
          "output_type": "execute_result",
          "data": {
            "text/plain": [
              "True"
            ]
          },
          "metadata": {},
          "execution_count": 2
        }
      ]
    },
    {
      "cell_type": "code",
      "source": [
        "# AND operator\n",
        "a>5 and a==20 and a<2\n",
        "# T and F and F"
      ],
      "metadata": {
        "colab": {
          "base_uri": "https://localhost:8080/"
        },
        "id": "xP4EcCHDkpBw",
        "outputId": "099e3172-eb21-492e-e65c-4c282cce58f8"
      },
      "execution_count": 3,
      "outputs": [
        {
          "output_type": "execute_result",
          "data": {
            "text/plain": [
              "False"
            ]
          },
          "metadata": {},
          "execution_count": 3
        }
      ]
    },
    {
      "cell_type": "code",
      "source": [
        "# Not operator"
      ],
      "metadata": {
        "id": "ldfaAcFmk1mt"
      },
      "execution_count": null,
      "outputs": []
    },
    {
      "cell_type": "code",
      "source": [
        "not True"
      ],
      "metadata": {
        "colab": {
          "base_uri": "https://localhost:8080/"
        },
        "id": "tQNYtEXNk54q",
        "outputId": "7d91dc13-ee3b-4c27-d102-29c7f3d9e136"
      },
      "execution_count": 4,
      "outputs": [
        {
          "output_type": "execute_result",
          "data": {
            "text/plain": [
              "False"
            ]
          },
          "metadata": {},
          "execution_count": 4
        }
      ]
    },
    {
      "cell_type": "code",
      "source": [
        "not False"
      ],
      "metadata": {
        "colab": {
          "base_uri": "https://localhost:8080/"
        },
        "id": "ZSjI0DWKk_Yf",
        "outputId": "46a7dfbf-aec9-4ecb-8f39-891d0e98f721"
      },
      "execution_count": 5,
      "outputs": [
        {
          "output_type": "execute_result",
          "data": {
            "text/plain": [
              "True"
            ]
          },
          "metadata": {},
          "execution_count": 5
        }
      ]
    },
    {
      "cell_type": "code",
      "source": [
        "not ( a>5 or a==20 or a<2 )"
      ],
      "metadata": {
        "colab": {
          "base_uri": "https://localhost:8080/"
        },
        "id": "WgMnw5dDlQWb",
        "outputId": "2a623153-7d33-4ba4-8fa7-136b08e74d47"
      },
      "execution_count": 6,
      "outputs": [
        {
          "output_type": "execute_result",
          "data": {
            "text/plain": [
              "False"
            ]
          },
          "metadata": {},
          "execution_count": 6
        }
      ]
    },
    {
      "cell_type": "code",
      "source": [
        "a = 1\n",
        "\n",
        "# tab works similar to {} in other languages\n",
        "if a>5:\n",
        "  # what block of code should run if condition is true \n",
        "  print(\"a is greater than 5\")\n",
        "else:\n",
        "  # what block of code should run if condition is false \n",
        "  print(\"a is smaller than or equal to 5\")\n",
        "\n",
        "print(\"YOLO\")"
      ],
      "metadata": {
        "colab": {
          "base_uri": "https://localhost:8080/"
        },
        "id": "khNg15fFpOjG",
        "outputId": "52e382e5-30ba-4bf7-c036-21c4a24eb05c"
      },
      "execution_count": 15,
      "outputs": [
        {
          "output_type": "stream",
          "name": "stdout",
          "text": [
            "a is smaller than or equal to 5\n",
            "YOLO\n"
          ]
        }
      ]
    },
    {
      "cell_type": "code",
      "source": [
        "# This runs always\n",
        "\n",
        "if condition :\n",
        "  # Runs if condition is true\n",
        "else :\n",
        "  # Runs if condition is false\n",
        "\n",
        "# This runs always"
      ],
      "metadata": {
        "id": "pA_csF-gr7eA"
      },
      "execution_count": null,
      "outputs": []
    },
    {
      "cell_type": "code",
      "source": [
        "# Break - 10:15pm"
      ],
      "metadata": {
        "id": "8uB5HdegsRaK"
      },
      "execution_count": null,
      "outputs": []
    },
    {
      "cell_type": "code",
      "source": [
        "True == 1"
      ],
      "metadata": {
        "colab": {
          "base_uri": "https://localhost:8080/"
        },
        "id": "1Qj2WbtntP69",
        "outputId": "a7ed54fb-71a5-4b68-f510-6ae42a90bbba"
      },
      "execution_count": 18,
      "outputs": [
        {
          "output_type": "execute_result",
          "data": {
            "text/plain": [
              "True"
            ]
          },
          "metadata": {},
          "execution_count": 18
        }
      ]
    },
    {
      "cell_type": "code",
      "source": [
        "a = int(input())\n",
        "\n",
        "ans = a**2\n",
        "\n",
        "if ans == 25:\n",
        "  print(\"This is massive\")\n",
        "else:\n",
        "  print(\"Pretty small !\")\n",
        "\n",
        "print(\"My code is complete !\")"
      ],
      "metadata": {
        "colab": {
          "base_uri": "https://localhost:8080/"
        },
        "id": "uny1k1v4vx6H",
        "outputId": "c9f7c343-b04a-4225-c316-980a6a868b98"
      },
      "execution_count": 19,
      "outputs": [
        {
          "output_type": "stream",
          "name": "stdout",
          "text": [
            "5\n",
            "This is massive\n",
            "My code is complete !\n"
          ]
        }
      ]
    },
    {
      "cell_type": "code",
      "source": [
        "# Q : Check for password\n",
        "# \"Password Incorrect\" if incorrect\n",
        "# \"Password Validated\" if correct"
      ],
      "metadata": {
        "id": "S2uXBs-VwXiL"
      },
      "execution_count": null,
      "outputs": []
    },
    {
      "cell_type": "code",
      "source": [
        "original_password = \"Hello123\"\n",
        "input_password = input()\n",
        "\n",
        "if original_password == input_password :\n",
        "  print(\"Password Validated\")\n",
        "else :\n",
        "  print(\"Password Incorrect\")"
      ],
      "metadata": {
        "colab": {
          "base_uri": "https://localhost:8080/"
        },
        "id": "vbB2YvIoxMEa",
        "outputId": "044df636-4e5a-48e9-ea07-c5b743c54372"
      },
      "execution_count": 23,
      "outputs": [
        {
          "output_type": "stream",
          "name": "stdout",
          "text": [
            "Hello123\n",
            "Password Validated\n"
          ]
        }
      ]
    },
    {
      "cell_type": "code",
      "source": [
        "# In an ATM\n",
        "# 500 and 200 Rs Notes are available\n",
        "# Take an amount as input from customer\n",
        "# print(\"Discharging Cash!\") if True\n",
        "# print(\"Denomination not available!\") if False\n",
        "\n",
        "# Example : amount = 900 -> Denomination not available!\n",
        "# Example : amount = 1000 -> Discharging Cash!\n",
        "\n",
        "amount = int(input())\n",
        "\n",
        "if amount%500==0 or amount%200==0 :\n",
        "  print(\"Discharging Cash!\")\n",
        "else:\n",
        "  print(\"Denomination not available!\")"
      ],
      "metadata": {
        "colab": {
          "base_uri": "https://localhost:8080/"
        },
        "id": "qdwTu7Q7xzY-",
        "outputId": "fba4f526-6bda-48d8-dc48-a1f6369ecfdc"
      },
      "execution_count": 25,
      "outputs": [
        {
          "output_type": "stream",
          "name": "stdout",
          "text": [
            "1000\n",
            "Discharging Cash!\n"
          ]
        }
      ]
    },
    {
      "cell_type": "code",
      "source": [
        "# Greetings from Alexa\n",
        "# 0 - 12 : Good morning\n",
        "# 13 - 17 : Good afternoon\n",
        "# 18 - 20 : Good evening\n",
        "# 21 - 23 : Good night\n",
        "# Anything else : Bzzzzzz\n",
        "\n",
        "# nested if-else\n",
        "\n",
        "hour = int(input())\n",
        "\n",
        "if hour >= 0 and hour <= 12 :\n",
        "  print(\"Good morning\")\n",
        "else:\n",
        "  if hour >= 13 and hour <= 17 :\n",
        "    print(\"Good afternoon\")\n",
        "  else:\n",
        "    if hour >= 18 and hour <= 20 :\n",
        "      print(\"Good evening\")\n",
        "    else:\n",
        "      if hour >= 21 and hour <= 23 :\n",
        "        print(\"Good night\")\n",
        "      else:\n",
        "        print(\"Bzzzzzz\")"
      ],
      "metadata": {
        "colab": {
          "base_uri": "https://localhost:8080/"
        },
        "id": "glmUz9cczw6E",
        "outputId": "fabfe54d-1e46-4e5a-ec2a-439340def3f9"
      },
      "execution_count": 28,
      "outputs": [
        {
          "output_type": "stream",
          "name": "stdout",
          "text": [
            "-10\n",
            "Bzzzzzz\n"
          ]
        }
      ]
    },
    {
      "cell_type": "code",
      "source": [
        "# Greetings from Alexa\n",
        "# 0 - 12 : Good morning\n",
        "# 13 - 17 : Good afternoon\n",
        "# 18 - 20 : Good evening\n",
        "# 21 - 23 : Good night\n",
        "# Anything else : Bzzzzzz\n",
        "\n",
        "hour = int(input())\n",
        "\n",
        "if hour >= 0 and hour <= 12 :\n",
        "  print(\"Good morning\")\n",
        "elif hour >= 13 and hour <= 17 :\n",
        "  print(\"Good afternoon\")\n",
        "elif hour >= 18 and hour <= 20 :\n",
        "  print(\"Good evening\")\n",
        "elif hour >= 21 and hour <= 23 :\n",
        "  print(\"Good night\")\n",
        "else:\n",
        "  print(\"Bzzzzzz\")"
      ],
      "metadata": {
        "colab": {
          "base_uri": "https://localhost:8080/"
        },
        "id": "8oYu3rCO2FrY",
        "outputId": "c784956d-ae72-48ac-9611-3ee49242a7dd"
      },
      "execution_count": 29,
      "outputs": [
        {
          "output_type": "stream",
          "name": "stdout",
          "text": [
            "20\n",
            "Good evening\n"
          ]
        }
      ]
    }
  ]
}